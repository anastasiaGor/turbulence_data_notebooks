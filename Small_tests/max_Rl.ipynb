{
 "cells": [
  {
   "cell_type": "code",
   "execution_count": 1,
   "metadata": {},
   "outputs": [
    {
     "data": {
      "text/html": [
       "<style>.container { width:80% !important; }</style>"
      ],
      "text/plain": [
       "<IPython.core.display.HTML object>"
      ]
     },
     "metadata": {},
     "output_type": "display_data"
    }
   ],
   "source": [
    "import numpy as np\n",
    "from tabulate import tabulate\n",
    "from IPython.core.display import display, HTML\n",
    "display(HTML(\"<style>.container { width:80% !important; }</style>\"))"
   ]
  },
  {
   "cell_type": "code",
   "execution_count": 78,
   "metadata": {},
   "outputs": [],
   "source": [
    "def max_Rl(N, keta):   \n",
    "    #return np.sqrt(20.0/3.0*(3.0*N/2.0/keta)**(4.0/3.0))\n",
    "    return np.sqrt(20.0/3.0*(3.0*N/2.0/keta)**(4.0/3.0))"
   ]
  },
  {
   "cell_type": "code",
   "execution_count": 79,
   "metadata": {},
   "outputs": [
    {
     "name": "stdout",
     "output_type": "stream",
     "text": [
      "[ 0.1875  0.375   0.75    1.5     3.      6.     12.    ]\n"
     ]
    }
   ],
   "source": [
    "vector_keta = 0.1875*2.0**np.arange(7)\n",
    "print(vector_keta)"
   ]
  },
  {
   "cell_type": "code",
   "execution_count": 136,
   "metadata": {},
   "outputs": [
    {
     "name": "stdout",
     "output_type": "stream",
     "text": [
      "[   80   160   320   640  1280  2560  5120 10240 20480]\n"
     ]
    }
   ],
   "source": [
    "vector_N = 40*(2**np.arange(1,10))\n",
    "print(vector_N)"
   ]
  },
  {
   "cell_type": "code",
   "execution_count": 137,
   "metadata": {},
   "outputs": [],
   "source": [
    "x,y = np.meshgrid(vector_N, vector_keta)"
   ]
  },
  {
   "cell_type": "code",
   "execution_count": 138,
   "metadata": {},
   "outputs": [
    {
     "name": "stdout",
     "output_type": "stream",
     "text": [
      "|   N | keta |   0.1875 |    0.375 |     0.75 |       1.5 |       3.0 |      6.0 |     12.0 |\n",
      "|------------+----------+----------+----------+-----------+-----------+----------+----------|\n",
      "|         80 |  191.752 |  120.797 |   76.097 |   47.9381 |   30.1991 |  19.0243 |  11.9845 |\n",
      "|        160 |  304.388 |  191.752 |  120.797 |   76.097  |   47.9381 |  30.1991 |  19.0243 |\n",
      "|        320 |  483.186 |  304.388 |  191.752 |  120.797  |   76.097  |  47.9381 |  30.1991 |\n",
      "|        640 |  767.01  |  483.186 |  304.388 |  191.752  |  120.797  |  76.097  |  47.9381 |\n",
      "|       1280 | 1217.55  |  767.01  |  483.186 |  304.388  |  191.752  | 120.797  |  76.097  |\n",
      "|       2560 | 1932.74  | 1217.55  |  767.01  |  483.186  |  304.388  | 191.752  | 120.797  |\n",
      "|       5120 | 3068.04  | 1932.74  | 1217.55  |  767.01   |  483.186  | 304.388  | 191.752  |\n",
      "|      10240 | 4870.21  | 3068.04  | 1932.74  | 1217.55   |  767.01   | 483.186  | 304.388  |\n",
      "|      20480 | 7730.98  | 4870.21  | 3068.04  | 1932.74   | 1217.55   | 767.01   | 483.186  |\n"
     ]
    }
   ],
   "source": [
    "table = max_Rl(x,y)\n",
    "print(tabulate(np.concatenate(([vector_N], table)).T, headers=np.concatenate(([\"N | keta\"], vector_keta)), tablefmt='orgtbl'))"
   ]
  },
  {
   "cell_type": "code",
   "execution_count": 23,
   "metadata": {},
   "outputs": [
    {
     "data": {
      "text/plain": [
       "array([ 62.8167121 ,  82.31317882,  99.71531487, 115.70937301,\n",
       "       130.66402665, 144.8062246 , 158.28819572, 171.21831169,\n",
       "       183.67718043, 195.72681431, 207.41621337, 218.78494745,\n",
       "       229.86555327, 240.68519497, 251.2668484 , 261.63016693,\n",
       "       271.7921281 , 281.76752552, 291.56934944, 301.20908528,\n",
       "       310.69695094, 320.0420877 , 329.25271529, 338.33625915,\n",
       "       347.29945573, 356.14844036, 364.88882107, 373.52574102,\n",
       "       382.06393168, 390.50775839, 398.86125947, 407.12818019,\n",
       "       415.31200222, 423.41596935, 431.44311006, 439.39625738,\n",
       "       447.27806642, 455.09102991, 462.83749203, 470.51966074,\n",
       "       478.13961883, 485.6993338 , 493.20066676, 500.6453805 ,\n",
       "       508.03514669, 515.37155252, 522.65610662, 529.89024454,\n",
       "       537.07533369])"
      ]
     },
     "execution_count": 23,
     "metadata": {},
     "output_type": "execute_result"
    }
   ],
   "source": [
    "max_Rl(vector_N, 1)"
   ]
  },
  {
   "cell_type": "code",
   "execution_count": null,
   "metadata": {},
   "outputs": [],
   "source": [
    "L11 = "
   ]
  }
 ],
 "metadata": {
  "kernelspec": {
   "display_name": "Python 3",
   "language": "python",
   "name": "python3"
  },
  "language_info": {
   "codemirror_mode": {
    "name": "ipython",
    "version": 3
   },
   "file_extension": ".py",
   "mimetype": "text/x-python",
   "name": "python",
   "nbconvert_exporter": "python",
   "pygments_lexer": "ipython3",
   "version": "3.6.8"
  },
  "toc": {
   "base_numbering": 1,
   "nav_menu": {},
   "number_sections": true,
   "sideBar": true,
   "skip_h1_title": false,
   "title_cell": "Table of Contents",
   "title_sidebar": "Contents",
   "toc_cell": false,
   "toc_position": {},
   "toc_section_display": true,
   "toc_window_display": false
  }
 },
 "nbformat": 4,
 "nbformat_minor": 4
}
