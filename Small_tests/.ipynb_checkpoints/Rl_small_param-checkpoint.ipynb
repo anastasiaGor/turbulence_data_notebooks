{
 "cells": [
  {
   "cell_type": "code",
   "execution_count": 1,
   "metadata": {},
   "outputs": [
    {
     "data": {
      "text/html": [
       "<style>.container { width:80% !important; }</style>"
      ],
      "text/plain": [
       "<IPython.core.display.HTML object>"
      ]
     },
     "metadata": {},
     "output_type": "display_data"
    }
   ],
   "source": [
    "import numpy as np\n",
    "from tabulate import tabulate\n",
    "from IPython.core.display import display, HTML\n",
    "display(HTML(\"<style>.container { width:80% !important; }</style>\"))"
   ]
  },
  {
   "cell_type": "code",
   "execution_count": 2,
   "metadata": {},
   "outputs": [],
   "source": [
    "def max_Rl(N, keta):   \n",
    "    return np.sqrt(20.0/3.0*(3.0*N/2.0/keta)**(4.0/3.0))"
   ]
  },
  {
   "cell_type": "code",
   "execution_count": 3,
   "metadata": {},
   "outputs": [
    {
     "name": "stdout",
     "output_type": "stream",
     "text": [
      "[ 1.5  3.   6.  12.  24.  48.  96. ]\n"
     ]
    }
   ],
   "source": [
    "vector_keta = 1.5*2.0**np.arange(7)\n",
    "print(vector_keta)"
   ]
  },
  {
   "cell_type": "code",
   "execution_count": 5,
   "metadata": {},
   "outputs": [
    {
     "name": "stdout",
     "output_type": "stream",
     "text": [
      "[  16   32   64  128  256  512 1024 2048]\n"
     ]
    }
   ],
   "source": [
    "vector_N = (2**np.arange(4,12))\n",
    "print(vector_N)"
   ]
  },
  {
   "cell_type": "code",
   "execution_count": 6,
   "metadata": {},
   "outputs": [],
   "source": [
    "x,y = np.meshgrid(vector_N, vector_keta)"
   ]
  },
  {
   "cell_type": "code",
   "execution_count": 7,
   "metadata": {},
   "outputs": [
    {
     "name": "stdout",
     "output_type": "stream",
     "text": [
      "|   N | keta |      1.5 |      3.0 |      6.0 |      12.0 |     24.0 |     48.0 |     96.0 |\n",
      "|------------+----------+----------+----------+-----------+----------+----------+----------|\n",
      "|         16 |  16.3946 |  10.328  |   6.5062 |   4.09865 |  2.58199 |  1.62655 |  1.02466 |\n",
      "|         32 |  26.0248 |  16.3946 |  10.328  |   6.5062  |  4.09865 |  2.58199 |  1.62655 |\n",
      "|         64 |  41.3118 |  26.0248 |  16.3946 |  10.328   |  6.5062  |  4.09865 |  2.58199 |\n",
      "|        128 |  65.5784 |  41.3118 |  26.0248 |  16.3946  | 10.328   |  6.5062  |  4.09865 |\n",
      "|        256 | 104.099  |  65.5784 |  41.3118 |  26.0248  | 16.3946  | 10.328   |  6.5062  |\n",
      "|        512 | 165.247  | 104.099  |  65.5784 |  41.3118  | 26.0248  | 16.3946  | 10.328   |\n",
      "|       1024 | 262.314  | 165.247  | 104.099  |  65.5784  | 41.3118  | 26.0248  | 16.3946  |\n",
      "|       2048 | 416.397  | 262.314  | 165.247  | 104.099   | 65.5784  | 41.3118  | 26.0248  |\n"
     ]
    }
   ],
   "source": [
    "table = max_Rl(x,y)\n",
    "print(tabulate(np.concatenate(([vector_N], table)).T, headers=np.concatenate(([\"N | keta\"], vector_keta)), tablefmt='orgtbl'))"
   ]
  },
  {
   "cell_type": "code",
   "execution_count": 9,
   "metadata": {},
   "outputs": [],
   "source": [
    "def k_forcing(Rl, keta, N) :\n",
    "    eta = keta*2.0/N\n",
    "    return (2.0*np.pi)/(eta*(3./20.*Rl**2)**0.75)"
   ]
  },
  {
   "cell_type": "code",
   "execution_count": 22,
   "metadata": {},
   "outputs": [
    {
     "name": "stdout",
     "output_type": "stream",
     "text": [
      "[ 1.   4.9  8.8 12.7 16.6 20.5 24.4 28.3 32.2 36.1 40. ]\n"
     ]
    }
   ],
   "source": [
    "vector_Rl = np.linspace(1.0,40.0,11)\n",
    "print(vector_Rl)"
   ]
  },
  {
   "cell_type": "code",
   "execution_count": 23,
   "metadata": {},
   "outputs": [],
   "source": [
    "x,y = np.meshgrid(vector_Rl, vector_keta)"
   ]
  },
  {
   "cell_type": "code",
   "execution_count": 26,
   "metadata": {},
   "outputs": [
    {
     "name": "stdout",
     "output_type": "stream",
     "text": [
      "|   Rl | keta |       1.5 |       3.0 |        6.0 |       12.0 |      24.0 |      48.0 |       96.0 |\n",
      "|-------------+-----------+-----------+------------+------------+-----------+-----------+------------|\n",
      "|         1   | 8897.95   | 4448.98   | 2224.49    | 1112.24    | 556.122   | 278.061   | 139.031    |\n",
      "|         4.9 |  820.344  |  410.172  |  205.086   |  102.543   |  51.2715  |  25.6357  |  12.8179   |\n",
      "|         8.8 |  340.852  |  170.426  |   85.2131  |   42.6065  |  21.3033  |  10.6516  |   5.32582  |\n",
      "|        12.7 |  196.6    |   98.3002 |   49.1501  |   24.5751  |  12.2875  |   6.14376 |   3.07188  |\n",
      "|        16.6 |  131.561  |   65.7806 |   32.8903  |   16.4452  |   8.22258 |   4.11129 |   2.05564  |\n",
      "|        20.5 |   95.8648 |   47.9324 |   23.9662  |   11.9831  |   5.99155 |   2.99578 |   1.49789  |\n",
      "|        24.4 |   73.8253 |   36.9127 |   18.4563  |    9.22817 |   4.61408 |   2.30704 |   1.15352  |\n",
      "|        28.3 |   59.1031 |   29.5516 |   14.7758  |    7.38789 |   3.69395 |   1.84697 |   0.923486 |\n",
      "|        32.2 |   48.6975 |   24.3487 |   12.1744  |    6.08718 |   3.04359 |   1.5218  |   0.760898 |\n",
      "|        36.1 |   41.0232 |   20.5116 |   10.2558  |    5.1279  |   2.56395 |   1.28197 |   0.640987 |\n",
      "|        40   |   35.1722 |   17.5861 |    8.79306 |    4.39653 |   2.19827 |   1.09913 |   0.549566 |\n"
     ]
    }
   ],
   "source": [
    "N = 1024\n",
    "table = k_forcing(x,y, N)\n",
    "print(tabulate(np.concatenate(([vector_Rl], table)).T, headers=np.concatenate(([\"Rl | keta\"], vector_keta)), tablefmt='orgtbl'))"
   ]
  },
  {
   "cell_type": "code",
   "execution_count": null,
   "metadata": {},
   "outputs": [],
   "source": []
  }
 ],
 "metadata": {
  "kernelspec": {
   "display_name": "Python 3",
   "language": "python",
   "name": "python3"
  },
  "language_info": {
   "codemirror_mode": {
    "name": "ipython",
    "version": 3
   },
   "file_extension": ".py",
   "mimetype": "text/x-python",
   "name": "python",
   "nbconvert_exporter": "python",
   "pygments_lexer": "ipython3",
   "version": "3.6.8"
  },
  "toc": {
   "base_numbering": 1,
   "nav_menu": {},
   "number_sections": true,
   "sideBar": true,
   "skip_h1_title": false,
   "title_cell": "Table of Contents",
   "title_sidebar": "Contents",
   "toc_cell": false,
   "toc_position": {},
   "toc_section_display": true,
   "toc_window_display": false
  }
 },
 "nbformat": 4,
 "nbformat_minor": 4
}
