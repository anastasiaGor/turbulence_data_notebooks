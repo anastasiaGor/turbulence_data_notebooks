{
 "cells": [
  {
   "cell_type": "code",
   "execution_count": 1,
   "metadata": {},
   "outputs": [
    {
     "data": {
      "text/html": [
       "<style>.container { width:80% !important; }</style>"
      ],
      "text/plain": [
       "<IPython.core.display.HTML object>"
      ]
     },
     "metadata": {},
     "output_type": "display_data"
    }
   ],
   "source": [
    "import numpy as np\n",
    "from tabulate import tabulate\n",
    "from IPython.core.display import display, HTML\n",
    "display(HTML(\"<style>.container { width:80% !important; }</style>\"))"
   ]
  },
  {
   "cell_type": "code",
   "execution_count": 2,
   "metadata": {},
   "outputs": [],
   "source": [
    "def max_Rl(N, keta):   \n",
    "    return np.sqrt(20.0/3.0*(3.0*N/2.0/keta)**(4.0/3.0))"
   ]
  },
  {
   "cell_type": "code",
   "execution_count": 3,
   "metadata": {},
   "outputs": [
    {
     "name": "stdout",
     "output_type": "stream",
     "text": [
      "[ 1.5  3.   6.  12.  24.  48.  96. ]\n"
     ]
    }
   ],
   "source": [
    "vector_keta = 1.5*2.0**np.arange(7)\n",
    "print(vector_keta)"
   ]
  },
  {
   "cell_type": "code",
   "execution_count": 5,
   "metadata": {},
   "outputs": [
    {
     "name": "stdout",
     "output_type": "stream",
     "text": [
      "[  16   32   64  128  256  512 1024 2048]\n"
     ]
    }
   ],
   "source": [
    "vector_N = (2**np.arange(4,12))\n",
    "print(vector_N)"
   ]
  },
  {
   "cell_type": "code",
   "execution_count": 6,
   "metadata": {},
   "outputs": [],
   "source": [
    "x,y = np.meshgrid(vector_N, vector_keta)"
   ]
  },
  {
   "cell_type": "code",
   "execution_count": 7,
   "metadata": {},
   "outputs": [
    {
     "name": "stdout",
     "output_type": "stream",
     "text": [
      "|   N | keta |      1.5 |      3.0 |      6.0 |      12.0 |     24.0 |     48.0 |     96.0 |\n",
      "|------------+----------+----------+----------+-----------+----------+----------+----------|\n",
      "|         16 |  16.3946 |  10.328  |   6.5062 |   4.09865 |  2.58199 |  1.62655 |  1.02466 |\n",
      "|         32 |  26.0248 |  16.3946 |  10.328  |   6.5062  |  4.09865 |  2.58199 |  1.62655 |\n",
      "|         64 |  41.3118 |  26.0248 |  16.3946 |  10.328   |  6.5062  |  4.09865 |  2.58199 |\n",
      "|        128 |  65.5784 |  41.3118 |  26.0248 |  16.3946  | 10.328   |  6.5062  |  4.09865 |\n",
      "|        256 | 104.099  |  65.5784 |  41.3118 |  26.0248  | 16.3946  | 10.328   |  6.5062  |\n",
      "|        512 | 165.247  | 104.099  |  65.5784 |  41.3118  | 26.0248  | 16.3946  | 10.328   |\n",
      "|       1024 | 262.314  | 165.247  | 104.099  |  65.5784  | 41.3118  | 26.0248  | 16.3946  |\n",
      "|       2048 | 416.397  | 262.314  | 165.247  | 104.099   | 65.5784  | 41.3118  | 26.0248  |\n"
     ]
    }
   ],
   "source": [
    "table = max_Rl(x,y)\n",
    "print(tabulate(np.concatenate(([vector_N], table)).T, headers=np.concatenate(([\"N | keta\"], vector_keta)), tablefmt='orgtbl'))"
   ]
  },
  {
   "cell_type": "code",
   "execution_count": 9,
   "metadata": {},
   "outputs": [],
   "source": [
    "def k_forcing(Rl, keta, N) :\n",
    "    eta = keta*2.0/N\n",
    "    return (2.0*np.pi)/(eta*(3./20.*Rl**2)**0.75)"
   ]
  },
  {
   "cell_type": "code",
   "execution_count": 27,
   "metadata": {},
   "outputs": [
    {
     "name": "stdout",
     "output_type": "stream",
     "text": [
      "[ 1.   6.9 12.8 18.7 24.6 30.5 36.4 42.3 48.2 54.1 60. ]\n"
     ]
    }
   ],
   "source": [
    "vector_Rl = np.linspace(1.0,60.0,11)\n",
    "print(vector_Rl)"
   ]
  },
  {
   "cell_type": "code",
   "execution_count": 28,
   "metadata": {},
   "outputs": [],
   "source": [
    "x,y = np.meshgrid(vector_Rl, vector_keta)"
   ]
  },
  {
   "cell_type": "code",
   "execution_count": 29,
   "metadata": {},
   "outputs": [
    {
     "name": "stdout",
     "output_type": "stream",
     "text": [
      "|   Rl | keta |       1.5 |        3.0 |        6.0 |       12.0 |      24.0 |       48.0 |       96.0 |\n",
      "|-------------+-----------+------------+------------+------------+-----------+------------+------------|\n",
      "|         1   | 8897.95   | 4448.98    | 2224.49    | 1112.24    | 556.122   | 278.061    | 139.031    |\n",
      "|         6.9 |  490.927  |  245.463   |  122.732   |   61.3658  |  30.6829  |  15.3415   |   7.67073  |\n",
      "|        12.8 |  194.301  |   97.1505  |   48.5753  |   24.2876  |  12.1438  |   6.07191  |   3.03595  |\n",
      "|        18.7 |  110.034  |   55.0171  |   27.5086  |   13.7543  |   6.87714 |   3.43857  |   1.71928  |\n",
      "|        24.6 |   72.9269 |   36.4634  |   18.2317  |    9.11586 |   4.55793 |   2.27896  |   1.13948  |\n",
      "|        30.5 |   52.8251 |   26.4126  |   13.2063  |    6.60314 |   3.30157 |   1.65078  |   0.825392 |\n",
      "|        36.4 |   40.5171 |   20.2585  |   10.1293  |    5.06463 |   2.53232 |   1.26616  |   0.633079 |\n",
      "|        42.3 |   32.3429 |   16.1715  |    8.08574 |    4.04287 |   2.02143 |   1.01072  |   0.505359 |\n",
      "|        48.2 |   26.5901 |   13.295   |    6.64752 |    3.32376 |   1.66188 |   0.83094  |   0.41547  |\n",
      "|        54.1 |   22.3612 |   11.1806  |    5.59029 |    2.79514 |   1.39757 |   0.698786 |   0.349393 |\n",
      "|        60   |   19.1453 |    9.57267 |    4.78634 |    2.39317 |   1.19658 |   0.598292 |   0.299146 |\n"
     ]
    }
   ],
   "source": [
    "N = 1024\n",
    "table = k_forcing(x,y, N)\n",
    "print(tabulate(np.concatenate(([vector_Rl], table)).T, headers=np.concatenate(([\"Rl | keta\"], vector_keta)), tablefmt='orgtbl'))"
   ]
  },
  {
   "cell_type": "code",
   "execution_count": null,
   "metadata": {},
   "outputs": [],
   "source": []
  }
 ],
 "metadata": {
  "kernelspec": {
   "display_name": "Python 3",
   "language": "python",
   "name": "python3"
  },
  "language_info": {
   "codemirror_mode": {
    "name": "ipython",
    "version": 3
   },
   "file_extension": ".py",
   "mimetype": "text/x-python",
   "name": "python",
   "nbconvert_exporter": "python",
   "pygments_lexer": "ipython3",
   "version": "3.6.8"
  },
  "toc": {
   "base_numbering": 1,
   "nav_menu": {},
   "number_sections": true,
   "sideBar": true,
   "skip_h1_title": false,
   "title_cell": "Table of Contents",
   "title_sidebar": "Contents",
   "toc_cell": false,
   "toc_position": {},
   "toc_section_display": true,
   "toc_window_display": false
  }
 },
 "nbformat": 4,
 "nbformat_minor": 4
}
