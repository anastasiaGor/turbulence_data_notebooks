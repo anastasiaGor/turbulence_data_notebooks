{
 "cells": [
  {
   "cell_type": "code",
   "execution_count": 8,
   "metadata": {},
   "outputs": [
    {
     "data": {
      "text/html": [
       "<style>.container { width:80% !important; }</style>"
      ],
      "text/plain": [
       "<IPython.core.display.HTML object>"
      ]
     },
     "metadata": {},
     "output_type": "display_data"
    }
   ],
   "source": [
    "import numpy as np\n",
    "from matplotlib.backends.backend_pdf import PdfPages\n",
    "import matplotlib.pyplot as plt\n",
    "from IPython.core.display import display, HTML\n",
    "display(HTML(\"<style>.container { width:80% !important; }</style>\"))"
   ]
  },
  {
   "cell_type": "code",
   "execution_count": 30,
   "metadata": {},
   "outputs": [],
   "source": [
    "plt.rc('axes', labelsize=16)  \n",
    "plt.rc('axes', titlesize=16)  \n",
    "plt.rc('legend', fontsize=14)  "
   ]
  },
  {
   "cell_type": "code",
   "execution_count": 9,
   "metadata": {},
   "outputs": [],
   "source": [
    "eps = 4.0/3.0"
   ]
  },
  {
   "cell_type": "code",
   "execution_count": 10,
   "metadata": {
    "code_folding": [
     0
    ]
   },
   "outputs": [],
   "source": [
    "spec_old = np.array([2.57001757e+03, 3.99514794e+03, 9.65916400e+03, 1.16983941e+04,\n",
    "       2.40910532e+03, 1.05706813e+03, 5.75526543e+02, 3.28337603e+02,\n",
    "       2.06452869e+02, 1.22255416e+02, 8.03276506e+01, 5.51661679e+01,\n",
    "       3.90015284e+01, 2.89411065e+01, 2.19370530e+01, 1.67892912e+01,\n",
    "       1.31301863e+01, 9.98068471e+00, 7.63076295e+00, 6.09190776e+00,\n",
    "       5.09296895e+00, 4.09793733e+00, 3.35432184e+00, 2.78605005e+00,\n",
    "       2.44012734e+00, 1.98046054e+00, 1.65887056e+00, 1.42623846e+00,\n",
    "       1.21387915e+00, 1.04580110e+00, 9.09713989e-01, 7.92251024e-01,\n",
    "       6.85245366e-01, 6.03026278e-01, 5.23703621e-01, 4.65295757e-01,\n",
    "       4.21164901e-01, 3.71540542e-01, 3.30364943e-01, 2.99993986e-01,\n",
    "       2.64369022e-01, 2.39515836e-01, 2.17260591e-01, 1.93678243e-01,\n",
    "       1.74835206e-01, 1.55788077e-01, 1.44815727e-01, 1.30981773e-01,\n",
    "       1.22779656e-01, 1.09098926e-01, 1.01137841e-01, 9.38877798e-02,\n",
    "       8.51424620e-02, 7.85094402e-02, 7.23947331e-02, 6.69792397e-02,\n",
    "       6.11569068e-02, 5.68026572e-02, 5.28078118e-02, 4.87455397e-02,\n",
    "       4.56409050e-02, 4.27162762e-02, 3.98363971e-02, 3.69902285e-02,\n",
    "       3.44877260e-02, 3.22690625e-02, 3.00959650e-02, 2.80783476e-02,\n",
    "       2.64794561e-02, 2.49031332e-02, 2.33532038e-02, 2.18277532e-02,\n",
    "       2.08271157e-02, 1.92764132e-02, 1.84819369e-02, 1.71946761e-02,\n",
    "       1.61562329e-02, 1.50933584e-02, 1.42745973e-02, 1.33905219e-02,\n",
    "       1.26676617e-02, 1.18574933e-02, 1.10772241e-02, 1.03528643e-02,\n",
    "       9.59946726e-03, 8.95054655e-03, 8.14539816e-03, 7.44505095e-03,\n",
    "       6.75652304e-03, 6.08832642e-03, 5.46518435e-03, 4.94255026e-03,\n",
    "       4.35639571e-03, 3.73354363e-03])"
   ]
  },
  {
   "cell_type": "code",
   "execution_count": 11,
   "metadata": {
    "code_folding": [
     0
    ]
   },
   "outputs": [],
   "source": [
    "spec_new = np.array([8.46328572e+02, 5.49127143e+02, 7.38246315e+02, 6.54221936e+02,\n",
    "       3.09255495e+02, 2.21747437e+02, 1.97192719e+02, 1.49311294e+02,\n",
    "       1.24399341e+02, 1.07103498e+02, 9.18385152e+01, 7.92607374e+01,\n",
    "       7.18135485e+01, 6.16201577e+01, 5.44831561e+01, 5.00849929e+01,\n",
    "       4.48853625e+01, 3.91443904e+01, 3.63464882e+01, 3.37009768e+01,\n",
    "       3.20812551e+01, 2.98365190e+01, 2.72138321e+01, 2.48556926e+01,\n",
    "       2.30058285e+01, 2.12317488e+01, 1.98517529e+01, 1.87116550e+01,\n",
    "       1.71509609e+01, 1.63871088e+01, 1.51456510e+01, 1.42424887e+01,\n",
    "       1.33847040e+01, 1.21536055e+01, 1.13984316e+01, 1.05886683e+01,\n",
    "       1.01811503e+01, 9.34490749e+00, 8.82470466e+00, 8.17173175e+00,\n",
    "       7.62687924e+00, 7.16545344e+00, 6.76677849e+00, 6.24103874e+00,\n",
    "       5.80638841e+00, 5.40321449e+00, 5.14912690e+00, 4.75748818e+00,\n",
    "       4.40779973e+00, 4.08662484e+00, 3.89027105e+00, 3.64236486e+00,\n",
    "       3.38616983e+00, 3.15653126e+00, 2.90903015e+00, 2.78757122e+00,\n",
    "       2.53430177e+00, 2.36706723e+00, 2.19493483e+00, 2.08394667e+00,\n",
    "       1.92793472e+00, 1.79105976e+00, 1.64894528e+00, 1.55669889e+00,\n",
    "       1.45111055e+00, 1.35696212e+00, 1.25504433e+00, 1.15863890e+00,\n",
    "       1.07028762e+00, 1.00788242e+00, 9.29167504e-01, 8.61460950e-01,\n",
    "       7.98744438e-01, 7.42582274e-01, 6.78749384e-01, 6.29428951e-01,\n",
    "       5.87150085e-01, 5.42017330e-01, 4.99277072e-01, 4.61366718e-01,\n",
    "       4.24779580e-01, 3.91187954e-01, 3.62414513e-01, 3.29125388e-01,\n",
    "       3.03306648e-01, 2.76149833e-01, 2.52982822e-01, 2.28457162e-01,\n",
    "       2.08938683e-01, 1.85941348e-01, 1.66290765e-01, 1.46224648e-01,\n",
    "       1.25039385e-01, 1.03201746e-01])"
   ]
  },
  {
   "cell_type": "code",
   "execution_count": 12,
   "metadata": {
    "code_folding": [
     0
    ]
   },
   "outputs": [],
   "source": [
    "k_norm_vector_scal = np.array([ 1,  2,  3,  4,  5,  6,  7,  8,  9, 10, 11, 12, 13, 14, 15, 16, 17,\n",
    "       18, 19, 20, 21, 22, 23, 24, 25, 26, 27, 28, 29, 30, 31, 32, 33, 34,\n",
    "       35, 36, 37, 38, 39, 40, 41, 42, 43, 44, 45, 46, 47, 48, 49, 50, 51,\n",
    "       52, 53, 54, 55, 56, 57, 58, 59, 60, 61, 62, 63, 64, 65, 66, 67, 68,\n",
    "       69, 70, 71, 72, 73, 74, 75, 76, 77, 78, 79, 80, 81, 82, 83, 84, 85,\n",
    "       86, 87, 88, 89, 90, 91, 92, 93, 94])"
   ]
  },
  {
   "cell_type": "code",
   "execution_count": 33,
   "metadata": {},
   "outputs": [
    {
     "data": {
      "image/png": "[encoded data removed]",
      "text/plain": [
       "<Figure size 360x252 with 1 Axes>"
      ]
     },
     "metadata": {
      "needs_background": "light"
     },
     "output_type": "display_data"
    }
   ],
   "source": [
    "fig, ax = plt.subplots(nrows=1, ncols=1, figsize=(5,3.5))\n",
    "\n",
    "#ax.plot(k_norm_vector_scal, 13*k_norm_vector_scal**(-1-eps),'--',color='silver', label='Velocity spec')\n",
    "ax.plot(k_norm_vector_scal, spec_new, '.-', label='New')\n",
    "ax.plot(k_norm_vector_scal, spec_old, '.-', label='Old')\n",
    "ax.plot(k_norm_vector_scal, 10e3*k_norm_vector_scal**(-3+eps),'b--', label=r'$k^{-3+\\epsilon}$')\n",
    "ax.set(xscale='log', yscale='log', title='Scalar spectrum', xlabel='k', ylabel=r'$S_\\theta(k)$'); ax.grid()\n",
    "ax.legend(bbox_to_anchor=(1.05, 1), loc='upper left')\n",
    "ax.legend(loc='best')\n",
    "#ax.set(ylim=[10e-8,10e1])\n",
    "# pp = PdfPages('../Images/Scalar/scalar_spec_new_old_plot.pdf')\n",
    "# pp.savefig(bbox_inches='tight')\n",
    "# pp.close()\n",
    "plt.show()"
   ]
  },
  {
   "cell_type": "code",
   "execution_count": null,
   "metadata": {},
   "outputs": [],
   "source": []
  }
 ],
 "metadata": {
  "kernelspec": {
   "display_name": "Python 3",
   "language": "python",
   "name": "python3"
  },
  "language_info": {
   "codemirror_mode": {
    "name": "ipython",
    "version": 3
   },
   "file_extension": ".py",
   "mimetype": "text/x-python",
   "name": "python",
   "nbconvert_exporter": "python",
   "pygments_lexer": "ipython3",
   "version": "3.6.8"
  },
  "toc": {
   "base_numbering": 1,
   "nav_menu": {},
   "number_sections": true,
   "sideBar": true,
   "skip_h1_title": false,
   "title_cell": "Table of Contents",
   "title_sidebar": "Contents",
   "toc_cell": false,
   "toc_position": {},
   "toc_section_display": true,
   "toc_window_display": false
  }
 },
 "nbformat": 4,
 "nbformat_minor": 2
}
