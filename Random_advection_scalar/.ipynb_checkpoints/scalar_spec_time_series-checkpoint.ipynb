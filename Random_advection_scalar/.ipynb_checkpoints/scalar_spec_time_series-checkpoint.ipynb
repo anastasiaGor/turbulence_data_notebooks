{
 "cells": [
  {
   "cell_type": "markdown",
   "metadata": {},
   "source": [
    "# Import"
   ]
  },
  {
   "cell_type": "code",
   "execution_count": 1,
   "metadata": {},
   "outputs": [],
   "source": [
    "import numpy as np\n",
    "from scipy.stats import norm\n",
    "from matplotlib.backends.backend_pdf import PdfPages\n",
    "import matplotlib.pyplot as plt\n",
    "import statistics\n",
    "from scipy import signal, stats\n",
    "import scipy.fftpack\n",
    "from cycler import cycler"
   ]
  },
  {
   "cell_type": "code",
   "execution_count": 2,
   "metadata": {},
   "outputs": [
    {
     "data": {
      "text/html": [
       "<style>.container { width:80% !important; }</style>"
      ],
      "text/plain": [
       "<IPython.core.display.HTML object>"
      ]
     },
     "metadata": {},
     "output_type": "display_data"
    }
   ],
   "source": [
    "from IPython.core.display import display, HTML\n",
    "display(HTML(\"<style>.container { width:80% !important; }</style>\"))\n",
    "#%matplotlib notebook"
   ]
  },
  {
   "cell_type": "markdown",
   "metadata": {},
   "source": [
    "# Reading files"
   ]
  },
  {
   "cell_type": "code",
   "execution_count": 3,
   "metadata": {},
   "outputs": [
    {
     "name": "stdout",
     "output_type": "stream",
     "text": [
      "/home/gorbunov8a/CODE/random_advection_test/e05/time_series_scalar1_lin.table\n"
     ]
    }
   ],
   "source": [
    "#common_folder = \"/home/gorbunov8a/CODE/random_advection_test/e43/keta10/N256_advec_D500/run2/\"\n",
    "#common_folder = \"/home/gorbunov8a/CODE/random_advection_test/e43/keta10/\"\n",
    "common_folder = \"/home/gorbunov8a/CODE/random_advection_test/e05/\"\n",
    "\n",
    "file_type = \"time_series\"\n",
    "component = \"scalar1\"\n",
    "series_type = \"lin\"\n",
    "\n",
    "file = common_folder + file_type + \"_\" + component + \"_\" + series_type + \".table\"\n",
    "file_list = []\n",
    "print(file)\n",
    "for line in open(file) :\n",
    "    temp_array_line = []\n",
    "    if line[0] == '#' :          #skip commented lines\n",
    "        continue\n",
    "    else :\n",
    "        temp_array_line=list(map(float, line.split( )))\n",
    "        file_list.append(temp_array_line)\n",
    "file_array = np.array(file_list[1:-1])\n",
    "k = np.array(file_list[0])\n",
    "time = file_array[:,0]\n",
    "energy = file_array[:,1:]\n",
    "#del temp_array_line, file_array, file_list"
   ]
  },
  {
   "cell_type": "code",
   "execution_count": 4,
   "metadata": {},
   "outputs": [
    {
     "data": {
      "text/plain": [
       "(654,)"
      ]
     },
     "execution_count": 4,
     "metadata": {},
     "output_type": "execute_result"
    }
   ],
   "source": [
    "time.shape"
   ]
  },
  {
   "cell_type": "code",
   "execution_count": 5,
   "metadata": {},
   "outputs": [
    {
     "data": {
      "text/plain": [
       "(80,)"
      ]
     },
     "execution_count": 5,
     "metadata": {},
     "output_type": "execute_result"
    }
   ],
   "source": [
    "k.shape"
   ]
  },
  {
   "cell_type": "code",
   "execution_count": 6,
   "metadata": {},
   "outputs": [
    {
     "data": {
      "text/plain": [
       "(654, 80)"
      ]
     },
     "execution_count": 6,
     "metadata": {},
     "output_type": "execute_result"
    }
   ],
   "source": [
    "energy.shape"
   ]
  },
  {
   "cell_type": "markdown",
   "metadata": {},
   "source": [
    "# Parameters"
   ]
  },
  {
   "cell_type": "code",
   "execution_count": 7,
   "metadata": {},
   "outputs": [],
   "source": [
    "def find_D0(prefactor, nu, eps, Sc, N, keta) :\n",
    "    return [prefactor*4.0*nu*eps/Sc*((2.0*keta/N)**(-eps)), np.pi*N/keta]"
   ]
  },
  {
   "cell_type": "code",
   "execution_count": 8,
   "metadata": {},
   "outputs": [
    {
     "data": {
      "text/plain": [
       "[2.256758334191025, 32.0]"
      ]
     },
     "execution_count": 8,
     "metadata": {},
     "output_type": "execute_result"
    }
   ],
   "source": [
    "eps = 0.5\n",
    "N = 128\n",
    "nu = 1.0\n",
    "Sc = 1000.0\n",
    "keta = 4.0*np.pi\n",
    "D0_prefactor = 500.0\n",
    "scale_separation = 16.0\n",
    "\n",
    "find_D0(D0_prefactor, nu, eps, Sc, N, keta)"
   ]
  },
  {
   "cell_type": "code",
   "execution_count": 9,
   "metadata": {},
   "outputs": [],
   "source": [
    "# Plotting options\n",
    "plt.rc('axes', labelsize=14)  \n",
    "plt.rc('axes', titlesize=14)  \n",
    "plt.rc('legend', fontsize=12)  \n",
    "\n",
    "colors = ['#1f77b4', '#ff7f0e', '#2ca02c', '#d62728', '#9467bd', '#8c564b', '#e377c2', '#7f7f7f', '#bcbd22', '#17becf']\n",
    "default_cycler = cycler(cycler(linestyle=['-', '--', ':', '-.'])*cycler(color=colors))\n",
    "plt.rc('axes', prop_cycle=default_cycler)"
   ]
  },
  {
   "cell_type": "code",
   "execution_count": 10,
   "metadata": {},
   "outputs": [
    {
     "name": "stdout",
     "output_type": "stream",
     "text": [
      "[ 3 11 19 27 35 43 51 59 67 75]\n"
     ]
    }
   ],
   "source": [
    "kmin = 3\n",
    "kmax = np.max(k)\n",
    "nb_of_curves = 10\n",
    "step = round((kmax - kmin)/nb_of_curves)\n",
    "indices_of_k_to_plot = np.arange(kmin,kmax,step, dtype=np.int16)\n",
    "print(indices_of_k_to_plot)"
   ]
  },
  {
   "cell_type": "code",
   "execution_count": 11,
   "metadata": {},
   "outputs": [],
   "source": [
    "normalization_status = True\n",
    "k_norm_coef = 1.0"
   ]
  },
  {
   "cell_type": "markdown",
   "metadata": {},
   "source": [
    "# Plot time series"
   ]
  },
  {
   "cell_type": "code",
   "execution_count": 12,
   "metadata": {},
   "outputs": [
    {
     "data": {
      "image/png": "[encoded data removed]",
      "text/plain": [
       "<Figure size 432x288 with 1 Axes>"
      ]
     },
     "metadata": {
      "needs_background": "light"
     },
     "output_type": "display_data"
    }
   ],
   "source": [
    "norm_coef = np.zeros_like(k, dtype=float)\n",
    "\n",
    "for ik in indices_of_k_to_plot :\n",
    "    if normalization_status :\n",
    "        norm_coef[ik] = 1.0/np.mean(energy[:,ik])\n",
    "    else : \n",
    "        norm_coef[ik] = 1.0\n",
    "    plt.plot(np.real(energy[:,ik])*norm_coef[ik], label='k=%2.f' % (k[ik]/k_norm_coef), linewidth=0.75)\n",
    "plt.legend(bbox_to_anchor=(1.05, 1), loc='upper left')\n",
    "plt.title('Time series of scalar energy'); plt.grid()\n",
    "plt.xlabel('iteration'); plt.ylabel(\"S(k)\")\n",
    "plt.yscale('linear')\n",
    "plt.show()\n",
    "\n",
    "# Export image to pdf\n",
    "#pp = PdfPages('Images/time_series.pdf')\n",
    "#pp.savefig()\n",
    "#pp.close()"
   ]
  },
  {
   "cell_type": "code",
   "execution_count": 13,
   "metadata": {},
   "outputs": [
    {
     "data": {
      "image/png": "[encoded data removed]",
      "text/plain": [
       "<Figure size 432x288 with 1 Axes>"
      ]
     },
     "metadata": {
      "needs_background": "light"
     },
     "output_type": "display_data"
    }
   ],
   "source": [
    "fig, ax = plt.subplots(constrained_layout=True)\n",
    "\n",
    "ax.plot(np.sum(energy, axis=1))\n",
    "ax.set(xscale='linear', yscale='linear', xlabel='iteration', ylabel=r'$S^2$', title='Total energy time series'); ax.grid()\n",
    "plt.show()"
   ]
  },
  {
   "cell_type": "code",
   "execution_count": 14,
   "metadata": {},
   "outputs": [
    {
     "data": {
      "image/png": "[encoded data removed]",
      "text/plain": [
       "<Figure size 432x288 with 1 Axes>"
      ]
     },
     "metadata": {
      "needs_background": "light"
     },
     "output_type": "display_data"
    }
   ],
   "source": [
    "# linear trand by scales\n",
    "lin_trend = np.zeros_like(k, dtype=float)\n",
    "intercept = np.zeros_like(k, dtype=float)\n",
    "for ik in list(range(len(k))): lin_trend[ik], intercept[ik], r_value, p_value, std_err = stats.linregress(time,energy[:,ik]/np.mean(energy[:,ik]))\n",
    "    \n",
    "fig, ax = plt.subplots(constrained_layout=True)\n",
    "ax.plot(k, lin_trend, '.-')\n",
    "ax.set(xscale='log', yscale='linear', xlabel='k', ylabel='slope', title='Time linear trend'); ax.grid()\n",
    "plt.show()"
   ]
  },
  {
   "cell_type": "markdown",
   "metadata": {},
   "source": [
    "# PDF"
   ]
  },
  {
   "cell_type": "code",
   "execution_count": null,
   "metadata": {},
   "outputs": [],
   "source": [
    "#plot histogram\n",
    "nb_of_bins=20\n",
    "\n",
    "for ik in indices_of_k_to_plot :\n",
    "    plt.hist(x=energy[:,ik]*norm_coef[ik], bins=nb_of_bins, histtype='step', density=True, log=True, align='mid', label='k=%2.f' % (k[ik]/k_norm_coef))\n",
    "plt.legend(bbox_to_anchor=(1.05, 1), loc='upper left')\n",
    "plt.title('PDF of scalar sqr')\n",
    "plt.xlabel('bin (normalized)'); plt.ylabel(\"PDF\")\n",
    "plt.show()"
   ]
  },
  {
   "cell_type": "markdown",
   "metadata": {},
   "source": [
    "# Mean energy vs. k (spectrum)"
   ]
  },
  {
   "cell_type": "code",
   "execution_count": null,
   "metadata": {},
   "outputs": [],
   "source": [
    "mean_energy = np.mean(energy[:-10,:], axis=0)\n",
    "    \n",
    "fig, ax = plt.subplots(constrained_layout=True, figsize=(8,6))\n",
    "ax.plot(k, energy[0,:]/np.max(mean_energy), '-', label=r'First')\n",
    "ax.plot(k, mean_energy/np.max(mean_energy), '-', label=r'Average')\n",
    "ax.plot(k, energy[-1,:]/np.max(mean_energy), '-', label=r'Last')\n",
    "ax.plot(k, k**(-3+eps),'--', label=r'$k^{-3 + \\epsilon}$')\n",
    "ax.set(xscale='log',yscale='log',xlabel=r'$k^\\prime$', ylabel=r'$S$', title='Time average energy of a shell')\n",
    "ax.legend(bbox_to_anchor=(1.05, 1), loc='upper left')\n",
    "ax.grid()\n",
    "plt.show()"
   ]
  },
  {
   "cell_type": "code",
   "execution_count": null,
   "metadata": {},
   "outputs": [],
   "source": [
    "# check the slope of the mean energy\n",
    "resampling = 2\n",
    "x = np.log(k[1::resampling])\n",
    "slope_avg = np.gradient(np.log(mean_energy[1::resampling]), x)\n",
    "slope_first = np.gradient(np.log(energy[0,1::resampling]), x)\n",
    "slope_last = np.gradient(np.log(energy[-1,1::resampling]), x)\n",
    "\n",
    "fig, ax = plt.subplots(nrows=1, ncols=1, figsize=(6,5))\n",
    "ax.plot(np.exp(x), slope_first, '.-', label='First')\n",
    "ax.plot(np.exp(x), slope_avg, '.-', label='Average')\n",
    "ax.plot(np.exp(x), slope_last, '.-', label='Last')\n",
    "ax.plot(np.exp(x), np.full_like(x, (-3.0+eps), dtype=float), '-', label=r'$-3+\\epsilon$')\n",
    "ax.plot(np.exp(x), np.full_like(x, (-1.0-eps), dtype=float), '-', label=r'$-1-\\epsilon$')\n",
    "ax.plot(np.exp(x), np.full_like(x, (-3.0-eps), dtype=float), '-', label=r'$-3-\\epsilon$')\n",
    "\n",
    "ax.set(xscale='log', yscale='linear', title='Slope of the scalar spectrum', xlabel='k', ylabel='Slope'); ax.grid()\n",
    "ax.set(ylim=[-15,2])\n",
    "ax.legend(bbox_to_anchor=(1.05, 1), loc='upper left')\n",
    "plt.show()"
   ]
  },
  {
   "cell_type": "code",
   "execution_count": null,
   "metadata": {},
   "outputs": [],
   "source": []
  }
 ],
 "metadata": {
  "kernelspec": {
   "display_name": "Python 3",
   "language": "python",
   "name": "python3"
  },
  "language_info": {
   "codemirror_mode": {
    "name": "ipython",
    "version": 3
   },
   "file_extension": ".py",
   "mimetype": "text/x-python",
   "name": "python",
   "nbconvert_exporter": "python",
   "pygments_lexer": "ipython3",
   "version": "3.6.8"
  },
  "toc": {
   "base_numbering": 1,
   "nav_menu": {},
   "number_sections": true,
   "sideBar": true,
   "skip_h1_title": false,
   "title_cell": "Table of Contents",
   "title_sidebar": "Contents",
   "toc_cell": false,
   "toc_position": {
    "height": "calc(100% - 180px)",
    "left": "10px",
    "top": "150px",
    "width": "165px"
   },
   "toc_section_display": true,
   "toc_window_display": true
  }
 },
 "nbformat": 4,
 "nbformat_minor": 2
}
