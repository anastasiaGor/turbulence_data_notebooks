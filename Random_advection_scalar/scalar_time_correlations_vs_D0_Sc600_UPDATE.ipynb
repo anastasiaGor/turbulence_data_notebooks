{
 "cells": [
  {
   "cell_type": "markdown",
   "metadata": {},
   "source": [
    "# Import"
   ]
  },
  {
   "cell_type": "code",
   "execution_count": 1,
   "metadata": {
    "scrolled": true
   },
   "outputs": [],
   "source": [
    "import numpy as np\n",
    "from scipy.stats import norm\n",
    "from matplotlib.backends.backend_pdf import PdfPages\n",
    "import matplotlib.pyplot as plt\n",
    "import statistics\n",
    "from scipy import signal, stats\n",
    "from cycler import cycler\n",
    "from scipy.optimize import curve_fit"
   ]
  },
  {
   "cell_type": "code",
   "execution_count": 2,
   "metadata": {
    "scrolled": true
   },
   "outputs": [
    {
     "data": {
      "text/html": [
       "<style>.container { width:80% !important; }</style>"
      ],
      "text/plain": [
       "<IPython.core.display.HTML object>"
      ]
     },
     "metadata": {},
     "output_type": "display_data"
    }
   ],
   "source": [
    "from IPython.core.display import display, HTML\n",
    "display(HTML(\"<style>.container { width:80% !important; }</style>\"))\n",
    "#%matplotlib notebook"
   ]
  },
  {
   "cell_type": "markdown",
   "metadata": {},
   "source": [
    "# Data structure"
   ]
  },
  {
   "cell_type": "code",
   "execution_count": 3,
   "metadata": {
    "scrolled": true
   },
   "outputs": [],
   "source": [
    "simulations = [{'Sc': 400.0, 'nb_sca' : 1, 'N': 128, 'u': 1.5, 'folder' : 'D0zero/', 'runs': [76], 'D0': 0.0, 'gamma2' : 5.0929581789406514E-002, 'field_ite' : 310000},\n",
    "        {'Sc': 600.0, 'nb_sca' : 1, 'N': 64, 'u': 1.5, 'folder' : 'N64/', 'runs': [440], 'D0': 4.18254881E-003, 'gamma2' : 5.0929581789406514E-002, 'field_ite' : 900000}, \n",
    "        {'Sc': 600.0, 'nb_sca' : 1, 'N': 96, 'u': 1.51, 'folder' : 'N96/', 'runs': [165], 'D0': 6.273823215E-003, 'gamma2' : 5.0592299790801175E-002, 'field_ite' : 505000}, \n",
    "        {'Sc': 600.0, 'nb_sca' : 1, 'N': 128, 'u': 1.52, 'folder' : 'N128/', 'runs': [69, 106], 'D0': 8.3650976202353233E-003, 'gamma2' : 5.0259455713230108E-002, 'field_ite' : 435000}, \n",
    "        {'Sc': 600.0, 'nb_sca' : 1, 'N': 192, 'u': 1.53, 'folder' : 'N192/', 'runs': [20,17], 'D0': 12.54764643E-003, 'gamma2' : 4.9930962538633841E-002, 'field_ite' : 110000},\n",
    "        {'Sc': 600.0, 'nb_sca' : 1, 'N': 256, 'u': 1.54, 'folder' : 'N256/', 'runs': [10,9], 'D0': 16.73019524E-003, 'gamma2' : 4.9606735509162184E-002, 'field_ite' : 80000},\n",
    "        {'Sc': 600.0, 'nb_sca' : 1, 'N': 384, 'u': 1.54, 'folder' : 'N384/', 'runs': [5,6], 'D0': 25.09529286E-003, 'gamma2' : 4.9606735509162184E-002, 'field_ite' : 40000},\n",
    "        {'Sc': 600.0, 'nb_sca' : 1, 'N': 512, 'u': 1.54, 'folder' : 'N512/', 'runs': [3,3,3,3,3], 'D0': 33.46039048E-003, 'gamma2' : 4.9606735509162184E-002, 'field_ite' : 15000}]"
   ]
  },
  {
   "cell_type": "code",
   "execution_count": 4,
   "metadata": {},
   "outputs": [],
   "source": [
    "set2 = [{'Sc': 500.0, 'f' : 32, 'N': 1024, 'u': 8.74, 'folder' : 'N1024/', 'runs': [2], 'D0': 50.19058572E-003, 'spec_ite' : 2000, 'field_ite' : 10000},\n",
    "        {'Sc': 2000.0, 'f' : 12, 'N': 256, 'u': 8.74, 'folder' : 'Sc2000_N256/', 'runs': [6], 'D0': 12.54764643E-003, 'spec_ite' : 89000, 'field_ite' : 85000}]"
   ]
  },
  {
   "cell_type": "code",
   "execution_count": 5,
   "metadata": {
    "scrolled": true
   },
   "outputs": [],
   "source": [
    "eps = 1.0\n",
    "viscosity = 1.0"
   ]
  },
  {
   "cell_type": "code",
   "execution_count": 6,
   "metadata": {
    "scrolled": true
   },
   "outputs": [],
   "source": [
    "for simu in simulations :\n",
    "    simu.update({'diffusivity': viscosity/simu[\"Sc\"]})"
   ]
  },
  {
   "cell_type": "markdown",
   "metadata": {},
   "source": [
    "# Reading data"
   ]
  },
  {
   "cell_type": "code",
   "execution_count": 7,
   "metadata": {
    "code_folding": [
     0
    ],
    "scrolled": true
   },
   "outputs": [],
   "source": [
    "#read correlation files\n",
    "def read_data_file(common_folder, scalar, file_type, spec_type, spec_component, run_files) :\n",
    "    nb_of_runs = len(run_files)\n",
    "    for run_index in list(range(nb_of_runs)) :\n",
    "        folder = common_folder + \"run\" + \"%01d\" % (run_index+1) + \"/\"\n",
    "        if (run_files[run_index] < 1000) :\n",
    "            file = folder + \"scalar%01d\" %scalar + \"_\" + file_type + \"_\" + spec_type + \"_C\" + spec_component + \"_wi=\" + \"%03d\" % run_files[run_index] + \".table\"\n",
    "        else : \n",
    "            file = folder + file_type + \"_\" + spec_type + \"_C\" + spec_component + \"_wi=\" + \"%06d\" % run_files[run_index] + \".table\"\n",
    "        file_data = []\n",
    "        print('reading file: ' + file)\n",
    "        averaging_weight = (run_files[run_index]+1)/(sum(run_files)+nb_of_runs)\n",
    "        for line in open(file) :\n",
    "            temp_array_line = []\n",
    "            if line[0] == '#' :          #skip commented lines\n",
    "                continue\n",
    "            else :\n",
    "                temp_array_line=list(map(float, line.split( )))\n",
    "                temp_array_line = [t * averaging_weight for t in temp_array_line]\n",
    "                file_data.append(temp_array_line)  \n",
    "        if (run_index == 0) : \n",
    "            accumulated_data = file_data.copy()\n",
    "        else : \n",
    "            accumulated_data = list(map(lambda l1, l2: [sum(x) for x in zip(l1, l2)], accumulated_data, file_data))\n",
    "    k = np.array(accumulated_data[0])\n",
    "    nb_of_modes = np.array(accumulated_data[1])\n",
    "    average_data = np.ndarray(shape=(len(accumulated_data)-2, k.shape[0]+1), dtype=float)\n",
    "    for i in list(range(average_data.shape[0])) : \n",
    "        average_data[i, :] = np.array(accumulated_data[i+2])\n",
    "    t = average_data[:,0]\n",
    "    numpy_file_table = np.array(average_data[:,1:])\n",
    "    return [k, nb_of_modes, t, numpy_file_table]"
   ]
  },
  {
   "cell_type": "code",
   "execution_count": 8,
   "metadata": {
    "code_folding": [
     0
    ],
    "scrolled": true
   },
   "outputs": [],
   "source": [
    "# read velocity spectrum file\n",
    "def read_spec_file(common_folder, forlder_in, quantity, spec_type, ite) :\n",
    "    file = common_folder + forlder_in + quantity + \"_\" + spec_type + \"_ite=%06d\" % ite + \".table\"\n",
    "    print('reading file: ' + file)\n",
    "    file_data = []\n",
    "    for line in open(file) :\n",
    "        temp_array_line = []\n",
    "        if line[0] == '#' :          #skip commented lines\n",
    "            continue\n",
    "        else :\n",
    "            temp_array_line=list(map(float, line.split( )))\n",
    "            file_data.append(temp_array_line)  \n",
    "    spec_table = np.array(file_data)\n",
    "    k = spec_table[:,0]\n",
    "    nb_of_modes = spec_table[:,1]\n",
    "    Ek = spec_table[:,2]\n",
    "#     Exx = spec_table[:,3]\n",
    "#     Eyy = spec_table[:,4]\n",
    "#     Ezz = spec_table[:,5]\n",
    "    #return [k, nb_of_modes, Ek, Exx, Eyy, Ezz, spec_table[:,6], spec_table[:,7], spec_table[:,8], spec_table[:,9]]\n",
    "    return [k, nb_of_modes, Ek]"
   ]
  },
  {
   "cell_type": "code",
   "execution_count": 11,
   "metadata": {
    "scrolled": true
   },
   "outputs": [],
   "source": [
    "common_folder = \"/home/gorbunov8a/data/random_advection/eps_dep/Sc600/e1/\"\n",
    "spec_type = \"lin\"\n",
    "spec_component = \"avg\"\n",
    "sca = 1\n",
    "file_type = \"two_point_corr_complex\""
   ]
  },
  {
   "cell_type": "code",
   "execution_count": 12,
   "metadata": {
    "scrolled": true
   },
   "outputs": [
    {
     "name": "stdout",
     "output_type": "stream",
     "text": [
      "reading file: /home/gorbunov8a/data/random_advection/eps_dep/Sc600/e1/D0zero/run1/scalar1_two_point_corr_complex_lin_Cavg_wi=076.table\n"
     ]
    },
    {
     "ename": "FileNotFoundError",
     "evalue": "[Errno 2] No such file or directory: '/home/gorbunov8a/data/random_advection/eps_dep/Sc600/e1/D0zero/run1/scalar1_two_point_corr_complex_lin_Cavg_wi=076.table'",
     "output_type": "error",
     "traceback": [
      "\u001b[0;31m---------------------------------------------------------------------------\u001b[0m",
      "\u001b[0;31mFileNotFoundError\u001b[0m                         Traceback (most recent call last)",
      "\u001b[0;32m<ipython-input-12-15877bb93251>\u001b[0m in \u001b[0;36m<module>\u001b[0;34m\u001b[0m\n\u001b[1;32m      1\u001b[0m \u001b[0;31m# read data files\u001b[0m\u001b[0;34m\u001b[0m\u001b[0;34m\u001b[0m\u001b[0;34m\u001b[0m\u001b[0m\n\u001b[1;32m      2\u001b[0m \u001b[0;32mfor\u001b[0m \u001b[0msimu\u001b[0m \u001b[0;32min\u001b[0m \u001b[0msimulations\u001b[0m\u001b[0;34m:\u001b[0m\u001b[0;34m\u001b[0m\u001b[0;34m\u001b[0m\u001b[0m\n\u001b[0;32m----> 3\u001b[0;31m     \u001b[0;34m[\u001b[0m\u001b[0mk\u001b[0m\u001b[0;34m,\u001b[0m \u001b[0mnb_of_modes\u001b[0m\u001b[0;34m,\u001b[0m \u001b[0mtime\u001b[0m\u001b[0;34m,\u001b[0m \u001b[0mtwo_point_corr\u001b[0m\u001b[0;34m]\u001b[0m \u001b[0;34m=\u001b[0m \u001b[0mread_data_file\u001b[0m\u001b[0;34m(\u001b[0m\u001b[0mcommon_folder\u001b[0m \u001b[0;34m+\u001b[0m \u001b[0msimu\u001b[0m\u001b[0;34m[\u001b[0m\u001b[0;34m'folder'\u001b[0m\u001b[0;34m]\u001b[0m\u001b[0;34m,\u001b[0m \u001b[0;36m1\u001b[0m\u001b[0;34m,\u001b[0m \u001b[0mfile_type\u001b[0m\u001b[0;34m,\u001b[0m \u001b[0mspec_type\u001b[0m\u001b[0;34m,\u001b[0m \u001b[0mspec_component\u001b[0m\u001b[0;34m,\u001b[0m \u001b[0msimu\u001b[0m\u001b[0;34m[\u001b[0m\u001b[0;34m'runs'\u001b[0m\u001b[0;34m]\u001b[0m\u001b[0;34m)\u001b[0m\u001b[0;34m\u001b[0m\u001b[0;34m\u001b[0m\u001b[0m\n\u001b[0m\u001b[1;32m      4\u001b[0m     \u001b[0msimu\u001b[0m\u001b[0;34m.\u001b[0m\u001b[0mupdate\u001b[0m\u001b[0;34m(\u001b[0m\u001b[0;34m{\u001b[0m\u001b[0;34m'corr'\u001b[0m\u001b[0;34m:\u001b[0m \u001b[0mtwo_point_corr\u001b[0m\u001b[0;34m,\u001b[0m \u001b[0;34m't'\u001b[0m\u001b[0;34m:\u001b[0m \u001b[0mtime\u001b[0m\u001b[0;34m,\u001b[0m \u001b[0;34m'k'\u001b[0m \u001b[0;34m:\u001b[0m \u001b[0mk\u001b[0m\u001b[0;34m,\u001b[0m \u001b[0;34m'nb_of_modes'\u001b[0m \u001b[0;34m:\u001b[0m \u001b[0mnb_of_modes\u001b[0m\u001b[0;34m}\u001b[0m\u001b[0;34m)\u001b[0m\u001b[0;34m\u001b[0m\u001b[0;34m\u001b[0m\u001b[0m\n\u001b[1;32m      5\u001b[0m     \u001b[0;34m[\u001b[0m\u001b[0mk\u001b[0m\u001b[0;34m,\u001b[0m \u001b[0mnb_of_modes\u001b[0m\u001b[0;34m,\u001b[0m \u001b[0mspec\u001b[0m\u001b[0;34m]\u001b[0m \u001b[0;34m=\u001b[0m \u001b[0mread_spec_file\u001b[0m\u001b[0;34m(\u001b[0m\u001b[0mcommon_folder\u001b[0m \u001b[0;34m+\u001b[0m \u001b[0msimu\u001b[0m\u001b[0;34m[\u001b[0m\u001b[0;34m'folder'\u001b[0m\u001b[0;34m]\u001b[0m\u001b[0;34m,\u001b[0m \u001b[0;34m\"run\"\u001b[0m \u001b[0;34m+\u001b[0m \u001b[0;34m\"%01d\"\u001b[0m \u001b[0;34m%\u001b[0m \u001b[0;34m(\u001b[0m\u001b[0mlen\u001b[0m\u001b[0;34m(\u001b[0m\u001b[0msimu\u001b[0m\u001b[0;34m[\u001b[0m\u001b[0;34m'runs'\u001b[0m\u001b[0;34m]\u001b[0m\u001b[0;34m)\u001b[0m\u001b[0;34m)\u001b[0m \u001b[0;34m+\u001b[0m \u001b[0;34m\"/\"\u001b[0m\u001b[0;34m,\u001b[0m \u001b[0;34m\"spectrum_scalar1\"\u001b[0m\u001b[0;34m,\u001b[0m \u001b[0;34m\"lin\"\u001b[0m\u001b[0;34m,\u001b[0m \u001b[0msimu\u001b[0m\u001b[0;34m[\u001b[0m\u001b[0;34m'spec_ite'\u001b[0m\u001b[0;34m]\u001b[0m\u001b[0;34m)\u001b[0m\u001b[0;34m\u001b[0m\u001b[0;34m\u001b[0m\u001b[0m\n",
      "\u001b[0;32m<ipython-input-7-be7bcc63b64a>\u001b[0m in \u001b[0;36mread_data_file\u001b[0;34m(common_folder, scalar, file_type, spec_type, spec_component, run_files)\u001b[0m\n\u001b[1;32m     11\u001b[0m         \u001b[0mprint\u001b[0m\u001b[0;34m(\u001b[0m\u001b[0;34m'reading file: '\u001b[0m \u001b[0;34m+\u001b[0m \u001b[0mfile\u001b[0m\u001b[0;34m)\u001b[0m\u001b[0;34m\u001b[0m\u001b[0;34m\u001b[0m\u001b[0m\n\u001b[1;32m     12\u001b[0m         \u001b[0maveraging_weight\u001b[0m \u001b[0;34m=\u001b[0m \u001b[0;34m(\u001b[0m\u001b[0mrun_files\u001b[0m\u001b[0;34m[\u001b[0m\u001b[0mrun_index\u001b[0m\u001b[0;34m]\u001b[0m\u001b[0;34m+\u001b[0m\u001b[0;36m1\u001b[0m\u001b[0;34m)\u001b[0m\u001b[0;34m/\u001b[0m\u001b[0;34m(\u001b[0m\u001b[0msum\u001b[0m\u001b[0;34m(\u001b[0m\u001b[0mrun_files\u001b[0m\u001b[0;34m)\u001b[0m\u001b[0;34m+\u001b[0m\u001b[0mnb_of_runs\u001b[0m\u001b[0;34m)\u001b[0m\u001b[0;34m\u001b[0m\u001b[0;34m\u001b[0m\u001b[0m\n\u001b[0;32m---> 13\u001b[0;31m         \u001b[0;32mfor\u001b[0m \u001b[0mline\u001b[0m \u001b[0;32min\u001b[0m \u001b[0mopen\u001b[0m\u001b[0;34m(\u001b[0m\u001b[0mfile\u001b[0m\u001b[0;34m)\u001b[0m \u001b[0;34m:\u001b[0m\u001b[0;34m\u001b[0m\u001b[0;34m\u001b[0m\u001b[0m\n\u001b[0m\u001b[1;32m     14\u001b[0m             \u001b[0mtemp_array_line\u001b[0m \u001b[0;34m=\u001b[0m \u001b[0;34m[\u001b[0m\u001b[0;34m]\u001b[0m\u001b[0;34m\u001b[0m\u001b[0;34m\u001b[0m\u001b[0m\n\u001b[1;32m     15\u001b[0m             \u001b[0;32mif\u001b[0m \u001b[0mline\u001b[0m\u001b[0;34m[\u001b[0m\u001b[0;36m0\u001b[0m\u001b[0;34m]\u001b[0m \u001b[0;34m==\u001b[0m \u001b[0;34m'#'\u001b[0m \u001b[0;34m:\u001b[0m          \u001b[0;31m#skip commented lines\u001b[0m\u001b[0;34m\u001b[0m\u001b[0;34m\u001b[0m\u001b[0m\n",
      "\u001b[0;31mFileNotFoundError\u001b[0m: [Errno 2] No such file or directory: '/home/gorbunov8a/data/random_advection/eps_dep/Sc600/e1/D0zero/run1/scalar1_two_point_corr_complex_lin_Cavg_wi=076.table'"
     ]
    }
   ],
   "source": [
    "# read data files\n",
    "for simu in simulations: \n",
    "    [k, nb_of_modes, time, two_point_corr] = read_data_file(common_folder + simu['folder'], 1, file_type, spec_type, spec_component, simu['runs'])\n",
    "    simu.update({'corr': two_point_corr, 't': time, 'k' : k, 'nb_of_modes' : nb_of_modes})\n",
    "    [k, nb_of_modes, spec] = read_spec_file(common_folder + simu['folder'], \"run\" + \"%01d\" % (len(simu['runs'])) + \"/\", \"spectrum_scalar1\", \"lin\", simu['spec_ite'])\n",
    "    simu.update({'spec': spec})"
   ]
  },
  {
   "cell_type": "code",
   "execution_count": null,
   "metadata": {
    "scrolled": true
   },
   "outputs": [],
   "source": [
    "# [k_vel, nb_of_modes_vel, Ek] = read_spec_file(common_folder, \"run2/\", \"vel\", \"lin\", 80000)"
   ]
  },
  {
   "cell_type": "markdown",
   "metadata": {},
   "source": [
    "# Parameters"
   ]
  },
  {
   "cell_type": "code",
   "execution_count": null,
   "metadata": {
    "scrolled": true
   },
   "outputs": [],
   "source": [
    "# Plotting options\n",
    "plt.rc('axes', labelsize=16)  \n",
    "plt.rc('axes', titlesize=16)  \n",
    "plt.rc('legend', fontsize=14)  \n",
    "\n",
    "colors = ['#1f77b4', '#ff7f0e', '#2ca02c', '#d62728', '#9467bd', '#8c564b', '#e377c2', '#7f7f7f', '#bcbd22', '#17becf', '#1f77b4']\n",
    "default_cycler = cycler(cycler(linestyle=['-', '--', ':', '-.'])*cycler(color=colors))\n",
    "plt.rc('axes', prop_cycle=default_cycler)"
   ]
  },
  {
   "cell_type": "code",
   "execution_count": null,
   "metadata": {
    "scrolled": true
   },
   "outputs": [],
   "source": [
    "kmin = 8\n",
    "nb_of_curves = 9\n",
    "\n",
    "for simu in simulations :\n",
    "    kmax = np.max(simu['k'])-6\n",
    "    step = round((kmax - kmin)/nb_of_curves)\n",
    "    simu['indices_of_k_to_plot'] = np.arange(kmin,kmax,step, dtype=np.int16)\n",
    "    print(simu['indices_of_k_to_plot'])\n",
    "    \n",
    "    simu['Te'] = (simu['t'][1]-simu['t'][0])*simu['f']"
   ]
  },
  {
   "cell_type": "markdown",
   "metadata": {},
   "source": [
    "# Spectra"
   ]
  },
  {
   "cell_type": "code",
   "execution_count": null,
   "metadata": {
    "scrolled": true
   },
   "outputs": [],
   "source": [
    "resampling = 2\n",
    "sl = np.s_[1:-1:resampling]\n",
    "fig, ax = plt.subplots(ncols=3, nrows=1, constrained_layout=True, figsize=(16,4))\n",
    "#for sca in range(len(scalars)) :\n",
    "for simu in simulations[1::] :\n",
    "    spherical_coef = 4.0*np.pi*simu['k']**2/simu['nb_of_modes']\n",
    "    ax[0].plot(simu['k'], (simu['spec']*spherical_coef), '.-', lw=1.0, markersize=3.5)\n",
    "    ax[1].plot(simu['k'], (simu['spec']*spherical_coef)/(simu['k']**(-3+eps)), '.-', lw=1.0, markersize=3.5)\n",
    "\n",
    "    slope = np.gradient(np.log((simu[\"spec\"]*spherical_coef)[sl]), np.log(simu['k'][sl]))\n",
    "    ax[2].plot(simu['k'][sl], slope, '.-', markersize=3.5, label=r'$N$ = %2.0f, $D_0$ = %2.2e' % (simu['N'], simu['D0']))\n",
    "ax[0].plot(simu['k'],10e-3*simu['k']**(-3+eps), 'k--'); ax[0].annotate(r'$k^{-3+\\epsilon}$', xy=(30, 0.5e-4), xycoords='data', size='16', color='k')\n",
    "ax[2].plot(simu['k'], np.full_like(simu['k'], (-3.0+eps), dtype=float), 'k-', label=r'$-3+\\epsilon$')\n",
    "ax[2].plot(simu['k'], np.full_like(simu['k'], (-3.0), dtype=float), '--', label=r'$-3$', color='gray')\n",
    "\n",
    "ax[0].axvspan(3.0, 4.0, facecolor='purple', alpha=0.15)\n",
    "ax[0].text(3.5, 10e-8, \"Forcing\", {'color': 'black', 'fontsize': 13},horizontalalignment='center',verticalalignment='center',rotation=90,clip_on=False)\n",
    "ax[0].set(xscale='log', yscale='log', xlabel=r'$k$', ylabel=r'$S^2(k)$', title=r'Scalar spectrum'); ax[0].grid()\n",
    "ax[1].set(xscale='log', yscale='log', xlabel=r'$k$', ylabel=r'$S^2(k)/k^{-3+\\epsilon}$', title=r'Compensated scalar spectrum'); ax[1].grid()\n",
    "ax[2].set(xscale='log', yscale='linear', title='Slope of the scalar spectrum', xlabel=r'$k$', ylabel=r'$d\\ [\\ln(S^2)]/d\\ \\ln (k)$'); ax[2].grid()\n",
    "ax[2].set(ylim=[-4.5,-1.5])\n",
    "#ax[1].set(ylim=[10e-7,5e-3])\n",
    "lgd = ax[2].legend(bbox_to_anchor=(1.05, 1), loc='upper left')\n",
    "\n",
    "# pp = PdfPages('../Images/Scalar/spec_scalar_Sc500_diff_D0.pdf')\n",
    "# pp.savefig(bbox_extra_artists=(lgd, ), bbox_inches='tight')\n",
    "# pp.close()\n",
    "\n",
    "plt.show()"
   ]
  },
  {
   "cell_type": "code",
   "execution_count": null,
   "metadata": {},
   "outputs": [],
   "source": [
    "for simu in simulations :\n",
    "    print(np.sum(4.0*np.pi*simu['k']**2/simu['nb_of_modes']*simu['spec']))"
   ]
  },
  {
   "cell_type": "markdown",
   "metadata": {},
   "source": [
    "# 2-point time correlations"
   ]
  },
  {
   "cell_type": "code",
   "execution_count": null,
   "metadata": {},
   "outputs": [],
   "source": [
    "fig, ax = plt.subplots(nrows=1, ncols=1, constrained_layout=True,figsize=(6,3.75))\n",
    "simu = simulations[0]\n",
    "corr = simu['corr']\n",
    "for index,ik in np.ndenumerate(simu['indices_of_k_to_plot']) :\n",
    "    xscaling = simu['k'][ik]**2\n",
    "    ax.plot(simu['t'][0:]*xscaling, corr[0:,ik]/corr[1,ik], '.-', markersize=3.5, label=r'%2.2f' % (simu['k'][ik]), color=colors[index[0]])\n",
    "ax.set(xscale='linear',yscale='linear', xlabel=r'$t k^2$', ylabel=r'$C_2(k, t) \\ / \\ C_2(k,0)$', title=r'$N$ = %2.0f, $D_0$ = %2.2e, $\\kappa$ = %2.2e' % (simu['N'],simu['D0'],simu['diffusivity'])); ax.grid()\n",
    "ax.set(xlim=[0,600],ylim=[1e-1,1.1])\n",
    "ax.legend(bbox_to_anchor=(1.05, 1), loc='upper left',title=r'$k$',fontsize=14, title_fontsize=16)\n",
    "# pp = PdfPages('../Images/Scalar/corr_data_and_fit_eps1_N128_Sc500.pdf')\n",
    "# pp.savefig(bbox_extra_artists=(lgd,), bbox_inches='tight')\n",
    "# pp.close()\n",
    "plt.show()"
   ]
  },
  {
   "cell_type": "code",
   "execution_count": null,
   "metadata": {
    "scrolled": false
   },
   "outputs": [],
   "source": [
    "nb_of_rows = 2\n",
    "nb_of_cols = 4\n",
    "fig, ax = plt.subplots(nrows=nb_of_rows, ncols=nb_of_cols, constrained_layout=True,figsize=(20,8), squeeze=False)\n",
    "for index, simu in np.ndenumerate(simulations[1::]):\n",
    "    i = index[0]\n",
    "    row = i//nb_of_cols; col = i - (row*nb_of_cols)\n",
    "    for ik in simu['indices_of_k_to_plot'] :\n",
    "        xscaling = simu['D0']*simu['k'][ik]**2\n",
    "        #xscaling = 1.0\n",
    "        ax[row,col].plot(simu['t']*xscaling, simu['corr'][:,ik]/simu['corr'][0,ik], '.', label=r'$k$=%2.2f' % (simu['k'][ik]))\n",
    "    ax[row,col].set(xscale='linear',yscale='log', xlabel=r'$D_0 t k^2$', title=r'$N$ = %2.0f, $D_0$ = %2.2e' % (simu['N'],simu['D0'])); ax[row,col].grid()\n",
    "    ax[row,col].set(xlim=[0,12.0])\n",
    "    ax[row,col].legend(loc='upper right')\n",
    "plt.show()"
   ]
  },
  {
   "cell_type": "markdown",
   "metadata": {},
   "source": [
    "# Fit"
   ]
  },
  {
   "cell_type": "code",
   "execution_count": null,
   "metadata": {},
   "outputs": [],
   "source": [
    "def simple_gaussian(x, a, c):   \n",
    "    return np.exp(-a * (x)**2.0 + c) \n",
    "def simple_gaussian_jacobian(x, a, c):   \n",
    "    return np.transpose([-(x**2.0)*np.exp(-a * (x)**2.0 + c), np.exp(-a * (x)**2.0 + c)])\n",
    "\n",
    "def simple_exp(x, a, c):   \n",
    "    return np.exp(-a * x + c) \n",
    "def simple_exp_jacobian(x, a, c):   \n",
    "    return np.transpose([-x*np.exp(-a * x + c), np.exp(-a * x + c)])\n",
    "\n",
    "def linear_fun(x, a, b):   \n",
    "    return (a * x + b) \n",
    "def linear_jacobian(x, a, b):   \n",
    "    return np.transpose([x, np.ones_like(x)])"
   ]
  },
  {
   "cell_type": "code",
   "execution_count": null,
   "metadata": {
    "code_folding": []
   },
   "outputs": [],
   "source": [
    "def try_to_fit(curve_function, xdata, ydata, sigma_ydata=None, jacobian_function=None) :\n",
    "    number_of_params_of_optimization = len(signature(curve_function).parameters)-1\n",
    "    coefficients = np.ndarray(shape=(number_of_params_of_optimization), dtype=float) \n",
    "    covariance_matrix = np.ndarray(shape=(number_of_params_of_optimization, number_of_params_of_optimization), dtype=float) \n",
    "    try :\n",
    "        coefficients, covariance_matrix = curve_fit(curve_function, xdata, ydata, sigma=sigma_ydata, jac=jacobian_function, absolute_sigma=False)\n",
    "    except :\n",
    "        #print('[DEBUG] Failed optimization for ik = ', ik)\n",
    "        coefficients.fill(np.nan); covariance_matrix.fill(np.nan)\n",
    "    return [coefficients, covariance_matrix]"
   ]
  },
  {
   "cell_type": "code",
   "execution_count": null,
   "metadata": {
    "scrolled": true
   },
   "outputs": [],
   "source": [
    "min_coef = 5"
   ]
  },
  {
   "cell_type": "code",
   "execution_count": null,
   "metadata": {
    "code_folding": [
     0
    ],
    "scrolled": true
   },
   "outputs": [],
   "source": [
    "def find_best_fit(data_x, data_y) :\n",
    "    N = len(data_x)\n",
    "    Nmin = N//min_coef\n",
    "    Nmax = N-5\n",
    "    a = 0; b = Nmax\n",
    "    min_slope, min_intercept, r_value, p_value, min_error = stats.linregress(data_x, data_y)\n",
    "    min_param = min_error/len(data_x)\n",
    "    if (Nmin > 0) :\n",
    "        #for i in list(range(0, N-Nmin-1)) :\n",
    "        i = 0 \n",
    "        for j in list(range(i+Nmin, Nmax)) :\n",
    "            new_slope, new_intercept, r_value, p_value, new_error = stats.linregress(data_x[i:j], data_y[i:j])\n",
    "            new_param = new_error/len(data_x[i:j])\n",
    "            if (new_param < min_param) :\n",
    "                min_param = new_param\n",
    "                min_error = new_error; min_slope = new_slope; min_intercept = new_intercept\n",
    "                a = i; b = j\n",
    "    return min_slope, min_intercept, min_error, (b-a+1), a, b"
   ]
  },
  {
   "cell_type": "code",
   "execution_count": null,
   "metadata": {
    "code_folding": [
     0
    ],
    "scrolled": true
   },
   "outputs": [],
   "source": [
    "def find_all_fits(data_x, data_y) :\n",
    "    N = len(data_x)\n",
    "    Nmin = N//min_coef\n",
    "    Nmax = N-5\n",
    "    all_slope = np.zeros(Nmax-Nmin); all_intercept = np.zeros(Nmax-Nmin); all_error = np.zeros(Nmax-Nmin)\n",
    "    if (Nmin > 0) :\n",
    "        #for i in list(range(0, N-Nmin-1)) :\n",
    "        i = 0 \n",
    "        for index, j in np.ndenumerate(list(range(i+Nmin, Nmax))):\n",
    "            all_slope[index], all_intercept[index], r_value, p_value, all_error[index] = stats.linregress(data_x[i:j], data_y[i:j])\n",
    "    return [all_slope, all_intercept, all_error]"
   ]
  },
  {
   "cell_type": "code",
   "execution_count": null,
   "metadata": {
    "scrolled": true
   },
   "outputs": [],
   "source": [
    "tk2_end_fit = 3.5\n",
    "for simu in simulations :\n",
    "    N = len(simu['t']); Nmin = N//min_coef; Nmax = N-5\n",
    "    simu['a'] = np.zeros_like(simu['k'], dtype=float); simu['c'] = np.zeros_like(simu['k'], dtype=float)\n",
    "    simu['a_std_error'] = np.zeros_like(simu['k'], dtype=float); simu['c_std_error'] = np.zeros_like(simu['k'], dtype=float)\n",
    "    a = 1\n",
    "    for ik in list(range(len(simu['k']))) : \n",
    "        if (simu['D0'] == 0) :\n",
    "            b = Nmax\n",
    "        else :\n",
    "            b = np.searchsorted(simu['D0']*simu['t']*(simu['k'][ik]**2), tk2_end_fit)\n",
    "        if (b == 0) : b = Nmax\n",
    "        coef, covar = curve_fit(simple_exp, simu['t'][a:b], simu['corr'][a:b,ik]/simu['corr'][0,ik], jac=simple_exp_jacobian, absolute_sigma=False)\n",
    "        simu['a'][ik] = coef[0]\n",
    "        simu['c'][ik] = coef[1]\n",
    "        simu['a_std_error'][ik], simu['c_std_error'][ik] = np.sqrt(np.diag(covar))"
   ]
  },
  {
   "cell_type": "code",
   "execution_count": null,
   "metadata": {
    "scrolled": true
   },
   "outputs": [],
   "source": [
    "fig, ax = plt.subplots(nrows=1, ncols=2, figsize=(12,4))\n",
    "for simu in simulations :\n",
    "    ax[0].errorbar(simu['k'][5::], (simu['a']/simu['k']**2)[5::], yerr=(simu['a_std_error']/simu['k']**2)[5::])\n",
    "    ax[1].plot(simu['k'], simu['a_std_error']/simu['a'], '.', label=r'%2.2e' % simu['D0'])\n",
    "ax[0].set(xlabel=r'$k$', ylabel=r'$a/k^2$', xscale='log', yscale='linear', title=r'Fitting coef. $a$'); ax[0].grid()\n",
    "ax[1].set(xlabel=r'$k$', ylabel=r'$\\sigma_a/a$', xscale='log', yscale='log', title=r'Error'); ax[1].grid()\n",
    "ax[1].legend(bbox_to_anchor=(1.05, 1), loc='upper left', title=r'$D_0$')\n",
    "plt.show()"
   ]
  },
  {
   "cell_type": "code",
   "execution_count": null,
   "metadata": {},
   "outputs": [],
   "source": [
    "def find_plateau(data) :\n",
    "    N = len(data)\n",
    "    Nmin = N//2\n",
    "    a = 0; b = N-1\n",
    "    minAlign = np.max(data-np.mean(data))/np.float(b-a+1)\n",
    "    for i in list(range(0, N-Nmin-1)) :\n",
    "        for j in list(range(i+Nmin, N-1)) :\n",
    "            newAlign = np.max(data[i:j]-np.mean(data[i:j]))/np.float(j-i+1)\n",
    "            if (newAlign < minAlign) :\n",
    "                minAlign = newAlign\n",
    "                a = i; b = j\n",
    "    return np.mean(data[a:b]), np.std(data[a:b]), (b-a+1), a, b"
   ]
  },
  {
   "cell_type": "code",
   "execution_count": null,
   "metadata": {
    "scrolled": true
   },
   "outputs": [],
   "source": [
    "fig, ax = plt.subplots(nrows=1, ncols=2, figsize=(11,4))\n",
    "for i in range(len(simulations[:])):\n",
    "    simu = simulations[i]\n",
    "    simu['plateau_k_max'] = np.int(((1.47*simu['D0']+simu['diffusivity'])*simu['Te'])**(-0.5))\n",
    "    sl = np.s_[5:np.min([simu['plateau_k_max'],len(simu['k'])-1])]\n",
    "\n",
    "    ax[0].errorbar(simu['k'], simu['a'], yerr=simu['a_std_error'], label=r'%2.2e' % simu['D0'])\n",
    "\n",
    "    simu['plateau_a'] = find_plateau(simu['a'][sl]/(simu['k'][sl]**2))[0]\n",
    "    simu['std_err_plateau_a'] = np.sqrt(np.sum((simu['a'][sl]/(simu['k'][sl]**2)-simu['plateau_a'])**2)/len(simu['k'][sl]-1))\n",
    "    ax[1].errorbar(simu['k'][sl], simu['a'][sl]/(simu['k'][sl]**2), yerr=simu['a_std_error'][sl]/(simu['k'][sl]**2), label=r'$D_0$ = %2.1e; N = %3.0f' % (simu['D0'], simu['N']), color=colors[i])\n",
    "    ax[1].plot(simu['k'][sl], np.full_like(simu['k'][sl], simu['plateau_a']), '--', color=colors[i])\n",
    "\n",
    "ax[0].plot(simu['k'], 5e-4*simu['k']**2, 'k--')\n",
    "ax[0].annotate(r'$k^2$', xy=(40, 0.3), xycoords='data', size='16')\n",
    "ax[0].set(xscale='log', yscale='log', xlabel=r'$k$', ylabel=r'$a$'); ax[0].grid()\n",
    "#ax.set(ylim=[5e2,10e6])\n",
    "ax[1].set(xscale='log', yscale='linear', xlabel=r'$k$', ylabel=r'$a/k^2$'); ax[1].grid()\n",
    "lgd = ax[1].legend(bbox_to_anchor=(1.05, 1), loc='upper left')\n",
    "\n",
    "# pp = PdfPages('../Images/Scalar/corr_fit_vs_k_Sc500_diff_D0.pdf')\n",
    "# pp.savefig(bbox_extra_artists=(lgd,), bbox_inches='tight')\n",
    "# pp.close()\n",
    "\n",
    "plt.show()"
   ]
  },
  {
   "cell_type": "code",
   "execution_count": null,
   "metadata": {},
   "outputs": [],
   "source": [
    "fig, ax = plt.subplots(nrows=1, ncols=1, figsize=(5,4))\n",
    "\n",
    "for i in range(len(simulations)):\n",
    "    simu = simulations[i]\n",
    "    ax.plot(simu['k'], (simu['a'])**(-1.0), '.-', label=r'%2.2e' % simu['D0'], color=colors[i])\n",
    "    ax.plot(simu['k'], simu['Te']*np.ones_like(simu['k']), 'k-')\n",
    "ax.set(title='Decorrelation time scale', xscale='log', yscale='log', xlabel=r'$k$', ylabel=r'$T_d = a^{-1}$'); ax.grid()\n",
    "lgd = ax.legend(bbox_to_anchor=(1.05, 1), loc='upper left', title=r'$D_0$', title_fontsize=12)\n",
    "# pp = PdfPages('../Images/Scalar/corr_time_vs_k_Sc500_diff_D0.pdf')\n",
    "# pp.savefig(bbox_extra_artists=(lgd,), bbox_inches='tight')\n",
    "# pp.close()\n",
    "plt.show()"
   ]
  },
  {
   "cell_type": "code",
   "execution_count": null,
   "metadata": {
    "scrolled": true
   },
   "outputs": [],
   "source": [
    "fig, ax = plt.subplots(nrows=1, ncols=1, figsize=(5,4))\n",
    "sl = np.s_[:]\n",
    "x = np.array([simu['D0']/simu['diffusivity'] for simu in simulations[sl]])\n",
    "y = [(simu['plateau_a']/simu['diffusivity']) for simu in simulations[sl]]\n",
    "yerr = [(simu['std_err_plateau_a']/simu['diffusivity']) for simu in simulations[sl]]\n",
    "ax.errorbar(x,y, yerr=yerr, ls='', ms=3, elinewidth=2.5, capsize=5, color='k')\n",
    "ax.set(xlabel=r'$D_0/\\kappa$', ylabel=r'$a/(\\kappa k^2)$', xscale='linear', yscale='linear'); ax.grid()\n",
    "\n",
    "#result_lin_fit = stats.linregress(x, y)\n",
    "coef, covar = curve_fit(linear_fun, x, y, sigma = yerr, jac=linear_jacobian, absolute_sigma=False)\n",
    "[slope, intercept]=coef; [slope_stderr,intercept_stderr]=np.sqrt(np.diag(covar))\n",
    "ax.plot(x, intercept + slope*x, '--', label='fitted line', color='k', lw=1)\n",
    "ax.text(1.0, 0.2, 'Slope = %2.3f $\\pm$ %2.3f \\n Intercept = %1.5f $\\pm$ %1.5f' % (slope, slope_stderr, intercept, intercept_stderr), {'color': 'k', 'fontsize': 12}, va=\"top\", ha=\"right\", transform=plt.gca().transAxes)\n",
    "# pp = PdfPages('../Images/Scalar/corr_fit_vs_D0_eps1_Sc500_diff_D0.pdf')\n",
    "# pp.savefig(bbox_inches='tight')\n",
    "# pp.close()\n",
    "plt.show()"
   ]
  },
  {
   "cell_type": "markdown",
   "metadata": {},
   "source": [
    "# Decorrelation at large wave numbers"
   ]
  },
  {
   "cell_type": "code",
   "execution_count": null,
   "metadata": {},
   "outputs": [],
   "source": [
    "# critical wave number\n",
    "fig, ax = plt.subplots(nrows=1, ncols=1, figsize=(5,4))\n",
    "x = np.array([simu['D0'] for simu in simulations])\n",
    "y = np.array([simu['plateau_k_max'] for simu in simulations])\n",
    "ax.plot(x,y, marker='.')\n",
    "ax.set(xlabel=r'$D_0$', ylabel=r'$k_{cr}$'); ax.grid()\n"
   ]
  },
  {
   "cell_type": "code",
   "execution_count": null,
   "metadata": {},
   "outputs": [],
   "source": [
    "fig, ax = plt.subplots(nrows=1, ncols=3, constrained_layout=True,figsize=(16,4), squeeze=False)\n",
    "for index, simu in np.ndenumerate(simulations[6:]):\n",
    "    i = index[0]\n",
    "    row = i//4; col = i - (row*4)\n",
    "    kmax = np.max(simu['k'])-6\n",
    "    kmin = simu['plateau_k_max']\n",
    "    step = round((kmax - kmin)/nb_of_curves)\n",
    "    if (kmax > kmin) :\n",
    "        simu['indices_of_k_to_plot2'] = np.arange(kmin,kmax,step, dtype=np.int16)\n",
    "        for ik in simu['indices_of_k_to_plot2'] :\n",
    "            xscaling = simu['D0']\n",
    "            #xscaling = 1.0\n",
    "            ax[row,col].plot(simu['t']*xscaling, simu['corr'][:,ik]/simu['corr'][0,ik], '.-', ms=3.5, label=r'$k$=%2.2f' % (simu['k'][ik]))\n",
    "        ax[row,col].axvline(x=simu['D0']*simu['Te'], color='k')\n",
    "        ax[row,col].legend(loc='upper right')\n",
    "    ax[row,col].set(xscale='linear',yscale='log', xlabel=r'$D_0 t $', title=r'$N$ = %2.0f, $D_0$ = %2.2e' % (simu['N'],simu['D0'])); \n",
    "    ax[row,col].grid()\n",
    "    ax[row,col].set(xlim=[0,0.0004],ylim=[10e-6,1.0])\n",
    "plt.show()"
   ]
  },
  {
   "cell_type": "code",
   "execution_count": null,
   "metadata": {},
   "outputs": [],
   "source": [
    "fig, ax = plt.subplots(nrows=1, ncols=3, constrained_layout=True,figsize=(16,4), squeeze=False)\n",
    "for index, simu in np.ndenumerate(simulations[6:]):\n",
    "    i = index[0]\n",
    "    row = i//4; col = i - (row*4)\n",
    "    kmax = np.max(simu['k'])-6\n",
    "    kmin = simu['plateau_k_max']\n",
    "    step = round((kmax - kmin)/nb_of_curves)\n",
    "    if (kmax > kmin) :\n",
    "        simu['indices_of_k_to_plot2'] = np.arange(kmin,kmax,step, dtype=np.int16)\n",
    "        for ik in simu['indices_of_k_to_plot2'] :\n",
    "            xscaling = simu['D0']*simu['k'][ik]**2\n",
    "            #xscaling = 1.0\n",
    "            ax[row,col].plot(simu['t']*xscaling, simu['corr'][:,ik]/simu['corr'][0,ik], '-', label=r'$k$=%2.0f' % (simu['k'][ik]))\n",
    "        ax[row,col].legend(loc='upper right')\n",
    "    ax[row,col].set(xscale='linear',yscale='log', xlabel=r'$D_0 t k^2$', title=r'$N$ = %2.0f, $D_0$ = %2.2e' % (simu['N'],simu['D0'])); \n",
    "    ax[row,col].grid()\n",
    "    ax[row,col].set(xlim=[0,12])\n",
    "plt.show()"
   ]
  },
  {
   "cell_type": "code",
   "execution_count": null,
   "metadata": {},
   "outputs": [],
   "source": [
    "fig, ax = plt.subplots(nrows=1, ncols=3, constrained_layout=True,figsize=(14,4), squeeze=False)\n",
    "for index, simu in np.ndenumerate(simulations[6:]):\n",
    "    i = index[0]\n",
    "    row = i//4; col = i - (row*4)\n",
    "    kmax = np.max(simu['k'])-6\n",
    "    kmin = simu['plateau_k_max']\n",
    "    step = round((kmax - kmin)/nb_of_curves)\n",
    "    if (kmax > kmin) :\n",
    "        simu['indices_of_k_to_plot2'] = np.arange(kmin,kmax,step, dtype=np.int16)\n",
    "        for ik in simu['indices_of_k_to_plot'] :\n",
    "            xscaling = simu['D0']*simu['k'][ik]\n",
    "            #xscaling = 1.0\n",
    "            ax[row,col].plot(simu['t']*xscaling, simu['corr'][:,ik]/simu['corr'][0,ik], '-', label=r'%2.0f' % (simu['k'][ik]))\n",
    "        ax[row,col].legend(loc='upper right', fontsize=12, title=r'$k$')\n",
    "    ax[row,col].set(xscale='linear',yscale='log', xlabel=r'$D_0 t k$', title=r'$N$ = %2.0f, $D_0$ = %2.2e' % (simu['N'],simu['D0'])); \n",
    "    ax[row,col].grid()\n",
    "    ax[row,col].set(xlim=[0,0.08], ylim=[1e-6,1.1])\n",
    "# pp = PdfPages('../Images/Scalar/non_kraichnan_corr_Sc500.pdf')\n",
    "# pp.savefig(bbox_inches='tight')\n",
    "# pp.close()\n",
    "plt.show()"
   ]
  },
  {
   "cell_type": "markdown",
   "metadata": {},
   "source": [
    "# Physical fields"
   ]
  },
  {
   "cell_type": "code",
   "execution_count": null,
   "metadata": {
    "scrolled": true
   },
   "outputs": [],
   "source": [
    "import h5py\n",
    "\n",
    "# Read scalar fields\n",
    "for index, simu in np.ndenumerate(simulations[:]):\n",
    "    try :\n",
    "        file = h5py.File(common_folder + simu['folder'] + 'run1/' + 'ScalarS1_' + \"%06d\" % simu['field_ite'] + '.h5', 'r')\n",
    "        simu['scal_field'] = file['ScalarS1'][:,:] # copy the file data into a numpy array\n",
    "        file.close()\n",
    "    except : \n",
    "        simu['scal_field'] = np.zeros((simu['N'],simu['N'],simu['N']))"
   ]
  },
  {
   "cell_type": "code",
   "execution_count": null,
   "metadata": {
    "scrolled": false
   },
   "outputs": [],
   "source": [
    "nb_of_rows = 3\n",
    "nb_of_columns = 3\n",
    "table = np.arange(len(simulations)).reshape(nb_of_rows,nb_of_columns)\n",
    "\n",
    "fig, ax = plt.subplots(nrows=nb_of_rows, ncols=nb_of_columns, figsize=(nb_of_columns*4,nb_of_rows*4), squeeze=False, constrained_layout=True)\n",
    "x_cut=30\n",
    "\n",
    "for index, isimu in np.ndenumerate(table):\n",
    "    if (isimu < len(simulations)) : \n",
    "        simu = simulations[isimu]\n",
    "        x_scal = 2.0*np.pi/simu['N']*np.arange(0,simu['N'])\n",
    "        im = ax[index].pcolormesh(x_scal, x_scal, simu['scal_field'][x_cut, :,:], cmap='jet')\n",
    "        ax[index].set(xscale='linear', yscale='linear', title=r'$N = $ %2.0f, $D_0 = $ %2.2e' % (simu['N'], simu['D0']))\n",
    "        fig.colorbar(im, ax=ax[index], aspect=100)\n",
    "        if (index[0] == 1) : ax[index].set(xlabel=r'$y$')\n",
    "        if (index[1] == 0) : ax[index].set(ylabel=r'$z$')\n",
    "#plt.savefig(\"../Images/Scalar/fields_eps1_N128_diff_D0.png\", dpi=150, format=\"png\")\n",
    "plt.show()"
   ]
  },
  {
   "cell_type": "code",
   "execution_count": null,
   "metadata": {
    "scrolled": true
   },
   "outputs": [],
   "source": [
    "fig, ax = plt.subplots(nrows=1, ncols=1, figsize=(5,5))\n",
    "#plot histogram\n",
    "nb_of_bins=50\n",
    "simu = simulations[-1]\n",
    "ax.hist(x=simu['scal_field'].flatten(), bins=nb_of_bins, histtype='step', density=True, log=True, align='mid', label='Scalar %01d' % (index[0] + 1))\n",
    "#ax.legend(bbox_to_anchor=(1.05, 1), loc='upper left')\n",
    "ax.set(title='PDF of scalar'); ax.grid()\n",
    "plt.show()"
   ]
  },
  {
   "cell_type": "code",
   "execution_count": null,
   "metadata": {
    "scrolled": true
   },
   "outputs": [],
   "source": []
  },
  {
   "cell_type": "code",
   "execution_count": null,
   "metadata": {
    "scrolled": true
   },
   "outputs": [],
   "source": []
  }
 ],
 "metadata": {
  "kernelspec": {
   "display_name": "Python 3",
   "language": "python",
   "name": "python3"
  },
  "language_info": {
   "codemirror_mode": {
    "name": "ipython",
    "version": 3
   },
   "file_extension": ".py",
   "mimetype": "text/x-python",
   "name": "python",
   "nbconvert_exporter": "python",
   "pygments_lexer": "ipython3",
   "version": "3.6.8"
  },
  "toc": {
   "base_numbering": 1,
   "nav_menu": {},
   "number_sections": true,
   "sideBar": true,
   "skip_h1_title": false,
   "title_cell": "Table of Contents",
   "title_sidebar": "Contents",
   "toc_cell": false,
   "toc_position": {
    "height": "calc(100% - 180px)",
    "left": "10px",
    "top": "150px",
    "width": "165px"
   },
   "toc_section_display": true,
   "toc_window_display": true
  }
 },
 "nbformat": 4,
 "nbformat_minor": 2
}
