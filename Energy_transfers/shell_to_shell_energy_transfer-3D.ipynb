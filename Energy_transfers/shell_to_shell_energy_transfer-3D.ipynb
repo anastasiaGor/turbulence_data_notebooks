{
 "cells": [
  {
   "cell_type": "markdown",
   "metadata": {},
   "source": [
    "# Import"
   ]
  },
  {
   "cell_type": "code",
   "execution_count": 1,
   "metadata": {},
   "outputs": [],
   "source": [
    "import numpy as np\n",
    "from matplotlib.backends.backend_pdf import PdfPages\n",
    "import matplotlib.pyplot as plt\n",
    "from cycler import cycler\n",
    "from mpl_toolkits.mplot3d import Axes3D "
   ]
  },
  {
   "cell_type": "code",
   "execution_count": 2,
   "metadata": {},
   "outputs": [
    {
     "data": {
      "text/html": [
       "<style>.container { width:80% !important; }</style>"
      ],
      "text/plain": [
       "<IPython.core.display.HTML object>"
      ]
     },
     "metadata": {},
     "output_type": "display_data"
    }
   ],
   "source": [
    "%matplotlib notebook\n",
    "from IPython.core.display import display, HTML\n",
    "display(HTML(\"<style>.container { width:80% !important; }</style>\"))"
   ]
  },
  {
   "cell_type": "code",
   "execution_count": null,
   "metadata": {},
   "outputs": [],
   "source": []
  },
  {
   "cell_type": "markdown",
   "metadata": {},
   "source": [
    "# Reading files"
   ]
  },
  {
   "cell_type": "code",
   "execution_count": 3,
   "metadata": {},
   "outputs": [
    {
     "ename": "FileNotFoundError",
     "evalue": "[Errno 2] No such file or directory: '/home/gorbunov8a/CODE/test_case/shell_to_shell_transfer_ikM=000001_ite=000000.table'",
     "output_type": "error",
     "traceback": [
      "\u001b[0;31m---------------------------------------------------------------------------\u001b[0m",
      "\u001b[0;31mFileNotFoundError\u001b[0m                         Traceback (most recent call last)",
      "\u001b[0;32m<ipython-input-3-3525b0db320e>\u001b[0m in \u001b[0;36m<module>\u001b[0;34m\u001b[0m\n\u001b[1;32m      9\u001b[0m     \u001b[0mfile\u001b[0m \u001b[0;34m=\u001b[0m \u001b[0mfolder\u001b[0m \u001b[0;34m+\u001b[0m \u001b[0mfile_type\u001b[0m \u001b[0;34m+\u001b[0m \u001b[0;34m\"ikM=\"\u001b[0m \u001b[0;34m\"%06d\"\u001b[0m \u001b[0;34m%\u001b[0m \u001b[0;34m(\u001b[0m\u001b[0mikM\u001b[0m \u001b[0;34m+\u001b[0m\u001b[0;36m1\u001b[0m\u001b[0;34m)\u001b[0m \u001b[0;34m+\u001b[0m \u001b[0;34m\"_ite=\"\u001b[0m \u001b[0;34m+\u001b[0m \u001b[0;34m\"%06d\"\u001b[0m \u001b[0;34m%\u001b[0m \u001b[0miteration\u001b[0m \u001b[0;34m+\u001b[0m \u001b[0;34m\".table\"\u001b[0m\u001b[0;34m\u001b[0m\u001b[0;34m\u001b[0m\u001b[0m\n\u001b[1;32m     10\u001b[0m     \u001b[0mfile_data\u001b[0m \u001b[0;34m=\u001b[0m \u001b[0;34m[\u001b[0m\u001b[0;34m]\u001b[0m\u001b[0;34m\u001b[0m\u001b[0;34m\u001b[0m\u001b[0m\n\u001b[0;32m---> 11\u001b[0;31m     \u001b[0;32mfor\u001b[0m \u001b[0mline\u001b[0m \u001b[0;32min\u001b[0m \u001b[0mopen\u001b[0m\u001b[0;34m(\u001b[0m\u001b[0mfile\u001b[0m\u001b[0;34m)\u001b[0m \u001b[0;34m:\u001b[0m\u001b[0;34m\u001b[0m\u001b[0;34m\u001b[0m\u001b[0m\n\u001b[0m\u001b[1;32m     12\u001b[0m         \u001b[0mtemp_array_line\u001b[0m \u001b[0;34m=\u001b[0m \u001b[0;34m[\u001b[0m\u001b[0;34m]\u001b[0m\u001b[0;34m\u001b[0m\u001b[0;34m\u001b[0m\u001b[0m\n\u001b[1;32m     13\u001b[0m         \u001b[0;32mif\u001b[0m \u001b[0mline\u001b[0m\u001b[0;34m[\u001b[0m\u001b[0;36m0\u001b[0m\u001b[0;34m]\u001b[0m \u001b[0;34m==\u001b[0m \u001b[0;34m'#'\u001b[0m \u001b[0;34m:\u001b[0m          \u001b[0;31m#skip commented lines\u001b[0m\u001b[0;34m\u001b[0m\u001b[0;34m\u001b[0m\u001b[0m\n",
      "\u001b[0;31mFileNotFoundError\u001b[0m: [Errno 2] No such file or directory: '/home/gorbunov8a/CODE/test_case/shell_to_shell_transfer_ikM=000001_ite=000000.table'"
     ]
    }
   ],
   "source": [
    "#folder = \"/home/gorbunov8a/data/shell_to_shell/Rl60_N128/\"\n",
    "folder = \"/home/gorbunov8a/CODE/test_case/\"\n",
    "#folder = \"/home/gorbunov8a/data/shell_to_shell/Rl60_N128/test_time/\"\n",
    "file_type = \"shell_to_shell_transfer_\"\n",
    "iteration = 0\n",
    "k_size=22\n",
    "table = []\n",
    "for ikM in list(range(k_size)) :\n",
    "    file = folder + file_type + \"ikM=\" \"%06d\" % (ikM +1) + \"_ite=\" + \"%06d\" % iteration + \".table\"\n",
    "    file_data = []\n",
    "    for line in open(file) :\n",
    "        temp_array_line = []\n",
    "        if line[0] == '#' :          #skip commented lines\n",
    "            continue\n",
    "        else :\n",
    "            temp_array_line=list(map(float, line.split( )))\n",
    "            file_data.append(temp_array_line)  \n",
    "    table.append(file_data)\n",
    "T = np.array(table)\n",
    "del file_data"
   ]
  },
  {
   "cell_type": "code",
   "execution_count": null,
   "metadata": {},
   "outputs": [],
   "source": [
    "T = T[:, :-1, :-1]"
   ]
  },
  {
   "cell_type": "code",
   "execution_count": null,
   "metadata": {},
   "outputs": [],
   "source": [
    "T.shape"
   ]
  },
  {
   "cell_type": "code",
   "execution_count": null,
   "metadata": {},
   "outputs": [],
   "source": []
  },
  {
   "cell_type": "code",
   "execution_count": null,
   "metadata": {},
   "outputs": [],
   "source": [
    "# read the spectrum\n",
    "file_type = \"vel_spec_kstar_ite=\"\n",
    "nb = 0\n",
    "\n",
    "file = folder + file_type + \"%06d\" % nb + \".table\"\n",
    "file_data = []\n",
    "for line in open(file) :\n",
    "    temp_array_line = []\n",
    "    if line[0] == '#' :          #skip commented lines\n",
    "        continue\n",
    "    else :\n",
    "        temp_array_line=list(map(float, line.split( )))\n",
    "        file_data.append(temp_array_line)  \n",
    "spec_table = np.array(file_data)\n",
    "k = spec_table[:,0]\n",
    "nb_of_modes = spec_table[:,1]\n",
    "Ek = spec_table[:,2]\n",
    "del file_data"
   ]
  },
  {
   "cell_type": "code",
   "execution_count": null,
   "metadata": {},
   "outputs": [],
   "source": [
    "k.shape"
   ]
  },
  {
   "cell_type": "markdown",
   "metadata": {},
   "source": [
    "# Plot appereance"
   ]
  },
  {
   "cell_type": "code",
   "execution_count": null,
   "metadata": {},
   "outputs": [],
   "source": [
    "colors = ['#1f77b4', '#ff7f0e', '#2ca02c', '#d62728', '#9467bd', '#8c564b', '#e377c2', '#7f7f7f', '#bcbd22', '#17becf']\n",
    "plt.rc('axes', prop_cycle=cycler(cycler(linestyle=['-', '--', ':', '-.'])*cycler(color=colors)))\n",
    "# plt.rc('axes', labelsize=20)  \n",
    "# plt.rc('axes', titlesize=20)  \n",
    "# plt.rc('legend', fontsize=16)"
   ]
  },
  {
   "cell_type": "markdown",
   "metadata": {},
   "source": [
    "# Plot spectrum"
   ]
  },
  {
   "cell_type": "code",
   "execution_count": null,
   "metadata": {},
   "outputs": [],
   "source": [
    "fig, ax = plt.subplots(constrained_layout=True)\n",
    "\n",
    "ax.plot(k, Ek*k**(5.0/3.0), '-o')\n",
    "ax.set(xscale='log', yscale='log', xlabel='k', ylabel=r'$E_k k^{5/3}$', title='Compensated spectrum'); ax.grid()\n",
    "\n",
    "plt.show()"
   ]
  },
  {
   "cell_type": "markdown",
   "metadata": {},
   "source": [
    "# Plot shell-to-shell energy transfer"
   ]
  },
  {
   "cell_type": "code",
   "execution_count": null,
   "metadata": {
    "scrolled": false
   },
   "outputs": [],
   "source": [
    "fig, ax = plt.subplots(figsize=(6,5))\n",
    "vmax, vmin = np.max(T), np.min(T)\n",
    "norm = matplotlib.colors.Normalize(vmax=vmax, vmin=vmin)\n",
    "\n",
    "im = ax.pcolormesh(k, k, T[7,:,:], cmap='jet', norm=norm)\n",
    "ax.set(xlabel=r'$k_B$ - receiver', ylabel=r'$k_A$ - giver', xscale='log', yscale='log')\n",
    "fig.colorbar(im)\n",
    "ax.set_aspect('equal', 'datalim')\n",
    "plt.show()"
   ]
  },
  {
   "cell_type": "code",
   "execution_count": null,
   "metadata": {},
   "outputs": [],
   "source": [
    "k[7]"
   ]
  },
  {
   "cell_type": "code",
   "execution_count": null,
   "metadata": {
    "scrolled": false
   },
   "outputs": [],
   "source": [
    "fig, ax = plt.subplots(figsize=(6,5))\n",
    "\n",
    "total_transfer = np.sum(T[:,:,:], axis=(0,1))\n",
    "\n",
    "ax.plot(k, total_transfer*4.0*pi*(k**2.0)/nb_of_modes, '.-')\n",
    "ax.set(xlabel='k', ylabel=r'$T(k)$', title='Total energy transfer'); ax.grid()\n",
    "ax.set(xscale='log', yscale='linear')\n",
    "plt.show()"
   ]
  },
  {
   "cell_type": "code",
   "execution_count": null,
   "metadata": {},
   "outputs": [],
   "source": [
    "total_transfer"
   ]
  },
  {
   "cell_type": "code",
   "execution_count": null,
   "metadata": {},
   "outputs": [],
   "source": [
    "mediator_contribution = np.zeros(shape=[k.shape[0],k.shape[0]], dtype=float) \n",
    "for ikB in list(range(k.shape[0])) : \n",
    "    for ikM in list(range(k.shape[0])) :\n",
    "        mediator_contribution[ikB, ikM] = np.sum(T[ikM,:,ikB])/total_transfer[ikB]\n",
    "    "
   ]
  },
  {
   "cell_type": "code",
   "execution_count": null,
   "metadata": {},
   "outputs": [],
   "source": [
    "fig, ax = plt.subplots(figsize=(6,5))\n",
    "ik_cut=6\n",
    "im = ax.pcolormesh(k[ik_cut::], k[ik_cut::], mediator_contribution[ik_cut::,ik_cut::], cmap='jet')\n",
    "ax.set(xlabel=r'$k_M$ - mediator', ylabel=r'$k_B$ - receiver', xscale='log', yscale='log')\n",
    "fig.colorbar(im)\n",
    "ax.set_aspect('equal', 'datalim')\n",
    "plt.show()"
   ]
  },
  {
   "cell_type": "code",
   "execution_count": null,
   "metadata": {},
   "outputs": [],
   "source": [
    "np.sum(mediator_contribution, axis=1)"
   ]
  },
  {
   "cell_type": "code",
   "execution_count": null,
   "metadata": {},
   "outputs": [],
   "source": []
  }
 ],
 "metadata": {
  "kernelspec": {
   "display_name": "Python 3",
   "language": "python",
   "name": "python3"
  },
  "language_info": {
   "codemirror_mode": {
    "name": "ipython",
    "version": 3
   },
   "file_extension": ".py",
   "mimetype": "text/x-python",
   "name": "python",
   "nbconvert_exporter": "python",
   "pygments_lexer": "ipython3",
   "version": "3.6.8"
  },
  "toc": {
   "base_numbering": 1,
   "nav_menu": {},
   "number_sections": true,
   "sideBar": true,
   "skip_h1_title": false,
   "title_cell": "Table of Contents",
   "title_sidebar": "Contents",
   "toc_cell": false,
   "toc_position": {},
   "toc_section_display": true,
   "toc_window_display": false
  }
 },
 "nbformat": 4,
 "nbformat_minor": 2
}
