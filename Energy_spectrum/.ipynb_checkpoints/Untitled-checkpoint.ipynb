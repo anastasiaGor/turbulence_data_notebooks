{
 "cells": [
  {
   "cell_type": "code",
   "execution_count": 2,
   "metadata": {},
   "outputs": [],
   "source": [
    "def read_file(file) :\n",
    "    print('reading file: ' + file)\n",
    "    file_data = []\n",
    "    for line in open(file) :\n",
    "        temp_array_line = []\n",
    "        if line[0] == '#' :          #skip commented lines\n",
    "            continue\n",
    "        else :\n",
    "            temp_array_line=list(map(float, line.split( )))\n",
    "            file_data.append(temp_array_line)  \n",
    "    file_numpy_table = np.array(file_data)     # transform python list into numpy array\n",
    "    time = file_numpy_table[:,0]\n",
    "    time_data = file_numpy_table[:,1]\n",
    "    return [time, time_data]"
   ]
  },
  {
   "cell_type": "code",
   "execution_count": null,
   "metadata": {},
   "outputs": [],
   "source": []
  }
 ],
 "metadata": {
  "kernelspec": {
   "display_name": "Python 3",
   "language": "python",
   "name": "python3"
  },
  "language_info": {
   "codemirror_mode": {
    "name": "ipython",
    "version": 3
   },
   "file_extension": ".py",
   "mimetype": "text/x-python",
   "name": "python",
   "nbconvert_exporter": "python",
   "pygments_lexer": "ipython3",
   "version": "3.6.8"
  }
 },
 "nbformat": 4,
 "nbformat_minor": 4
}
