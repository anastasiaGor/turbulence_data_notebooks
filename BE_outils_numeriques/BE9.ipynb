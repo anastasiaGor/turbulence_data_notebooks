{
 "cells": [
  {
   "cell_type": "markdown",
   "metadata": {},
   "source": [
    "# Import"
   ]
  },
  {
   "cell_type": "code",
   "execution_count": 1,
   "metadata": {},
   "outputs": [],
   "source": [
    "import numpy as np\n",
    "import matplotlib.pyplot as plt\n",
    "from scipy.integrate import odeint\n",
    "from scipy.optimize import fsolve\n",
    "from numpy import linalg"
   ]
  },
  {
   "cell_type": "code",
   "execution_count": 2,
   "metadata": {},
   "outputs": [],
   "source": [
    "pi = np.pi"
   ]
  },
  {
   "cell_type": "code",
   "execution_count": 3,
   "metadata": {},
   "outputs": [],
   "source": [
    "%matplotlib widget"
   ]
  },
  {
   "cell_type": "markdown",
   "metadata": {},
   "source": [
    "# Pendule"
   ]
  },
  {
   "cell_type": "markdown",
   "metadata": {},
   "source": [
    "Les constantes:"
   ]
  },
  {
   "cell_type": "code",
   "execution_count": 4,
   "metadata": {},
   "outputs": [],
   "source": [
    "dt=0.005 #pas de temps pendule\n",
    "L=1. #longueur pendule\n",
    "g=10.  #gravite\n",
    "c_amort=0.\n",
    "T_fin=30.\n",
    "n=int(T_fin/dt) #n=14 avec T_fin=3"
   ]
  },
  {
   "cell_type": "markdown",
   "metadata": {},
   "source": [
    "Fonction exprimant les deux derivees:"
   ]
  },
  {
   "cell_type": "code",
   "execution_count": 5,
   "metadata": {},
   "outputs": [],
   "source": [
    "def deriv_pendule(V, t): \n",
    "    return np.array([V[1],-c_amort*V[1]-g/L*np.sin(V[0])])"
   ]
  },
  {
   "cell_type": "code",
   "execution_count": 6,
   "metadata": {},
   "outputs": [],
   "source": [
    "conditions_initiales_pendule = [pi/2, 0]"
   ]
  },
  {
   "cell_type": "markdown",
   "metadata": {},
   "source": [
    "## Méthode d'Euler explicite"
   ]
  },
  {
   "cell_type": "markdown",
   "metadata": {},
   "source": [
    "Vecteur de la solution [angle $\\theta$, vitesse $\\dot{\\theta}$]"
   ]
  },
  {
   "cell_type": "code",
   "execution_count": 7,
   "metadata": {},
   "outputs": [],
   "source": [
    "Sol = np.zeros([2,n]) \n",
    "Sol[:,0] = conditions_initiales_pendule"
   ]
  },
  {
   "cell_type": "code",
   "execution_count": 8,
   "metadata": {},
   "outputs": [],
   "source": [
    "for k in range(n-1):\n",
    "    t = k*dt\n",
    "    Sol[:,k+1]=Sol[:,k]+dt*deriv_pendule(Sol[:,k], t)"
   ]
  },
  {
   "cell_type": "code",
   "execution_count": 9,
   "metadata": {},
   "outputs": [
    {
     "data": {
      "application/vnd.jupyter.widget-view+json": {
       "model_id": "40ed2088f0d84c768830b750b336aba5",
       "version_major": 2,
       "version_minor": 0
      },
      "text/plain": [
       "Canvas(toolbar=Toolbar(toolitems=[('Home', 'Reset original view', 'home', 'home'), ('Back', 'Back to previous …"
      ]
     },
     "metadata": {},
     "output_type": "display_data"
    }
   ],
   "source": [
    "fig, ax = plt.subplots(nrows=1, ncols=1, constrained_layout=True,figsize=(5,3.5))\n",
    "x_pendule=np.linspace(0,T_fin,n)\n",
    "ax.plot(x_pendule,Sol[0,:], '-', label='Angle')\n",
    "ax.plot(x_pendule,Sol[1,:], '-', label='Vitesse')\n",
    "ax.legend()\n",
    "ax.set(title='Euler explicite', xlabel='time', ylabel=r'$\\theta$'); ax.grid()\n",
    "plt.show()"
   ]
  },
  {
   "cell_type": "markdown",
   "metadata": {},
   "source": [
    "## Méthode de Heun (Euler Cauchy ou RK2)"
   ]
  },
  {
   "cell_type": "code",
   "execution_count": 10,
   "metadata": {},
   "outputs": [],
   "source": [
    "Sol_RK2=np.zeros([2,n]) \n",
    "Sol_RK2[:,0]=conditions_initiales_pendule"
   ]
  },
  {
   "cell_type": "code",
   "execution_count": 11,
   "metadata": {},
   "outputs": [],
   "source": [
    "for k in range(0,n-1):\n",
    "    t = k*dt\n",
    "    Sol_inter=Sol_RK2[:,k]+dt*deriv_pendule(Sol_RK2[:,k], t)\n",
    "    Sol_RK2[:,k+1]=Sol_RK2[:,k]+0.5*dt*(deriv_pendule(Sol_RK2[:,k], t)+deriv_pendule(Sol_inter, t))"
   ]
  },
  {
   "cell_type": "code",
   "execution_count": 12,
   "metadata": {},
   "outputs": [
    {
     "data": {
      "application/vnd.jupyter.widget-view+json": {
       "model_id": "d58227cbc1c44075b5528b21ef7d87ee",
       "version_major": 2,
       "version_minor": 0
      },
      "text/plain": [
       "Canvas(toolbar=Toolbar(toolitems=[('Home', 'Reset original view', 'home', 'home'), ('Back', 'Back to previous …"
      ]
     },
     "metadata": {},
     "output_type": "display_data"
    }
   ],
   "source": [
    "fig, ax = plt.subplots(nrows=1, ncols=1, constrained_layout=True,figsize=(5,3.5))\n",
    "x_pendule=np.linspace(0,T_fin,n)\n",
    "ax.plot(x_pendule,Sol_RK2[0,:], '-', label='Angle')\n",
    "ax.plot(x_pendule,Sol_RK2[1,:], '-', label='Vitesse')\n",
    "ax.legend()\n",
    "ax.set(title='Heun', xlabel='time', ylabel=r'$\\theta$'); ax.grid()\n",
    "plt.show()"
   ]
  },
  {
   "cell_type": "markdown",
   "metadata": {},
   "source": [
    "## Fonction de scipy odeint"
   ]
  },
  {
   "cell_type": "code",
   "execution_count": 13,
   "metadata": {},
   "outputs": [],
   "source": [
    "t_ode = np.linspace(0,T_fin,n)"
   ]
  },
  {
   "cell_type": "code",
   "execution_count": 14,
   "metadata": {},
   "outputs": [],
   "source": [
    "solution_ode = odeint(deriv_pendule, conditions_initiales_pendule, t_ode)"
   ]
  },
  {
   "cell_type": "code",
   "execution_count": 15,
   "metadata": {},
   "outputs": [
    {
     "data": {
      "application/vnd.jupyter.widget-view+json": {
       "model_id": "c1e36708d68c4c189726c380a1951da6",
       "version_major": 2,
       "version_minor": 0
      },
      "text/plain": [
       "Canvas(toolbar=Toolbar(toolitems=[('Home', 'Reset original view', 'home', 'home'), ('Back', 'Back to previous …"
      ]
     },
     "metadata": {},
     "output_type": "display_data"
    }
   ],
   "source": [
    "fig, ax = plt.subplots(nrows=1, ncols=1, constrained_layout=True,figsize=(5,3.5))\n",
    "ax.plot(t_ode, solution_ode[:,0], label='Angle')\n",
    "ax.plot(t_ode, solution_ode[:,1], label='Vitesse')\n",
    "ax.legend()\n",
    "ax.set(title='odeint', xlabel='time', ylabel=r'$\\theta$'); ax.grid()\n",
    "plt.show()"
   ]
  },
  {
   "cell_type": "markdown",
   "metadata": {},
   "source": [
    "## Comparer les solutions"
   ]
  },
  {
   "cell_type": "code",
   "execution_count": 16,
   "metadata": {
    "jupyter": {
     "source_hidden": true
    }
   },
   "outputs": [
    {
     "data": {
      "application/vnd.jupyter.widget-view+json": {
       "model_id": "bc26ef2f122e478c94ca6ae1f1ef438d",
       "version_major": 2,
       "version_minor": 0
      },
      "text/plain": [
       "Canvas(toolbar=Toolbar(toolitems=[('Home', 'Reset original view', 'home', 'home'), ('Back', 'Back to previous …"
      ]
     },
     "metadata": {},
     "output_type": "display_data"
    }
   ],
   "source": [
    "fig, ax = plt.subplots(nrows=1, ncols=1, constrained_layout=True,figsize=(5,3.5))\n",
    "x_pendule=np.linspace(0,T_fin,n)\n",
    "ax.plot(x_pendule,Sol[0,:], '-', label='Euler explicite')\n",
    "ax.plot(x_pendule,Sol_RK2[0,:], '-', label='RK2')\n",
    "ax.plot(t_ode, solution_ode[:,0], label='odeint')\n",
    "ax.legend()\n",
    "ax.set(title='Comparaison des méthodes', xlabel='time', ylabel=r'$\\theta$'); ax.grid()\n",
    "plt.show()"
   ]
  },
  {
   "cell_type": "markdown",
   "metadata": {},
   "source": [
    "# Épidémie"
   ]
  },
  {
   "cell_type": "code",
   "execution_count": 17,
   "metadata": {},
   "outputs": [],
   "source": [
    "a=0.02\n",
    "b=0.5"
   ]
  },
  {
   "cell_type": "code",
   "execution_count": 18,
   "metadata": {},
   "outputs": [],
   "source": [
    "Tps_final=15.\n",
    "dt=0.02\n",
    "N=int(Tps_final/dt)"
   ]
  },
  {
   "cell_type": "code",
   "execution_count": 19,
   "metadata": {},
   "outputs": [],
   "source": [
    "def f_epidemie(X, t):\n",
    "    Y=np.zeros(2)\n",
    "    Y[0]=-a*X[0]*X[1]\n",
    "    Y[1]=a*X[0]*X[1]-b*X[1]\n",
    "    return Y"
   ]
  },
  {
   "cell_type": "code",
   "execution_count": 20,
   "metadata": {},
   "outputs": [],
   "source": [
    "condtions_initiales_epidemie = [100.0,0.0001]\n",
    "#condtions_initiales_epidemie = [50,50]"
   ]
  },
  {
   "cell_type": "markdown",
   "metadata": {},
   "source": [
    "## Euler explicite"
   ]
  },
  {
   "cell_type": "code",
   "execution_count": 21,
   "metadata": {},
   "outputs": [],
   "source": [
    "Euler = np.zeros([2,N+1])\n",
    "Euler[:,0] = condtions_initiales_epidemie"
   ]
  },
  {
   "cell_type": "code",
   "execution_count": 22,
   "metadata": {},
   "outputs": [],
   "source": [
    "for i in range(N):\n",
    "    t = i*dt\n",
    "    Euler[:,i+1]=Euler[:,i]+dt*f_epidemie(Euler[:,i], t)"
   ]
  },
  {
   "cell_type": "code",
   "execution_count": 23,
   "metadata": {},
   "outputs": [
    {
     "name": "stdout",
     "output_type": "stream",
     "text": [
      "taux finaux : Non contamines= 2.6959912874482823 contamines = 7.479057312703231\n"
     ]
    }
   ],
   "source": [
    "print(\"taux finaux : Non contamines=\", Euler[0,N],\"contamines =\",Euler[1,N])"
   ]
  },
  {
   "cell_type": "code",
   "execution_count": 24,
   "metadata": {},
   "outputs": [
    {
     "data": {
      "application/vnd.jupyter.widget-view+json": {
       "model_id": "40464f996fd240799f482d3addec7989",
       "version_major": 2,
       "version_minor": 0
      },
      "text/plain": [
       "Canvas(toolbar=Toolbar(toolitems=[('Home', 'Reset original view', 'home', 'home'), ('Back', 'Back to previous …"
      ]
     },
     "metadata": {},
     "output_type": "display_data"
    }
   ],
   "source": [
    "fig, ax = plt.subplots(nrows=1, ncols=1, constrained_layout=True,figsize=(5,3.5))\n",
    "x=np.linspace(0,Tps_final,N+1)\n",
    "ax.plot(x,Euler[0,:],label=\"Non-contaminés\")\n",
    "ax.plot(x,Euler[1,:],label=\"Malades\")\n",
    "ax.plot(x,Euler[0,:]+Euler[1,:],label=\"Total\")\n",
    "ax.set(title='Euler explicite', xlabel='temps', ylabel='N'); ax.grid()\n",
    "ax.legend()\n",
    "plt.show()"
   ]
  },
  {
   "cell_type": "markdown",
   "metadata": {},
   "source": [
    "## Méthode de Heun (RK2)"
   ]
  },
  {
   "cell_type": "code",
   "execution_count": 25,
   "metadata": {},
   "outputs": [],
   "source": [
    "RK2=np.zeros([2,N+1])\n",
    "RK2[:,0]=condtions_initiales_epidemie"
   ]
  },
  {
   "cell_type": "code",
   "execution_count": 26,
   "metadata": {},
   "outputs": [],
   "source": [
    "for i in range(N):\n",
    "    t = i*dt\n",
    "    Sol_inter=RK2[:,i]+dt*f_epidemie(RK2[:,i],t)\n",
    "    RK2[:,i+1]=RK2[:,i]+dt*0.5*(f_epidemie(Sol_inter,t)+f_epidemie(RK2[:,i],t))"
   ]
  },
  {
   "cell_type": "code",
   "execution_count": 27,
   "metadata": {},
   "outputs": [
    {
     "name": "stdout",
     "output_type": "stream",
     "text": [
      "taux finaux Heun : Non contamines= 2.721132177808433 contamines = [7.173743463504104]\n"
     ]
    }
   ],
   "source": [
    "print(\"taux finaux Heun : Non contamines=\", RK2[0,N],\"contamines =\",[RK2[1,N]])"
   ]
  },
  {
   "cell_type": "code",
   "execution_count": 28,
   "metadata": {},
   "outputs": [
    {
     "data": {
      "application/vnd.jupyter.widget-view+json": {
       "model_id": "48780d5ee4be4ba581e99d15b3f7aa4f",
       "version_major": 2,
       "version_minor": 0
      },
      "text/plain": [
       "Canvas(toolbar=Toolbar(toolitems=[('Home', 'Reset original view', 'home', 'home'), ('Back', 'Back to previous …"
      ]
     },
     "metadata": {},
     "output_type": "display_data"
    }
   ],
   "source": [
    "fig, ax = plt.subplots(nrows=1, ncols=1, constrained_layout=True,figsize=(5,3.5))\n",
    "x=np.linspace(0,Tps_final,N+1)\n",
    "ax.plot(x,RK2[0,:],label=\"Non-contaminés\")\n",
    "ax.plot(x,RK2[1,:],label=\"Malades\")\n",
    "ax.plot(x,RK2[0,:]+RK2[1,:],label=\"Total\")\n",
    "ax.set(title='RK2', xlabel='temps', ylabel='N'); ax.grid()\n",
    "ax.legend()\n",
    "plt.show()"
   ]
  },
  {
   "cell_type": "markdown",
   "metadata": {},
   "source": [
    "## odeint"
   ]
  },
  {
   "cell_type": "code",
   "execution_count": 29,
   "metadata": {},
   "outputs": [],
   "source": [
    "t_ode = np.linspace(0,Tps_final,int(Tps_final/dt))"
   ]
  },
  {
   "cell_type": "code",
   "execution_count": 30,
   "metadata": {},
   "outputs": [],
   "source": [
    "Ode=odeint(f_epidemie,condtions_initiales_epidemie,t_ode)"
   ]
  },
  {
   "cell_type": "code",
   "execution_count": 31,
   "metadata": {},
   "outputs": [
    {
     "data": {
      "application/vnd.jupyter.widget-view+json": {
       "model_id": "d50edac479dc4ca89d5ebe8b69f665b0",
       "version_major": 2,
       "version_minor": 0
      },
      "text/plain": [
       "Canvas(toolbar=Toolbar(toolitems=[('Home', 'Reset original view', 'home', 'home'), ('Back', 'Back to previous …"
      ]
     },
     "metadata": {},
     "output_type": "display_data"
    }
   ],
   "source": [
    "fig, ax = plt.subplots(nrows=1, ncols=1, constrained_layout=True,figsize=(5,3.5))\n",
    "x=np.linspace(0,Tps_final,N+1)\n",
    "ax.plot(t_ode,Ode[:,0],label=\"Non-contaminés\")\n",
    "ax.plot(t_ode,Ode[:,1],label=\"Malades\")\n",
    "ax.plot(t_ode,Ode[:,0]+Ode[:,1],label=\"Total\")\n",
    "ax.set(title='odeint', xlabel='temps', ylabel='N'); ax.grid()\n",
    "ax.legend()\n",
    "plt.show()"
   ]
  },
  {
   "cell_type": "markdown",
   "metadata": {},
   "source": [
    "## Euler implicit"
   ]
  },
  {
   "cell_type": "code",
   "execution_count": 32,
   "metadata": {},
   "outputs": [],
   "source": [
    "def f_impli(X,Xold):\n",
    "    return X - dt*f_epidemie(X,t) - Xold\n",
    "\n",
    "def jac_impli(X,Xold):\n",
    "    return np.array([[a*X[1]*dt+1 , a*X[0]*dt],[ 1 -a*X[1]*dt +b*dt, 1+(b-a*X[0])*dt ]] )"
   ]
  },
  {
   "cell_type": "code",
   "execution_count": 33,
   "metadata": {},
   "outputs": [],
   "source": [
    "Implicit=np.zeros([2,N+1])\n",
    "Implicit[:,0]=condtions_initiales_epidemie\n",
    "#Implicit[:,0]=[50,50]"
   ]
  },
  {
   "cell_type": "code",
   "execution_count": 34,
   "metadata": {},
   "outputs": [],
   "source": [
    "# for i in range(N):\n",
    "#     Implicit[:,i+1]=fsolve(f_impli,[50,50],args=Implicit[:,i],fprime=jac_impli)\n",
    "#     #Implicit[:,i+1]=fsolve(f_impli,[50,50],args=Implicit[:,i])"
   ]
  },
  {
   "cell_type": "code",
   "execution_count": 35,
   "metadata": {},
   "outputs": [],
   "source": [
    "for i in range(N):\n",
    "    I=Implicit[:,i]\n",
    "    residu=1\n",
    "    niter=1\n",
    "    #matrix=np.linalg.inv(jac_impli(I,Implicit[:,i]))\n",
    "    while ((residu >1E-14) and (niter<10000)):\n",
    "        niter=niter+1\n",
    "        matrix=np.linalg.inv(jac_impli(I,Implicit[:,i]))\n",
    "        I=I-np.dot(matrix,f_impli(I,Implicit[:,i]))\n",
    "        residu=np.linalg.norm(f_impli(I,Implicit[:,i]))\n",
    "    #print(linalg.cond(matrix, 'fro'))\n",
    "    #print(linalg.eig(matrix))\n",
    "    #print(niter)\n",
    "    Implicit[:,i+1] = I"
   ]
  },
  {
   "cell_type": "code",
   "execution_count": 36,
   "metadata": {},
   "outputs": [
    {
     "name": "stdout",
     "output_type": "stream",
     "text": [
      "taux finaux Heun : Non contamines= 2.7451714343897082 contamines = [6.8740279301929625]\n"
     ]
    }
   ],
   "source": [
    "print(\"taux finaux Heun : Non contamines=\", Implicit[0,N],\"contamines =\",[Implicit[1,N]])"
   ]
  },
  {
   "cell_type": "code",
   "execution_count": 37,
   "metadata": {},
   "outputs": [
    {
     "data": {
      "application/vnd.jupyter.widget-view+json": {
       "model_id": "25b0ffc6d8fb4ca7b10bf911e0083a81",
       "version_major": 2,
       "version_minor": 0
      },
      "text/plain": [
       "Canvas(toolbar=Toolbar(toolitems=[('Home', 'Reset original view', 'home', 'home'), ('Back', 'Back to previous …"
      ]
     },
     "metadata": {},
     "output_type": "display_data"
    }
   ],
   "source": [
    "fig, ax = plt.subplots(nrows=1, ncols=1, constrained_layout=True,figsize=(5,3.5))\n",
    "x=np.linspace(0,Tps_final,N+1)\n",
    "ax.plot(x,Implicit[0,:],label=\"Non-contaminés\")\n",
    "ax.plot(x,Implicit[1,:],label=\"Malades\")\n",
    "ax.plot(x,Implicit[0,:]+Implicit[1,:],label=\"Total\")\n",
    "ax.set(title='Implicit fsolve', xlabel='temps', ylabel='N'); ax.grid()\n",
    "ax.legend()\n",
    "plt.show()"
   ]
  },
  {
   "cell_type": "markdown",
   "metadata": {},
   "source": [
    "## Comparer les solutions"
   ]
  },
  {
   "cell_type": "code",
   "execution_count": 38,
   "metadata": {},
   "outputs": [
    {
     "data": {
      "application/vnd.jupyter.widget-view+json": {
       "model_id": "0cc13b3d8a274a45b0f7395f4d1d3cd4",
       "version_major": 2,
       "version_minor": 0
      },
      "text/plain": [
       "Canvas(toolbar=Toolbar(toolitems=[('Home', 'Reset original view', 'home', 'home'), ('Back', 'Back to previous …"
      ]
     },
     "metadata": {},
     "output_type": "display_data"
    }
   ],
   "source": [
    "fig, ax = plt.subplots(nrows=1, ncols=1, constrained_layout=True,figsize=(5,3.5))\n",
    "x=np.linspace(0,Tps_final,N+1)\n",
    "ax.plot(x,Euler[0,:], '-', label='Euler explicite')\n",
    "ax.plot(x,RK2[0,:], '-', label='RK2')\n",
    "ax.plot(t_ode, Ode[:,0], label='odeint')\n",
    "ax.plot(x, Implicit[0,:],'.-',  label='Euler implicite')\n",
    "ax.legend()\n",
    "ax.set(title='Comparaison des méthodes', xlabel='time', ylabel=r'$\\theta$'); ax.grid()\n",
    "plt.show()"
   ]
  },
  {
   "cell_type": "code",
   "execution_count": null,
   "metadata": {},
   "outputs": [],
   "source": []
  },
  {
   "cell_type": "code",
   "execution_count": null,
   "metadata": {},
   "outputs": [],
   "source": []
  }
 ],
 "metadata": {
  "kernelspec": {
   "display_name": "Python 3",
   "language": "python",
   "name": "python3"
  },
  "language_info": {
   "codemirror_mode": {
    "name": "ipython",
    "version": 3
   },
   "file_extension": ".py",
   "mimetype": "text/x-python",
   "name": "python",
   "nbconvert_exporter": "python",
   "pygments_lexer": "ipython3",
   "version": "3.6.8"
  }
 },
 "nbformat": 4,
 "nbformat_minor": 4
}
