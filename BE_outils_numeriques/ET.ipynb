{
 "cells": [
  {
   "cell_type": "markdown",
   "metadata": {},
   "source": [
    "# Import"
   ]
  },
  {
   "cell_type": "code",
   "execution_count": 1,
   "metadata": {},
   "outputs": [],
   "source": [
    "import numpy as np\n",
    "import matplotlib.pyplot as plt\n",
    "from scipy.integrate import odeint\n",
    "from scipy.optimize import fsolve\n",
    "from numpy import linalg"
   ]
  },
  {
   "cell_type": "code",
   "execution_count": 2,
   "metadata": {},
   "outputs": [],
   "source": [
    "pi = np.pi"
   ]
  },
  {
   "cell_type": "code",
   "execution_count": 3,
   "metadata": {},
   "outputs": [],
   "source": [
    "%matplotlib inline"
   ]
  },
  {
   "cell_type": "markdown",
   "metadata": {},
   "source": [
    "# Vague 1"
   ]
  },
  {
   "cell_type": "code",
   "execution_count": 4,
   "metadata": {},
   "outputs": [],
   "source": [
    "def deriv_func(T) :\n",
    "    res1 = k1*(T[1]-T[0]) + kea*(Te-T[0]) - r*T[0]**4\n",
    "    res2 = k1*(T[0]-T[1]) + keb*(Te-T[0]) - r*T[1]**4\n",
    "    return np.array([res1, res2])"
   ]
  },
  {
   "cell_type": "code",
   "execution_count": 5,
   "metadata": {},
   "outputs": [],
   "source": [
    "kea = 0.04\n",
    "keb = 0.005\n",
    "k1 = 0.01\n",
    "Te = 20\n",
    "r = 0.000002\n",
    "cond_init=[100,50]"
   ]
  },
  {
   "cell_type": "code",
   "execution_count": 6,
   "metadata": {},
   "outputs": [
    {
     "name": "stdout",
     "output_type": "stream",
     "text": [
      "201\n"
     ]
    }
   ],
   "source": [
    "dt = 0.5\n",
    "Tf = 100\n",
    "niter = int(Tf/dt)+1\n",
    "print(niter)"
   ]
  },
  {
   "cell_type": "markdown",
   "metadata": {},
   "source": [
    "Euler explicite method"
   ]
  },
  {
   "cell_type": "code",
   "execution_count": 7,
   "metadata": {},
   "outputs": [],
   "source": [
    "sol_Euler = np.zeros([2, niter])\n",
    "sol_Euler[:,0] = cond_init"
   ]
  },
  {
   "cell_type": "code",
   "execution_count": 8,
   "metadata": {},
   "outputs": [],
   "source": [
    "for k in range(niter-1):\n",
    "    t = (k+1)*dt\n",
    "    sol_Euler[:,k+1]=sol_Euler[:,k]+dt*deriv_func(sol_Euler[:,k])"
   ]
  },
  {
   "cell_type": "code",
   "execution_count": 9,
   "metadata": {},
   "outputs": [
    {
     "name": "stdout",
     "output_type": "stream",
     "text": [
      "16.03684052\n",
      "13.21714045\n"
     ]
    }
   ],
   "source": [
    "print('%2.8f' % sol_Euler[0,-1])\n",
    "print('%2.8f' % sol_Euler[1,-1])"
   ]
  },
  {
   "cell_type": "markdown",
   "metadata": {},
   "source": [
    "Euler-Cauchy (RK2) method"
   ]
  },
  {
   "cell_type": "code",
   "execution_count": 10,
   "metadata": {},
   "outputs": [],
   "source": [
    "Sol_RK2 = np.zeros([2, niter])\n",
    "Sol_RK2[:,0] = cond_init"
   ]
  },
  {
   "cell_type": "code",
   "execution_count": 11,
   "metadata": {},
   "outputs": [],
   "source": [
    "for k in range(0,niter-1):\n",
    "    Sol_inter=Sol_RK2[:,k]+dt*deriv_func(Sol_RK2[:,k])\n",
    "    Sol_RK2[:,k+1]=Sol_RK2[:,k]+0.5*dt*(deriv_func(Sol_RK2[:,k])+deriv_func(Sol_inter))"
   ]
  },
  {
   "cell_type": "code",
   "execution_count": 12,
   "metadata": {},
   "outputs": [
    {
     "name": "stdout",
     "output_type": "stream",
     "text": [
      "16.06355834\n",
      "13.32216597\n"
     ]
    }
   ],
   "source": [
    "print('%2.8f' % Sol_RK2[0,-1])\n",
    "print('%2.8f' % Sol_RK2[1,-1])"
   ]
  },
  {
   "cell_type": "code",
   "execution_count": 13,
   "metadata": {},
   "outputs": [
    {
     "data": {
      "image/png": "[encoded data removed]",
      "text/plain": [
       "<Figure size 504x252 with 2 Axes>"
      ]
     },
     "metadata": {
      "needs_background": "light"
     },
     "output_type": "display_data"
    }
   ],
   "source": [
    "fig, ax = plt.subplots(nrows=1, ncols=2, constrained_layout=True,figsize=(7,3.5))\n",
    "time = np.linspace(0,Tf,niter)\n",
    "ax[0].plot(time,sol_Euler[0,:], '-', label='Euler')\n",
    "ax[0].plot(time,Sol_RK2[0,:], '-', label='RK2')\n",
    "ax[1].plot(time,sol_Euler[1,:], '-', label='Euler')\n",
    "ax[1].plot(time,Sol_RK2[1,:], '-', label='RK2')\n",
    "ax[1].legend()\n",
    "ax[0].set(title='T1', xlabel='time', ylabel=r'T', yscale='linear'); ax[0].grid()\n",
    "ax[1].set(title='T2', xlabel='time', yscale='linear'); ax[1].grid()\n",
    "plt.show()"
   ]
  },
  {
   "cell_type": "code",
   "execution_count": null,
   "metadata": {},
   "outputs": [],
   "source": []
  },
  {
   "cell_type": "markdown",
   "metadata": {},
   "source": [
    "# Vague 2"
   ]
  },
  {
   "cell_type": "code",
   "execution_count": 14,
   "metadata": {},
   "outputs": [],
   "source": [
    "def deriv_func(T) :\n",
    "    res1 = k1*(T[1]-T[0]) + kea*(Te-T[0]) - r*T[0]**4\n",
    "    res2 = k1*(T[0]-T[1]) + keb*(Te-T[0]) \n",
    "    return np.array([res1, res2])"
   ]
  },
  {
   "cell_type": "code",
   "execution_count": 15,
   "metadata": {},
   "outputs": [],
   "source": [
    "kea = 0.04\n",
    "keb = 0.005\n",
    "k1 = 0.01\n",
    "Te = 20\n",
    "r = 0.000002\n",
    "cond_init=[100,50]"
   ]
  },
  {
   "cell_type": "code",
   "execution_count": 16,
   "metadata": {},
   "outputs": [
    {
     "name": "stdout",
     "output_type": "stream",
     "text": [
      "201\n"
     ]
    }
   ],
   "source": [
    "dt = 0.5\n",
    "Tf = 100\n",
    "niter = int(Tf/dt)+1\n",
    "print(niter)"
   ]
  },
  {
   "cell_type": "markdown",
   "metadata": {},
   "source": [
    "Euler explicite method"
   ]
  },
  {
   "cell_type": "code",
   "execution_count": 17,
   "metadata": {},
   "outputs": [],
   "source": [
    "sol_Euler = np.zeros([2, niter])\n",
    "sol_Euler[:,0] = cond_init"
   ]
  },
  {
   "cell_type": "code",
   "execution_count": 18,
   "metadata": {},
   "outputs": [],
   "source": [
    "for k in range(niter-1):\n",
    "    t = (k+1)*dt\n",
    "    sol_Euler[:,k+1]=sol_Euler[:,k]+dt*deriv_func(sol_Euler[:,k])"
   ]
  },
  {
   "cell_type": "code",
   "execution_count": 19,
   "metadata": {},
   "outputs": [
    {
     "name": "stdout",
     "output_type": "stream",
     "text": [
      "18.03500151\n",
      "30.09683506\n"
     ]
    }
   ],
   "source": [
    "print('%2.8f' % sol_Euler[0,-1])\n",
    "print('%2.8f' % sol_Euler[1,-1])"
   ]
  },
  {
   "cell_type": "markdown",
   "metadata": {},
   "source": [
    "Euler-Cauchy (RK2) method"
   ]
  },
  {
   "cell_type": "code",
   "execution_count": 20,
   "metadata": {},
   "outputs": [],
   "source": [
    "Sol_RK2 = np.zeros([2, niter])\n",
    "Sol_RK2[:,0] = cond_init"
   ]
  },
  {
   "cell_type": "code",
   "execution_count": 21,
   "metadata": {},
   "outputs": [],
   "source": [
    "for k in range(0,niter-1):\n",
    "    Sol_inter=Sol_RK2[:,k]+dt*deriv_func(Sol_RK2[:,k])\n",
    "    Sol_RK2[:,k+1]=Sol_RK2[:,k]+0.5*dt*(deriv_func(Sol_RK2[:,k])+deriv_func(Sol_inter))"
   ]
  },
  {
   "cell_type": "code",
   "execution_count": 22,
   "metadata": {},
   "outputs": [
    {
     "name": "stdout",
     "output_type": "stream",
     "text": [
      "18.13590979\n",
      "30.98270146\n"
     ]
    }
   ],
   "source": [
    "print('%2.8f' % Sol_RK2[0,-1])\n",
    "print('%2.8f' % Sol_RK2[1,-1])"
   ]
  },
  {
   "cell_type": "code",
   "execution_count": 23,
   "metadata": {},
   "outputs": [
    {
     "data": {
      "image/png": "[encoded data removed]",
      "text/plain": [
       "<Figure size 504x252 with 2 Axes>"
      ]
     },
     "metadata": {
      "needs_background": "light"
     },
     "output_type": "display_data"
    }
   ],
   "source": [
    "fig, ax = plt.subplots(nrows=1, ncols=2, constrained_layout=True,figsize=(7,3.5))\n",
    "time = np.linspace(0,Tf,niter)\n",
    "ax[0].plot(time,sol_Euler[0,:], '-', label='Euler')\n",
    "ax[0].plot(time,Sol_RK2[0,:], '-', label='RK2')\n",
    "ax[1].plot(time,sol_Euler[1,:], '-', label='Euler')\n",
    "ax[1].plot(time,Sol_RK2[1,:], '-', label='RK2')\n",
    "ax[1].legend()\n",
    "ax[0].set(title='T1', xlabel='time', ylabel=r'T', yscale='linear'); ax[0].grid()\n",
    "ax[1].set(title='T2', xlabel='time', yscale='linear'); ax[1].grid()\n",
    "plt.show()"
   ]
  },
  {
   "cell_type": "markdown",
   "metadata": {},
   "source": [
    "# Vague 3"
   ]
  },
  {
   "cell_type": "code",
   "execution_count": 24,
   "metadata": {},
   "outputs": [],
   "source": [
    "def F(T) :\n",
    "    res1 = k1*(T[1]-T[0]) + kea*(Te-T[0]) - r*T[0]**4\n",
    "    res2 = k1*(T[0]-T[1]) + keb*(Te-T[0]) - r*T[1]**4\n",
    "    return np.array([res1,res2])\n",
    "\n",
    "def jac(T) :\n",
    "    res = np.zeros([2,2])\n",
    "    res[0,0] = -k1-kea-4*r*T[0]**3\n",
    "    res[0,1] = k1\n",
    "    res[1,0] = k1-keb\n",
    "    res[1,1] = -k1 - 4*r*T[1]**3\n",
    "    return res"
   ]
  },
  {
   "cell_type": "code",
   "execution_count": 25,
   "metadata": {},
   "outputs": [],
   "source": [
    "kea = 0.04\n",
    "keb = 0.005\n",
    "k1 = 0.01\n",
    "Te = 20\n",
    "r = 0.000001"
   ]
  },
  {
   "cell_type": "markdown",
   "metadata": {},
   "source": [
    "Newton method"
   ]
  },
  {
   "cell_type": "code",
   "execution_count": 26,
   "metadata": {},
   "outputs": [
    {
     "name": "stdout",
     "output_type": "stream",
     "text": [
      "solution systeme parallele= [17.14164244 14.34207178] niter= 3\n",
      "residu 2.2967469730765988e-05\n"
     ]
    }
   ],
   "source": [
    "I=np.zeros(2)\n",
    "I = [Te,Te]\n",
    "J=jac(I)\n",
    "invJ=np.linalg.inv(J)\n",
    "residu=1\n",
    "niter=0\n",
    "solutions_iter = np.copy(I)\n",
    "\n",
    "while np.abs(residu)>0.001 and niter<1000:\n",
    "    niter=niter+1\n",
    "    J=jac(I)\n",
    "    invJ=np.linalg.inv(J)\n",
    "    I=I-np.dot(invJ,F(I))\n",
    "    residu=np.linalg.norm(F(I))\n",
    "    solutions_iter = np.column_stack((solutions_iter,I))\n",
    "        \n",
    "print(\"solution systeme parallele=\",I,\"niter=\",niter)\n",
    "print(\"residu\",residu)"
   ]
  },
  {
   "cell_type": "code",
   "execution_count": 27,
   "metadata": {},
   "outputs": [
    {
     "name": "stdout",
     "output_type": "stream",
     "text": [
      "[[20.         17.5486152  17.16475776 17.14164244]\n",
      " [20.         15.89864467 14.47757749 14.34207178]]\n"
     ]
    }
   ],
   "source": [
    "print(solutions_iter)"
   ]
  },
  {
   "cell_type": "markdown",
   "metadata": {},
   "source": [
    "Parallel method"
   ]
  },
  {
   "cell_type": "code",
   "execution_count": 28,
   "metadata": {},
   "outputs": [
    {
     "name": "stdout",
     "output_type": "stream",
     "text": [
      "solution systeme parallele= [13.68151734  2.05663875] niter= 100000\n",
      "residu 0.1792885416825577\n"
     ]
    }
   ],
   "source": [
    "I=np.zeros(2)\n",
    "I = [0,0]\n",
    "J=jac(I)\n",
    "invJ=np.linalg.inv(J)\n",
    "residu=1\n",
    "niter=0\n",
    "solutions_iter = np.copy(I)\n",
    "\n",
    "while np.abs(residu)>0.001 and niter<100000:\n",
    "    niter=niter+1\n",
    "    I=I-np.dot(invJ,F(I))\n",
    "    residu=np.linalg.norm(F(I))\n",
    "    solutions_iter = np.column_stack((solutions_iter,I))\n",
    "        \n",
    "print(\"solution systeme parallele=\",I,\"niter=\",niter)\n",
    "print(\"residu\",residu)"
   ]
  },
  {
   "cell_type": "code",
   "execution_count": 29,
   "metadata": {},
   "outputs": [
    {
     "name": "stdout",
     "output_type": "stream",
     "text": [
      "[[19.22098423 13.68151734 19.22098423 13.68151734]\n",
      " [19.60870303  2.05663875 19.60870303  2.05663875]]\n"
     ]
    }
   ],
   "source": [
    "print(solutions_iter[:,-4:])"
   ]
  },
  {
   "cell_type": "code",
   "execution_count": null,
   "metadata": {},
   "outputs": [],
   "source": []
  },
  {
   "cell_type": "code",
   "execution_count": null,
   "metadata": {},
   "outputs": [],
   "source": []
  }
 ],
 "metadata": {
  "kernelspec": {
   "display_name": "Python 3",
   "language": "python",
   "name": "python3"
  },
  "language_info": {
   "codemirror_mode": {
    "name": "ipython",
    "version": 3
   },
   "file_extension": ".py",
   "mimetype": "text/x-python",
   "name": "python",
   "nbconvert_exporter": "python",
   "pygments_lexer": "ipython3",
   "version": "3.6.8"
  }
 },
 "nbformat": 4,
 "nbformat_minor": 4
}
