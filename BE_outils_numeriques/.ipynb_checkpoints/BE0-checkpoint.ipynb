{
 "cells": [
  {
   "cell_type": "code",
   "execution_count": 5,
   "metadata": {},
   "outputs": [],
   "source": [
    "# encoding: utf-8\t\t# pour pouvoir écrire « é,è,ç,à » dans les commentaires\n",
    "from numpy import * \t\t# module d'algèbre linéaire de base (array, linspace,...)\n",
    "import matplotlib.pyplot as plt \t# pour le tracé de courbes (plt.plot(…) ) \n",
    "import numpy.linalg"
   ]
  },
  {
   "cell_type": "code",
   "execution_count": 7,
   "metadata": {},
   "outputs": [],
   "source": [
    "def solution(n): #retourne la solution pour n intervales\n",
    "\tdx=2./n\n",
    "\talpha=0.002\n",
    "\tx=linspace(0,2,n+1) \t#n+1 points\n",
    "\tA=eye(n+1)\n",
    "\tfor i in range(1,n): \t#remplissage de la matrice\n",
    "\t\tA[i,i]=-2\n",
    "\t\tA[i,i-1]=A[i,i+1]=1\n",
    "\tb = zeros(n+1)\n",
    "\tb[0]=0\t\t\t#première valeur\n",
    "\tb[-1]=100 \t\t#dernière valeur\n",
    "\tfor i in range(1,n):\n",
    "\t\tb[i]=dx*dx*0.1/alpha*x[i]\n",
    "\tT=linalg.solve(A,b)\n",
    "\tprint (x,b)\n",
    "\treturn x,T"
   ]
  },
  {
   "cell_type": "code",
   "execution_count": 14,
   "metadata": {},
   "outputs": [
    {
     "name": "stdout",
     "output_type": "stream",
     "text": [
      "[0.   0.02 0.04 0.06 0.08 0.1  0.12 0.14 0.16 0.18 0.2  0.22 0.24 0.26\n",
      " 0.28 0.3  0.32 0.34 0.36 0.38 0.4  0.42 0.44 0.46 0.48 0.5  0.52 0.54\n",
      " 0.56 0.58 0.6  0.62 0.64 0.66 0.68 0.7  0.72 0.74 0.76 0.78 0.8  0.82\n",
      " 0.84 0.86 0.88 0.9  0.92 0.94 0.96 0.98 1.   1.02 1.04 1.06 1.08 1.1\n",
      " 1.12 1.14 1.16 1.18 1.2  1.22 1.24 1.26 1.28 1.3  1.32 1.34 1.36 1.38\n",
      " 1.4  1.42 1.44 1.46 1.48 1.5  1.52 1.54 1.56 1.58 1.6  1.62 1.64 1.66\n",
      " 1.68 1.7  1.72 1.74 1.76 1.78 1.8  1.82 1.84 1.86 1.88 1.9  1.92 1.94\n",
      " 1.96 1.98 2.  ] [0.00e+00 4.00e-04 8.00e-04 1.20e-03 1.60e-03 2.00e-03 2.40e-03 2.80e-03\n",
      " 3.20e-03 3.60e-03 4.00e-03 4.40e-03 4.80e-03 5.20e-03 5.60e-03 6.00e-03\n",
      " 6.40e-03 6.80e-03 7.20e-03 7.60e-03 8.00e-03 8.40e-03 8.80e-03 9.20e-03\n",
      " 9.60e-03 1.00e-02 1.04e-02 1.08e-02 1.12e-02 1.16e-02 1.20e-02 1.24e-02\n",
      " 1.28e-02 1.32e-02 1.36e-02 1.40e-02 1.44e-02 1.48e-02 1.52e-02 1.56e-02\n",
      " 1.60e-02 1.64e-02 1.68e-02 1.72e-02 1.76e-02 1.80e-02 1.84e-02 1.88e-02\n",
      " 1.92e-02 1.96e-02 2.00e-02 2.04e-02 2.08e-02 2.12e-02 2.16e-02 2.20e-02\n",
      " 2.24e-02 2.28e-02 2.32e-02 2.36e-02 2.40e-02 2.44e-02 2.48e-02 2.52e-02\n",
      " 2.56e-02 2.60e-02 2.64e-02 2.68e-02 2.72e-02 2.76e-02 2.80e-02 2.84e-02\n",
      " 2.88e-02 2.92e-02 2.96e-02 3.00e-02 3.04e-02 3.08e-02 3.12e-02 3.16e-02\n",
      " 3.20e-02 3.24e-02 3.28e-02 3.32e-02 3.36e-02 3.40e-02 3.44e-02 3.48e-02\n",
      " 3.52e-02 3.56e-02 3.60e-02 3.64e-02 3.68e-02 3.72e-02 3.76e-02 3.80e-02\n",
      " 3.84e-02 3.88e-02 3.92e-02 3.96e-02 1.00e+02]\n",
      "[0.  0.5 1.  1.5 2. ] [  0.     6.25  12.5   18.75 100.  ]\n"
     ]
    },
    {
     "data": {
      "image/png": "[encoded data removed]",
      "text/plain": [
       "<Figure size 432x288 with 1 Axes>"
      ]
     },
     "metadata": {
      "needs_background": "light"
     },
     "output_type": "display_data"
    }
   ],
   "source": [
    "x1,T1=solution(100)\n",
    "\n",
    "fig, ax = plt.subplots(nrows=1, ncols=1)\n",
    "\n",
    "ax.plot(x1,T1,\"b.-\",label=\"n=100\")\n",
    "x2,T2=solution(4)\n",
    "ax.plot(x2,T2,\"ro--\",label=\"n=4\")\n",
    "ax.set(xlabel=\"x\", ylabel=\"temperature\"); ax.grid()\n",
    "ax.legend()\n",
    "plt.savefig(\"plot.png\")\n",
    "#plt.show(0)"
   ]
  },
  {
   "cell_type": "code",
   "execution_count": null,
   "metadata": {},
   "outputs": [],
   "source": []
  }
 ],
 "metadata": {
  "kernelspec": {
   "display_name": "Python 3",
   "language": "python",
   "name": "python3"
  },
  "language_info": {
   "codemirror_mode": {
    "name": "ipython",
    "version": 3
   },
   "file_extension": ".py",
   "mimetype": "text/x-python",
   "name": "python",
   "nbconvert_exporter": "python",
   "pygments_lexer": "ipython3",
   "version": "3.6.8"
  }
 },
 "nbformat": 4,
 "nbformat_minor": 4
}
