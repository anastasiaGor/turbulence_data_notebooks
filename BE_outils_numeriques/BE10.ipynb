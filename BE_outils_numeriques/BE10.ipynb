{
 "cells": [
  {
   "cell_type": "markdown",
   "metadata": {},
   "source": [
    "# Import"
   ]
  },
  {
   "cell_type": "code",
   "execution_count": 1,
   "metadata": {},
   "outputs": [],
   "source": [
    "import numpy as np\n",
    "import matplotlib.pyplot as plt\n",
    "from scipy.integrate import odeint\n",
    "from scipy.optimize import fsolve\n",
    "from numpy import linalg"
   ]
  },
  {
   "cell_type": "code",
   "execution_count": 2,
   "metadata": {},
   "outputs": [],
   "source": [
    "pi = np.pi"
   ]
  },
  {
   "cell_type": "code",
   "execution_count": 3,
   "metadata": {},
   "outputs": [],
   "source": [
    "%matplotlib inline "
   ]
  },
  {
   "cell_type": "markdown",
   "metadata": {},
   "source": [
    "# Réaction de Robertson"
   ]
  },
  {
   "cell_type": "code",
   "execution_count": 4,
   "metadata": {},
   "outputs": [],
   "source": [
    "def F(Z, t) :\n",
    "    res=np.zeros(3)\n",
    "    res[0] = -k1*Z[0] + k3*Z[1]*Z[2]\n",
    "    res[1] = k1*Z[0]-k3*Z[1]*Z[2]-k2*(Z[1])**2\n",
    "    res[2] = k2*(Z[1])**2\n",
    "    return res"
   ]
  },
  {
   "cell_type": "markdown",
   "metadata": {},
   "source": [
    "Constants :"
   ]
  },
  {
   "cell_type": "code",
   "execution_count": 5,
   "metadata": {},
   "outputs": [],
   "source": [
    "k1 = 0.04\n",
    "k2 = 3*1e7\n",
    "k3 = 1e3"
   ]
  },
  {
   "cell_type": "code",
   "execution_count": 6,
   "metadata": {},
   "outputs": [
    {
     "data": {
      "text/plain": [
       "1000.0"
      ]
     },
     "execution_count": 6,
     "metadata": {},
     "output_type": "execute_result"
    }
   ],
   "source": [
    "k3"
   ]
  },
  {
   "cell_type": "code",
   "execution_count": 7,
   "metadata": {},
   "outputs": [],
   "source": [
    "T0 = 0.\n",
    "Tf = 60."
   ]
  },
  {
   "cell_type": "code",
   "execution_count": 8,
   "metadata": {},
   "outputs": [],
   "source": [
    "init_cont = [1.,0.,0.]"
   ]
  },
  {
   "cell_type": "markdown",
   "metadata": {},
   "source": [
    "# Méthode d'Adame Bashforth d'ordre 3"
   ]
  },
  {
   "cell_type": "code",
   "execution_count": 139,
   "metadata": {},
   "outputs": [],
   "source": [
    "dt_AB3 = 1e-4\n",
    "niter_AB3 = int(Tf/dt_AB3)"
   ]
  },
  {
   "cell_type": "code",
   "execution_count": 140,
   "metadata": {},
   "outputs": [],
   "source": [
    "Z_AB = np.zeros([3,niter_AB3])\n",
    "Z_AB[:,0] = init_cont"
   ]
  },
  {
   "cell_type": "markdown",
   "metadata": {},
   "source": [
    "RK2 for 1st two iterations :"
   ]
  },
  {
   "cell_type": "code",
   "execution_count": 141,
   "metadata": {},
   "outputs": [],
   "source": [
    "for i in [0,1]:\n",
    "    t = i*dt_AB3\n",
    "    Z_inter = Z_AB[:,i]+dt_AB3*F(Z_AB[:,i],t)\n",
    "    Z_AB[:,i+1] = Z_AB[:,i]+dt_AB3*0.5*(F(Z_inter,t)+F(Z_AB[:,i],t))"
   ]
  },
  {
   "cell_type": "code",
   "execution_count": 142,
   "metadata": {},
   "outputs": [],
   "source": [
    "for i in range(2,niter_AB3-1) :\n",
    "    t = i*dt_AB3\n",
    "    Z_AB[:,i+1] = Z_AB[:,i] + dt_AB3/12*(23.*F(Z_AB[:,i], t) - 16.*F(Z_AB[:,i-1], t) + 5.*F(Z_AB[:,i-2], t))"
   ]
  },
  {
   "cell_type": "code",
   "execution_count": 143,
   "metadata": {},
   "outputs": [
    {
     "data": {
      "image/png": "[encoded data removed]",
      "text/plain": [
       "<Figure size 360x252 with 1 Axes>"
      ]
     },
     "metadata": {
      "needs_background": "light"
     },
     "output_type": "display_data"
    }
   ],
   "source": [
    "fig, ax = plt.subplots(nrows=1, ncols=1, constrained_layout=True,figsize=(5,3.5))\n",
    "x_AB3=np.linspace(0,Tf,niter_AB3)\n",
    "#ax.plot(x_AB3,Z_AB[0,:], '.-', label=r'$y_a$')\n",
    "ax.plot(x_AB3,Z_AB[1,:], '.-', label=r'$y_b$')\n",
    "#ax.plot(x_AB3,Z_AB[2,:], '.-', label=r'$y_c$')\n",
    "ax.set(title='AB3, dt = %2.2g'%dt_AB3, xlabel='t', ylabel='y', yscale='linear'); ax.grid()\n",
    "#ax.legend()\n",
    "plt.show()"
   ]
  },
  {
   "cell_type": "markdown",
   "metadata": {},
   "source": [
    "# Méthode de RK4"
   ]
  },
  {
   "cell_type": "code",
   "execution_count": 29,
   "metadata": {},
   "outputs": [],
   "source": [
    "dt_RK4 = 1e-3\n",
    "niter_RK4 = int(Tf/dt_RK4)"
   ]
  },
  {
   "cell_type": "code",
   "execution_count": 30,
   "metadata": {},
   "outputs": [],
   "source": [
    "Z_RK4 = np.zeros([3,niter_RK4])\n",
    "Z_RK4[:,0] = init_cont"
   ]
  },
  {
   "cell_type": "code",
   "execution_count": 31,
   "metadata": {},
   "outputs": [],
   "source": [
    "for i in range(niter_RK4-1) :\n",
    "    t = i*dt_RK4\n",
    "    rk1 = dt_RK4*F(Z_RK4[:,i],t)\n",
    "    rk2 = dt_RK4*F(Z_RK4[:,i] + 0.5*rk1,t)\n",
    "    rk3 = dt_RK4*F(Z_RK4[:,i] + 0.5*rk2,t)\n",
    "    rk4 = dt_RK4*F(Z_RK4[:,i] + rk3,t)\n",
    "    Z_RK4[:,i+1] = Z_RK4[:,i] + 1./6.*(rk1 + 2.*rk2 + 2.*rk3 + rk4 )"
   ]
  },
  {
   "cell_type": "code",
   "execution_count": 32,
   "metadata": {},
   "outputs": [
    {
     "data": {
      "image/png": "[encoded data removed]",
      "text/plain": [
       "<Figure size 360x252 with 1 Axes>"
      ]
     },
     "metadata": {
      "needs_background": "light"
     },
     "output_type": "display_data"
    }
   ],
   "source": [
    "fig, ax = plt.subplots(nrows=1, ncols=1, constrained_layout=True,figsize=(5,3.5))\n",
    "x_RK4=np.linspace(0,Tf,niter_RK4)\n",
    "#ax.plot(x_RK4,Z_RK4[0,:], '.-', label=r'$y_a$')\n",
    "ax.plot(x_RK4,Z_RK4[1,:], '.-', label=r'$y_b$')\n",
    "#ax.plot(x_RK4,Z_RK4[2,:], '.-', label=r'$y_c$')\n",
    "ax.set(title='RK4, dt = %2.2g'%dt_RK4, xlabel='t', ylabel='y', yscale='linear'); ax.grid()\n",
    "ax.legend()\n",
    "plt.show()"
   ]
  },
  {
   "cell_type": "markdown",
   "metadata": {},
   "source": [
    "# Méthode odeint de scipy"
   ]
  },
  {
   "cell_type": "code",
   "execution_count": 33,
   "metadata": {},
   "outputs": [],
   "source": [
    "dt_odeint = 1e-2\n",
    "t_ode = np.linspace(0,Tf,int(Tf/dt_odeint))"
   ]
  },
  {
   "cell_type": "code",
   "execution_count": 34,
   "metadata": {},
   "outputs": [],
   "source": [
    "z_ode=odeint(F,init_cont,t_ode)"
   ]
  },
  {
   "cell_type": "code",
   "execution_count": 35,
   "metadata": {},
   "outputs": [
    {
     "data": {
      "image/png": "[encoded data removed]",
      "text/plain": [
       "<Figure size 360x252 with 1 Axes>"
      ]
     },
     "metadata": {
      "needs_background": "light"
     },
     "output_type": "display_data"
    }
   ],
   "source": [
    "fig, ax = plt.subplots(nrows=1, ncols=1, constrained_layout=True,figsize=(5,3.5))\n",
    "#ax.plot(t_ode,z_ode[:,0], '.-', label=r'$y_a$')\n",
    "ax.plot(t_ode,z_ode[:,1], '.-', label=r'$y_b$')\n",
    "#ax.plot(t_ode,z_ode[:,2], '.-', label=r'$y_c$')\n",
    "ax.set(title='odeint, dt = %2.2g'%dt_odeint, xlabel='t', ylabel='y', yscale='linear'); ax.grid()\n",
    "ax.legend()\n",
    "plt.show()"
   ]
  },
  {
   "cell_type": "markdown",
   "metadata": {},
   "source": [
    "# Euler implicite"
   ]
  },
  {
   "cell_type": "code",
   "execution_count": 268,
   "metadata": {},
   "outputs": [],
   "source": [
    "def f_impli(Z,Zold):\n",
    "    return Z - dt_imp*F(Z,t) - Zold\n",
    "\n",
    "def jac_impli(Z,Zold):\n",
    "    J = np.zeros([3,3])\n",
    "    J[0,0] = 1.+k1*dt_imp\n",
    "    J[0,1] = -dt_imp*k3*Z[2]\n",
    "    J[0,2] = -dt_imp*k3*Z[1]\n",
    "    J[1,0] = -dt_imp*k1\n",
    "    J[1,1] = 1.+dt_imp*(k3*Z[2]+2.*k2*Z[1])\n",
    "    J[1,2] = dt_imp*k3*Z[1]\n",
    "    J[2,0] = 0.\n",
    "    J[2,1] = -2.*dt_imp*k2*Z[1]\n",
    "    J[2,2] = 0.\n",
    "    return J"
   ]
  },
  {
   "cell_type": "code",
   "execution_count": 269,
   "metadata": {},
   "outputs": [],
   "source": [
    "dt_imp = 1e-3\n",
    "niter_imp = int(Tf/dt_imp)"
   ]
  },
  {
   "cell_type": "code",
   "execution_count": 270,
   "metadata": {},
   "outputs": [],
   "source": [
    "z_imp=np.zeros([3,niter_imp])\n",
    "z_imp[:,0] = init_cont"
   ]
  },
  {
   "cell_type": "code",
   "execution_count": 289,
   "metadata": {},
   "outputs": [],
   "source": [
    "for i in range(niter_imp-1):\n",
    "    t = i*dt_imp\n",
    "    #z_imp[:,i+1]=fsolve(f_impli,[0.7,0.1,0.1],args=z_imp[:,i],fprime=jac_impli)\n",
    "    z_imp[:,i+1]=fsolve(f_impli,[0.7,0.7,0.7],args=z_imp[:,i])"
   ]
  },
  {
   "cell_type": "code",
   "execution_count": 290,
   "metadata": {},
   "outputs": [],
   "source": [
    "# for i in range(niter_imp-1):\n",
    "#     I=[0.7,0.1,0.1]\n",
    "#     residu=1\n",
    "#     niter=1\n",
    "#     #matrix=np.linalg.inv(jac_impli(I,Implicit[:,i]))\n",
    "#     while ((residu >1E-14) and (niter<10000)):\n",
    "#         niter=niter+1\n",
    "#         matrix=np.linalg.inv(jac_impli(I,z_imp[:,i]))\n",
    "#         I=I-np.dot(matrix,f_impli(I,z_imp[:,i]))\n",
    "#         residu=np.linalg.norm(f_impli(I,z_imp[:,i]))\n",
    "#     z_imp[:,i+1] = I"
   ]
  },
  {
   "cell_type": "code",
   "execution_count": 291,
   "metadata": {},
   "outputs": [
    {
     "data": {
      "image/png": "[encoded data removed]",
      "text/plain": [
       "<Figure size 360x252 with 1 Axes>"
      ]
     },
     "metadata": {
      "needs_background": "light"
     },
     "output_type": "display_data"
    }
   ],
   "source": [
    "fig, ax = plt.subplots(nrows=1, ncols=1, constrained_layout=True,figsize=(5,3.5))\n",
    "x_imp=np.linspace(0,Tf,niter_imp)\n",
    "#ax.plot(x_imp,z_imp[0,:], '.-', label=r'$y_a$')\n",
    "ax.plot(x_imp,z_imp[1,:], '.-', label=r'$y_b$')\n",
    "#ax.plot(x_imp,z_imp[2,:], '.-', label=r'$y_c$')\n",
    "ax.set(title='Euler implicite, dt = %2.2g'%dt_imp, xlabel='t', ylabel='y', yscale='linear'); ax.grid()\n",
    "ax.legend()\n",
    "plt.show()"
   ]
  },
  {
   "cell_type": "markdown",
   "metadata": {},
   "source": [
    "# Euler explicite"
   ]
  },
  {
   "cell_type": "code",
   "execution_count": 263,
   "metadata": {},
   "outputs": [],
   "source": [
    "dt_exp = 1e-4\n",
    "niter_exp = int(Tf/dt_exp)"
   ]
  },
  {
   "cell_type": "code",
   "execution_count": 264,
   "metadata": {},
   "outputs": [],
   "source": [
    "z_exp=np.zeros([3,niter_exp])\n",
    "z_exp[:,0] = init_cont"
   ]
  },
  {
   "cell_type": "code",
   "execution_count": 265,
   "metadata": {},
   "outputs": [],
   "source": [
    "for i in range(niter_exp-1):\n",
    "    t = i*dt_imp\n",
    "    z_exp[:,i+1]=z_exp[:,i] + dt_exp*F(z_exp[:,i], t)"
   ]
  },
  {
   "cell_type": "code",
   "execution_count": 266,
   "metadata": {},
   "outputs": [
    {
     "data": {
      "image/png": "[encoded data removed]",
      "text/plain": [
       "<Figure size 360x252 with 1 Axes>"
      ]
     },
     "metadata": {
      "needs_background": "light"
     },
     "output_type": "display_data"
    }
   ],
   "source": [
    "fig, ax = plt.subplots(nrows=1, ncols=1, constrained_layout=True,figsize=(5,3.5))\n",
    "x_exp=np.linspace(0,Tf,niter_exp)\n",
    "#ax.plot(x_exp,z_exp[0,:], '.-', label=r'$y_a$')\n",
    "ax.plot(x_exp,z_exp[1,:], '.-', label=r'$y_b$')\n",
    "#ax.plot(x_exp,z_exp[2,:], '.-', label=r'$y_c$')\n",
    "ax.set(title='Euler explicite, dt = %2.2g'%dt_exp, xlabel='t', ylabel='y', yscale='linear'); ax.grid()\n",
    "ax.legend()\n",
    "plt.show()"
   ]
  },
  {
   "cell_type": "markdown",
   "metadata": {},
   "source": [
    "# Comparison"
   ]
  },
  {
   "cell_type": "code",
   "execution_count": 267,
   "metadata": {},
   "outputs": [
    {
     "data": {
      "image/png": "[encoded data removed]",
      "text/plain": [
       "<Figure size 360x252 with 1 Axes>"
      ]
     },
     "metadata": {
      "needs_background": "light"
     },
     "output_type": "display_data"
    }
   ],
   "source": [
    "fig, ax = plt.subplots(nrows=1, ncols=1, constrained_layout=True,figsize=(5,3.5))\n",
    "ax.plot(x_AB3,Z_AB[1,:], '-', label='AB3, dt=%2.1e' %dt_AB3)\n",
    "ax.plot(x_RK4,Z_RK4[1,:], '-', label='RK4, dt=%2.1e' %dt_RK4)\n",
    "ax.plot(t_ode,z_ode[:,1], '-', label='odeint')\n",
    "ax.plot(x_imp,z_imp[1,:], '-', label='Euler impl, dt=%2.1e' %dt_imp)\n",
    "ax.plot(x_exp,z_exp[1,:], '-', label='Euler expl, dt=%2.1e' %dt_exp)\n",
    "ax.set(title='Comparison', xlabel='t', ylabel='y', yscale='linear'); ax.grid()\n",
    "ax.legend()\n",
    "plt.show()"
   ]
  },
  {
   "cell_type": "code",
   "execution_count": null,
   "metadata": {},
   "outputs": [],
   "source": []
  },
  {
   "cell_type": "code",
   "execution_count": null,
   "metadata": {},
   "outputs": [],
   "source": []
  }
 ],
 "metadata": {
  "kernelspec": {
   "display_name": "Python 3",
   "language": "python",
   "name": "python3"
  },
  "language_info": {
   "codemirror_mode": {
    "name": "ipython",
    "version": 3
   },
   "file_extension": ".py",
   "mimetype": "text/x-python",
   "name": "python",
   "nbconvert_exporter": "python",
   "pygments_lexer": "ipython3",
   "version": "3.6.8"
  }
 },
 "nbformat": 4,
 "nbformat_minor": 4
}
