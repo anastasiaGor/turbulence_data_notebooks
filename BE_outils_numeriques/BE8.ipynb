{
 "cells": [
  {
   "cell_type": "markdown",
   "metadata": {},
   "source": [
    "# Import"
   ]
  },
  {
   "cell_type": "code",
   "execution_count": 1,
   "metadata": {},
   "outputs": [],
   "source": [
    "from scipy.optimize import fsolve\n",
    "import numpy as np"
   ]
  },
  {
   "cell_type": "markdown",
   "metadata": {},
   "source": [
    "# Parameters"
   ]
  },
  {
   "cell_type": "code",
   "execution_count": 2,
   "metadata": {},
   "outputs": [],
   "source": [
    "def f(I) :\n",
    "    return X*(1.+I)*(3.+3.*I+I**2)-Y"
   ]
  },
  {
   "cell_type": "code",
   "execution_count": 3,
   "metadata": {},
   "outputs": [],
   "source": [
    "def deriv_f(I) :\n",
    "    return X*(3.+3.*I+I**2) + X*(1.+I)*(3.+2.*I)"
   ]
  },
  {
   "cell_type": "code",
   "execution_count": 4,
   "metadata": {},
   "outputs": [],
   "source": [
    "X = 1000\n",
    "Y = 3241"
   ]
  },
  {
   "cell_type": "markdown",
   "metadata": {},
   "source": [
    "# 1-D"
   ]
  },
  {
   "cell_type": "markdown",
   "metadata": {},
   "source": [
    "## Methode de Newton"
   ]
  },
  {
   "cell_type": "code",
   "execution_count": 5,
   "metadata": {},
   "outputs": [
    {
     "name": "stdout",
     "output_type": "stream",
     "text": [
      "Taux final avec Newton I= 0.03913561256092804 niter= 3\n",
      "Dernières valeurs : [0.0, 0.04016666666666667, 0.03913630481075633, 0.03913561256092804]\n",
      "residu : 1.9740582501981407e-09\n"
     ]
    }
   ],
   "source": [
    "I=0.\n",
    "residu=1\n",
    "niter=0\n",
    "DV=[I,I,I,I] #Dernières valeurs\n",
    "eps = 10e-4\n",
    "\n",
    "while abs(residu)>eps:\n",
    "    niter=niter+1\n",
    "    I=I-f(I)/deriv_f(I)\n",
    "    residu=f(I)\n",
    "    DV=[DV[1],DV[2],DV[3],I]\n",
    "        \n",
    "print(\"Taux final avec Newton I=\",I,\"niter=\",niter)\n",
    "print(\"Dernières valeurs :\",DV)\n",
    "print(\"residu :\",residu)"
   ]
  },
  {
   "cell_type": "markdown",
   "metadata": {},
   "source": [
    "## Methode de la parallele"
   ]
  },
  {
   "cell_type": "code",
   "execution_count": 6,
   "metadata": {},
   "outputs": [
    {
     "name": "stdout",
     "output_type": "stream",
     "text": [
      "Taux final avec methode de la parallele I= 0.03913561256061559 niter= 13\n",
      "Dernières valeurs : [0.03913561256061226, 0.039135612560615894, 0.03913561256061551, 0.03913561256061559]\n",
      "residu : 0.0\n"
     ]
    }
   ],
   "source": [
    "I=0\n",
    "residu=1\n",
    "D=deriv_f(I)\n",
    "niter=0\n",
    "DV=[I,I,I,I] #Dernières valeurs\n",
    "\n",
    "while abs(residu)>1e-15:\n",
    "    niter=niter+1\n",
    "    I=I-f(I)/D\n",
    "    residu=f(I)\n",
    "    DV=[DV[1],DV[2],DV[3],I]\n",
    "print(\"Taux final avec methode de la parallele I=\",I,\"niter=\",niter)\n",
    "print(\"Dernières valeurs :\",DV)\n",
    "print(\"residu :\",residu)"
   ]
  },
  {
   "cell_type": "markdown",
   "metadata": {},
   "source": [
    "## Methode fsolve"
   ]
  },
  {
   "cell_type": "code",
   "execution_count": 7,
   "metadata": {},
   "outputs": [
    {
     "name": "stdout",
     "output_type": "stream",
     "text": [
      "courant final avec fsolve I= [0.03913561]\n"
     ]
    }
   ],
   "source": [
    "Isolve=fsolve(f, 0)\n",
    "print(\"courant final avec fsolve I=\",Isolve)"
   ]
  },
  {
   "cell_type": "code",
   "execution_count": 8,
   "metadata": {},
   "outputs": [
    {
     "name": "stdout",
     "output_type": "stream",
     "text": [
      "courant final avec point fixe fonction 1,   I= 0.03913561256068012\n",
      "Dernières valeurs : [0.039135612126162206, 0.03913561258361847, 0.039135612559397716, 0.03913561256068012] niter= 8\n"
     ]
    }
   ],
   "source": [
    "def fct1_pt_fixe(I):\n",
    "    return 1./6.*(Y/X - 3. - 4.*I**2-I**3)\n",
    "\n",
    "Iold=0\n",
    "Inew=fct1_pt_fixe(Iold)\n",
    "residu=1\n",
    "niter=0\n",
    "DV=[Iold,Iold,Iold,Inew] #Dernières valeurs\n",
    "\n",
    "while abs(residu)>1E-10:\n",
    "    niter=niter+1\n",
    "    Iold=Inew\n",
    "    Inew=fct1_pt_fixe(Iold)\n",
    "    residu=abs((Inew-Iold)/Inew)\n",
    "    DV=[DV[1],DV[2],DV[3],Inew]\n",
    "    \n",
    "print(\"courant final avec point fixe fonction 1,   I=\",Inew)\n",
    "print(\"Dernières valeurs :\",DV,\"niter=\",niter)   "
   ]
  },
  {
   "cell_type": "markdown",
   "metadata": {},
   "source": [
    "# Methode point fixe"
   ]
  },
  {
   "cell_type": "code",
   "execution_count": 32,
   "metadata": {},
   "outputs": [],
   "source": [
    "def g(t):\n",
    "    return 1./6.*(Y/X - 3.- 4.*t*t-t*t*t)"
   ]
  },
  {
   "cell_type": "code",
   "execution_count": 44,
   "metadata": {},
   "outputs": [
    {
     "name": "stdout",
     "output_type": "stream",
     "text": [
      "courant final avec point fixe fonction 1,   I= -inf\n",
      "Dernières valeurs : [3735007813268571.0, -8.684069561041289e+45, 1.0914871580195764e+137, -inf] niter= 6\n"
     ]
    }
   ],
   "source": [
    "Iold=3\n",
    "Inew=g(Iold)\n",
    "residu=1\n",
    "niter=0\n",
    "DV=[Iold,Iold,Iold,Inew] #Dernières valeurs\n",
    "\n",
    "while abs(residu)>1E-10:\n",
    "    niter=niter+1\n",
    "    Iold=Inew\n",
    "    Inew=g(Iold)\n",
    "    residu=abs((Inew-Iold)/Inew)\n",
    "    DV=[DV[1],DV[2],DV[3],Inew]\n",
    "    \n",
    "print(\"courant final avec point fixe fonction 1,   I=\",Inew)\n",
    "print(\"Dernières valeurs :\",DV,\"niter=\",niter)   "
   ]
  },
  {
   "cell_type": "markdown",
   "metadata": {},
   "source": [
    "# 2-D"
   ]
  },
  {
   "cell_type": "code",
   "execution_count": 9,
   "metadata": {},
   "outputs": [],
   "source": [
    "def Systeme(I):\n",
    "    Res=np.zeros(2)\n",
    "    Res[0]=X*(1.+I[0])*(3.+3.*I[0]+I[0]**2)+X*(1.+I[1])*(1.+2.*I[1])-2.*Y\n",
    "    Res[1]=2.*I[0]-I[1]\n",
    "    return Res"
   ]
  },
  {
   "cell_type": "code",
   "execution_count": 10,
   "metadata": {},
   "outputs": [],
   "source": [
    "def Jacobienne(I):\n",
    "    J=np.zeros([2,2])\n",
    "    J11=X*(3.+3.*I[0]+I[0]**2) + X*(1.+I[0])*(3.+2.*I[0])\n",
    "    J12=X*(1.+3.*I[1]) + 2.*X*(1.+I[1])\n",
    "    J21=2.\n",
    "    J22=-1.\n",
    "    J[0,0],J[0,1],J[1,0],J[1,1]=J11,J12,J21,J22\n",
    "    return J"
   ]
  },
  {
   "cell_type": "markdown",
   "metadata": {},
   "source": [
    "## Systeme Methode Newton"
   ]
  },
  {
   "cell_type": "code",
   "execution_count": 11,
   "metadata": {},
   "outputs": [
    {
     "name": "stdout",
     "output_type": "stream",
     "text": [
      "solution systeme Newton= [0.17556081 0.35112162] niter= 12\n",
      "residu 1.0913936421275139e-11\n"
     ]
    }
   ],
   "source": [
    "I=np.zeros(2)\n",
    "residu=1\n",
    "niter=1\n",
    "while residu >1E-10 and niter<1000:\n",
    "    niter=niter+1\n",
    "    I=I-np.dot(np.linalg.inv(Jacobienne(I)),Systeme(I))\n",
    "    residu=np.linalg.norm(Systeme(I))\n",
    "    \n",
    "print(\"solution systeme Newton=\",I,\"niter=\",niter)\n",
    "print(\"residu\",residu)"
   ]
  },
  {
   "cell_type": "markdown",
   "metadata": {},
   "source": [
    "## Systeme Methode Parallele"
   ]
  },
  {
   "cell_type": "code",
   "execution_count": 12,
   "metadata": {},
   "outputs": [
    {
     "name": "stdout",
     "output_type": "stream",
     "text": [
      "solution systeme parallele= [0.17556081 0.35112162] niter= 48\n",
      "residu 5.184119800105691e-11\n"
     ]
    }
   ],
   "source": [
    "I=np.zeros(2)\n",
    "I[0]=1\n",
    "I[1]=1\n",
    "J=Jacobienne(I)\n",
    "invJ=np.linalg.inv(J)\n",
    "residu=1\n",
    "niter=1\n",
    "\n",
    "while residu>1E-10 and niter<1000:\n",
    "    niter=niter+1\n",
    "    I=I-np.dot(invJ,Systeme(I))\n",
    "    residu=np.linalg.norm(Systeme(I))\n",
    "        \n",
    "print(\"solution systeme parallele=\",I,\"niter=\",niter)\n",
    "print(\"residu\",residu)"
   ]
  },
  {
   "cell_type": "markdown",
   "metadata": {},
   "source": [
    "## Methode avec fsolve"
   ]
  },
  {
   "cell_type": "code",
   "execution_count": 13,
   "metadata": {},
   "outputs": [
    {
     "name": "stdout",
     "output_type": "stream",
     "text": [
      "fsolve: I1= 0.175561 I2 = 0.351122 avec residu 0.0000000000\n"
     ]
    }
   ],
   "source": [
    "CI=np.zeros(2)\n",
    "I=fsolve(Systeme,CI)\n",
    "residu=np.linalg.norm(Systeme(I))\n",
    "print(\"fsolve: I1= %f I2 = %f avec residu %.10f\" % (I[0],I[1],residu))"
   ]
  },
  {
   "cell_type": "code",
   "execution_count": null,
   "metadata": {},
   "outputs": [],
   "source": []
  }
 ],
 "metadata": {
  "kernelspec": {
   "display_name": "Python 3",
   "language": "python",
   "name": "python3"
  },
  "language_info": {
   "codemirror_mode": {
    "name": "ipython",
    "version": 3
   },
   "file_extension": ".py",
   "mimetype": "text/x-python",
   "name": "python",
   "nbconvert_exporter": "python",
   "pygments_lexer": "ipython3",
   "version": "3.6.8"
  }
 },
 "nbformat": 4,
 "nbformat_minor": 4
}
