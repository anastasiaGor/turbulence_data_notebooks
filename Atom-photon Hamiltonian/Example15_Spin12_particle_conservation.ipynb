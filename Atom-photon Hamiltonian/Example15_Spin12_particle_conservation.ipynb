{
 "cells": [
  {
   "cell_type": "markdown",
   "id": "ead7c4bb-70a5-457a-9850-dc602044a154",
   "metadata": {},
   "source": [
    "In this script we demonstrate how to apply the user_basis to construct a spin-1/2 model with sublattice particle conservation."
   ]
  },
  {
   "cell_type": "markdown",
   "id": "9b088890-032d-4a48-87ff-b25934369211",
   "metadata": {
    "tags": []
   },
   "source": [
    "# Import"
   ]
  },
  {
   "cell_type": "code",
   "execution_count": 1,
   "id": "2b8d6f57-18ee-423d-b651-2c8b3dcfdb46",
   "metadata": {},
   "outputs": [],
   "source": [
    "from __future__ import print_function, division\n",
    "import sys,os"
   ]
  },
  {
   "cell_type": "code",
   "execution_count": 2,
   "id": "064ded06-4b21-4c3e-a54f-c0462f9eee1d",
   "metadata": {},
   "outputs": [],
   "source": [
    "#os.environ['KMP_DUPLICATE_LIB_OK']='True' # uncomment this line if omp error occurs on OSX for python 3\n",
    "os.environ['OMP_NUM_THREADS']='1' # set number of OpenMP threads to run in parallel\n",
    "os.environ['MKL_NUM_THREADS']='1' # set number of MKL threads to run in parallel"
   ]
  },
  {
   "cell_type": "code",
   "execution_count": 3,
   "id": "136aca70-72fc-4061-a7a3-78c7582eefa9",
   "metadata": {},
   "outputs": [],
   "source": [
    "quspin_path = os.path.join(os.getcwd(),\"../../\")\n",
    "sys.path.insert(0,quspin_path)"
   ]
  },
  {
   "cell_type": "code",
   "execution_count": 4,
   "id": "cebd233b-9456-4aad-99b5-d0d93bc26ece",
   "metadata": {},
   "outputs": [],
   "source": [
    "from quspin.operators import hamiltonian\n",
    "from quspin.basis import spin_basis_1d # Hilbert space spin basis_1d\n",
    "from quspin.basis.user import user_basis # Hilbert space user basis\n",
    "from quspin.basis.user import next_state_sig_32,op_sig_32,map_sig_32 # user basis data types\n",
    "from numba import carray,cfunc # numba helper functions\n",
    "from numba import uint32,int32 # numba data types\n",
    "import numpy as np\n",
    "from scipy.special import comb"
   ]
  },
  {
   "cell_type": "markdown",
   "id": "91cb877c-92c3-4a22-9a6b-cfba9d42aa32",
   "metadata": {},
   "source": [
    "# Parameters"
   ]
  },
  {
   "cell_type": "code",
   "execution_count": 5,
   "id": "e8810d6c-69a2-4b0f-8c81-71cd75ef5779",
   "metadata": {},
   "outputs": [],
   "source": [
    "N_half = 4 # sublattice total number of sites\n",
    "N = 2*N_half # total number of sites\n",
    "Np = (N_half//2,N_half//2) #sublattice magnetizations"
   ]
  },
  {
   "cell_type": "markdown",
   "id": "f0bedfe5-cb63-4661-8ee9-01e5f914503a",
   "metadata": {
    "tags": []
   },
   "source": [
    "# Define user_basis"
   ]
  },
  {
   "cell_type": "code",
   "execution_count": 6,
   "id": "cc40e26f-a029-4979-b97c-a036bb2cf5a2",
   "metadata": {},
   "outputs": [],
   "source": [
    "######  function to call when applying operators\n",
    "@cfunc(op_sig_32,\n",
    "    locals=dict(n=int32,b=uint32))\n",
    "def op(op_struct_ptr,op_str,ind,N,args):\n",
    "    # using struct pointer to pass op_struct_ptr back to C++ see numba Records\n",
    "    op_struct = carray(op_struct_ptr,1)[0]\n",
    "    err = 0\n",
    "    ind = N - ind - 1 # convention for QuSpin for mapping from bits to sites.\n",
    "    n = (op_struct.state>>ind)&1 # either 0 or 1\n",
    "    b = (1 << ind)\n",
    "    #\n",
    "    if op_str==110: # \"n\" is integer value 110 (check with ord(\"n\"))\n",
    "        op_struct.matrix_ele *= n\n",
    "    elif op_str==43: # \"+\" is integer value 43 (check with ord(\"+\"))\n",
    "        if n: op_struct.matrix_ele = 0\n",
    "        else: op_struct.state ^= b # create hcb\n",
    "    elif op_str==45: # \"-\" is integer value 45 (check with ord(\"-\"))\n",
    "        if n: op_struct.state ^= b # destroy hcb\n",
    "        else: op_struct.matrix_ele = 0\n",
    "    else:\n",
    "        op_struct.matrix_ele = 0\n",
    "        err = -1\n",
    "    #\n",
    "    return err\n",
    "#\n",
    "op_args=np.array([],dtype=np.uint32)"
   ]
  },
  {
   "cell_type": "code",
   "execution_count": 7,
   "id": "adb03aa4-4718-4d31-b5f0-2c33b12c8623",
   "metadata": {},
   "outputs": [],
   "source": [
    "######  function to read user-imported basis into QuSpin \n",
    "#\n",
    "# function to call when generating next_state\n",
    "@cfunc(next_state_sig_32, locals=dict(N_half=int32,t=uint32,s_right=uint32,s_left=uint32))\n",
    "def next_state(s,counter,N,args):\n",
    "    # unpack args\n",
    "    mask = args[0]\n",
    "    s_right_min = args[1]\n",
    "    s_right_max = args[2]\n",
    "    N_half = args[3] # = (N>>1), sublattice system size\n",
    "    #\n",
    "    # split sublattice\n",
    "    s_left = s >> N_half\n",
    "    s_right = s & mask\n",
    "    # increment s_right unless it has reached the last state,\n",
    "    if s_right < s_right_max:\n",
    "        if s_right > 0:\n",
    "            t = (s_right | (s_right - 1)) + 1\n",
    "            s_right = t | ((((t & (0-t)) // (s_right & (0-s_right))) >> 1) - 1) \n",
    "    # otherwise op_structet s_right to first state and increment s_left.\n",
    "    else:\n",
    "        s_right = s_right_min\n",
    "        if s_left > 0:\n",
    "            t = (s_left | (s_left - 1)) + 1\n",
    "            s_left = t | ((((t & (0-t)) // (s_left & (0-s_left))) >> 1) - 1)\n",
    "    # combine and return next state.\n",
    "    return (s_left << N_half) + s_right"
   ]
  },
  {
   "cell_type": "code",
   "execution_count": 8,
   "id": "b859736e-de18-412a-a189-d6882b387c3c",
   "metadata": {},
   "outputs": [],
   "source": [
    "### optional arguments to pass into next_state\n",
    "s_right_min = sum(1<<i for i in range(Np[1])) # fill first bits\n",
    "s_right_max = sum(1<<(N_half-i-1) for i in range(Np[1])) # fill last bits\n",
    "mask = 2**N_half - 1 # fill all bits \n",
    "next_state_args = np.array([mask,s_right_min,s_right_max,N >> 1],dtype=np.uint32)\n",
    "#\n",
    "# python function to calculate the starting state to generate the particle conserving basis\n",
    "def get_s0_pcon(N,Np):\n",
    "    \"\"\" calculates the starting state to generate the particle conserving basis. \"\"\"\n",
    "    N_half = N>>1\n",
    "    Np_left,Np_right = Np\n",
    "\n",
    "    s_left  = sum(1<<i for i in range(Np_left ))\n",
    "    s_right = sum(1<<i for i in range(Np_right))\n",
    "    return (s_left << N_half) + s_right"
   ]
  },
  {
   "cell_type": "code",
   "execution_count": 9,
   "id": "347ade77-84a4-4cc8-a572-c083bdf50659",
   "metadata": {},
   "outputs": [],
   "source": [
    "# python function to calculate the size of the particle-conserved basis, \n",
    "# i.e. BEFORE applying pre_check_state and symmetry maps\n",
    "def get_Ns_pcon(N,Np):\n",
    "    \"\"\" calculates the size of the particle conservation basis (ignoring symmetries at this stage). \"\"\"\n",
    "    N_half = (N>>1)\n",
    "    return comb(N_half,Np[0],exact=True)*comb(N_half,Np[1],exact=True)"
   ]
  },
  {
   "cell_type": "markdown",
   "id": "a24dd151-12ac-473e-9913-0465569c1621",
   "metadata": {},
   "source": [
    "Construct user_basis"
   ]
  },
  {
   "cell_type": "code",
   "execution_count": 10,
   "id": "fae8e261-7335-4e6d-9bf8-f2aa85fdc200",
   "metadata": {},
   "outputs": [],
   "source": [
    "# define maps dict\n",
    "maps = dict() # no symmetries"
   ]
  },
  {
   "cell_type": "code",
   "execution_count": 11,
   "id": "9fcc59be-8143-4722-b747-fb38e3a1d79b",
   "metadata": {},
   "outputs": [],
   "source": [
    "# define particle conservation and op dicts\n",
    "pcon_dict = dict(Np=Np,next_state=next_state,next_state_args=next_state_args,\n",
    "                get_Ns_pcon=get_Ns_pcon,get_s0_pcon=get_s0_pcon)\n",
    "op_dict = dict(op=op,op_args=op_args)"
   ]
  },
  {
   "cell_type": "code",
   "execution_count": 12,
   "id": "827f9b99-d148-4492-bafa-db07a37f8320",
   "metadata": {},
   "outputs": [
    {
     "name": "stdout",
     "output_type": "stream",
     "text": [
      "reference states: \n",
      "array index   /   Fock state   /   integer repr. \n",
      "      0.         |1 1 0 0 1 1 0 0>           204  \n",
      "      1.         |1 1 0 0 1 0 1 0>           202  \n",
      "      2.         |1 1 0 0 1 0 0 1>           201  \n",
      "      3.         |1 1 0 0 0 1 1 0>           198  \n",
      "      4.         |1 1 0 0 0 1 0 1>           197  \n",
      "      5.         |1 1 0 0 0 0 1 1>           195  \n",
      "      6.         |1 0 1 0 1 1 0 0>           172  \n",
      "      7.         |1 0 1 0 1 0 1 0>           170  \n",
      "      8.         |1 0 1 0 1 0 0 1>           169  \n",
      "      9.         |1 0 1 0 0 1 1 0>           166  \n",
      "     10.         |1 0 1 0 0 1 0 1>           165  \n",
      "     11.         |1 0 1 0 0 0 1 1>           163  \n",
      "     12.         |1 0 0 1 1 1 0 0>           156  \n",
      "     13.         |1 0 0 1 1 0 1 0>           154  \n",
      "     14.         |1 0 0 1 1 0 0 1>           153  \n",
      "     15.         |1 0 0 1 0 1 1 0>           150  \n",
      "     16.         |1 0 0 1 0 1 0 1>           149  \n",
      "     17.         |1 0 0 1 0 0 1 1>           147  \n",
      "     18.         |0 1 1 0 1 1 0 0>           108  \n",
      "     19.         |0 1 1 0 1 0 1 0>           106  \n",
      "     20.         |0 1 1 0 1 0 0 1>           105  \n",
      "     21.         |0 1 1 0 0 1 1 0>           102  \n",
      "     22.         |0 1 1 0 0 1 0 1>           101  \n",
      "     23.         |0 1 1 0 0 0 1 1>            99  \n",
      "     24.         |0 1 0 1 1 1 0 0>            92  \n",
      "     25.         |0 1 0 1 1 0 1 0>            90  \n",
      "     26.         |0 1 0 1 1 0 0 1>            89  \n",
      "     27.         |0 1 0 1 0 1 1 0>            86  \n",
      "     28.         |0 1 0 1 0 1 0 1>            85  \n",
      "     29.         |0 1 0 1 0 0 1 1>            83  \n",
      "     30.         |0 0 1 1 1 1 0 0>            60  \n",
      "     31.         |0 0 1 1 1 0 1 0>            58  \n",
      "     32.         |0 0 1 1 1 0 0 1>            57  \n",
      "     33.         |0 0 1 1 0 1 1 0>            54  \n",
      "     34.         |0 0 1 1 0 1 0 1>            53  \n",
      "     35.         |0 0 1 1 0 0 1 1>            51  \n"
     ]
    }
   ],
   "source": [
    "# create user basis\n",
    "basis = user_basis(np.uint32,N,op_dict,allowed_ops=set(\"n+-\"),sps=2,pcon_dict=pcon_dict,**maps)\n",
    "# print basis\n",
    "print(basis)"
   ]
  },
  {
   "cell_type": "markdown",
   "id": "789b03c3-d950-44a9-9adf-f80f87dea81a",
   "metadata": {},
   "source": [
    "# Construct Hamiltonian"
   ]
  },
  {
   "cell_type": "code",
   "execution_count": 13,
   "id": "3e8aec25-606c-4e9c-b3a9-4a0921d6f894",
   "metadata": {},
   "outputs": [],
   "source": [
    "# site-coupling lists\n",
    "t_list  = [[1.0,i,(i+1)%N_half] for i in range(N_half)] # first sublattice/leg of the ladder\n",
    "t_list += [[t,N_half+i,N_half+j] for t,i,j in t_list] # second sublattice/leg of the ladder\n",
    "U_list = [[1.0,i,i+N_half] for i in range(N_half)]"
   ]
  },
  {
   "cell_type": "code",
   "execution_count": 14,
   "id": "59a8b5d7-f45a-413e-bb5a-47e5d1d7f2b8",
   "metadata": {},
   "outputs": [],
   "source": [
    "# operator string lists\n",
    "static = [[\"+-\",t_list],[\"-+\",t_list],[\"nn\",U_list]]"
   ]
  },
  {
   "cell_type": "code",
   "execution_count": 15,
   "id": "020b828f-2f92-4cb0-ac84-f3a736203706",
   "metadata": {},
   "outputs": [],
   "source": [
    "# compute Hamiltonian, no checks have been implemented\n",
    "no_checks=dict(check_symm=False, check_pcon=False, check_herm=False)\n",
    "H = hamiltonian(static,[],basis=basis,dtype=np.float64,**no_checks)"
   ]
  },
  {
   "cell_type": "code",
   "execution_count": null,
   "id": "0c423c93-59f0-4ba1-9a98-50882284d5ee",
   "metadata": {},
   "outputs": [],
   "source": []
  }
 ],
 "metadata": {
  "kernelspec": {
   "display_name": "Python 3",
   "language": "python",
   "name": "python3"
  },
  "language_info": {
   "codemirror_mode": {
    "name": "ipython",
    "version": 3
   },
   "file_extension": ".py",
   "mimetype": "text/x-python",
   "name": "python",
   "nbconvert_exporter": "python",
   "pygments_lexer": "ipython3",
   "version": "3.9.7"
  }
 },
 "nbformat": 4,
 "nbformat_minor": 5
}
