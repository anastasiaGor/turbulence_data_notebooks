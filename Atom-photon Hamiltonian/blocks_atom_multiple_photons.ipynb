{
 "cells": [
  {
   "cell_type": "markdown",
   "id": "fdbe4909-e16e-4fa8-bf38-c58c44189ba4",
   "metadata": {},
   "source": [
    "# Import"
   ]
  },
  {
   "cell_type": "code",
   "execution_count": 1,
   "id": "57276971-bf04-43cf-a523-c761d7541f98",
   "metadata": {},
   "outputs": [],
   "source": [
    "from quspin.basis import spin_basis_1d,photon_basis,boson_basis_1d,tensor_basis # Hilbert space bases\n",
    "from quspin.operators import hamiltonian # Hamiltonian and observables\n",
    "from quspin.tools.measurements import obs_vs_time,diag_ensemble # t_dep measurements\n",
    "from quspin.tools.Floquet import Floquet,Floquet_t_vec # Floquet Hamiltonian\n",
    "from quspin.basis.photon import coherent_state # HO coherent state\n",
    "from quspin.tools.block_tools import block_diag_hamiltonian\n",
    "import numpy as np # generic math functions\n",
    "import matplotlib.pyplot as plt\n",
    "import pylab\n",
    "import scipy.sparse.linalg as sparseLA\n",
    "from numpy import linalg as LA\n",
    "from scipy.special import comb\n",
    "import time"
   ]
  },
  {
   "cell_type": "markdown",
   "id": "57f39fa2-436c-4dc3-9b9b-8471d57b408b",
   "metadata": {},
   "source": [
    "# Model parameters"
   ]
  },
  {
   "cell_type": "code",
   "execution_count": 2,
   "id": "585fc7dc-04de-4920-9c9e-54ad58edfd00",
   "metadata": {},
   "outputs": [],
   "source": [
    "N_osc=3 #number of harmonic oscillators\n",
    "N_lev=4 # number of energy levels of oscillators\n",
    "N_tot=N_lev**N_osc # total number of states of all photons\n",
    "Omega=1.0 # frequency of the oscillator\n",
    "A=0.2 # spin-photon coupling strength (drive amplitude)\n",
    "Delta=1.0 # difference between atom energy levels"
   ]
  },
  {
   "cell_type": "code",
   "execution_count": 3,
   "id": "29cd9d6a-53c8-4231-a26b-1e4f2220a1fb",
   "metadata": {},
   "outputs": [],
   "source": [
    "N_ph_avg=N_lev//2"
   ]
  },
  {
   "cell_type": "code",
   "execution_count": 4,
   "id": "82444655-6777-4b62-a941-9695ed7cef3d",
   "metadata": {},
   "outputs": [
    {
     "data": {
      "text/plain": [
       "128"
      ]
     },
     "execution_count": 4,
     "metadata": {},
     "output_type": "execute_result"
    }
   ],
   "source": [
    "2*N_tot"
   ]
  },
  {
   "cell_type": "markdown",
   "id": "bd41497c-ff6d-42b0-a3f9-c5e8fffd8f14",
   "metadata": {},
   "source": [
    "# Hamiltonian of a two-state atom in a reservoir of harmonic oscillators "
   ]
  },
  {
   "cell_type": "markdown",
   "id": "f40cb507-f981-4ee9-99aa-785715e34b96",
   "metadata": {},
   "source": [
    "For the purpose of our study, we take a two-level atom (i.e. a single-site spin chain) and couple it to multiple photon mode (i.e. a quantum harmonic oscillators). The Hamiltonian reads: \n",
    "$$ H = \\sum_{k=1}^{N_{osc}} \\Omega_k a_k^\\dagger a_k + \\frac{A}{2} \\frac{1}{\\sqrt{N_{ph~avg}}} \\sum_k (a_k^\\dagger + a_k) \\sigma^x + \\Delta \\sigma^z$$\n",
    "where the operator $a^\\dagger$ creates a photon in the mode, and the atom is modelled by a two-level system described by the Pauli spin operators $\\sigma^{x,y,z}$. \n",
    "$N_{osc}$ is the number of harmoniv oscillators in the reservoir, $N_{lev}$ - number of energy levels of a single photon mode.\n",
    "The photon frequency is $\\Omega$, $N_{ph}$ is the average number of photons in a single mode, $A$ - the coupling between the EM field $E=\\sum_{k=1}^{N_{osc}}\\sqrt{N_{ph~avg}^{-1}}(a_k^\\dagger + a_k)$, and the dipole operator $\\sigma^x$, and $\\Delta$ measures the energy difference between the two atomic states."
   ]
  },
  {
   "cell_type": "markdown",
   "id": "94e7408a-9020-459b-817c-b81a9dcc11cb",
   "metadata": {},
   "source": [
    "To set up the spin-photon Hamiltonian, we first build the site-coupling lists. The ph_energy list does not require the specification of a lattice site index, since the latter is not defined forthe photon sector. The at_energy list, on the other hand, requires the input of the lattice sitefor the $\\sigma^z$-operator:  since we consider a single two-level system or, equivalently – a single-site chain, this index is 0. The spin-photon coupling lists absorb and emit also require the site index which refers to the corresponding Pauli matrices: in this model – 0 again due to dimensional constraints."
   ]
  },
  {
   "cell_type": "code",
   "execution_count": 5,
   "id": "a65c3948-30c7-4786-82bf-eb2b9638a0fb",
   "metadata": {},
   "outputs": [],
   "source": [
    "# define operator site-coupling lists\n",
    "ph_energy=[[Omega,i] for i in range(N_osc)] # photon energy\n",
    "at_energy=[[Delta,0]] # atom energy, 0 because the \"lattice\" is single-site\n",
    "absorb=[[A/(2.0*np.sqrt(N_ph_avg)),0,i] for i in range(N_osc)] # absorption term\n",
    "emit=[[A/(2.0*np.sqrt(N_ph_avg)),0,i] for i in range(N_osc)] # emission term"
   ]
  },
  {
   "cell_type": "markdown",
   "id": "bb126ab1-f70d-4ef6-b6f0-c01aa4d3695d",
   "metadata": {},
   "source": [
    "To build the static operator list, we use the $|$ symbol in the operator string to distinguish the spin and photon operators: spin operators always come to the left of the $|$-symbol,  while photon operators - to the right. For convenience, the identity operator $I$ can be omitted, suchthat $I|n$ is the same as $|n$, and $z|I$ is equivalent to $z|$, respectively. The dynamic list is empty since the spin-photon Hamiltonian is time-independent."
   ]
  },
  {
   "cell_type": "code",
   "execution_count": 6,
   "id": "0fa87669-3a4b-4404-a223-c4577854990c",
   "metadata": {},
   "outputs": [],
   "source": [
    "# define static and dynamics lists\n",
    "static_no_interaction=[[\"|n\",ph_energy],[\"z|\",at_energy]]\n",
    "static_rotating_wave=[[\"|n\",ph_energy],[\"+|-\",absorb],[\"-|+\",emit],[\"z|\",at_energy]]\n",
    "static_full=[[\"|n\",ph_energy],[\"x|-\",absorb],[\"x|+\",emit],[\"z|\",at_energy]]\n",
    "dynamic=[]"
   ]
  },
  {
   "cell_type": "markdown",
   "id": "9b0038ea-d3ca-44dd-b41f-a7c64b9b8bfe",
   "metadata": {},
   "source": [
    "To build the spin-photon basis, we call the function photon_basis and use spin_basis_1d as the first argument. We need to specify the number of spin lattice sites, and the total numberof harmonic oscillator (a.k.a photon) states."
   ]
  },
  {
   "cell_type": "code",
   "execution_count": 7,
   "id": "74a0ccb1-12bb-486e-b178-a132d8885414",
   "metadata": {},
   "outputs": [],
   "source": [
    "basis_osc = boson_basis_1d(L=N_osc, sps=N_lev)\n",
    "#print(basis_osc)"
   ]
  },
  {
   "cell_type": "code",
   "execution_count": 8,
   "id": "7e9e3d12-161d-4e97-a5db-15d9c64fe350",
   "metadata": {},
   "outputs": [
    {
     "name": "stdout",
     "output_type": "stream",
     "text": [
      "reference states: \n",
      "array index   /   Fock state   /   integer repr. \n",
      "\t  0.         |1>           1         |3 3 3>           63  \n",
      "\t  1.         |1>           1         |3 3 2>           62  \n",
      "\t  2.         |1>           1         |3 3 1>           61  \n",
      "\t  3.         |1>           1         |3 3 0>           60  \n",
      "\t  4.         |1>           1         |3 2 3>           59  \n",
      "\t  5.         |1>           1         |3 2 2>           58  \n",
      "\t  6.         |1>           1         |3 2 1>           57  \n",
      "\t  7.         |1>           1         |3 2 0>           56  \n",
      "\t  8.         |1>           1         |3 1 3>           55  \n",
      "\t  9.         |1>           1         |3 1 2>           54  \n",
      "\t 10.         |1>           1         |3 1 1>           53  \n",
      "\t 11.         |1>           1         |3 1 0>           52  \n",
      "\t 12.         |1>           1         |3 0 3>           51  \n",
      "\t 13.         |1>           1         |3 0 2>           50  \n",
      "\t 14.         |1>           1         |3 0 1>           49  \n",
      "\t 15.         |1>           1         |3 0 0>           48  \n",
      "\t 16.         |1>           1         |2 3 3>           47  \n",
      "\t 17.         |1>           1         |2 3 2>           46  \n",
      "\t 18.         |1>           1         |2 3 1>           45  \n",
      "\t 19.         |1>           1         |2 3 0>           44  \n",
      "\t 20.         |1>           1         |2 2 3>           43  \n",
      "\t 21.         |1>           1         |2 2 2>           42  \n",
      "\t 22.         |1>           1         |2 2 1>           41  \n",
      "\t 23.         |1>           1         |2 2 0>           40  \n",
      "\t 24.         |1>           1         |2 1 3>           39  \n",
      "                             :\n",
      "\t103.         |0>           0         |1 2 0>           24  \n",
      "\t104.         |0>           0         |1 1 3>           23  \n",
      "\t105.         |0>           0         |1 1 2>           22  \n",
      "\t106.         |0>           0         |1 1 1>           21  \n",
      "\t107.         |0>           0         |1 1 0>           20  \n",
      "\t108.         |0>           0         |1 0 3>           19  \n",
      "\t109.         |0>           0         |1 0 2>           18  \n",
      "\t110.         |0>           0         |1 0 1>           17  \n",
      "\t111.         |0>           0         |1 0 0>           16  \n",
      "\t112.         |0>           0         |0 3 3>           15  \n",
      "\t113.         |0>           0         |0 3 2>           14  \n",
      "\t114.         |0>           0         |0 3 1>           13  \n",
      "\t115.         |0>           0         |0 3 0>           12  \n",
      "\t116.         |0>           0         |0 2 3>           11  \n",
      "\t117.         |0>           0         |0 2 2>           10  \n",
      "\t118.         |0>           0         |0 2 1>            9  \n",
      "\t119.         |0>           0         |0 2 0>            8  \n",
      "\t120.         |0>           0         |0 1 3>            7  \n",
      "\t121.         |0>           0         |0 1 2>            6  \n",
      "\t122.         |0>           0         |0 1 1>            5  \n",
      "\t123.         |0>           0         |0 1 0>            4  \n",
      "\t124.         |0>           0         |0 0 3>            3  \n",
      "\t125.         |0>           0         |0 0 2>            2  \n",
      "\t126.         |0>           0         |0 0 1>            1  \n",
      "\t127.         |0>           0         |0 0 0>            0  \n"
     ]
    }
   ],
   "source": [
    "# compute atom-photon basis\n",
    "#basis_photon_particle=photon_basis(spin_basis_1d, L=1, Nph=L_lev)\n",
    "basis_osc = boson_basis_1d(L=N_osc,sps=N_lev)\n",
    "basis_spin = spin_basis_1d(L=1, pauli=-1, S='1/2')\n",
    "basis = tensor_basis(basis_spin,basis_osc) \n",
    "print(basis)"
   ]
  },
  {
   "cell_type": "code",
   "execution_count": 9,
   "id": "8f27d79c-66e6-4d2e-8483-ab66f5af0ba2",
   "metadata": {},
   "outputs": [],
   "source": [
    "# import inspect\n",
    "# inspect.getmembers(tensor_basis)"
   ]
  },
  {
   "cell_type": "code",
   "execution_count": 10,
   "id": "b3fb9609-3623-4c0b-afc6-20daeea63516",
   "metadata": {},
   "outputs": [],
   "source": [
    "# compute atom-photon Hamiltonian H\n",
    "H_no_interaction=hamiltonian(static_no_interaction,dynamic,dtype=np.float64, basis=basis, check_symm=False, check_pcon=False, check_herm=False)\n",
    "H_full=hamiltonian(static_full,dynamic,dtype=np.float64, basis=basis, check_symm=False, check_pcon=False, check_herm=False)\n",
    "H_rotating_wave=hamiltonian(static_rotating_wave,dynamic,dtype=np.float64, basis=basis, check_symm=False, check_pcon=False, check_herm=False)"
   ]
  },
  {
   "cell_type": "code",
   "execution_count": 11,
   "id": "cb5145e0-616c-471f-8784-2fdf5d7b3242",
   "metadata": {},
   "outputs": [],
   "source": [
    "#print('Number of states of Hamiltonian:', H_rotating_wave.Ns)"
   ]
  },
  {
   "cell_type": "markdown",
   "id": "35d69f87-de6c-40dc-826b-f1f8b71bfc6c",
   "metadata": {
    "tags": []
   },
   "source": [
    "# Spectrum "
   ]
  },
  {
   "cell_type": "code",
   "execution_count": 12,
   "id": "ff3b39af-adba-4cd0-b64b-a136f2a6e63d",
   "metadata": {},
   "outputs": [
    {
     "name": "stdout",
     "output_type": "stream",
     "text": [
      "Runtime is 0.003992795944213867\n"
     ]
    }
   ],
   "source": [
    "# calculate entire spectrum only\n",
    "start = time.time()\n",
    "eigenvalues_H_no_interaction=H_no_interaction.eigvalsh()\n",
    "end = time.time()\n",
    "print('Runtime is', end-start)"
   ]
  },
  {
   "cell_type": "code",
   "execution_count": 13,
   "id": "902b6efb-ef69-41c1-b7c2-5fc3f7411447",
   "metadata": {},
   "outputs": [
    {
     "name": "stdout",
     "output_type": "stream",
     "text": [
      "Runtime is 0.009604692459106445\n"
     ]
    }
   ],
   "source": [
    "start = time.time()\n",
    "eigenvalues_H_full=H_full.eigvalsh()\n",
    "end = time.time()\n",
    "print('Runtime is', end-start)"
   ]
  },
  {
   "cell_type": "code",
   "execution_count": 14,
   "id": "930580fd-af58-4309-ac8d-a1cb8a818f30",
   "metadata": {},
   "outputs": [
    {
     "name": "stdout",
     "output_type": "stream",
     "text": [
      "Runtime is 0.012533426284790039\n"
     ]
    }
   ],
   "source": [
    "start = time.time()\n",
    "eigenvalues_H_rotating_wave=H_rotating_wave.eigvalsh()\n",
    "end = time.time()\n",
    "print('Runtime is', end-start)"
   ]
  },
  {
   "cell_type": "code",
   "execution_count": 15,
   "id": "735f5dc7-2f43-42dc-be46-d30580aff845",
   "metadata": {},
   "outputs": [
    {
     "data": {
      "image/png": "[encoded data removed]",
      "text/plain": [
       "<Figure size 720x360 with 3 Axes>"
      ]
     },
     "metadata": {
      "needs_background": "light"
     },
     "output_type": "display_data"
    }
   ],
   "source": [
    "##### plot spectra\n",
    "fig, ax = plt.subplots(nrows=1, ncols=3, constrained_layout=True,figsize=(10,5))\n",
    "x = np.arange(H_no_interaction.Ns)\n",
    "ax[0].plot(x,eigenvalues_H_no_interaction, '.-', color='b', lw=1.)\n",
    "ax[1].plot(x,eigenvalues_H_full, '.-', color='b', lw=1.)\n",
    "ax[2].plot(x,eigenvalues_H_rotating_wave, '.-', color='b', lw=1.)\n",
    "for level in x :\n",
    "    ax[0].plot(x,np.full(H_no_interaction.Ns,eigenvalues_H_no_interaction[level]), '-', color='b', lw=0.5)\n",
    "    ax[1].plot(x,np.full(H_full.Ns,eigenvalues_H_full[level]), '-', color='b', lw=0.5)\n",
    "    ax[2].plot(x,np.full(H_rotating_wave.Ns,eigenvalues_H_rotating_wave[level]), '-', color='b', lw=0.5)\n",
    "ax[0].set(title='No interaction', xlabel='state number', ylabel='eigenvalue'); ax[0].grid(False)\n",
    "ax[1].set(title='$(a^\\dag+a)\\sigma^x$', xlabel='state number'); ax[1].grid(False)\n",
    "ax[2].set(title='$(\\sigma^- a^\\dag+\\sigma^+ a)$', xlabel='state number'); ax[1].grid(False)\n",
    "plt.show()"
   ]
  },
  {
   "cell_type": "markdown",
   "id": "24204055-4044-43df-9757-01c51bf8c44b",
   "metadata": {},
   "source": [
    "# Definitions: blocks and eigenvalues"
   ]
  },
  {
   "cell_type": "code",
   "execution_count": 16,
   "id": "26684fac-3400-4dee-85b6-4cd143ee9703",
   "metadata": {},
   "outputs": [],
   "source": [
    "# size of of the particle-conserved basis of bosons\n",
    "def boson_block_size(N_sites, N_levels, N_particles):\n",
    "    Ns=0\n",
    "    for r in range(N_particles//N_levels+1):\n",
    "        r_2 = N_particles - r*N_levels\n",
    "        if r % 2 == 0:\n",
    "            Ns +=  comb(N_sites,r,exact=True) * comb(N_sites + r_2 - 1,r_2,exact=True)\n",
    "        else:\n",
    "            Ns += -comb(N_sites,r,exact=True) * comb(N_sites + r_2 - 1,r_2,exact=True)\n",
    "    return Ns"
   ]
  },
  {
   "cell_type": "code",
   "execution_count": 44,
   "id": "a9339303-b64d-49d6-8715-195d4c1de72e",
   "metadata": {},
   "outputs": [],
   "source": [
    "def size_of_matrix_to_diagonalize_block(N_sites, N_levels, N_block):\n",
    "    #return 2*boson_block_size(N_osc, N_lev, N_block)+boson_block_size(N_osc, N_lev, N_block-1)+boson_block_size(N_osc, N_lev, N_block+1)\n",
    "    return boson_block_size(N_osc, N_lev, N_block-1)+boson_block_size(N_osc, N_lev, N_block)"
   ]
  },
  {
   "cell_type": "code",
   "execution_count": 45,
   "id": "039d3d4c-dd22-45b2-955a-d2efff9526bf",
   "metadata": {},
   "outputs": [
    {
     "data": {
      "text/plain": [
       "16"
      ]
     },
     "execution_count": 45,
     "metadata": {},
     "output_type": "execute_result"
    }
   ],
   "source": [
    "size_of_matrix_to_diagonalize_block(N_osc, N_lev, 7)"
   ]
  },
  {
   "cell_type": "code",
   "execution_count": 47,
   "id": "c5740fdf-e592-4749-bd89-f36a966aa8cf",
   "metadata": {},
   "outputs": [],
   "source": [
    "# def hamitonian_eigenvalues_one_block(N_photons, static_list, dynamic_list) :\n",
    "#     basis_osc_block = boson_basis_1d(L=N_osc, Nb={N_photons-1,N_photons,N_photons+1}, sps=N_lev)    # boson basis with chosen number of particles\n",
    "#     basis_osc_block_size = len(basis_osc_block.states)\n",
    "#     basis_block = tensor_basis(basis_spin,basis_osc_block)                 # mixed atom-boson basis\n",
    "\n",
    "#     basis_osc_block_n = boson_basis_1d(L=N_osc, Nb={N_photons}, sps=N_lev)     # part of boson basis\n",
    "#     selected_indices_n_up_spin = basis_osc_block_size - np.searchsorted(np.flip(basis_osc_block.states), basis_osc_block_n.states) - 1 \n",
    "#     size_next_level = len(selected_indices_n_up_spin)\n",
    "#     selected_indices_n_down_spin = 2*basis_osc_block_size - np.searchsorted(np.flip(basis_osc_block.states), basis_osc_block_n.states) - 1   \n",
    "#     size_prev_level = len(selected_indices_n_down_spin)\n",
    "    \n",
    "#     basis_osc_block_n_minus_1 = boson_basis_1d(L=N_osc, Nb={N_photons-1}, sps=N_lev)     # part of boson basis\n",
    "#     selected_indices_n_minus_1 = basis_osc_block_size - np.searchsorted(np.flip(basis_osc_block.states), basis_osc_block_n_minus_1.states) - 1  # only spin up\n",
    "    \n",
    "#     basis_osc_block_n_plus_1 = boson_basis_1d(L=N_osc, Nb={N_photons+1}, sps=N_lev)\n",
    "#     selected_indices_n_plus_1 = 2*basis_osc_block_size - np.searchsorted(np.flip(basis_osc_block.states), basis_osc_block_n_plus_1.states) - 1 #only spin down\n",
    "#     size_current_level = len(selected_indices_n_plus_1) + len(selected_indices_n_minus_1)\n",
    "    \n",
    "#     all_selected_indices = np.concatenate((selected_indices_n_up_spin,selected_indices_n_down_spin,selected_indices_n_minus_1,selected_indices_n_plus_1))   # only spin down\n",
    "    \n",
    "#     # sparse matrix\n",
    "#     # hamiltonian_full = hamiltonian(static_list,dynamic_list,dtype=np.float64, basis=basis_block, check_symm=False, check_pcon=False, check_herm=False).tocsc()\n",
    "#     # dense matrix\n",
    "#     hamiltonian_full = hamiltonian(static_list,dynamic_list,dtype=np.float64, basis=basis_block, check_symm=False, check_pcon=False, check_herm=False).toarray()\n",
    "    \n",
    "#     ixgrid = np.ix_(all_selected_indices, all_selected_indices)\n",
    "#     hamiltonian_reduced = hamiltonian_full[ixgrid]\n",
    "\n",
    "#     start = time.time()\n",
    "#     #block_eigenvals, block_eigenvectors = sparseLA.eigsh(hamiltonian_reduced,k=hamiltonian_reduced.shape[0]-1) # for sparse matrices\n",
    "#     block_eigenvals, block_eigenvectors = LA.eigh(hamiltonian_reduced)   # for dense matrices\n",
    "#     end = time.time()\n",
    "    \n",
    "#     print('N_photons=%2.0f, size of the reduced matrix=%2.0f, runtime=%2.6e' %(N_photons, hamiltonian_reduced.shape[0], end-start))\n",
    "#     return block_eigenvals[size_prev_level:size_prev_level+size_current_level:]"
   ]
  },
  {
   "cell_type": "code",
   "execution_count": 196,
   "id": "8a1a958e-a8f5-44d7-aa2c-f99f93ccbe27",
   "metadata": {},
   "outputs": [],
   "source": [
    "def hamitonian_eigenvalues_one_block(N_block, static_list, dynamic_list) :\n",
    "    basis_osc_block = boson_basis_1d(L=N_osc, Nb={N_block,N_block-1}, sps=N_lev)    # boson basis with chosen number of particles\n",
    "    basis_osc_block_size = len(basis_osc_block.states)\n",
    "    basis_block = tensor_basis(basis_spin,basis_osc_block)                 # mixed atom-boson basis\n",
    "\n",
    "    basis_osc_block_n = boson_basis_1d(L=N_osc, Nb={N_block}, sps=N_lev)     # part of boson basis\n",
    "    # only spin down\n",
    "    selected_indices_n_down_spin = 2*basis_osc_block_size - np.searchsorted(np.flip(basis_osc_block.states), basis_osc_block_n.states) - 1   \n",
    "    size_spin_down = len(selected_indices_n_down_spin)\n",
    "    \n",
    "    basis_osc_block_n_minus_1 = boson_basis_1d(L=N_osc, Nb={N_block-1}, sps=N_lev)     # part of boson basis\n",
    "    # only spin up\n",
    "    selected_indices_n_minus_1 = basis_osc_block_size - np.searchsorted(np.flip(basis_osc_block.states), basis_osc_block_n_minus_1.states) - 1  # only spin up\n",
    "    size_spin_up = len(selected_indices_n_minus_1)\n",
    "    \n",
    "    all_selected_indices = np.concatenate((selected_indices_n_minus_1, selected_indices_n_down_spin))   # only spin down\n",
    "    \n",
    "    # sparse matrix\n",
    "    # hamiltonian_full = hamiltonian(static_list,dynamic_list,dtype=np.float64, basis=basis_block, check_symm=False, check_pcon=False, check_herm=False).tocsc()\n",
    "    # dense matrix\n",
    "    hamiltonian_full = hamiltonian(static_list,dynamic_list,dtype=np.float64, basis=basis_block, check_symm=False, check_pcon=False, check_herm=False).toarray()\n",
    "    \n",
    "    ixgrid = np.ix_(all_selected_indices, all_selected_indices)\n",
    "    hamiltonian_reduced = hamiltonian_full[ixgrid]\n",
    "\n",
    "    start = time.time()\n",
    "    #block_eigenvals, block_eigenvectors = sparseLA.eigsh(hamiltonian_reduced,k=hamiltonian_reduced.shape[0]-1) # for sparse matrices\n",
    "    block_eigenvals, block_eigenvectors = LA.eigh(hamiltonian_reduced)   # for dense matrices\n",
    "    end = time.time()\n",
    "    \n",
    "    print('N_photons=%2.0f, size of the reduced matrix=%2.0f, runtime=%2.6e' %(N_block, hamiltonian_reduced.shape[0], end-start))\n",
    "    \n",
    "    nb_of_prev_states = np.sum([size_of_matrix_to_diagonalize_block(N_osc, N_lev, n) for n in range(0,N_block)])\n",
    "    states = np.arange(nb_of_prev_states, nb_of_prev_states+len(block_eigenvals))\n",
    "    \n",
    "    nb_of_prev_states = np.sum([boson_block_size(N_osc, N_lev, n) for n in range(0,N_block+1)])\n",
    "    states = np.concatenate((np.arange(nb_of_prev_states, nb_of_prev_states+size_spin_down), np.arange(nb_of_prev_states+1+2*boson_block_size(N_osc, N_lev, N_block+1), nb_of_prev_states+1+2*boson_block_size(N_osc, N_lev, N_block+1)+size_spin_up)))\n",
    "    return states,block_eigenvals"
   ]
  },
  {
   "cell_type": "code",
   "execution_count": 197,
   "id": "3461afab-a659-43dc-a5b4-557c299d5c91",
   "metadata": {},
   "outputs": [
    {
     "name": "stdout",
     "output_type": "stream",
     "text": [
      "N_photons= 1, size of the reduced matrix= 4, runtime=6.008148e-05\n"
     ]
    },
    {
     "data": {
      "text/plain": [
       "(array([ 4,  5,  6, 17]),\n",
       " array([-0.01478151,  0.        ,  0.        ,  1.01478151]))"
      ]
     },
     "execution_count": 197,
     "metadata": {},
     "output_type": "execute_result"
    }
   ],
   "source": [
    "hamitonian_eigenvalues_one_block(1, static_rotating_wave, dynamic)"
   ]
  },
  {
   "cell_type": "code",
   "execution_count": 198,
   "id": "0a602445-847f-4cf9-bb44-4dc1b26d0963",
   "metadata": {},
   "outputs": [
    {
     "name": "stdout",
     "output_type": "stream",
     "text": [
      "N_photons= 0, size of the reduced matrix= 1, runtime=4.553795e-05\n"
     ]
    }
   ],
   "source": [
    "block_states, block_eigen_vals = hamitonian_eigenvalues_one_block(0, static_rotating_wave, dynamic)"
   ]
  },
  {
   "cell_type": "markdown",
   "id": "40d15016-37a5-4623-bde2-fed7a911a313",
   "metadata": {},
   "source": [
    "# Compute diagonalized blocks"
   ]
  },
  {
   "cell_type": "code",
   "execution_count": 199,
   "id": "832256b1-c3e7-48f2-9f53-9e00e269ff18",
   "metadata": {},
   "outputs": [],
   "source": [
    "# # blocks_hamiltonian_eigenvalues_no_interaction = [np.array([-1])] \n",
    "# # blocks_hamiltonian_states = [np.array([0])]\n",
    "# # state_counter = 1\n",
    "# blocks_hamiltonian_eigenvalues_no_interaction = [] \n",
    "# blocks_hamiltonian_states = []\n",
    "# state_counter = 0\n",
    "# for N_block in range(0,(N_lev-1)*N_osc) : \n",
    "#     block = hamitonian_eigenvalues_one_block(N_block, static_no_interaction, dynamic)\n",
    "#     blocks_hamiltonian_eigenvalues_no_interaction.append(block)\n",
    "#     blocks_hamiltonian_states.append(np.arange(state_counter, state_counter+len(block)))\n",
    "#     state_counter = state_counter + len(block)"
   ]
  },
  {
   "cell_type": "code",
   "execution_count": 200,
   "id": "cbd9e25f-f0c5-4382-a044-342b362bed1b",
   "metadata": {},
   "outputs": [
    {
     "name": "stdout",
     "output_type": "stream",
     "text": [
      "N_photons= 0, size of the reduced matrix= 1, runtime=7.200241e-05\n",
      "N_photons= 1, size of the reduced matrix= 4, runtime=8.153915e-05\n",
      "N_photons= 2, size of the reduced matrix= 9, runtime=6.031990e-05\n",
      "N_photons= 3, size of the reduced matrix=16, runtime=6.008148e-05\n",
      "N_photons= 4, size of the reduced matrix=22, runtime=6.222725e-05\n",
      "N_photons= 5, size of the reduced matrix=24, runtime=5.340576e-05\n",
      "N_photons= 6, size of the reduced matrix=22, runtime=5.507469e-05\n",
      "N_photons= 7, size of the reduced matrix=16, runtime=5.531311e-05\n",
      "N_photons= 8, size of the reduced matrix= 9, runtime=5.936623e-05\n"
     ]
    }
   ],
   "source": [
    "blocks_hamiltonian_eigenvalues_no_interaction = [] \n",
    "blocks_hamiltonian_states = []\n",
    "for N_block in range(0,(N_lev-1)*N_osc) : \n",
    "    states, block = hamitonian_eigenvalues_one_block(N_block, static_no_interaction, dynamic)\n",
    "    blocks_hamiltonian_states.append(states)\n",
    "    blocks_hamiltonian_eigenvalues_no_interaction.append(block)"
   ]
  },
  {
   "cell_type": "code",
   "execution_count": 201,
   "id": "0aaf142b-ef90-4bf8-ad91-799506efb69b",
   "metadata": {},
   "outputs": [
    {
     "name": "stdout",
     "output_type": "stream",
     "text": [
      "N_photons= 0, size of the reduced matrix= 1, runtime=1.134872e-04\n",
      "N_photons= 1, size of the reduced matrix= 4, runtime=7.152557e-05\n",
      "N_photons= 2, size of the reduced matrix= 9, runtime=1.232624e-04\n",
      "N_photons= 3, size of the reduced matrix=16, runtime=1.482964e-04\n",
      "N_photons= 4, size of the reduced matrix=22, runtime=1.986027e-04\n",
      "N_photons= 5, size of the reduced matrix=24, runtime=3.421307e-04\n",
      "N_photons= 6, size of the reduced matrix=22, runtime=2.298355e-04\n",
      "N_photons= 7, size of the reduced matrix=16, runtime=1.354218e-04\n",
      "N_photons= 8, size of the reduced matrix= 9, runtime=8.106232e-05\n"
     ]
    }
   ],
   "source": [
    "blocks_hamiltonian_eigenvalues_rotating_wave = [] \n",
    "for N_block in range(0,(N_lev-1)*N_osc) : \n",
    "    states, block = hamitonian_eigenvalues_one_block(N_block, static_rotating_wave, dynamic)\n",
    "    blocks_hamiltonian_eigenvalues_rotating_wave.append(block)"
   ]
  },
  {
   "cell_type": "markdown",
   "id": "3b7ec6ac-d70e-4f9d-bf52-ecfcda9f2605",
   "metadata": {},
   "source": [
    "# Check"
   ]
  },
  {
   "cell_type": "code",
   "execution_count": 202,
   "id": "8bd82f37-7647-41d6-9036-55d7b6794ce0",
   "metadata": {},
   "outputs": [
    {
     "data": {
      "application/vnd.jupyter.widget-view+json": {
       "model_id": "38cd2500fa634c1e8f3da887d782d46c",
       "version_major": 2,
       "version_minor": 0
      },
      "text/html": [
       "\n",
       "            <div style=\"display: inline-block;\">\n",
       "                <div class=\"jupyter-widgets widget-label\" style=\"text-align: center;\">\n",
       "                    Figure\n",
       "                </div>\n",
       "                <img src='data:image/png;base64,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' width=800.0/>\n",
       "            </div>\n",
       "        "
      ],
      "text/plain": [
       "Canvas(toolbar=Toolbar(toolitems=[('Home', 'Reset original view', 'home', 'home'), ('Back', 'Back to previous …"
      ]
     },
     "metadata": {},
     "output_type": "display_data"
    }
   ],
   "source": [
    "%matplotlib widget\n",
    "##### plot spectra\n",
    "fig, ax = plt.subplots(nrows=1, ncols=2, constrained_layout=True,figsize=(8,5))\n",
    "\n",
    "# no interation\n",
    "for i,block in enumerate(blocks_hamiltonian_eigenvalues_no_interaction) :\n",
    "    ax[0].plot(blocks_hamiltonian_states[i], block, '.-', lw=1., ms=3.0)\n",
    "ax[0].plot(np.arange(H_no_interaction.Ns),eigenvalues_H_no_interaction, '.-', color='r', lw=1., ms=1.0)\n",
    "ax[0].set(title='No interaction', xlabel='state number', ylabel='eigenvalue'); ax[0].grid(False)\n",
    "\n",
    "#rotating wave approx\n",
    "for i, block in enumerate(blocks_hamiltonian_eigenvalues_rotating_wave) :\n",
    "    ax[1].plot(blocks_hamiltonian_states[i], block, '.-', lw=1., ms=3.0, label=('Blocks' if i==0 else ''))\n",
    "ax[1].plot(eigenvalues_H_rotating_wave, '-', color='r', lw=1., ms=1.0, label='Full Hamiltonian')\n",
    "ax[1].legend(bbox_to_anchor=(1.05, 1), loc='upper left')\n",
    "ax[1].set(title='$(\\sigma^- a^\\dag+\\sigma^+ a)$', xlabel='state number'); ax[1].grid(False)\n",
    "plt.show()"
   ]
  },
  {
   "cell_type": "code",
   "execution_count": 203,
   "id": "af2c988a-4302-49b5-8af9-16ab1bb99ffb",
   "metadata": {},
   "outputs": [],
   "source": [
    "# fig, ax = plt.subplots(nrows=1, ncols=1, constrained_layout=True,figsize=(4.5,3.5))\n",
    "# for i, block in enumerate(blocks_hamiltonian_eigenvalues_rotating_wave) :\n",
    "#     x = blocks_hamiltonian_states[i]\n",
    "#     ax.plot(x, block-eigenvalues_H_rotating_wave[x], '.-')\n",
    "# ax.set(title='Error', xlabel='state number')\n",
    "# plt.show()"
   ]
  },
  {
   "cell_type": "code",
   "execution_count": 204,
   "id": "217a4fa7-844b-4c0b-84bc-2ed71dfce7a2",
   "metadata": {},
   "outputs": [
    {
     "data": {
      "application/vnd.jupyter.widget-view+json": {
       "model_id": "f6f3fc14701e4f3088c1ece5a470dd0a",
       "version_major": 2,
       "version_minor": 0
      },
      "text/html": [
       "\n",
       "            <div style=\"display: inline-block;\">\n",
       "                <div class=\"jupyter-widgets widget-label\" style=\"text-align: center;\">\n",
       "                    Figure\n",
       "                </div>\n",
       "                <img src='data:image/png;base64,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' width=450.0/>\n",
       "            </div>\n",
       "        "
      ],
      "text/plain": [
       "Canvas(toolbar=Toolbar(toolitems=[('Home', 'Reset original view', 'home', 'home'), ('Back', 'Back to previous …"
      ]
     },
     "metadata": {},
     "output_type": "display_data"
    }
   ],
   "source": [
    "fig, ax = plt.subplots(nrows=1, ncols=1, constrained_layout=True,figsize=(4.5,3.5))\n",
    "N_block=5\n",
    "ax.plot(blocks_hamiltonian_states[N_block], blocks_hamiltonian_eigenvalues_rotating_wave[N_block], '.-')\n",
    "ax.set(title=r'One block $N_b$=%2.0i' % N_block, xlabel='state number', ylabel='eigenvalue'); ax.grid()\n",
    "plt.show()"
   ]
  },
  {
   "cell_type": "code",
   "execution_count": null,
   "id": "59d622ce-c121-460a-a958-87691215b0d3",
   "metadata": {},
   "outputs": [],
   "source": []
  }
 ],
 "metadata": {
  "kernelspec": {
   "display_name": "Python 3",
   "language": "python",
   "name": "python3"
  },
  "language_info": {
   "codemirror_mode": {
    "name": "ipython",
    "version": 3
   },
   "file_extension": ".py",
   "mimetype": "text/x-python",
   "name": "python",
   "nbconvert_exporter": "python",
   "pygments_lexer": "ipython3",
   "version": "3.9.7"
  }
 },
 "nbformat": 4,
 "nbformat_minor": 5
}
