{
 "cells": [
  {
   "cell_type": "markdown",
   "id": "fdbe4909-e16e-4fa8-bf38-c58c44189ba4",
   "metadata": {},
   "source": [
    "# Import"
   ]
  },
  {
   "cell_type": "code",
   "execution_count": 1,
   "id": "57276971-bf04-43cf-a523-c761d7541f98",
   "metadata": {},
   "outputs": [],
   "source": [
    "from quspin.basis import spin_basis_1d,photon_basis,boson_basis_1d,tensor_basis # Hilbert space bases\n",
    "from quspin.operators import hamiltonian # Hamiltonian and observables\n",
    "from quspin.tools.measurements import obs_vs_time,diag_ensemble # t_dep measurements\n",
    "from quspin.tools.Floquet import Floquet,Floquet_t_vec # Floquet Hamiltonian\n",
    "from quspin.basis.photon import coherent_state # HO coherent state\n",
    "from quspin.tools.block_tools import block_diag_hamiltonian\n",
    "import numpy as np # generic math functions\n",
    "import matplotlib.pyplot as plt\n",
    "import pylab\n",
    "import scipy.sparse.linalg as sparseLA\n",
    "from numpy import linalg as LA\n",
    "from scipy.special import comb\n",
    "import time"
   ]
  },
  {
   "cell_type": "markdown",
   "id": "57f39fa2-436c-4dc3-9b9b-8471d57b408b",
   "metadata": {},
   "source": [
    "# Model parameters"
   ]
  },
  {
   "cell_type": "code",
   "execution_count": 2,
   "id": "585fc7dc-04de-4920-9c9e-54ad58edfd00",
   "metadata": {},
   "outputs": [],
   "source": [
    "N_osc=4 #number of harmonic oscillators\n",
    "N_lev=3 # number of energy levels of oscillators\n",
    "N_tot=N_lev**N_osc # total number of states of all photons\n",
    "Omega=1.0 # frequency of the oscillator\n",
    "A=0.2 # spin-photon coupling strength (drive amplitude)\n",
    "Delta=0.5 # difference between atom energy levels"
   ]
  },
  {
   "cell_type": "code",
   "execution_count": 3,
   "id": "29cd9d6a-53c8-4231-a26b-1e4f2220a1fb",
   "metadata": {},
   "outputs": [],
   "source": [
    "N_ph_avg=N_lev//2"
   ]
  },
  {
   "cell_type": "code",
   "execution_count": 4,
   "id": "82444655-6777-4b62-a941-9695ed7cef3d",
   "metadata": {},
   "outputs": [
    {
     "data": {
      "text/plain": [
       "162"
      ]
     },
     "execution_count": 4,
     "metadata": {},
     "output_type": "execute_result"
    }
   ],
   "source": [
    "2*N_tot"
   ]
  },
  {
   "cell_type": "markdown",
   "id": "bd41497c-ff6d-42b0-a3f9-c5e8fffd8f14",
   "metadata": {},
   "source": [
    "# Hamiltonian of a two-state atom in a reservoir of harmonic oscillators "
   ]
  },
  {
   "cell_type": "markdown",
   "id": "f40cb507-f981-4ee9-99aa-785715e34b96",
   "metadata": {},
   "source": [
    "For the purpose of our study, we take a two-level atom (i.e. a single-site spin chain) and couple it to multiple photon mode (i.e. a quantum harmonic oscillators). The Hamiltonian reads: \n",
    "$$ H = \\sum_{k=1}^{N_{osc}} \\Omega_k a_k^\\dagger a_k + \\frac{A}{2} \\frac{1}{\\sqrt{N_{ph~avg}}} \\sum_k (a_k^\\dagger + a_k) \\sigma^x + \\Delta \\sigma^z$$\n",
    "where the operator $a^\\dagger$ creates a photon in the mode, and the atom is modelled by a two-level system described by the Pauli spin operators $\\sigma^{x,y,z}$. \n",
    "$N_{osc}$ is the number of harmoniv oscillators in the reservoir, $N_{lev}$ - number of energy levels of a single photon mode.\n",
    "The photon frequency is $\\Omega$, $N_{ph}$ is the average number of photons in a single mode, $A$ - the coupling between the EM field $E=\\sum_{k=1}^{N_{osc}}\\sqrt{N_{ph~avg}^{-1}}(a_k^\\dagger + a_k)$, and the dipole operator $\\sigma^x$, and $\\Delta$ measures the energy difference between the two atomic states."
   ]
  },
  {
   "cell_type": "markdown",
   "id": "94e7408a-9020-459b-817c-b81a9dcc11cb",
   "metadata": {},
   "source": [
    "To set up the spin-photon Hamiltonian, we first build the site-coupling lists. The ph_energy list does not require the specification of a lattice site index, since the latter is not defined forthe photon sector. The at_energy list, on the other hand, requires the input of the lattice sitefor the $\\sigma^z$-operator:  since we consider a single two-level system or, equivalently – a single-site chain, this index is 0. The spin-photon coupling lists absorb and emit also require the site index which refers to the corresponding Pauli matrices: in this model – 0 again due to dimensional constraints."
   ]
  },
  {
   "cell_type": "code",
   "execution_count": 5,
   "id": "a65c3948-30c7-4786-82bf-eb2b9638a0fb",
   "metadata": {},
   "outputs": [],
   "source": [
    "# define operator site-coupling lists\n",
    "ph_energy=[[Omega,i] for i in range(N_osc)] # photon energy\n",
    "at_energy=[[Delta,0]] # atom energy, 0 because the \"lattice\" is single-site\n",
    "absorb=[[A/(2.0*np.sqrt(N_ph_avg)),0,i] for i in range(N_osc)] # absorption term\n",
    "emit=[[A/(2.0*np.sqrt(N_ph_avg)),0,i] for i in range(N_osc)] # emission term"
   ]
  },
  {
   "cell_type": "markdown",
   "id": "bb126ab1-f70d-4ef6-b6f0-c01aa4d3695d",
   "metadata": {},
   "source": [
    "To build the static operator list, we use the $|$ symbol in the operator string to distinguish the spin and photon operators: spin operators always come to the left of the $|$-symbol,  while photon operators - to the right. For convenience, the identity operator $I$ can be omitted, suchthat $I|n$ is the same as $|n$, and $z|I$ is equivalent to $z|$, respectively. The dynamic list is empty since the spin-photon Hamiltonian is time-independent."
   ]
  },
  {
   "cell_type": "code",
   "execution_count": 6,
   "id": "0fa87669-3a4b-4404-a223-c4577854990c",
   "metadata": {},
   "outputs": [],
   "source": [
    "# define static and dynamics lists\n",
    "static_no_interaction=[[\"|n\",ph_energy],[\"z|\",at_energy]]\n",
    "static_rotating_wave=[[\"|n\",ph_energy],[\"+|-\",absorb],[\"-|+\",emit],[\"z|\",at_energy]]\n",
    "static_full=[[\"|n\",ph_energy],[\"x|-\",absorb],[\"x|+\",emit],[\"z|\",at_energy]]\n",
    "dynamic=[]"
   ]
  },
  {
   "cell_type": "markdown",
   "id": "9b0038ea-d3ca-44dd-b41f-a7c64b9b8bfe",
   "metadata": {},
   "source": [
    "To build the spin-photon basis, we call the function photon_basis and use spin_basis_1d as the first argument. We need to specify the number of spin lattice sites, and the total numberof harmonic oscillator (a.k.a photon) states."
   ]
  },
  {
   "cell_type": "code",
   "execution_count": 7,
   "id": "74a0ccb1-12bb-486e-b178-a132d8885414",
   "metadata": {},
   "outputs": [],
   "source": [
    "basis_osc = boson_basis_1d(L=N_osc, sps=N_lev)\n",
    "#print(basis_osc)"
   ]
  },
  {
   "cell_type": "code",
   "execution_count": 8,
   "id": "7e9e3d12-161d-4e97-a5db-15d9c64fe350",
   "metadata": {},
   "outputs": [
    {
     "name": "stdout",
     "output_type": "stream",
     "text": [
      "reference states: \n",
      "array index   /   Fock state   /   integer repr. \n",
      "\t  0.         |1>           1         |2 2 2 2>           80  \n",
      "\t  1.         |1>           1         |2 2 2 1>           79  \n",
      "\t  2.         |1>           1         |2 2 2 0>           78  \n",
      "\t  3.         |1>           1         |2 2 1 2>           77  \n",
      "\t  4.         |1>           1         |2 2 1 1>           76  \n",
      "\t  5.         |1>           1         |2 2 1 0>           75  \n",
      "\t  6.         |1>           1         |2 2 0 2>           74  \n",
      "\t  7.         |1>           1         |2 2 0 1>           73  \n",
      "\t  8.         |1>           1         |2 2 0 0>           72  \n",
      "\t  9.         |1>           1         |2 1 2 2>           71  \n",
      "\t 10.         |1>           1         |2 1 2 1>           70  \n",
      "\t 11.         |1>           1         |2 1 2 0>           69  \n",
      "\t 12.         |1>           1         |2 1 1 2>           68  \n",
      "\t 13.         |1>           1         |2 1 1 1>           67  \n",
      "\t 14.         |1>           1         |2 1 1 0>           66  \n",
      "\t 15.         |1>           1         |2 1 0 2>           65  \n",
      "\t 16.         |1>           1         |2 1 0 1>           64  \n",
      "\t 17.         |1>           1         |2 1 0 0>           63  \n",
      "\t 18.         |1>           1         |2 0 2 2>           62  \n",
      "\t 19.         |1>           1         |2 0 2 1>           61  \n",
      "\t 20.         |1>           1         |2 0 2 0>           60  \n",
      "\t 21.         |1>           1         |2 0 1 2>           59  \n",
      "\t 22.         |1>           1         |2 0 1 1>           58  \n",
      "\t 23.         |1>           1         |2 0 1 0>           57  \n",
      "\t 24.         |1>           1         |2 0 0 2>           56  \n",
      "                              :\n",
      "\t137.         |0>           0         |0 2 2 0>           24  \n",
      "\t138.         |0>           0         |0 2 1 2>           23  \n",
      "\t139.         |0>           0         |0 2 1 1>           22  \n",
      "\t140.         |0>           0         |0 2 1 0>           21  \n",
      "\t141.         |0>           0         |0 2 0 2>           20  \n",
      "\t142.         |0>           0         |0 2 0 1>           19  \n",
      "\t143.         |0>           0         |0 2 0 0>           18  \n",
      "\t144.         |0>           0         |0 1 2 2>           17  \n",
      "\t145.         |0>           0         |0 1 2 1>           16  \n",
      "\t146.         |0>           0         |0 1 2 0>           15  \n",
      "\t147.         |0>           0         |0 1 1 2>           14  \n",
      "\t148.         |0>           0         |0 1 1 1>           13  \n",
      "\t149.         |0>           0         |0 1 1 0>           12  \n",
      "\t150.         |0>           0         |0 1 0 2>           11  \n",
      "\t151.         |0>           0         |0 1 0 1>           10  \n",
      "\t152.         |0>           0         |0 1 0 0>            9  \n",
      "\t153.         |0>           0         |0 0 2 2>            8  \n",
      "\t154.         |0>           0         |0 0 2 1>            7  \n",
      "\t155.         |0>           0         |0 0 2 0>            6  \n",
      "\t156.         |0>           0         |0 0 1 2>            5  \n",
      "\t157.         |0>           0         |0 0 1 1>            4  \n",
      "\t158.         |0>           0         |0 0 1 0>            3  \n",
      "\t159.         |0>           0         |0 0 0 2>            2  \n",
      "\t160.         |0>           0         |0 0 0 1>            1  \n",
      "\t161.         |0>           0         |0 0 0 0>            0  \n"
     ]
    }
   ],
   "source": [
    "# compute atom-photon basis\n",
    "#basis_photon_particle=photon_basis(spin_basis_1d, L=1, Nph=L_lev)\n",
    "basis_osc = boson_basis_1d(L=N_osc,sps=N_lev)\n",
    "basis_spin = spin_basis_1d(L=1, pauli=-1, S='1/2')\n",
    "basis = tensor_basis(basis_spin,basis_osc) \n",
    "print(basis)"
   ]
  },
  {
   "cell_type": "code",
   "execution_count": 9,
   "id": "8f27d79c-66e6-4d2e-8483-ab66f5af0ba2",
   "metadata": {},
   "outputs": [],
   "source": [
    "# import inspect\n",
    "# inspect.getmembers(tensor_basis)"
   ]
  },
  {
   "cell_type": "code",
   "execution_count": 10,
   "id": "b3fb9609-3623-4c0b-afc6-20daeea63516",
   "metadata": {},
   "outputs": [],
   "source": [
    "# compute atom-photon Hamiltonian H\n",
    "H_no_interaction=hamiltonian(static_no_interaction,dynamic,dtype=np.float64, basis=basis, check_symm=False, check_pcon=False, check_herm=False)\n",
    "H_full=hamiltonian(static_full,dynamic,dtype=np.float64, basis=basis, check_symm=False, check_pcon=False, check_herm=False)\n",
    "H_rotating_wave=hamiltonian(static_rotating_wave,dynamic,dtype=np.float64, basis=basis, check_symm=False, check_pcon=False, check_herm=False)"
   ]
  },
  {
   "cell_type": "code",
   "execution_count": 11,
   "id": "cb5145e0-616c-471f-8784-2fdf5d7b3242",
   "metadata": {},
   "outputs": [],
   "source": [
    "#print('Number of states of Hamiltonian:', H_rotating_wave.Ns)"
   ]
  },
  {
   "cell_type": "markdown",
   "id": "35d69f87-de6c-40dc-826b-f1f8b71bfc6c",
   "metadata": {
    "tags": []
   },
   "source": [
    "# Spectrum "
   ]
  },
  {
   "cell_type": "code",
   "execution_count": 12,
   "id": "ff3b39af-adba-4cd0-b64b-a136f2a6e63d",
   "metadata": {},
   "outputs": [
    {
     "name": "stdout",
     "output_type": "stream",
     "text": [
      "Runtime is 0.00539708137512207\n"
     ]
    }
   ],
   "source": [
    "# calculate entire spectrum only\n",
    "start = time.time()\n",
    "eigenvalues_H_no_interaction=H_no_interaction.eigvalsh()\n",
    "end = time.time()\n",
    "print('Runtime is', end-start)"
   ]
  },
  {
   "cell_type": "code",
   "execution_count": 13,
   "id": "902b6efb-ef69-41c1-b7c2-5fc3f7411447",
   "metadata": {},
   "outputs": [
    {
     "name": "stdout",
     "output_type": "stream",
     "text": [
      "Runtime is 0.0070950984954833984\n"
     ]
    }
   ],
   "source": [
    "start = time.time()\n",
    "eigenvalues_H_full=H_full.eigvalsh()\n",
    "end = time.time()\n",
    "print('Runtime is', end-start)"
   ]
  },
  {
   "cell_type": "code",
   "execution_count": 14,
   "id": "930580fd-af58-4309-ac8d-a1cb8a818f30",
   "metadata": {},
   "outputs": [
    {
     "name": "stdout",
     "output_type": "stream",
     "text": [
      "Runtime is 0.0032935142517089844\n"
     ]
    }
   ],
   "source": [
    "start = time.time()\n",
    "eigenvalues_H_rotating_wave=H_rotating_wave.eigvalsh()\n",
    "end = time.time()\n",
    "print('Runtime is', end-start)"
   ]
  },
  {
   "cell_type": "code",
   "execution_count": 15,
   "id": "735f5dc7-2f43-42dc-be46-d30580aff845",
   "metadata": {},
   "outputs": [
    {
     "data": {
      "image/png": "[encoded data removed]",
      "text/plain": [
       "<Figure size 720x360 with 3 Axes>"
      ]
     },
     "metadata": {
      "needs_background": "light"
     },
     "output_type": "display_data"
    }
   ],
   "source": [
    "##### plot spectra\n",
    "fig, ax = plt.subplots(nrows=1, ncols=3, constrained_layout=True,figsize=(10,5))\n",
    "x = np.arange(H_no_interaction.Ns)\n",
    "ax[0].plot(x,eigenvalues_H_no_interaction, '.-', color='b', lw=1.)\n",
    "ax[1].plot(x,eigenvalues_H_full, '.-', color='b', lw=1.)\n",
    "ax[2].plot(x,eigenvalues_H_rotating_wave, '.-', color='b', lw=1.)\n",
    "for level in x :\n",
    "    ax[0].plot(x,np.full(H_no_interaction.Ns,eigenvalues_H_no_interaction[level]), '-', color='b', lw=0.5)\n",
    "    ax[1].plot(x,np.full(H_full.Ns,eigenvalues_H_full[level]), '-', color='b', lw=0.5)\n",
    "    ax[2].plot(x,np.full(H_rotating_wave.Ns,eigenvalues_H_rotating_wave[level]), '-', color='b', lw=0.5)\n",
    "ax[0].set(title='No interaction', xlabel='state number', ylabel='eigenvalue'); ax[0].grid(False)\n",
    "ax[1].set(title='$(a^\\dag+a)\\sigma^x$', xlabel='state number'); ax[1].grid(False)\n",
    "ax[2].set(title='$(\\sigma^- a^\\dag+\\sigma^+ a)$', xlabel='state number'); ax[1].grid(False)\n",
    "plt.show()"
   ]
  },
  {
   "cell_type": "markdown",
   "id": "24204055-4044-43df-9757-01c51bf8c44b",
   "metadata": {},
   "source": [
    "# Definitions: blocks and eigenvalues"
   ]
  },
  {
   "cell_type": "code",
   "execution_count": 30,
   "id": "26684fac-3400-4dee-85b6-4cd143ee9703",
   "metadata": {},
   "outputs": [],
   "source": [
    "# size of of the particle-conserved basis of bosons\n",
    "def boson_block_size(N_sites, N_levels, N_particles):\n",
    "    Ns=0\n",
    "    for r in range(N_particles//N_levels+1):\n",
    "        r_2 = N_particles - r*N_levels\n",
    "        if r % 2 == 0:\n",
    "            Ns +=  comb(N_sites,r,exact=True) * comb(N_sites + r_2 - 1,r_2,exact=True)\n",
    "        else:\n",
    "            Ns += -comb(N_sites,r,exact=True) * comb(N_sites + r_2 - 1,r_2,exact=True)\n",
    "    return Ns"
   ]
  },
  {
   "cell_type": "code",
   "execution_count": 36,
   "id": "a9339303-b64d-49d6-8715-195d4c1de72e",
   "metadata": {},
   "outputs": [],
   "source": [
    "def size_of_matrix_to_diagonalize_block(N_sites, N_levels, N_block):\n",
    "    #return 2*boson_block_size(N_osc, N_lev, N_block)+boson_block_size(N_osc, N_lev, N_block-1)+boson_block_size(N_osc, N_lev, N_block+1)\n",
    "    return boson_block_size(N_sites, N_levels, N_block-1)+boson_block_size(N_sites, N_levels, N_block)"
   ]
  },
  {
   "cell_type": "code",
   "execution_count": 39,
   "id": "039d3d4c-dd22-45b2-955a-d2efff9526bf",
   "metadata": {},
   "outputs": [
    {
     "data": {
      "text/plain": [
       "140988"
      ]
     },
     "execution_count": 39,
     "metadata": {},
     "output_type": "execute_result"
    }
   ],
   "source": [
    "size_of_matrix_to_diagonalize_block(10, 10, 10)"
   ]
  },
  {
   "cell_type": "code",
   "execution_count": 40,
   "id": "8a1a958e-a8f5-44d7-aa2c-f99f93ccbe27",
   "metadata": {},
   "outputs": [],
   "source": [
    "def hamitonian_eigenvalues_one_block(N_block, static_list, dynamic_list) :\n",
    "    basis_osc_block = boson_basis_1d(L=N_osc, Nb={N_block,N_block-1}, sps=N_lev)    # boson basis with chosen number of particles\n",
    "    basis_osc_block_size = len(basis_osc_block.states)\n",
    "    basis_block = tensor_basis(basis_spin,basis_osc_block)                 # mixed atom-boson basis\n",
    "\n",
    "    basis_osc_block_n = boson_basis_1d(L=N_osc, Nb={N_block}, sps=N_lev)     # part of boson basis\n",
    "    # only spin down\n",
    "    selected_indices_n_down_spin = 2*basis_osc_block_size - np.searchsorted(np.flip(basis_osc_block.states), basis_osc_block_n.states) - 1   \n",
    "    size_spin_down = len(selected_indices_n_down_spin)\n",
    "    \n",
    "    basis_osc_block_n_minus_1 = boson_basis_1d(L=N_osc, Nb={N_block-1}, sps=N_lev)     # part of boson basis\n",
    "    # only spin up\n",
    "    selected_indices_n_minus_1 = basis_osc_block_size - np.searchsorted(np.flip(basis_osc_block.states), basis_osc_block_n_minus_1.states) - 1  # only spin up\n",
    "    size_spin_up = len(selected_indices_n_minus_1)\n",
    "    \n",
    "    all_selected_indices = np.concatenate((selected_indices_n_minus_1, selected_indices_n_down_spin))   # only spin down\n",
    "    \n",
    "    if len(all_selected_indices < 1000) :\n",
    "        sparse = False\n",
    "    else :\n",
    "        sparse = True\n",
    "    \n",
    "    if sparse :\n",
    "        hamiltonian_full = hamiltonian(static_list,dynamic_list,dtype=np.float64, basis=basis_block, check_symm=False, check_pcon=False, check_herm=False).tocsc()\n",
    "    else :\n",
    "        hamiltonian_full = hamiltonian(static_list,dynamic_list,dtype=np.float64, basis=basis_block, check_symm=False, check_pcon=False, check_herm=False).toarray()\n",
    "    \n",
    "    ixgrid = np.ix_(all_selected_indices, all_selected_indices)\n",
    "    hamiltonian_reduced = hamiltonian_full[ixgrid]\n",
    "\n",
    "    start = time.time()\n",
    "    if sparse :\n",
    "        block_eigenvals, block_eigenvectors = sparseLA.eigsh(hamiltonian_reduced,k=hamiltonian_reduced.shape[0])\n",
    "    else :\n",
    "        block_eigenvals, block_eigenvectors = LA.eigh(hamiltonian_reduced)   # for dense matrices\n",
    "    end = time.time()\n",
    "    \n",
    "    print('N_photons=%2.0f, size of the reduced matrix=%2.0f, runtime=%2.6e' %(N_block, hamiltonian_reduced.shape[0], end-start))\n",
    "    \n",
    "    nb_of_prev_states = np.sum([size_of_matrix_to_diagonalize_block(N_osc, N_lev, n) for n in range(0,N_block)])\n",
    "    states = np.arange(nb_of_prev_states, nb_of_prev_states+len(block_eigenvals))\n",
    "    \n",
    "    # nb_of_prev_states = np.sum([size_of_matrix_to_diagonalize_block(N_osc, N_lev, n) for n in range(0,N_block)])\n",
    "    # bottom_step_begin = nb_of_prev_states - boson_block_size(N_osc, N_lev, N_block-2)\n",
    "    # bottom_step_end = bottom_step_begin + size_spin_down\n",
    "    # upper_step_begin = bottom_step_end + boson_block_size(N_osc, N_lev, N_block-2) + boson_block_size(N_osc, N_lev, N_block+1)\n",
    "    # upper_step_end = upper_step_begin + size_spin_up\n",
    "    # states = np.concatenate((np.arange(bottom_step_begin, bottom_step_end), np.arange(upper_step_begin, upper_step_end)))\n",
    "    \n",
    "    return states,block_eigenvals"
   ]
  },
  {
   "cell_type": "code",
   "execution_count": 41,
   "id": "3461afab-a659-43dc-a5b4-557c299d5c91",
   "metadata": {},
   "outputs": [
    {
     "name": "stdout",
     "output_type": "stream",
     "text": [
      "N_photons= 1, size of the reduced matrix= 5, runtime=6.246567e-05\n"
     ]
    },
    {
     "data": {
      "text/plain": [
       "(array([1, 2, 3, 4, 5]), array([0.3, 0.5, 0.5, 0.5, 0.7]))"
      ]
     },
     "execution_count": 41,
     "metadata": {},
     "output_type": "execute_result"
    }
   ],
   "source": [
    "hamitonian_eigenvalues_one_block(1, static_rotating_wave, dynamic)"
   ]
  },
  {
   "cell_type": "code",
   "execution_count": 42,
   "id": "0a602445-847f-4cf9-bb44-4dc1b26d0963",
   "metadata": {},
   "outputs": [
    {
     "name": "stdout",
     "output_type": "stream",
     "text": [
      "N_photons= 0, size of the reduced matrix= 1, runtime=7.414818e-05\n"
     ]
    }
   ],
   "source": [
    "block_states, block_eigen_vals = hamitonian_eigenvalues_one_block(0, static_rotating_wave, dynamic)"
   ]
  },
  {
   "cell_type": "markdown",
   "id": "40d15016-37a5-4623-bde2-fed7a911a313",
   "metadata": {},
   "source": [
    "# Compute diagonalized blocks"
   ]
  },
  {
   "cell_type": "code",
   "execution_count": 43,
   "id": "cbd9e25f-f0c5-4382-a044-342b362bed1b",
   "metadata": {},
   "outputs": [
    {
     "name": "stdout",
     "output_type": "stream",
     "text": [
      "N_photons= 0, size of the reduced matrix= 1, runtime=4.792213e-05\n",
      "N_photons= 1, size of the reduced matrix= 5, runtime=6.413460e-05\n",
      "N_photons= 2, size of the reduced matrix=14, runtime=6.699562e-05\n",
      "N_photons= 3, size of the reduced matrix=26, runtime=6.580353e-05\n",
      "N_photons= 4, size of the reduced matrix=35, runtime=2.255678e-03\n",
      "N_photons= 5, size of the reduced matrix=35, runtime=1.857281e-04\n",
      "N_photons= 6, size of the reduced matrix=26, runtime=3.623962e-05\n",
      "N_photons= 7, size of the reduced matrix=14, runtime=3.576279e-05\n"
     ]
    }
   ],
   "source": [
    "blocks_hamiltonian_eigenvalues_no_interaction = [] \n",
    "blocks_hamiltonian_states = []\n",
    "for N_block in range(0,(N_lev-1)*N_osc) : \n",
    "    states, block = hamitonian_eigenvalues_one_block(N_block, static_no_interaction, dynamic)\n",
    "    blocks_hamiltonian_states.append(states)\n",
    "    blocks_hamiltonian_eigenvalues_no_interaction.append(block)"
   ]
  },
  {
   "cell_type": "code",
   "execution_count": 44,
   "id": "0aaf142b-ef90-4bf8-ad91-799506efb69b",
   "metadata": {},
   "outputs": [
    {
     "name": "stdout",
     "output_type": "stream",
     "text": [
      "N_photons= 0, size of the reduced matrix= 1, runtime=9.465218e-05\n",
      "N_photons= 1, size of the reduced matrix= 5, runtime=7.009506e-05\n",
      "N_photons= 2, size of the reduced matrix=14, runtime=1.969337e-04\n",
      "N_photons= 3, size of the reduced matrix=26, runtime=1.745701e-03\n",
      "N_photons= 4, size of the reduced matrix=35, runtime=4.005909e-03\n",
      "N_photons= 5, size of the reduced matrix=35, runtime=6.971359e-04\n",
      "N_photons= 6, size of the reduced matrix=26, runtime=1.554012e-03\n",
      "N_photons= 7, size of the reduced matrix=14, runtime=2.007484e-04\n"
     ]
    }
   ],
   "source": [
    "blocks_hamiltonian_eigenvalues_rotating_wave = [] \n",
    "for N_block in range(0,(N_lev-1)*N_osc) : \n",
    "    states, block = hamitonian_eigenvalues_one_block(N_block, static_rotating_wave, dynamic)\n",
    "    blocks_hamiltonian_eigenvalues_rotating_wave.append(block)"
   ]
  },
  {
   "cell_type": "markdown",
   "id": "3b7ec6ac-d70e-4f9d-bf52-ecfcda9f2605",
   "metadata": {},
   "source": [
    "# Check"
   ]
  },
  {
   "cell_type": "code",
   "execution_count": 45,
   "id": "8bd82f37-7647-41d6-9036-55d7b6794ce0",
   "metadata": {},
   "outputs": [
    {
     "data": {
      "application/vnd.jupyter.widget-view+json": {
       "model_id": "ccbb942dd11a442fa5f87d23f22447f4",
       "version_major": 2,
       "version_minor": 0
      },
      "text/html": [
       "\n",
       "            <div style=\"display: inline-block;\">\n",
       "                <div class=\"jupyter-widgets widget-label\" style=\"text-align: center;\">\n",
       "                    Figure\n",
       "                </div>\n",
       "                <img src='data:image/png;base64,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' width=800.0/>\n",
       "            </div>\n",
       "        "
      ],
      "text/plain": [
       "Canvas(toolbar=Toolbar(toolitems=[('Home', 'Reset original view', 'home', 'home'), ('Back', 'Back to previous …"
      ]
     },
     "metadata": {},
     "output_type": "display_data"
    }
   ],
   "source": [
    "%matplotlib widget\n",
    "##### plot spectra\n",
    "fig, ax = plt.subplots(nrows=1, ncols=2, constrained_layout=True,figsize=(8,5))\n",
    "\n",
    "# no interation\n",
    "for i,block in enumerate(blocks_hamiltonian_eigenvalues_no_interaction) :\n",
    "    ax[0].plot(blocks_hamiltonian_states[i], block, '.-', lw=1., ms=5.0)\n",
    "ax[0].plot(np.arange(H_no_interaction.Ns),eigenvalues_H_no_interaction, '.-', color='k', lw=1., ms=1.0)\n",
    "ax[0].set(title='No interaction', xlabel='state number', ylabel='eigenvalue'); ax[0].grid(False)\n",
    "\n",
    "#rotating wave approx\n",
    "for i, block in enumerate(blocks_hamiltonian_eigenvalues_rotating_wave) :\n",
    "    ax[1].plot(blocks_hamiltonian_states[i], block, '.-', lw=1., ms=5.0, label=('Blocks' if i==0 else ''))\n",
    "ax[1].plot(eigenvalues_H_rotating_wave, '-', color='k', lw=1., ms=1.0, label='Full Hamiltonian')\n",
    "ax[1].legend(bbox_to_anchor=(1.05, 1), loc='upper left')\n",
    "ax[1].set(title='$(\\sigma^- a^\\dag+\\sigma^+ a)$', xlabel='state number'); ax[1].grid(False)\n",
    "plt.show()"
   ]
  },
  {
   "cell_type": "code",
   "execution_count": 50,
   "id": "af2c988a-4302-49b5-8af9-16ab1bb99ffb",
   "metadata": {},
   "outputs": [],
   "source": [
    "# fig, ax = plt.subplots(nrows=1, ncols=1, constrained_layout=True,figsize=(4.5,3.5))\n",
    "# for i, block in enumerate(blocks_hamiltonian_eigenvalues_rotating_wave) :\n",
    "#     x = np.array(blocks_hamiltonian_states[i], dtype=int)\n",
    "#     ax.plot(x, block-eigenvalues_H_rotating_wave[x], '.-')\n",
    "# ax.set(title='Error', xlabel='state number')\n",
    "# plt.show()"
   ]
  },
  {
   "cell_type": "code",
   "execution_count": 52,
   "id": "217a4fa7-844b-4c0b-84bc-2ed71dfce7a2",
   "metadata": {},
   "outputs": [
    {
     "data": {
      "application/vnd.jupyter.widget-view+json": {
       "model_id": "9b28c24cbfe042d2a7aef9701d123323",
       "version_major": 2,
       "version_minor": 0
      },
      "text/html": [
       "\n",
       "            <div style=\"display: inline-block;\">\n",
       "                <div class=\"jupyter-widgets widget-label\" style=\"text-align: center;\">\n",
       "                    Figure\n",
       "                </div>\n",
       "                <img src='data:image/png;base64,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' width=450.0/>\n",
       "            </div>\n",
       "        "
      ],
      "text/plain": [
       "Canvas(toolbar=Toolbar(toolitems=[('Home', 'Reset original view', 'home', 'home'), ('Back', 'Back to previous …"
      ]
     },
     "metadata": {},
     "output_type": "display_data"
    }
   ],
   "source": [
    "fig, ax = plt.subplots(nrows=1, ncols=1, constrained_layout=True,figsize=(4.5,3.5))\n",
    "N_block={3,4,5}\n",
    "for block in N_block :  \n",
    "    ax.plot(blocks_hamiltonian_states[block], blocks_hamiltonian_eigenvalues_rotating_wave[block], '.-')\n",
    "ax.set(title=r'Three blocks $N_b$=' + str(N_block), xlabel='state number', ylabel='eigenvalue'); ax.grid()\n",
    "plt.show()"
   ]
  },
  {
   "cell_type": "code",
   "execution_count": null,
   "id": "82110049-941c-40a8-96af-6be62fd36cdd",
   "metadata": {},
   "outputs": [],
   "source": []
  },
  {
   "cell_type": "code",
   "execution_count": null,
   "id": "8e71eeec-a122-49b4-b6e4-2f8fa7b96004",
   "metadata": {},
   "outputs": [],
   "source": []
  }
 ],
 "metadata": {
  "kernelspec": {
   "display_name": "Python 3",
   "language": "python",
   "name": "python3"
  },
  "language_info": {
   "codemirror_mode": {
    "name": "ipython",
    "version": 3
   },
   "file_extension": ".py",
   "mimetype": "text/x-python",
   "name": "python",
   "nbconvert_exporter": "python",
   "pygments_lexer": "ipython3",
   "version": "3.9.7"
  }
 },
 "nbformat": 4,
 "nbformat_minor": 5
}
