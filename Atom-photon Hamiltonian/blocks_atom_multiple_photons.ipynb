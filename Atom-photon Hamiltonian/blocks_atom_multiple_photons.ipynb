{
 "cells": [
  {
   "cell_type": "markdown",
   "id": "fdbe4909-e16e-4fa8-bf38-c58c44189ba4",
   "metadata": {},
   "source": [
    "# Import"
   ]
  },
  {
   "cell_type": "code",
   "execution_count": 1,
   "id": "57276971-bf04-43cf-a523-c761d7541f98",
   "metadata": {},
   "outputs": [],
   "source": [
    "from quspin.basis import spin_basis_1d,photon_basis,boson_basis_1d,tensor_basis # Hilbert space bases\n",
    "from quspin.operators import hamiltonian # Hamiltonian and observables\n",
    "from quspin.tools.measurements import obs_vs_time,diag_ensemble # t_dep measurements\n",
    "from quspin.tools.Floquet import Floquet,Floquet_t_vec # Floquet Hamiltonian\n",
    "from quspin.basis.photon import coherent_state # HO coherent state\n",
    "from quspin.tools.block_tools import block_diag_hamiltonian\n",
    "import numpy as np # generic math functions\n",
    "import matplotlib.pyplot as plt\n",
    "import pylab\n",
    "from numpy import linalg as LA\n",
    "from scipy.special import comb"
   ]
  },
  {
   "cell_type": "markdown",
   "id": "57f39fa2-436c-4dc3-9b9b-8471d57b408b",
   "metadata": {},
   "source": [
    "# Model parameters"
   ]
  },
  {
   "cell_type": "code",
   "execution_count": 2,
   "id": "585fc7dc-04de-4920-9c9e-54ad58edfd00",
   "metadata": {},
   "outputs": [],
   "source": [
    "N_osc=5 #number of harmonic oscillators\n",
    "N_lev=4 # number of energy levels of oscillators\n",
    "N_tot=N_lev**N_osc # total number of states of all photons\n",
    "Omega=1.0 # frequency of the oscillator\n",
    "A=0.2 # spin-photon coupling strength (drive amplitude)\n",
    "Delta=1.0 # difference between atom energy levels"
   ]
  },
  {
   "cell_type": "code",
   "execution_count": 3,
   "id": "29cd9d6a-53c8-4231-a26b-1e4f2220a1fb",
   "metadata": {},
   "outputs": [],
   "source": [
    "N_ph_avg=N_lev//2"
   ]
  },
  {
   "cell_type": "code",
   "execution_count": 4,
   "id": "82444655-6777-4b62-a941-9695ed7cef3d",
   "metadata": {},
   "outputs": [
    {
     "data": {
      "text/plain": [
       "2048"
      ]
     },
     "execution_count": 4,
     "metadata": {},
     "output_type": "execute_result"
    }
   ],
   "source": [
    "2*N_tot"
   ]
  },
  {
   "cell_type": "markdown",
   "id": "bd41497c-ff6d-42b0-a3f9-c5e8fffd8f14",
   "metadata": {},
   "source": [
    "# Hamiltonian of a two-state atom in a reservoir of harmonic oscillators "
   ]
  },
  {
   "cell_type": "markdown",
   "id": "f40cb507-f981-4ee9-99aa-785715e34b96",
   "metadata": {},
   "source": [
    "For the purpose of our study, we take a two-level atom (i.e. a single-site spin chain) and couple it to multiple photon mode (i.e. a quantum harmonic oscillators). The Hamiltonian reads: \n",
    "$$ H = \\sum_{k=1}^{N_{osc}} \\Omega_k a_k^\\dagger a_k + \\frac{A}{2} \\frac{1}{\\sqrt{N_{ph~avg}}} \\sum_k (a_k^\\dagger + a_k) \\sigma^x + \\Delta \\sigma^z$$\n",
    "where the operator $a^\\dagger$ creates a photon in the mode, and the atom is modelled by a two-level system described by the Pauli spin operators $\\sigma^{x,y,z}$. \n",
    "$N_{osc}$ is the number of harmoniv oscillators in the reservoir, $N_{lev}$ - number of energy levels of a single photon mode.\n",
    "The photon frequency is $\\Omega$, $N_{ph}$ is the average number of photons in a single mode, $A$ - the coupling between the EM field $E=\\sum_{k=1}^{N_{osc}}\\sqrt{N_{ph~avg}^{-1}}(a_k^\\dagger + a_k)$, and the dipole operator $\\sigma^x$, and $\\Delta$ measures the energy difference between the two atomic states."
   ]
  },
  {
   "cell_type": "markdown",
   "id": "94e7408a-9020-459b-817c-b81a9dcc11cb",
   "metadata": {},
   "source": [
    "To set up the spin-photon Hamiltonian, we first build the site-coupling lists. The ph_energy list does not require the specification of a lattice site index, since the latter is not defined forthe photon sector. The at_energy list, on the other hand, requires the input of the lattice sitefor the $\\sigma^z$-operator:  since we consider a single two-level system or, equivalently – a single-site chain, this index is 0. The spin-photon coupling lists absorb and emit also require the site index which refers to the corresponding Pauli matrices: in this model – 0 again due to dimensional constraints."
   ]
  },
  {
   "cell_type": "code",
   "execution_count": 5,
   "id": "a65c3948-30c7-4786-82bf-eb2b9638a0fb",
   "metadata": {},
   "outputs": [],
   "source": [
    "# define operator site-coupling lists\n",
    "ph_energy=[[Omega,i] for i in range(N_osc)] # photon energy\n",
    "at_energy=[[Delta,0]] # atom energy, 0 because the \"lattice\" is single-site\n",
    "absorb=[[A/(2.0*np.sqrt(N_ph_avg)),0,i] for i in range(N_osc)] # absorption term\n",
    "emit=[[A/(2.0*np.sqrt(N_ph_avg)),0,i] for i in range(N_osc)] # emission term"
   ]
  },
  {
   "cell_type": "markdown",
   "id": "bb126ab1-f70d-4ef6-b6f0-c01aa4d3695d",
   "metadata": {},
   "source": [
    "To build the static operator list, we use the $|$ symbol in the operator string to distinguish the spin and photon operators: spin operators always come to the left of the $|$-symbol,  while photon operators - to the right. For convenience, the identity operator $I$ can be omitted, suchthat $I|n$ is the same as $|n$, and $z|I$ is equivalent to $z|$, respectively. The dynamic list is empty since the spin-photon Hamiltonian is time-independent."
   ]
  },
  {
   "cell_type": "code",
   "execution_count": 6,
   "id": "0fa87669-3a4b-4404-a223-c4577854990c",
   "metadata": {},
   "outputs": [],
   "source": [
    "# define static and dynamics lists\n",
    "static_no_interaction=[[\"|n\",ph_energy],[\"z|\",at_energy]]\n",
    "static_rotating_wave=[[\"|n\",ph_energy],[\"+|-\",absorb],[\"-|+\",emit],[\"z|\",at_energy]]\n",
    "static_full=[[\"|n\",ph_energy],[\"x|-\",absorb],[\"x|+\",emit],[\"z|\",at_energy]]\n",
    "dynamic=[]"
   ]
  },
  {
   "cell_type": "markdown",
   "id": "9b0038ea-d3ca-44dd-b41f-a7c64b9b8bfe",
   "metadata": {},
   "source": [
    "To build the spin-photon basis, we call the function photon_basis and use spin_basis_1d as the first argument. We need to specify the number of spin lattice sites, and the total numberof harmonic oscillator (a.k.a photon) states."
   ]
  },
  {
   "cell_type": "code",
   "execution_count": 7,
   "id": "74a0ccb1-12bb-486e-b178-a132d8885414",
   "metadata": {},
   "outputs": [],
   "source": [
    "basis_osc = boson_basis_1d(L=N_osc, sps=N_lev)\n",
    "#print(basis_osc)"
   ]
  },
  {
   "cell_type": "code",
   "execution_count": 8,
   "id": "7e9e3d12-161d-4e97-a5db-15d9c64fe350",
   "metadata": {},
   "outputs": [
    {
     "name": "stdout",
     "output_type": "stream",
     "text": [
      "reference states: \n",
      "array index   /   Fock state   /   integer repr. \n",
      "\t   0.         |1>           1         |3 3 3 3 3>           1023  \n",
      "\t   1.         |1>           1         |3 3 3 3 2>           1022  \n",
      "\t   2.         |1>           1         |3 3 3 3 1>           1021  \n",
      "\t   3.         |1>           1         |3 3 3 3 0>           1020  \n",
      "\t   4.         |1>           1         |3 3 3 2 3>           1019  \n",
      "\t   5.         |1>           1         |3 3 3 2 2>           1018  \n",
      "\t   6.         |1>           1         |3 3 3 2 1>           1017  \n",
      "\t   7.         |1>           1         |3 3 3 2 0>           1016  \n",
      "\t   8.         |1>           1         |3 3 3 1 3>           1015  \n",
      "\t   9.         |1>           1         |3 3 3 1 2>           1014  \n",
      "\t  10.         |1>           1         |3 3 3 1 1>           1013  \n",
      "\t  11.         |1>           1         |3 3 3 1 0>           1012  \n",
      "\t  12.         |1>           1         |3 3 3 0 3>           1011  \n",
      "\t  13.         |1>           1         |3 3 3 0 2>           1010  \n",
      "\t  14.         |1>           1         |3 3 3 0 1>           1009  \n",
      "\t  15.         |1>           1         |3 3 3 0 0>           1008  \n",
      "\t  16.         |1>           1         |3 3 2 3 3>           1007  \n",
      "\t  17.         |1>           1         |3 3 2 3 2>           1006  \n",
      "\t  18.         |1>           1         |3 3 2 3 1>           1005  \n",
      "\t  19.         |1>           1         |3 3 2 3 0>           1004  \n",
      "\t  20.         |1>           1         |3 3 2 2 3>           1003  \n",
      "\t  21.         |1>           1         |3 3 2 2 2>           1002  \n",
      "\t  22.         |1>           1         |3 3 2 2 1>           1001  \n",
      "\t  23.         |1>           1         |3 3 2 2 0>           1000  \n",
      "\t  24.         |1>           1         |3 3 2 1 3>            999  \n",
      "                                :\n",
      "\t2023.         |0>           0         |0 0 1 2 0>             24  \n",
      "\t2024.         |0>           0         |0 0 1 1 3>             23  \n",
      "\t2025.         |0>           0         |0 0 1 1 2>             22  \n",
      "\t2026.         |0>           0         |0 0 1 1 1>             21  \n",
      "\t2027.         |0>           0         |0 0 1 1 0>             20  \n",
      "\t2028.         |0>           0         |0 0 1 0 3>             19  \n",
      "\t2029.         |0>           0         |0 0 1 0 2>             18  \n",
      "\t2030.         |0>           0         |0 0 1 0 1>             17  \n",
      "\t2031.         |0>           0         |0 0 1 0 0>             16  \n",
      "\t2032.         |0>           0         |0 0 0 3 3>             15  \n",
      "\t2033.         |0>           0         |0 0 0 3 2>             14  \n",
      "\t2034.         |0>           0         |0 0 0 3 1>             13  \n",
      "\t2035.         |0>           0         |0 0 0 3 0>             12  \n",
      "\t2036.         |0>           0         |0 0 0 2 3>             11  \n",
      "\t2037.         |0>           0         |0 0 0 2 2>             10  \n",
      "\t2038.         |0>           0         |0 0 0 2 1>              9  \n",
      "\t2039.         |0>           0         |0 0 0 2 0>              8  \n",
      "\t2040.         |0>           0         |0 0 0 1 3>              7  \n",
      "\t2041.         |0>           0         |0 0 0 1 2>              6  \n",
      "\t2042.         |0>           0         |0 0 0 1 1>              5  \n",
      "\t2043.         |0>           0         |0 0 0 1 0>              4  \n",
      "\t2044.         |0>           0         |0 0 0 0 3>              3  \n",
      "\t2045.         |0>           0         |0 0 0 0 2>              2  \n",
      "\t2046.         |0>           0         |0 0 0 0 1>              1  \n",
      "\t2047.         |0>           0         |0 0 0 0 0>              0  \n"
     ]
    }
   ],
   "source": [
    "# compute atom-photon basis\n",
    "#basis_photon_particle=photon_basis(spin_basis_1d, L=1, Nph=L_lev)\n",
    "basis_osc = boson_basis_1d(L=N_osc,sps=N_lev)\n",
    "basis_spin = spin_basis_1d(L=1, pauli=-1, S='1/2')\n",
    "basis = tensor_basis(basis_spin,basis_osc) \n",
    "print(basis)"
   ]
  },
  {
   "cell_type": "code",
   "execution_count": 9,
   "id": "8f27d79c-66e6-4d2e-8483-ab66f5af0ba2",
   "metadata": {},
   "outputs": [],
   "source": [
    "# import inspect\n",
    "# inspect.getmembers(tensor_basis)"
   ]
  },
  {
   "cell_type": "code",
   "execution_count": 10,
   "id": "b3fb9609-3623-4c0b-afc6-20daeea63516",
   "metadata": {},
   "outputs": [],
   "source": [
    "# compute atom-photon Hamiltonian H\n",
    "H_no_interaction=hamiltonian(static_no_interaction,dynamic,dtype=np.float64, basis=basis, check_symm=False, check_pcon=False, check_herm=False)\n",
    "H_full=hamiltonian(static_full,dynamic,dtype=np.float64, basis=basis, check_symm=False, check_pcon=False, check_herm=False)\n",
    "H_rotating_wave=hamiltonian(static_rotating_wave,dynamic,dtype=np.float64, basis=basis, check_symm=False, check_pcon=False, check_herm=False)"
   ]
  },
  {
   "cell_type": "code",
   "execution_count": 11,
   "id": "cb5145e0-616c-471f-8784-2fdf5d7b3242",
   "metadata": {},
   "outputs": [],
   "source": [
    "#print('Number of states of Hamiltonian:', H_rotating_wave.Ns)"
   ]
  },
  {
   "cell_type": "markdown",
   "id": "35d69f87-de6c-40dc-826b-f1f8b71bfc6c",
   "metadata": {
    "tags": []
   },
   "source": [
    "# Spectrum "
   ]
  },
  {
   "cell_type": "code",
   "execution_count": 12,
   "id": "ff3b39af-adba-4cd0-b64b-a136f2a6e63d",
   "metadata": {},
   "outputs": [],
   "source": [
    "# calculate entire spectrum only\n",
    "eigenvalues_H_no_interaction=H_no_interaction.eigvalsh()\n",
    "eigenvalues_H_full=H_full.eigvalsh()\n",
    "eigenvalues_H_rotating_wave=H_rotating_wave.eigvalsh()"
   ]
  },
  {
   "cell_type": "code",
   "execution_count": 13,
   "id": "735f5dc7-2f43-42dc-be46-d30580aff845",
   "metadata": {},
   "outputs": [
    {
     "data": {
      "image/png": "[encoded data removed]",
      "text/plain": [
       "<Figure size 720x360 with 3 Axes>"
      ]
     },
     "metadata": {
      "needs_background": "light"
     },
     "output_type": "display_data"
    }
   ],
   "source": [
    "##### plot spectra\n",
    "fig, ax = plt.subplots(nrows=1, ncols=3, constrained_layout=True,figsize=(10,5))\n",
    "x = np.arange(H_no_interaction.Ns)\n",
    "ax[0].plot(x,eigenvalues_H_no_interaction, '.-', color='b', lw=1.)\n",
    "ax[1].plot(x,eigenvalues_H_full, '.-', color='b', lw=1.)\n",
    "ax[2].plot(x,eigenvalues_H_rotating_wave, '.-', color='b', lw=1.)\n",
    "for level in x :\n",
    "    ax[0].plot(x,np.full(H_no_interaction.Ns,eigenvalues_H_no_interaction[level]), '-', color='b', lw=0.5)\n",
    "    ax[1].plot(x,np.full(H_full.Ns,eigenvalues_H_full[level]), '-', color='b', lw=0.5)\n",
    "    ax[2].plot(x,np.full(H_rotating_wave.Ns,eigenvalues_H_rotating_wave[level]), '-', color='b', lw=0.5)\n",
    "ax[0].set(title='No interaction', xlabel='state number', ylabel='eigenvalue'); ax[0].grid(False)\n",
    "ax[1].set(title='$(a^\\dag+a)\\sigma^x$', xlabel='state number'); ax[1].grid(False)\n",
    "ax[2].set(title='$(\\sigma^- a^\\dag+\\sigma^+ a)$', xlabel='state number'); ax[1].grid(False)\n",
    "plt.show()"
   ]
  },
  {
   "cell_type": "markdown",
   "id": "24204055-4044-43df-9757-01c51bf8c44b",
   "metadata": {},
   "source": [
    "# Blocks"
   ]
  },
  {
   "cell_type": "code",
   "execution_count": 14,
   "id": "26684fac-3400-4dee-85b6-4cd143ee9703",
   "metadata": {},
   "outputs": [],
   "source": [
    "# size of of the particle-conserved basis of bosons\n",
    "def boson_block_size(N_sites, N_levels, N_particles):\n",
    "    Ns=0\n",
    "    for r in range(N_particles//N_levels+1):\n",
    "        r_2 = N_particles - r*N_levels\n",
    "        if r % 2 == 0:\n",
    "            Ns +=  comb(N_sites,r,exact=True) * comb(N_sites + r_2 - 1,r_2,exact=True)\n",
    "        else:\n",
    "            Ns += -comb(N_sites,r,exact=True) * comb(N_sites + r_2 - 1,r_2,exact=True)\n",
    "    return Ns"
   ]
  },
  {
   "cell_type": "code",
   "execution_count": 15,
   "id": "054cdd76-17a3-4c86-b2bf-e0847e30cec5",
   "metadata": {},
   "outputs": [
    {
     "data": {
      "text/plain": [
       "5"
      ]
     },
     "execution_count": 15,
     "metadata": {},
     "output_type": "execute_result"
    }
   ],
   "source": [
    "boson_block_size(N_osc, N_lev, 1)"
   ]
  },
  {
   "cell_type": "code",
   "execution_count": 16,
   "id": "c5740fdf-e592-4749-bd89-f36a966aa8cf",
   "metadata": {},
   "outputs": [],
   "source": [
    "def hamitonian_eigenvalues_one_block(N_block, static_list, dynamic_list) :\n",
    "    basis_osc_block = boson_basis_1d(L=N_osc, Nb={N_block-1,N_block,N_block+1}, sps=N_lev)    # boson basis with chosen number of particles\n",
    "    basis_osc_block_size = len(basis_osc_block.states)\n",
    "    basis_block = tensor_basis(basis_spin,basis_osc_block)                 # mixed atom-boson basis\n",
    "\n",
    "    basis_osc_block_n = boson_basis_1d(L=N_osc, Nb={N_block}, sps=N_lev)     # part of boson basis\n",
    "    selected_indices_n_up_spin = basis_osc_block_size - np.searchsorted(np.flip(basis_osc_block.states), basis_osc_block_n.states) - 1 \n",
    "    size_next_level = len(selected_indices_n_up_spin)\n",
    "    selected_indices_n_down_spin = 2*basis_osc_block_size - np.searchsorted(np.flip(basis_osc_block.states), basis_osc_block_n.states) - 1   \n",
    "    size_prev_level = len(selected_indices_n_down_spin)\n",
    "    \n",
    "    basis_osc_block_n_minus_1 = boson_basis_1d(L=N_osc, Nb={N_block-1}, sps=N_lev)     # part of boson basis\n",
    "    selected_indices_n_minus_1 = basis_osc_block_size - np.searchsorted(np.flip(basis_osc_block.states), basis_osc_block_n_minus_1.states) - 1  # only spin up\n",
    "    \n",
    "    basis_osc_block_n_plus_1 = boson_basis_1d(L=N_osc, Nb={N_block+1}, sps=N_lev)\n",
    "    selected_indices_n_plus_1 = 2*basis_osc_block_size - np.searchsorted(np.flip(basis_osc_block.states), basis_osc_block_n_plus_1.states) - 1\n",
    "    size_current_level = len(selected_indices_n_plus_1) + len(selected_indices_n_minus_1)\n",
    "    \n",
    "    all_selected_indices = np.concatenate((selected_indices_n_up_spin,selected_indices_n_down_spin,selected_indices_n_minus_1,selected_indices_n_plus_1))   # only spin down\n",
    "    \n",
    "    hamiltonian_full = hamiltonian(static_list,dynamic_list,dtype=np.float64, basis=basis_block, check_symm=False, check_pcon=False, check_herm=False).toarray()\n",
    "    #print(hamiltonian_full)\n",
    "    ixgrid = np.ix_(all_selected_indices, all_selected_indices)\n",
    "    hamiltonian_rectified = hamiltonian_full[ixgrid]\n",
    "    print('Size of the reduced matrix: ', hamiltonian_rectified.shape)\n",
    "    block_eigen_vals = LA.eigvalsh(hamiltonian_rectified)\n",
    "    return block_eigen_vals[size_prev_level:size_prev_level+size_current_level:]"
   ]
  },
  {
   "cell_type": "code",
   "execution_count": 17,
   "id": "3461afab-a659-43dc-a5b4-557c299d5c91",
   "metadata": {},
   "outputs": [
    {
     "name": "stdout",
     "output_type": "stream",
     "text": [
      "Size of the reduced matrix:  (7, 7)\n"
     ]
    },
    {
     "data": {
      "text/plain": [
       "array([-2.44044241e-02, -4.89861225e-17,  0.00000000e+00,  0.00000000e+00,\n",
       "        2.12305469e-17])"
      ]
     },
     "execution_count": 17,
     "metadata": {},
     "output_type": "execute_result"
    }
   ],
   "source": [
    "hamitonian_eigenvalues_one_block(0, static_rotating_wave, dynamic)"
   ]
  },
  {
   "cell_type": "code",
   "execution_count": 18,
   "id": "0a602445-847f-4cf9-bb44-4dc1b26d0963",
   "metadata": {},
   "outputs": [
    {
     "name": "stdout",
     "output_type": "stream",
     "text": [
      "Size of the reduced matrix:  (7, 7)\n"
     ]
    }
   ],
   "source": [
    "block_eigen_vals = hamitonian_eigenvalues_one_block(0, static_rotating_wave, dynamic)"
   ]
  },
  {
   "cell_type": "code",
   "execution_count": 19,
   "id": "0aaf142b-ef90-4bf8-ad91-799506efb69b",
   "metadata": {},
   "outputs": [
    {
     "name": "stdout",
     "output_type": "stream",
     "text": [
      "Size of the reduced matrix:  (7, 7)\n",
      "Size of the reduced matrix:  (26, 26)\n",
      "Size of the reduced matrix:  (70, 70)\n",
      "Size of the reduced matrix:  (150, 150)\n",
      "Size of the reduced matrix:  (266, 266)\n",
      "Size of the reduced matrix:  (402, 402)\n",
      "Size of the reduced matrix:  (526, 526)\n",
      "Size of the reduced matrix:  (600, 600)\n",
      "Size of the reduced matrix:  (600, 600)\n",
      "Size of the reduced matrix:  (526, 526)\n",
      "Size of the reduced matrix:  (402, 402)\n",
      "Size of the reduced matrix:  (266, 266)\n",
      "Size of the reduced matrix:  (150, 150)\n",
      "Size of the reduced matrix:  (70, 70)\n",
      "Size of the reduced matrix:  (26, 26)\n"
     ]
    }
   ],
   "source": [
    "blocks_hamiltonian_eigenvalues = [np.array([-1])]\n",
    "for N_block in range(0,(N_lev-1)*N_osc) : \n",
    "    blocks_hamiltonian_eigenvalues.append(hamitonian_eigenvalues_one_block(N_block, static_rotating_wave, dynamic))"
   ]
  },
  {
   "cell_type": "markdown",
   "id": "3b7ec6ac-d70e-4f9d-bf52-ecfcda9f2605",
   "metadata": {},
   "source": [
    "# Check"
   ]
  },
  {
   "cell_type": "code",
   "execution_count": 21,
   "id": "c37dc79b-6649-4ead-90b0-1df9ab41fe80",
   "metadata": {},
   "outputs": [],
   "source": [
    "basis_osc_block = boson_basis_1d(L=N_osc, Nb={3,4,5}, sps=N_lev)    # boson basis with chosen number of particles\n",
    "basis_block = tensor_basis(basis_spin,basis_osc_block)   "
   ]
  },
  {
   "cell_type": "code",
   "execution_count": 22,
   "id": "e6a63c0c-d3a9-494c-b28d-25f89dae65b0",
   "metadata": {},
   "outputs": [],
   "source": [
    "H_block_no_interaction=hamiltonian(static_rotating_wave,dynamic,dtype=np.float64, basis=basis_block, check_symm=False, check_pcon=False, check_herm=False)"
   ]
  },
  {
   "cell_type": "code",
   "execution_count": 23,
   "id": "ef03b9b8-5089-4f22-9e08-bb416c102ee1",
   "metadata": {},
   "outputs": [],
   "source": [
    "# with np.printoptions(threshold=np.inf):\n",
    "#     print(H_block_no_interaction.toarray())"
   ]
  },
  {
   "cell_type": "code",
   "execution_count": 24,
   "id": "3b99cade-2a89-4e82-8965-0598cff3dada",
   "metadata": {},
   "outputs": [],
   "source": [
    "eigenvalues_H_block_no_interaction=H_block_no_interaction.eigvalsh()"
   ]
  },
  {
   "cell_type": "code",
   "execution_count": 25,
   "id": "8bd82f37-7647-41d6-9036-55d7b6794ce0",
   "metadata": {},
   "outputs": [
    {
     "data": {
      "application/vnd.jupyter.widget-view+json": {
       "model_id": "6125199017294c54a3f546bc15b2fbc5",
       "version_major": 2,
       "version_minor": 0
      },
      "text/html": [
       "\n",
       "            <div style=\"display: inline-block;\">\n",
       "                <div class=\"jupyter-widgets widget-label\" style=\"text-align: center;\">\n",
       "                    Figure\n",
       "                </div>\n",
       "                <img src='data:image/png;base64,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' width=1000.0/>\n",
       "            </div>\n",
       "        "
      ],
      "text/plain": [
       "Canvas(toolbar=Toolbar(toolitems=[('Home', 'Reset original view', 'home', 'home'), ('Back', 'Back to previous …"
      ]
     },
     "metadata": {},
     "output_type": "display_data"
    }
   ],
   "source": [
    "%matplotlib widget\n",
    "##### plot spectra\n",
    "fig, ax = plt.subplots(nrows=1, ncols=3, constrained_layout=True,figsize=(10,5))\n",
    "nb_of_states = H_block_no_interaction.Ns\n",
    "state_counter = 0\n",
    "for i, block in enumerate(blocks_hamiltonian_eigenvalues) :\n",
    "    x = np.arange(state_counter, state_counter+len(block))\n",
    "    #print(x)\n",
    "    state_counter = state_counter + len(block)\n",
    "    ax[2].plot(x, block, '.-', color='g', lw=1.)\n",
    "ax[2].plot(np.arange(nb_of_states),eigenvalues_H_block_no_interaction, '.-', color='b', lw=1.)\n",
    "#ax[0].plot(np.arange(H_no_interaction.Ns),eigenvalues_H_no_interaction, '-', color='r', lw=1.)\n",
    "ax[2].plot(eigenvalues_H_rotating_wave, '.-', color='r', lw=1., ms=2.0)\n",
    "#ax[2].plot(x,eigenvalues_H_rotating_wave, '.-', color='b', lw=1.)\n",
    "#for level in np.arange(nb_of_states) :\n",
    "    #ax[0].plot(np.arange(nb_of_states),np.full(nb_of_states,eigenvalues_H_block_no_interaction[level]), '-', color='b', lw=0.5)\n",
    "    #ax[1].plot(x,np.full(H_full.Ns,eigenvalues_H_full[level]), '-', color='b', lw=0.5)\n",
    "    #ax[2].plot(x,np.full(H_rotating_wave.Ns,eigenvalues_H_rotating_wave[level]), '-', color='b', lw=0.5)\n",
    "ax[0].set(title='No interaction', xlabel='state number', ylabel='eigenvalue'); ax[0].grid(False)\n",
    "ax[1].set(title='$(a^\\dag+a)\\sigma^x$', xlabel='state number'); ax[1].grid(False)\n",
    "ax[2].set(title='$(\\sigma^- a^\\dag+\\sigma^+ a)$', xlabel='state number'); ax[1].grid(False)\n",
    "plt.show()"
   ]
  },
  {
   "cell_type": "code",
   "execution_count": null,
   "id": "af2c988a-4302-49b5-8af9-16ab1bb99ffb",
   "metadata": {},
   "outputs": [],
   "source": []
  }
 ],
 "metadata": {
  "kernelspec": {
   "display_name": "Python 3",
   "language": "python",
   "name": "python3"
  },
  "language_info": {
   "codemirror_mode": {
    "name": "ipython",
    "version": 3
   },
   "file_extension": ".py",
   "mimetype": "text/x-python",
   "name": "python",
   "nbconvert_exporter": "python",
   "pygments_lexer": "ipython3",
   "version": "3.9.7"
  }
 },
 "nbformat": 4,
 "nbformat_minor": 5
}
