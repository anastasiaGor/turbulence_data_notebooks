{
 "cells": [
  {
   "cell_type": "markdown",
   "id": "fdbe4909-e16e-4fa8-bf38-c58c44189ba4",
   "metadata": {},
   "source": [
    "# Import"
   ]
  },
  {
   "cell_type": "code",
   "execution_count": 1,
   "id": "57276971-bf04-43cf-a523-c761d7541f98",
   "metadata": {},
   "outputs": [],
   "source": [
    "from quspin.basis import spin_basis_1d,photon_basis,boson_basis_1d,tensor_basis # Hilbert space bases\n",
    "from quspin.operators import hamiltonian # Hamiltonian and observables\n",
    "from quspin.tools.measurements import obs_vs_time,diag_ensemble # t_dep measurements\n",
    "from quspin.tools.Floquet import Floquet,Floquet_t_vec # Floquet Hamiltonian\n",
    "from quspin.basis.photon import coherent_state # HO coherent state\n",
    "from quspin.tools.block_tools import block_diag_hamiltonian\n",
    "import numpy as np # generic math functions\n",
    "import matplotlib.pyplot as plt\n",
    "import pylab"
   ]
  },
  {
   "cell_type": "markdown",
   "id": "57f39fa2-436c-4dc3-9b9b-8471d57b408b",
   "metadata": {},
   "source": [
    "# Model parameters"
   ]
  },
  {
   "cell_type": "code",
   "execution_count": 21,
   "id": "585fc7dc-04de-4920-9c9e-54ad58edfd00",
   "metadata": {},
   "outputs": [],
   "source": [
    "N_osc=10 #number of harmonic oscillators\n",
    "N_lev=5 # number of energy levels of oscillators\n",
    "N_tot=N_lev**N_osc # total number of states of all photons\n",
    "Omega=1.0 # frequency of the oscillator\n",
    "A=0.2 # spin-photon coupling strength (drive amplitude)\n",
    "Delta=1.0 # difference between atom energy levels"
   ]
  },
  {
   "cell_type": "code",
   "execution_count": 22,
   "id": "29cd9d6a-53c8-4231-a26b-1e4f2220a1fb",
   "metadata": {},
   "outputs": [],
   "source": [
    "N_ph_avg=N_lev//2"
   ]
  },
  {
   "cell_type": "code",
   "execution_count": 23,
   "id": "82444655-6777-4b62-a941-9695ed7cef3d",
   "metadata": {},
   "outputs": [
    {
     "data": {
      "text/plain": [
       "19531250"
      ]
     },
     "execution_count": 23,
     "metadata": {},
     "output_type": "execute_result"
    }
   ],
   "source": [
    "2*N_tot"
   ]
  },
  {
   "cell_type": "markdown",
   "id": "bd41497c-ff6d-42b0-a3f9-c5e8fffd8f14",
   "metadata": {},
   "source": [
    "# Hamiltonian of a two-state atom in a reservoir of harmonic oscillators "
   ]
  },
  {
   "cell_type": "markdown",
   "id": "f40cb507-f981-4ee9-99aa-785715e34b96",
   "metadata": {},
   "source": [
    "For the purpose of our study, we take a two-level atom (i.e. a single-site spin chain) and couple it to multiple photon mode (i.e. a quantum harmonic oscillators). The Hamiltonian reads: \n",
    "$$ H = \\sum_{k=1}^{N_{osc}} \\Omega_k a_k^\\dagger a_k + \\frac{A}{2} \\frac{1}{\\sqrt{N_{ph~avg}}} \\sum_k (a_k^\\dagger + a_k) \\sigma^x + \\Delta \\sigma^z$$\n",
    "where the operator $a^\\dagger$ creates a photon in the mode, and the atom is modelled by a two-level system described by the Pauli spin operators $\\sigma^{x,y,z}$. \n",
    "$N_{osc}$ is the number of harmoniv oscillators in the reservoir, $N_{lev}$ - number of energy levels of a single photon mode.\n",
    "The photon frequency is $\\Omega$, $N_{ph}$ is the average number of photons in a single mode, $A$ - the coupling between the EM field $E=\\sum_{k=1}^{N_{osc}}\\sqrt{N_{ph~avg}^{-1}}(a_k^\\dagger + a_k)$, and the dipole operator $\\sigma^x$, and $\\Delta$ measures the energy difference between the two atomic states."
   ]
  },
  {
   "cell_type": "markdown",
   "id": "94e7408a-9020-459b-817c-b81a9dcc11cb",
   "metadata": {},
   "source": [
    "To set up the spin-photon Hamiltonian, we first build the site-coupling lists. The ph_energy list does not require the specification of a lattice site index, since the latter is not defined forthe photon sector. The at_energy list, on the other hand, requires the input of the lattice sitefor the $\\sigma^z$-operator:  since we consider a single two-level system or, equivalently – a single-site chain, this index is 0. The spin-photon coupling lists absorb and emit also require the site index which refers to the corresponding Pauli matrices: in this model – 0 again due to dimensional constraints."
   ]
  },
  {
   "cell_type": "code",
   "execution_count": 24,
   "id": "a65c3948-30c7-4786-82bf-eb2b9638a0fb",
   "metadata": {},
   "outputs": [],
   "source": [
    "# define operator site-coupling lists\n",
    "ph_energy=[[Omega,i] for i in range(N_osc)] # photon energy\n",
    "at_energy=[[Delta,0]] # atom energy, 0 because the \"lattice\" is single-site\n",
    "absorb=[[A/(2.0*np.sqrt(N_ph_avg)),0,i] for i in range(N_osc)] # absorption term\n",
    "emit=[[A/(2.0*np.sqrt(N_ph_avg)),0,i] for i in range(N_osc)] # emission term"
   ]
  },
  {
   "cell_type": "markdown",
   "id": "bb126ab1-f70d-4ef6-b6f0-c01aa4d3695d",
   "metadata": {},
   "source": [
    "To build the static operator list, we use the $|$ symbol in the operator string to distinguish the spin and photon operators: spin operators always come to the left of the $|$-symbol,  while photon operators - to the right. For convenience, the identity operator $I$ can be omitted, suchthat $I|n$ is the same as $|n$, and $z|I$ is equivalent to $z|$, respectively. The dynamic list is empty since the spin-photon Hamiltonian is time-independent."
   ]
  },
  {
   "cell_type": "code",
   "execution_count": 25,
   "id": "0fa87669-3a4b-4404-a223-c4577854990c",
   "metadata": {},
   "outputs": [],
   "source": [
    "# define static and dynamics lists\n",
    "static_no_interaction=[[\"|n\",ph_energy],[\"z|\",at_energy]]\n",
    "static_rotating_wave=[[\"|n\",ph_energy],[\"+|-\",absorb],[\"-|+\",emit],[\"z|\",at_energy]]\n",
    "static_full=[[\"|n\",ph_energy],[\"x|-\",absorb],[\"x|+\",emit],[\"z|\",at_energy]]\n",
    "dynamic=[]"
   ]
  },
  {
   "cell_type": "markdown",
   "id": "9b0038ea-d3ca-44dd-b41f-a7c64b9b8bfe",
   "metadata": {},
   "source": [
    "To build the spin-photon basis, we call the function photon_basis and use spin_basis_1d as the first argument. We need to specify the number of spin lattice sites, and the total numberof harmonic oscillator (a.k.a photon) states."
   ]
  },
  {
   "cell_type": "code",
   "execution_count": 26,
   "id": "74a0ccb1-12bb-486e-b178-a132d8885414",
   "metadata": {},
   "outputs": [
    {
     "name": "stdout",
     "output_type": "stream",
     "text": [
      "reference states: \n",
      "array index   /   Fock state   /   integer repr. \n",
      "        0.         |5 0 0 0 0 0 0 0 0 0>           50388480  \n",
      "        1.         |4 1 0 0 0 0 0 0 0 0>           41990400  \n",
      "        2.         |4 0 1 0 0 0 0 0 0 0>           40590720  \n",
      "        3.         |4 0 0 1 0 0 0 0 0 0>           40357440  \n",
      "        4.         |4 0 0 0 1 0 0 0 0 0>           40318560  \n",
      "        5.         |4 0 0 0 0 1 0 0 0 0>           40312080  \n",
      "        6.         |4 0 0 0 0 0 1 0 0 0>           40311000  \n",
      "        7.         |4 0 0 0 0 0 0 1 0 0>           40310820  \n",
      "        8.         |4 0 0 0 0 0 0 0 1 0>           40310790  \n",
      "        9.         |4 0 0 0 0 0 0 0 0 1>           40310785  \n",
      "       10.         |3 2 0 0 0 0 0 0 0 0>           33592320  \n",
      "       11.         |3 1 1 0 0 0 0 0 0 0>           32192640  \n",
      "       12.         |3 1 0 1 0 0 0 0 0 0>           31959360  \n",
      "       13.         |3 1 0 0 1 0 0 0 0 0>           31920480  \n",
      "       14.         |3 1 0 0 0 1 0 0 0 0>           31914000  \n",
      "       15.         |3 1 0 0 0 0 1 0 0 0>           31912920  \n",
      "       16.         |3 1 0 0 0 0 0 1 0 0>           31912740  \n",
      "       17.         |3 1 0 0 0 0 0 0 1 0>           31912710  \n",
      "       18.         |3 1 0 0 0 0 0 0 0 1>           31912705  \n",
      "       19.         |3 0 2 0 0 0 0 0 0 0>           30792960  \n",
      "       20.         |3 0 1 1 0 0 0 0 0 0>           30559680  \n",
      "       21.         |3 0 1 0 1 0 0 0 0 0>           30520800  \n",
      "       22.         |3 0 1 0 0 1 0 0 0 0>           30514320  \n",
      "       23.         |3 0 1 0 0 0 1 0 0 0>           30513240  \n",
      "       24.         |3 0 1 0 0 0 0 1 0 0>           30513060  \n",
      "                             :\n",
      "     1977.         |0 0 0 0 0 0 1 0 3 1>                235  \n",
      "     1978.         |0 0 0 0 0 0 1 0 2 2>                230  \n",
      "     1979.         |0 0 0 0 0 0 1 0 1 3>                225  \n",
      "     1980.         |0 0 0 0 0 0 1 0 0 4>                220  \n",
      "     1981.         |0 0 0 0 0 0 0 5 0 0>                180  \n",
      "     1982.         |0 0 0 0 0 0 0 4 1 0>                150  \n",
      "     1983.         |0 0 0 0 0 0 0 4 0 1>                145  \n",
      "     1984.         |0 0 0 0 0 0 0 3 2 0>                120  \n",
      "     1985.         |0 0 0 0 0 0 0 3 1 1>                115  \n",
      "     1986.         |0 0 0 0 0 0 0 3 0 2>                110  \n",
      "     1987.         |0 0 0 0 0 0 0 2 3 0>                 90  \n",
      "     1988.         |0 0 0 0 0 0 0 2 2 1>                 85  \n",
      "     1989.         |0 0 0 0 0 0 0 2 1 2>                 80  \n",
      "     1990.         |0 0 0 0 0 0 0 2 0 3>                 75  \n",
      "     1991.         |0 0 0 0 0 0 0 1 4 0>                 60  \n",
      "     1992.         |0 0 0 0 0 0 0 1 3 1>                 55  \n",
      "     1993.         |0 0 0 0 0 0 0 1 2 2>                 50  \n",
      "     1994.         |0 0 0 0 0 0 0 1 1 3>                 45  \n",
      "     1995.         |0 0 0 0 0 0 0 1 0 4>                 40  \n",
      "     1996.         |0 0 0 0 0 0 0 0 5 0>                 30  \n",
      "     1997.         |0 0 0 0 0 0 0 0 4 1>                 25  \n",
      "     1998.         |0 0 0 0 0 0 0 0 3 2>                 20  \n",
      "     1999.         |0 0 0 0 0 0 0 0 2 3>                 15  \n",
      "     2000.         |0 0 0 0 0 0 0 0 1 4>                 10  \n",
      "     2001.         |0 0 0 0 0 0 0 0 0 5>                  5  \n"
     ]
    }
   ],
   "source": [
    "basis_osc = boson_basis_1d(L=N_osc,Nb={5})\n",
    "print(basis_osc)"
   ]
  },
  {
   "cell_type": "code",
   "execution_count": 27,
   "id": "7e9e3d12-161d-4e97-a5db-15d9c64fe350",
   "metadata": {},
   "outputs": [
    {
     "name": "stdout",
     "output_type": "stream",
     "text": [
      "reference states: \n",
      "array index   /   Fock state   /   integer repr. \n",
      "\t   0.         |1>           1         |5 0 0 0 0 0 0 0 0 0>           50388480  \n",
      "\t   1.         |1>           1         |4 1 0 0 0 0 0 0 0 0>           41990400  \n",
      "\t   2.         |1>           1         |4 0 1 0 0 0 0 0 0 0>           40590720  \n",
      "\t   3.         |1>           1         |4 0 0 1 0 0 0 0 0 0>           40357440  \n",
      "\t   4.         |1>           1         |4 0 0 0 1 0 0 0 0 0>           40318560  \n",
      "\t   5.         |1>           1         |4 0 0 0 0 1 0 0 0 0>           40312080  \n",
      "\t   6.         |1>           1         |4 0 0 0 0 0 1 0 0 0>           40311000  \n",
      "\t   7.         |1>           1         |4 0 0 0 0 0 0 1 0 0>           40310820  \n",
      "\t   8.         |1>           1         |4 0 0 0 0 0 0 0 1 0>           40310790  \n",
      "\t   9.         |1>           1         |4 0 0 0 0 0 0 0 0 1>           40310785  \n",
      "\t  10.         |1>           1         |4 0 0 0 0 0 0 0 0 0>           40310784  \n",
      "\t  11.         |1>           1         |3 2 0 0 0 0 0 0 0 0>           33592320  \n",
      "\t  12.         |1>           1         |3 1 1 0 0 0 0 0 0 0>           32192640  \n",
      "\t  13.         |1>           1         |3 1 0 1 0 0 0 0 0 0>           31959360  \n",
      "\t  14.         |1>           1         |3 1 0 0 1 0 0 0 0 0>           31920480  \n",
      "\t  15.         |1>           1         |3 1 0 0 0 1 0 0 0 0>           31914000  \n",
      "\t  16.         |1>           1         |3 1 0 0 0 0 1 0 0 0>           31912920  \n",
      "\t  17.         |1>           1         |3 1 0 0 0 0 0 1 0 0>           31912740  \n",
      "\t  18.         |1>           1         |3 1 0 0 0 0 0 0 1 0>           31912710  \n",
      "\t  19.         |1>           1         |3 1 0 0 0 0 0 0 0 1>           31912705  \n",
      "\t  20.         |1>           1         |3 1 0 0 0 0 0 0 0 0>           31912704  \n",
      "\t  21.         |1>           1         |3 0 2 0 0 0 0 0 0 0>           30792960  \n",
      "\t  22.         |1>           1         |3 0 1 1 0 0 0 0 0 0>           30559680  \n",
      "\t  23.         |1>           1         |3 0 1 0 1 0 0 0 0 0>           30520800  \n",
      "\t  24.         |1>           1         |3 0 1 0 0 1 0 0 0 0>           30514320  \n",
      "                                       :\n",
      "\t5409.         |0>           0         |0 0 0 0 0 0 0 2 2 0>                 84  \n",
      "\t5410.         |0>           0         |0 0 0 0 0 0 0 2 1 2>                 80  \n",
      "\t5411.         |0>           0         |0 0 0 0 0 0 0 2 1 1>                 79  \n",
      "\t5412.         |0>           0         |0 0 0 0 0 0 0 2 0 3>                 75  \n",
      "\t5413.         |0>           0         |0 0 0 0 0 0 0 2 0 2>                 74  \n",
      "\t5414.         |0>           0         |0 0 0 0 0 0 0 1 4 0>                 60  \n",
      "\t5415.         |0>           0         |0 0 0 0 0 0 0 1 3 1>                 55  \n",
      "\t5416.         |0>           0         |0 0 0 0 0 0 0 1 3 0>                 54  \n",
      "\t5417.         |0>           0         |0 0 0 0 0 0 0 1 2 2>                 50  \n",
      "\t5418.         |0>           0         |0 0 0 0 0 0 0 1 2 1>                 49  \n",
      "\t5419.         |0>           0         |0 0 0 0 0 0 0 1 1 3>                 45  \n",
      "\t5420.         |0>           0         |0 0 0 0 0 0 0 1 1 2>                 44  \n",
      "\t5421.         |0>           0         |0 0 0 0 0 0 0 1 0 4>                 40  \n",
      "\t5422.         |0>           0         |0 0 0 0 0 0 0 1 0 3>                 39  \n",
      "\t5423.         |0>           0         |0 0 0 0 0 0 0 0 5 0>                 30  \n",
      "\t5424.         |0>           0         |0 0 0 0 0 0 0 0 4 1>                 25  \n",
      "\t5425.         |0>           0         |0 0 0 0 0 0 0 0 4 0>                 24  \n",
      "\t5426.         |0>           0         |0 0 0 0 0 0 0 0 3 2>                 20  \n",
      "\t5427.         |0>           0         |0 0 0 0 0 0 0 0 3 1>                 19  \n",
      "\t5428.         |0>           0         |0 0 0 0 0 0 0 0 2 3>                 15  \n",
      "\t5429.         |0>           0         |0 0 0 0 0 0 0 0 2 2>                 14  \n",
      "\t5430.         |0>           0         |0 0 0 0 0 0 0 0 1 4>                 10  \n",
      "\t5431.         |0>           0         |0 0 0 0 0 0 0 0 1 3>                  9  \n",
      "\t5432.         |0>           0         |0 0 0 0 0 0 0 0 0 5>                  5  \n",
      "\t5433.         |0>           0         |0 0 0 0 0 0 0 0 0 4>                  4  \n"
     ]
    }
   ],
   "source": [
    "# compute atom-photon basis\n",
    "#basis_photon_particle=photon_basis(spin_basis_1d, L=1, Nph=L_lev)\n",
    "basis_osc = boson_basis_1d(L=N_osc,Nb={4,5})\n",
    "basis_spin = spin_basis_1d(L=1, pauli=-1)\n",
    "basis = tensor_basis(basis_spin,basis_osc) \n",
    "print(basis)"
   ]
  },
  {
   "cell_type": "code",
   "execution_count": 29,
   "id": "8f27d79c-66e6-4d2e-8483-ab66f5af0ba2",
   "metadata": {},
   "outputs": [],
   "source": [
    "# import inspect\n",
    "# inspect.getmembers(tensor_basis)"
   ]
  },
  {
   "cell_type": "code",
   "execution_count": 30,
   "id": "b3fb9609-3623-4c0b-afc6-20daeea63516",
   "metadata": {},
   "outputs": [],
   "source": [
    "# compute atom-photon Hamiltonian H\n",
    "H_no_interaction=hamiltonian(static_no_interaction,dynamic,dtype=np.float64, basis=basis, check_symm=False, check_pcon=False, check_herm=False)\n",
    "H_full=hamiltonian(static_full,dynamic,dtype=np.float64, basis=basis, check_symm=False, check_pcon=False, check_herm=False)\n",
    "H_rotating_wave=hamiltonian(static_rotating_wave,dynamic,dtype=np.float64, basis=basis, check_symm=False, check_pcon=False, check_herm=False)"
   ]
  },
  {
   "cell_type": "code",
   "execution_count": 40,
   "id": "72e1c364-4ed2-429d-8adb-84993c29e3cc",
   "metadata": {},
   "outputs": [
    {
     "name": "stdout",
     "output_type": "stream",
     "text": [
      "(5434, 5434)\n"
     ]
    }
   ],
   "source": [
    "print(H_rotating_wave.toarray().shape)"
   ]
  },
  {
   "cell_type": "code",
   "execution_count": 32,
   "id": "cb5145e0-616c-471f-8784-2fdf5d7b3242",
   "metadata": {},
   "outputs": [
    {
     "name": "stdout",
     "output_type": "stream",
     "text": [
      "Number of states of Hamiltonian: 5434\n"
     ]
    }
   ],
   "source": [
    "print('Number of states of Hamiltonian:', H_rotating_wave.Ns)"
   ]
  },
  {
   "cell_type": "markdown",
   "id": "35d69f87-de6c-40dc-826b-f1f8b71bfc6c",
   "metadata": {
    "tags": []
   },
   "source": [
    "# Spectrum "
   ]
  },
  {
   "cell_type": "code",
   "execution_count": 34,
   "id": "ff3b39af-adba-4cd0-b64b-a136f2a6e63d",
   "metadata": {},
   "outputs": [],
   "source": [
    "# calculate entire spectrum only\n",
    "eigenvalues_H_no_interaction=H_no_interaction.eigvalsh()\n",
    "eigenvalues_H_full=H_full.eigvalsh()\n",
    "eigenvalues_H_rotating_wave=H_rotating_wave.eigvalsh()"
   ]
  },
  {
   "cell_type": "code",
   "execution_count": 35,
   "id": "735f5dc7-2f43-42dc-be46-d30580aff845",
   "metadata": {},
   "outputs": [
    {
     "data": {
      "image/png": "[encoded data removed]",
      "text/plain": [
       "<Figure size 720x360 with 3 Axes>"
      ]
     },
     "metadata": {
      "needs_background": "light"
     },
     "output_type": "display_data"
    }
   ],
   "source": [
    "##### plot spectra\n",
    "fig, ax = plt.subplots(nrows=1, ncols=3, constrained_layout=True,figsize=(10,5))\n",
    "x = np.arange(H_full.Ns)\n",
    "ax[0].plot(x,eigenvalues_H_no_interaction, '.-', color='b', lw=1.)\n",
    "ax[1].plot(x,eigenvalues_H_full, '.-', color='b', lw=1.)\n",
    "ax[2].plot(x,eigenvalues_H_rotating_wave, '.-', color='b', lw=1.)\n",
    "for level in x :\n",
    "    ax[0].plot(x,np.full(H_no_interaction.Ns,eigenvalues_H_no_interaction[level]), '-', color='b', lw=0.5)\n",
    "    ax[1].plot(x,np.full(H_full.Ns,eigenvalues_H_full[level]), '-', color='b', lw=0.5)\n",
    "    ax[2].plot(x,np.full(H_rotating_wave.Ns,eigenvalues_H_rotating_wave[level]), '-', color='b', lw=0.5)\n",
    "ax[0].set(title='No interaction', xlabel='state number', ylabel='eigenvalue'); ax[0].grid(False)\n",
    "ax[1].set(title='$(a^\\dag+a)\\sigma^x$', xlabel='state number'); ax[1].grid(False)\n",
    "ax[2].set(title='$(\\sigma^- a^\\dag+\\sigma^+ a)$', xlabel='state number'); ax[1].grid(False)\n",
    "plt.show()"
   ]
  },
  {
   "cell_type": "markdown",
   "id": "dd016c1d-3218-4cfc-9b10-33ad2575a433",
   "metadata": {},
   "source": [
    "# Initial state"
   ]
  },
  {
   "cell_type": "code",
   "execution_count": 14,
   "id": "721cbd06-035b-47b4-bf03-117efedc0dc3",
   "metadata": {},
   "outputs": [],
   "source": [
    "psi_ph_i=coherent_state(np.sqrt(100/2),100+1)"
   ]
  },
  {
   "cell_type": "code",
   "execution_count": 15,
   "id": "9b786799-1d2d-47b1-bf6c-60d6c1b843e9",
   "metadata": {},
   "outputs": [],
   "source": [
    "# plt.plot(psi_ph_i, '.-')"
   ]
  },
  {
   "cell_type": "code",
   "execution_count": 36,
   "id": "12036f59-8d2d-4f6a-a435-5d822a8769e4",
   "metadata": {},
   "outputs": [],
   "source": [
    "# # one of the eigenvectors \n",
    "# E,psi_0 = H.eigsh(k=1,sigma=4)\n",
    "# psi_0 = psi_0.reshape((-1,))\n",
    "# #print(psi_0)"
   ]
  },
  {
   "cell_type": "code",
   "execution_count": null,
   "id": "d5490ff8-4104-4884-a949-be88ae8c1d11",
   "metadata": {},
   "outputs": [],
   "source": [
    "N_lev*N_osc/1.5"
   ]
  },
  {
   "cell_type": "code",
   "execution_count": null,
   "id": "abcee098-27a3-48e5-9f8f-ca46c4377e59",
   "metadata": {},
   "outputs": [],
   "source": [
    "psi_0.shape"
   ]
  },
  {
   "cell_type": "markdown",
   "id": "1a4866d9-7308-4fb0-b88a-99174226755c",
   "metadata": {},
   "source": [
    "# Calculate time evolution"
   ]
  },
  {
   "cell_type": "markdown",
   "id": "b0dd9daf-053e-4922-8c6f-0f5486a353eb",
   "metadata": {},
   "source": [
    "The next step is to define a vector of stroboscopic times, using the class Floquet_t_vec."
   ]
  },
  {
   "cell_type": "code",
   "execution_count": null,
   "id": "c3df77ef-f969-4351-8cd7-d9fa314956ac",
   "metadata": {},
   "outputs": [],
   "source": [
    "# define time vector over 30 driving cycles with 100 points per period\n",
    "t=Floquet_t_vec(Omega,30) # t.i = initial time, t.T = driving period"
   ]
  },
  {
   "cell_type": "markdown",
   "id": "c76cd34c-d31b-4f01-bce7-c06beb1514ab",
   "metadata": {},
   "source": [
    "We now time evolve the initial state susing the hamiltonian class method evolve. We define the solution psi_t as a generator expression using the optional argument iterate=True."
   ]
  },
  {
   "cell_type": "code",
   "execution_count": null,
   "id": "3d7f4482-0828-4367-b4e7-176044090019",
   "metadata": {},
   "outputs": [],
   "source": [
    "# evolve atom-photon state with Hamiltonian H\n",
    "psi_t=H.evolve(psi_0,t.i,t.vals,iterate=True,rtol=1E-9,atol=1E-9) "
   ]
  },
  {
   "cell_type": "markdown",
   "id": "1cf1c9be-558c-4389-8b3f-6732cd51215b",
   "metadata": {
    "tags": []
   },
   "source": [
    "# Observables"
   ]
  },
  {
   "cell_type": "markdown",
   "id": "15f176cb-b44d-44c9-a92c-5a6b19ccadc1",
   "metadata": {},
   "source": [
    "Last, we define the observables of interest, using the hamiltonian class with unit coupling constants. \n",
    "Since each observable represents a single operator, we refrain from defining operator lists and set up the observables inline.  \n",
    "The Python dictionaries obs_args and obs_args_sc represent another way of passing optional keyword arguments to the hamiltonian function. Here we also disable the automatic symmetry and hermiticity checks."
   ]
  },
  {
   "cell_type": "code",
   "execution_count": null,
   "id": "f55122b4-4a4c-4b69-a228-cdb5e1f5f1a9",
   "metadata": {},
   "outputs": [],
   "source": [
    "# define observables parameters\n",
    "obs_args={\"basis\":basis,\"check_herm\":False,\"check_symm\":False, \"check_pcon\" : False}"
   ]
  },
  {
   "cell_type": "code",
   "execution_count": null,
   "id": "532ffbbe-3243-471a-851e-3c1144f7cc5a",
   "metadata": {},
   "outputs": [],
   "source": [
    "# in atom-photon Hilbert space\n",
    "n=hamiltonian([[\"|+-\", [[1.0,0,0]] ]],[],dtype=np.float64,**obs_args)\n",
    "sz=hamiltonian([[\"z|\",[[1.0,0]] ]],[],dtype=np.float64,**obs_args)\n",
    "sy=hamiltonian([[\"y|\",[[1.0,0]] ]],[],dtype=np.complex128,**obs_args)"
   ]
  },
  {
   "cell_type": "markdown",
   "id": "c0fef469-06c8-4e9c-9397-c1d0f4809372",
   "metadata": {},
   "source": [
    "We  calculate  the  time-dependent  expectation  values  using  the measurements tool function obs_vs_time. Its  arguments  are  the  time-dependent  state psi_t,  the  vector  of times t.vals, and a dictionary of all observables of interest. obs_vs_time returns a dictionary with all time-dependent expectations stored under the same keys they were passed. "
   ]
  },
  {
   "cell_type": "code",
   "execution_count": null,
   "id": "b414bfde-051f-42a5-a070-cff2410940cd",
   "metadata": {},
   "outputs": [],
   "source": [
    "Obs_t = obs_vs_time(psi_t,t.vals,{\"n\":n,\"sz\":sz,\"sy\":sy})\n",
    "#Obs_t = obs_vs_time((psi_0,eigenstates,eigenvalues),t.vals,{\"n\":n, \"sz\":sz,\"sy\":sy})\n",
    "O_n, O_sz, O_sy = Obs_t[\"n\"], Obs_t[\"sz\"], Obs_t[\"sy\"]"
   ]
  },
  {
   "cell_type": "markdown",
   "id": "bfb62d12-ebf7-4aa8-bc0e-e31bd35bc44a",
   "metadata": {},
   "source": [
    "# Plot time evolution"
   ]
  },
  {
   "cell_type": "code",
   "execution_count": null,
   "id": "bc400adc-3f3b-42bc-a909-7100d4b5f2b3",
   "metadata": {},
   "outputs": [],
   "source": [
    "# plot spin-photon data\n",
    "fig, ax = plt.subplots(nrows=1, ncols=1, constrained_layout=True,figsize=(6,3.5))\n",
    "ax.plot(t.vals/t.T,O_n/N_lev,\"k\",linewidth=1,label=\"$\\\\langle n\\\\rangle,$\")\n",
    "ax.plot(t.vals/t.T,O_sz,\"c\",linewidth=1,label=\"$\\\\langle\\\\sigma^z\\\\rangle,$\")\n",
    "ax.plot(t.vals/t.T,O_sy,\"tan\",linewidth=1,label=\"$\\\\langle\\\\sigma^x\\\\rangle,$\")\n",
    "ax.set(xlabel=\"$t/T$\", ylabel=r'$O(t)$', ylim=[-1.1,1.4]); ax.grid(True)\n",
    "ax.legend(bbox_to_anchor=(1.05, 1), loc='upper left', fontsize=14)\n",
    "plt.show()"
   ]
  },
  {
   "cell_type": "code",
   "execution_count": null,
   "id": "14bb4767-aab3-47b4-8c8e-48c37c00ae71",
   "metadata": {},
   "outputs": [],
   "source": []
  },
  {
   "cell_type": "code",
   "execution_count": null,
   "id": "019e6a50-79b3-48f0-8450-70465b3f95d8",
   "metadata": {},
   "outputs": [],
   "source": []
  }
 ],
 "metadata": {
  "kernelspec": {
   "display_name": "Python 3",
   "language": "python",
   "name": "python3"
  },
  "language_info": {
   "codemirror_mode": {
    "name": "ipython",
    "version": 3
   },
   "file_extension": ".py",
   "mimetype": "text/x-python",
   "name": "python",
   "nbconvert_exporter": "python",
   "pygments_lexer": "ipython3",
   "version": "3.9.7"
  }
 },
 "nbformat": 4,
 "nbformat_minor": 5
}
