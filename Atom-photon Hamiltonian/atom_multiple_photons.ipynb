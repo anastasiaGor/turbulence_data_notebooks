{
 "cells": [
  {
   "cell_type": "markdown",
   "id": "fdbe4909-e16e-4fa8-bf38-c58c44189ba4",
   "metadata": {},
   "source": [
    "# Import"
   ]
  },
  {
   "cell_type": "code",
   "execution_count": 89,
   "id": "57276971-bf04-43cf-a523-c761d7541f98",
   "metadata": {},
   "outputs": [],
   "source": [
    "from quspin.basis import spin_basis_1d,photon_basis,boson_basis_1d,tensor_basis # Hilbert space bases\n",
    "from quspin.operators import hamiltonian # Hamiltonian and observables\n",
    "from quspin.tools.measurements import obs_vs_time,diag_ensemble # t_dep measurements\n",
    "from quspin.tools.Floquet import Floquet,Floquet_t_vec # Floquet Hamiltonian\n",
    "from quspin.basis.photon import coherent_state # HO coherent state\n",
    "from quspin.tools.block_tools import block_diag_hamiltonian\n",
    "import numpy as np # generic math functions\n",
    "import matplotlib.pyplot as plt\n",
    "import pylab"
   ]
  },
  {
   "cell_type": "markdown",
   "id": "57f39fa2-436c-4dc3-9b9b-8471d57b408b",
   "metadata": {},
   "source": [
    "# Model parameters"
   ]
  },
  {
   "cell_type": "code",
   "execution_count": 90,
   "id": "585fc7dc-04de-4920-9c9e-54ad58edfd00",
   "metadata": {},
   "outputs": [],
   "source": [
    "N_osc=3 # number of harmonic oscillators\n",
    "N_lev=5 # number of energy levels of oscillators\n",
    "N_tot=N_lev**N_osc # total number of states of all photons\n",
    "Omega=1.0 # frequency of the oscillator\n",
    "A=0.2 # spin-photon coupling strength (drive amplitude)\n",
    "Delta=1.0 # difference between atom energy levels"
   ]
  },
  {
   "cell_type": "code",
   "execution_count": 91,
   "id": "29cd9d6a-53c8-4231-a26b-1e4f2220a1fb",
   "metadata": {},
   "outputs": [],
   "source": [
    "N_ph_avg=N_lev//2"
   ]
  },
  {
   "cell_type": "code",
   "execution_count": 92,
   "id": "82444655-6777-4b62-a941-9695ed7cef3d",
   "metadata": {},
   "outputs": [
    {
     "data": {
      "text/plain": [
       "250"
      ]
     },
     "execution_count": 92,
     "metadata": {},
     "output_type": "execute_result"
    }
   ],
   "source": [
    "2*N_tot"
   ]
  },
  {
   "cell_type": "markdown",
   "id": "bd41497c-ff6d-42b0-a3f9-c5e8fffd8f14",
   "metadata": {},
   "source": [
    "# Hamiltonian of a two-state atom in a reservoir of harmonic oscillators "
   ]
  },
  {
   "cell_type": "markdown",
   "id": "f40cb507-f981-4ee9-99aa-785715e34b96",
   "metadata": {},
   "source": [
    "For the purpose of our study, we take a two-level atom (i.e. a single-site spin chain) and couple it to multiple photon mode (i.e. a quantum harmonic oscillators). The Hamiltonian reads: \n",
    "$$ H = \\sum_{k=1}^{N_{osc}} \\Omega_k a_k^\\dagger a_k + \\frac{A}{2} \\frac{1}{\\sqrt{N_{ph~avg}}} \\sum_k (a_k^\\dagger + a_k) \\sigma^x + \\Delta \\sigma^z$$\n",
    "where the operator $a^\\dagger$ creates a photon in the mode, and the atom is modelled by a two-level system described by the Pauli spin operators $\\sigma^{x,y,z}$. \n",
    "$N_{osc}$ is the number of harmoniv oscillators in the reservoir, $N_{lev}$ - number of energy levels of a single photon mode.\n",
    "The photon frequency is $\\Omega$, $N_{ph}$ is the average number of photons in a single mode, $A$ - the coupling between the EM field $E=\\sum_{k=1}^{N_{osc}}\\sqrt{N_{ph~avg}^{-1}}(a_k^\\dagger + a_k)$, and the dipole operator $\\sigma^x$, and $\\Delta$ measures the energy difference between the two atomic states."
   ]
  },
  {
   "cell_type": "markdown",
   "id": "94e7408a-9020-459b-817c-b81a9dcc11cb",
   "metadata": {},
   "source": [
    "To set up the spin-photon Hamiltonian, we first build the site-coupling lists. The ph_energy list does not require the specification of a lattice site index, since the latter is not defined forthe photon sector. The at_energy list, on the other hand, requires the input of the lattice sitefor the $\\sigma^z$-operator:  since we consider a single two-level system or, equivalently – a single-site chain, this index is 0. The spin-photon coupling lists absorb and emit also require the site index which refers to the corresponding Pauli matrices: in this model – 0 again due to dimensional constraints."
   ]
  },
  {
   "cell_type": "code",
   "execution_count": 93,
   "id": "a65c3948-30c7-4786-82bf-eb2b9638a0fb",
   "metadata": {},
   "outputs": [],
   "source": [
    "# define operator site-coupling lists\n",
    "ph_energy=[[Omega,i] for i in range(N_osc)] # photon energy\n",
    "at_energy=[[Delta,0]] # atom energy, 0 because the \"lattice\" is single-site\n",
    "absorb=[[A/(2.0*np.sqrt(N_ph_avg)),0,i] for i in range(N_osc)] # absorption term\n",
    "emit=[[A/(2.0*np.sqrt(N_ph_avg)),0,i] for i in range(N_osc)] # emission term"
   ]
  },
  {
   "cell_type": "markdown",
   "id": "bb126ab1-f70d-4ef6-b6f0-c01aa4d3695d",
   "metadata": {},
   "source": [
    "To build the static operator list, we use the $|$ symbol in the operator string to distinguish the spin and photon operators: spin operators always come to the left of the $|$-symbol,  while photon operators - to the right. For convenience, the identity operator $I$ can be omitted, suchthat $I|n$ is the same as $|n$, and $z|I$ is equivalent to $z|$, respectively. The dynamic list is empty since the spin-photon Hamiltonian is time-independent."
   ]
  },
  {
   "cell_type": "code",
   "execution_count": 94,
   "id": "0fa87669-3a4b-4404-a223-c4577854990c",
   "metadata": {},
   "outputs": [],
   "source": [
    "# define static and dynamics lists\n",
    "static_no_interaction=[[\"|n\",ph_energy],[\"z|\",at_energy]]\n",
    "static_rotating_wave=[[\"|n\",ph_energy],[\"+|-\",absorb],[\"-|+\",emit],[\"z|\",at_energy]]\n",
    "static_full=[[\"|n\",ph_energy],[\"x|-\",absorb],[\"x|+\",emit],[\"z|\",at_energy]]\n",
    "dynamic=[]"
   ]
  },
  {
   "cell_type": "markdown",
   "id": "9b0038ea-d3ca-44dd-b41f-a7c64b9b8bfe",
   "metadata": {},
   "source": [
    "To build the spin-photon basis, we call the function photon_basis and use spin_basis_1d as the first argument. We need to specify the number of spin lattice sites, and the total numberof harmonic oscillator (a.k.a photon) states."
   ]
  },
  {
   "cell_type": "code",
   "execution_count": 120,
   "id": "74a0ccb1-12bb-486e-b178-a132d8885414",
   "metadata": {},
   "outputs": [
    {
     "name": "stdout",
     "output_type": "stream",
     "text": [
      "reference states: \n",
      "array index   /   Fock state   /   integer repr. \n",
      "      0.         |5 0 0>           180  \n",
      "      1.         |4 1 0>           150  \n",
      "      2.         |4 0 1>           145  \n",
      "      3.         |3 2 0>           120  \n",
      "      4.         |3 1 1>           115  \n",
      "      5.         |3 0 2>           110  \n",
      "      6.         |2 3 0>            90  \n",
      "      7.         |2 2 1>            85  \n",
      "      8.         |2 1 2>            80  \n",
      "      9.         |2 0 3>            75  \n",
      "     10.         |1 4 0>            60  \n",
      "     11.         |1 3 1>            55  \n",
      "     12.         |1 2 2>            50  \n",
      "     13.         |1 1 3>            45  \n",
      "     14.         |1 0 4>            40  \n",
      "     15.         |0 5 0>            30  \n",
      "     16.         |0 4 1>            25  \n",
      "     17.         |0 3 2>            20  \n",
      "     18.         |0 2 3>            15  \n",
      "     19.         |0 1 4>            10  \n",
      "     20.         |0 0 5>             5  \n"
     ]
    }
   ],
   "source": [
    "basis_osc = boson_basis_1d(L=N_osc,Nb={5})\n",
    "print(basis_osc)"
   ]
  },
  {
   "cell_type": "code",
   "execution_count": 117,
   "id": "7e9e3d12-161d-4e97-a5db-15d9c64fe350",
   "metadata": {},
   "outputs": [
    {
     "name": "stdout",
     "output_type": "stream",
     "text": [
      "reference states: \n",
      "array index   /   Fock state   /   integer repr. \n",
      "\t 0.         |1>           1         |5 0 0>           180  \n",
      "\t 1.         |1>           1         |4 1 0>           150  \n",
      "\t 2.         |1>           1         |4 0 1>           145  \n",
      "\t 3.         |1>           1         |4 0 0>           144  \n",
      "\t 4.         |1>           1         |3 2 0>           120  \n",
      "\t 5.         |1>           1         |3 1 1>           115  \n",
      "\t 6.         |1>           1         |3 1 0>           114  \n",
      "\t 7.         |1>           1         |3 0 2>           110  \n",
      "\t 8.         |1>           1         |3 0 1>           109  \n",
      "\t 9.         |1>           1         |2 3 0>            90  \n",
      "\t10.         |1>           1         |2 2 1>            85  \n",
      "\t11.         |1>           1         |2 2 0>            84  \n",
      "\t12.         |1>           1         |2 1 2>            80  \n",
      "\t13.         |1>           1         |2 1 1>            79  \n",
      "\t14.         |1>           1         |2 0 3>            75  \n",
      "\t15.         |1>           1         |2 0 2>            74  \n",
      "\t16.         |1>           1         |1 4 0>            60  \n",
      "\t17.         |1>           1         |1 3 1>            55  \n",
      "\t18.         |1>           1         |1 3 0>            54  \n",
      "\t19.         |1>           1         |1 2 2>            50  \n",
      "\t20.         |1>           1         |1 2 1>            49  \n",
      "\t21.         |1>           1         |1 1 3>            45  \n",
      "\t22.         |1>           1         |1 1 2>            44  \n",
      "\t23.         |1>           1         |1 0 4>            40  \n",
      "\t24.         |1>           1         |1 0 3>            39  \n",
      "                             :\n",
      "\t47.         |0>           0         |2 2 0>            84  \n",
      "\t48.         |0>           0         |2 1 2>            80  \n",
      "\t49.         |0>           0         |2 1 1>            79  \n",
      "\t50.         |0>           0         |2 0 3>            75  \n",
      "\t51.         |0>           0         |2 0 2>            74  \n",
      "\t52.         |0>           0         |1 4 0>            60  \n",
      "\t53.         |0>           0         |1 3 1>            55  \n",
      "\t54.         |0>           0         |1 3 0>            54  \n",
      "\t55.         |0>           0         |1 2 2>            50  \n",
      "\t56.         |0>           0         |1 2 1>            49  \n",
      "\t57.         |0>           0         |1 1 3>            45  \n",
      "\t58.         |0>           0         |1 1 2>            44  \n",
      "\t59.         |0>           0         |1 0 4>            40  \n",
      "\t60.         |0>           0         |1 0 3>            39  \n",
      "\t61.         |0>           0         |0 5 0>            30  \n",
      "\t62.         |0>           0         |0 4 1>            25  \n",
      "\t63.         |0>           0         |0 4 0>            24  \n",
      "\t64.         |0>           0         |0 3 2>            20  \n",
      "\t65.         |0>           0         |0 3 1>            19  \n",
      "\t66.         |0>           0         |0 2 3>            15  \n",
      "\t67.         |0>           0         |0 2 2>            14  \n",
      "\t68.         |0>           0         |0 1 4>            10  \n",
      "\t69.         |0>           0         |0 1 3>             9  \n",
      "\t70.         |0>           0         |0 0 5>             5  \n",
      "\t71.         |0>           0         |0 0 4>             4  \n"
     ]
    }
   ],
   "source": [
    "# compute atom-photon basis\n",
    "#basis_photon_particle=photon_basis(spin_basis_1d, L=1, Nph=L_lev)\n",
    "basis_osc = boson_basis_1d(L=N_osc,Nb={4,5})\n",
    "basis_spin = spin_basis_1d(L=1, pauli=-1)\n",
    "basis = tensor_basis(basis_spin,basis_osc) \n",
    "print(basis)"
   ]
  },
  {
   "cell_type": "code",
   "execution_count": 109,
   "id": "8f27d79c-66e6-4d2e-8483-ab66f5af0ba2",
   "metadata": {},
   "outputs": [
    {
     "data": {
      "text/plain": [
       "[('N', <property at 0x7f8825978db0>),\n",
       " ('Ns', <property at 0x7f8c0b0ffd60>),\n",
       " ('Op',\n",
       "  <function quspin.basis.tensor.tensor_basis.Op(self, opstr, indx, J, dtype)>),\n",
       " ('_Op', <function quspin.basis.base.basis._Op(self, opstr, indx, J, dtype)>),\n",
       " ('__class__', type),\n",
       " ('__delattr__', <slot wrapper '__delattr__' of 'object' objects>),\n",
       " ('__dict__',\n",
       "  mappingproxy({'__module__': 'quspin.basis.tensor',\n",
       "                '__doc__': 'Constructs basis in tensor product Hilbert space.\\n\\n\\t\\tThe `tensor_basis` class combines two basis objects `basis1` and `basis2` together into a new basis object which can be then used, e.g., to create the Hamiltonian over the tensor product Hilbert space:\\n\\n\\t\\t.. math::\\n\\t\\t\\t\\\\mathcal{H}=\\\\mathcal{H}_1\\\\otimes\\\\mathcal{H}_2\\n\\n\\t\\tNotes\\n\\t\\t-----\\n\\n\\t\\t* The `tensor_basis` operator strings are separated by a pipe symbol, \"|\". However, the index array has NO pipe symbol.\\n\\n\\t\\t* If two fermion basis constructors are used, `tensor_basis` will assume that the two fermion species are distinguishable, i.e. their operators will commute (instead of anti-commute). For anticommuting fermion species, use the `spinful_fermion_basis_*` constructors.\\n\\n\\t\\tThe `tensor_basis` class does not allow one to make use of symmetries, save for particle conservation.\\n\\n\\n\\t\\tExamples\\n\\t\\t---------\\n\\t\\tThe following code shows how to construct the Fermi-Hubbard Hamiltonian by tensoring two \\n\\t\\t`spinless_fermion_basis_1d` objects. This model can also be set up using the `spinful_fermion_basis_1d` class),\\n\\t\\twhich also allows the implementation of symmetries.\\n\\n\\t\\tNotice that the operator strings for constructing Hamiltonians with a `tensor_basis` object are separated by \\n\\t\\ta pipe symbol, \\'|\\', while the index array has no splitting pipe character.\\n\\t\\t \\n\\t\\tThe code snippet below initiates the class, and is required to run the example codes for the function methods.\\n\\n\\t\\t.. literalinclude:: ../../doc_examples/tensor_basis-example.py\\n\\t\\t\\t:linenos:\\n\\t\\t\\t:language: python\\n\\t\\t\\t:lines: 7-\\n\\n\\t',\n",
       "                '__init__': <function quspin.basis.tensor.tensor_basis.__init__(self, *basis_list)>,\n",
       "                'basis_left': <property at 0x7f8825978d10>,\n",
       "                'basis_right': <property at 0x7f8825978d60>,\n",
       "                'N': <property at 0x7f8825978db0>,\n",
       "                'Op': <function quspin.basis.tensor.tensor_basis.Op(self, opstr, indx, J, dtype)>,\n",
       "                'index': <function quspin.basis.tensor.tensor_basis.index(self, *states)>,\n",
       "                'get_vec': <function quspin.basis.tensor.tensor_basis.get_vec(self, v0, sparse=True, full_left=True, full_right=True)>,\n",
       "                'project_from': <function quspin.basis.tensor.tensor_basis.project_from(self, v0, sparse=True, full_left=True, full_right=True)>,\n",
       "                'get_proj': <function quspin.basis.tensor.tensor_basis.get_proj(self, dtype, full_left=True, full_right=True)>,\n",
       "                'partial_trace': <function quspin.basis.tensor.tensor_basis.partial_trace(self, state, sub_sys_A='left', return_rdm=None, enforce_pure=False, sparse=False)>,\n",
       "                'ent_entropy': <function quspin.basis.tensor.tensor_basis.ent_entropy(self, state, sub_sys_A='left', return_rdm=None, enforce_pure=False, return_rdm_EVs=False, sparse=False, alpha=1.0, sparse_diag=True, maxiter=None)>,\n",
       "                '_p_pure': <function quspin.basis.tensor.tensor_basis._p_pure(self, state, sub_sys_A, return_rdm=None)>,\n",
       "                '_p_pure_sparse': <function quspin.basis.tensor.tensor_basis._p_pure_sparse(self, state, sub_sys_A, return_rdm=None, sparse_diag=True, maxiter=None)>,\n",
       "                '_p_mixed': <function quspin.basis.tensor.tensor_basis._p_mixed(self, state, sub_sys_A, return_rdm=None)>,\n",
       "                '__name__': <function quspin.basis.tensor.tensor_basis.__name__(self)>,\n",
       "                '_sort_opstr': <function quspin.basis.tensor.tensor_basis._sort_opstr(self, op)>,\n",
       "                '_hc_opstr': <function quspin.basis.tensor.tensor_basis._hc_opstr(self, op)>,\n",
       "                '_non_zero': <function quspin.basis.tensor.tensor_basis._non_zero(self, op)>,\n",
       "                '_expand_opstr': <function quspin.basis.tensor.tensor_basis._expand_opstr(self, op, num)>,\n",
       "                '_get__str__': <function quspin.basis.tensor.tensor_basis._get__str__(self)>})),\n",
       " ('__dir__', <method '__dir__' of 'object' objects>),\n",
       " ('__doc__',\n",
       "  'Constructs basis in tensor product Hilbert space.\\n\\n\\t\\tThe `tensor_basis` class combines two basis objects `basis1` and `basis2` together into a new basis object which can be then used, e.g., to create the Hamiltonian over the tensor product Hilbert space:\\n\\n\\t\\t.. math::\\n\\t\\t\\t\\\\mathcal{H}=\\\\mathcal{H}_1\\\\otimes\\\\mathcal{H}_2\\n\\n\\t\\tNotes\\n\\t\\t-----\\n\\n\\t\\t* The `tensor_basis` operator strings are separated by a pipe symbol, \"|\". However, the index array has NO pipe symbol.\\n\\n\\t\\t* If two fermion basis constructors are used, `tensor_basis` will assume that the two fermion species are distinguishable, i.e. their operators will commute (instead of anti-commute). For anticommuting fermion species, use the `spinful_fermion_basis_*` constructors.\\n\\n\\t\\tThe `tensor_basis` class does not allow one to make use of symmetries, save for particle conservation.\\n\\n\\n\\t\\tExamples\\n\\t\\t---------\\n\\t\\tThe following code shows how to construct the Fermi-Hubbard Hamiltonian by tensoring two \\n\\t\\t`spinless_fermion_basis_1d` objects. This model can also be set up using the `spinful_fermion_basis_1d` class),\\n\\t\\twhich also allows the implementation of symmetries.\\n\\n\\t\\tNotice that the operator strings for constructing Hamiltonians with a `tensor_basis` object are separated by \\n\\t\\ta pipe symbol, \\'|\\', while the index array has no splitting pipe character.\\n\\t\\t \\n\\t\\tThe code snippet below initiates the class, and is required to run the example codes for the function methods.\\n\\n\\t\\t.. literalinclude:: ../../doc_examples/tensor_basis-example.py\\n\\t\\t\\t:linenos:\\n\\t\\t\\t:language: python\\n\\t\\t\\t:lines: 7-\\n\\n\\t'),\n",
       " ('__eq__', <slot wrapper '__eq__' of 'object' objects>),\n",
       " ('__format__', <method '__format__' of 'object' objects>),\n",
       " ('__ge__', <slot wrapper '__ge__' of 'object' objects>),\n",
       " ('__getattribute__', <slot wrapper '__getattribute__' of 'object' objects>),\n",
       " ('__getitem__',\n",
       "  <function quspin.basis.base.basis.__getitem__(self, *args, **kwargs)>),\n",
       " ('__gt__', <slot wrapper '__gt__' of 'object' objects>),\n",
       " ('__hash__', <slot wrapper '__hash__' of 'object' objects>),\n",
       " ('__init__',\n",
       "  <function quspin.basis.tensor.tensor_basis.__init__(self, *basis_list)>),\n",
       " ('__init_subclass__', <function tensor_basis.__init_subclass__>),\n",
       " ('__iter__', <function quspin.basis.base.basis.__iter__(self)>),\n",
       " ('__le__', <slot wrapper '__le__' of 'object' objects>),\n",
       " ('__lt__', <slot wrapper '__lt__' of 'object' objects>),\n",
       " ('__module__', 'quspin.basis.tensor'),\n",
       " ('__name__', 'tensor_basis'),\n",
       " ('__ne__', <slot wrapper '__ne__' of 'object' objects>),\n",
       " ('__new__', <function object.__new__(*args, **kwargs)>),\n",
       " ('__reduce__', <method '__reduce__' of 'object' objects>),\n",
       " ('__reduce_ex__', <method '__reduce_ex__' of 'object' objects>),\n",
       " ('__repr__', <slot wrapper '__repr__' of 'object' objects>),\n",
       " ('__setattr__', <slot wrapper '__setattr__' of 'object' objects>),\n",
       " ('__sizeof__', <method '__sizeof__' of 'object' objects>),\n",
       " ('__str__', <function quspin.basis.base.basis.__str__(self)>),\n",
       " ('__subclasshook__', <function tensor_basis.__subclasshook__>),\n",
       " ('__weakref__', <attribute '__weakref__' of 'basis' objects>),\n",
       " ('_consolidate_local_lists',\n",
       "  <function quspin.basis.base.basis._consolidate_local_lists(self, static_list, dynamic_list)>),\n",
       " ('_expand_local_list',\n",
       "  <function quspin.basis.base.basis._expand_local_list(self, op_list)>),\n",
       " ('_expand_opstr',\n",
       "  <function quspin.basis.tensor.tensor_basis._expand_opstr(self, op, num)>),\n",
       " ('_get__str__',\n",
       "  <function quspin.basis.tensor.tensor_basis._get__str__(self)>),\n",
       " ('_get_hc_local_lists',\n",
       "  <function quspin.basis.base.basis._get_hc_local_lists(self, static_list, dynamic_list)>),\n",
       " ('_get_local_lists',\n",
       "  <function quspin.basis.base.basis._get_local_lists(self, static, dynamic)>),\n",
       " ('_hc_opstr',\n",
       "  <function quspin.basis.tensor.tensor_basis._hc_opstr(self, op)>),\n",
       " ('_inplace_Op',\n",
       "  <function quspin.basis.base.basis._inplace_Op(self, v_in, op_list, dtype, transposed=False, conjugated=False, v_out=None, a=1.0)>),\n",
       " ('_make_matrix',\n",
       "  <function quspin.basis.base.basis._make_matrix(self, op_list, dtype)>),\n",
       " ('_non_zero',\n",
       "  <function quspin.basis.tensor.tensor_basis._non_zero(self, op)>),\n",
       " ('_p_mixed',\n",
       "  <function quspin.basis.tensor.tensor_basis._p_mixed(self, state, sub_sys_A, return_rdm=None)>),\n",
       " ('_p_pure',\n",
       "  <function quspin.basis.tensor.tensor_basis._p_pure(self, state, sub_sys_A, return_rdm=None)>),\n",
       " ('_p_pure_sparse',\n",
       "  <function quspin.basis.tensor.tensor_basis._p_pure_sparse(self, state, sub_sys_A, return_rdm=None, sparse_diag=True, maxiter=None)>),\n",
       " ('_sort_local_list',\n",
       "  <function quspin.basis.base.basis._sort_local_list(self, op_list)>),\n",
       " ('_sort_opstr',\n",
       "  <function quspin.basis.tensor.tensor_basis._sort_opstr(self, op)>),\n",
       " ('basis_left', <property at 0x7f8825978d10>),\n",
       " ('basis_right', <property at 0x7f8825978d60>),\n",
       " ('blocks', <property at 0x7f8c0b0ffe50>),\n",
       " ('check_hermitian',\n",
       "  <function quspin.basis.base.basis.check_hermitian(self, static, dynamic)>),\n",
       " ('check_pcon',\n",
       "  <function quspin.basis.base.basis.check_pcon(self, static, dynamic)>),\n",
       " ('check_symm',\n",
       "  <function quspin.basis.base.basis.check_symm(self, static, dynamic)>),\n",
       " ('ent_entropy',\n",
       "  <function quspin.basis.tensor.tensor_basis.ent_entropy(self, state, sub_sys_A='left', return_rdm=None, enforce_pure=False, return_rdm_EVs=False, sparse=False, alpha=1.0, sparse_diag=True, maxiter=None)>),\n",
       " ('expanded_form',\n",
       "  <function quspin.basis.base.basis.expanded_form(self, static=[], dynamic=[])>),\n",
       " ('get_proj',\n",
       "  <function quspin.basis.tensor.tensor_basis.get_proj(self, dtype, full_left=True, full_right=True)>),\n",
       " ('get_vec',\n",
       "  <function quspin.basis.tensor.tensor_basis.get_vec(self, v0, sparse=True, full_left=True, full_right=True)>),\n",
       " ('index', <function quspin.basis.tensor.tensor_basis.index(self, *states)>),\n",
       " ('inplace_Op',\n",
       "  <function quspin.basis.base.basis.inplace_Op(self, v_in, op_list, dtype, transposed=False, conjugated=False, v_out=None)>),\n",
       " ('operators', <property at 0x7f8c0b0ffdb0>),\n",
       " ('partial_trace',\n",
       "  <function quspin.basis.tensor.tensor_basis.partial_trace(self, state, sub_sys_A='left', return_rdm=None, enforce_pure=False, sparse=False)>),\n",
       " ('project_from',\n",
       "  <function quspin.basis.tensor.tensor_basis.project_from(self, v0, sparse=True, full_left=True, full_right=True)>),\n",
       " ('sps', <property at 0x7f8c0b0ffea0>)]"
      ]
     },
     "execution_count": 109,
     "metadata": {},
     "output_type": "execute_result"
    }
   ],
   "source": [
    "import inspect\n",
    "inspect.getmembers(tensor_basis)"
   ]
  },
  {
   "cell_type": "code",
   "execution_count": 113,
   "id": "990dbb8e-8973-4888-9b6c-da9cc258979e",
   "metadata": {},
   "outputs": [
    {
     "ename": "TypeError",
     "evalue": "_expand_opstr() missing 2 required positional arguments: 'op' and 'num'",
     "output_type": "error",
     "traceback": [
      "\u001b[0;31m---------------------------------------------------------------------------\u001b[0m",
      "\u001b[0;31mTypeError\u001b[0m                                 Traceback (most recent call last)",
      "\u001b[0;32m/tmp/ipykernel_15451/2949654430.py\u001b[0m in \u001b[0;36m<module>\u001b[0;34m\u001b[0m\n\u001b[0;32m----> 1\u001b[0;31m \u001b[0mbasis\u001b[0m\u001b[0;34m.\u001b[0m\u001b[0m_expand_opstr\u001b[0m\u001b[0;34m(\u001b[0m\u001b[0;34m)\u001b[0m\u001b[0;34m\u001b[0m\u001b[0;34m\u001b[0m\u001b[0m\n\u001b[0m",
      "\u001b[0;31mTypeError\u001b[0m: _expand_opstr() missing 2 required positional arguments: 'op' and 'num'"
     ]
    }
   ],
   "source": [
    "basis._expand_opstr()"
   ]
  },
  {
   "cell_type": "code",
   "execution_count": 96,
   "id": "b3fb9609-3623-4c0b-afc6-20daeea63516",
   "metadata": {},
   "outputs": [],
   "source": [
    "# compute atom-photon Hamiltonian H\n",
    "H_no_interaction=hamiltonian(static_no_interaction,dynamic,dtype=np.float64, basis=basis, check_symm=False, check_pcon=False, check_herm=False)\n",
    "H_full=hamiltonian(static_full,dynamic,dtype=np.float64, basis=basis, check_symm=False, check_pcon=False, check_herm=False)\n",
    "H_rotating_wave=hamiltonian(static_rotating_wave,dynamic,dtype=np.float64, basis=basis, check_symm=False, check_pcon=False, check_herm=False)"
   ]
  },
  {
   "cell_type": "code",
   "execution_count": 97,
   "id": "cb5145e0-616c-471f-8784-2fdf5d7b3242",
   "metadata": {},
   "outputs": [
    {
     "name": "stdout",
     "output_type": "stream",
     "text": [
      "Number of states of Hamiltonian: 40\n"
     ]
    }
   ],
   "source": [
    "print('Number of states of Hamiltonian:', H_rotating_wave.Ns)"
   ]
  },
  {
   "cell_type": "markdown",
   "id": "35d69f87-de6c-40dc-826b-f1f8b71bfc6c",
   "metadata": {
    "tags": []
   },
   "source": [
    "# Spectrum "
   ]
  },
  {
   "cell_type": "code",
   "execution_count": 10,
   "id": "ff3b39af-adba-4cd0-b64b-a136f2a6e63d",
   "metadata": {},
   "outputs": [],
   "source": [
    "# calculate entire spectrum only\n",
    "eigenvalues_H_no_interaction=H_no_interaction.eigvalsh()\n",
    "eigenvalues_H_full=H_full.eigvalsh()\n",
    "eigenvalues_H_rotating_wave=H_rotating_wave.eigvalsh()"
   ]
  },
  {
   "cell_type": "code",
   "execution_count": 11,
   "id": "735f5dc7-2f43-42dc-be46-d30580aff845",
   "metadata": {},
   "outputs": [
    {
     "data": {
      "image/png": "[encoded data removed]",
      "text/plain": [
       "<Figure size 720x360 with 3 Axes>"
      ]
     },
     "metadata": {
      "needs_background": "light"
     },
     "output_type": "display_data"
    }
   ],
   "source": [
    "##### plot spectra\n",
    "fig, ax = plt.subplots(nrows=1, ncols=3, constrained_layout=True,figsize=(10,5))\n",
    "x = np.arange(H_full.Ns)\n",
    "ax[0].plot(x,eigenvalues_H_no_interaction, '.-', color='b', lw=1.)\n",
    "ax[1].plot(x,eigenvalues_H_full, '.-', color='b', lw=1.)\n",
    "ax[2].plot(x,eigenvalues_H_rotating_wave, '.-', color='b', lw=1.)\n",
    "for level in x :\n",
    "    ax[0].plot(x,np.full(H_no_interaction.Ns,eigenvalues_H_no_interaction[level]), '-', color='b', lw=0.5)\n",
    "    ax[1].plot(x,np.full(H_full.Ns,eigenvalues_H_full[level]), '-', color='b', lw=0.5)\n",
    "    ax[2].plot(x,np.full(H_rotating_wave.Ns,eigenvalues_H_rotating_wave[level]), '-', color='b', lw=0.5)\n",
    "ax[0].set(title='No interaction', xlabel='state number', ylabel='eigenvalue'); ax[0].grid(False)\n",
    "ax[1].set(title='$(a^\\dag+a)\\sigma^x$', xlabel='state number'); ax[1].grid(False)\n",
    "ax[2].set(title='$(\\sigma^- a^\\dag+\\sigma^+ a)$', xlabel='state number'); ax[1].grid(False)\n",
    "plt.show()"
   ]
  },
  {
   "cell_type": "markdown",
   "id": "dd016c1d-3218-4cfc-9b10-33ad2575a433",
   "metadata": {},
   "source": [
    "# Initial state"
   ]
  },
  {
   "cell_type": "code",
   "execution_count": 12,
   "id": "721cbd06-035b-47b4-bf03-117efedc0dc3",
   "metadata": {},
   "outputs": [],
   "source": [
    "psi_ph_i=coherent_state(np.sqrt(100/2),100+1)"
   ]
  },
  {
   "cell_type": "code",
   "execution_count": 13,
   "id": "9b786799-1d2d-47b1-bf6c-60d6c1b843e9",
   "metadata": {},
   "outputs": [],
   "source": [
    "# plt.plot(psi_ph_i, '.-')"
   ]
  },
  {
   "cell_type": "code",
   "execution_count": 14,
   "id": "12036f59-8d2d-4f6a-a435-5d822a8769e4",
   "metadata": {},
   "outputs": [
    {
     "ename": "NameError",
     "evalue": "name 'H' is not defined",
     "output_type": "error",
     "traceback": [
      "\u001b[0;31m---------------------------------------------------------------------------\u001b[0m",
      "\u001b[0;31mNameError\u001b[0m                                 Traceback (most recent call last)",
      "\u001b[0;32m/tmp/ipykernel_15451/883532233.py\u001b[0m in \u001b[0;36m<module>\u001b[0;34m\u001b[0m\n\u001b[1;32m      1\u001b[0m \u001b[0;31m# one of the eigenvectors\u001b[0m\u001b[0;34m\u001b[0m\u001b[0;34m\u001b[0m\u001b[0m\n\u001b[0;32m----> 2\u001b[0;31m \u001b[0mE\u001b[0m\u001b[0;34m,\u001b[0m\u001b[0mpsi_0\u001b[0m \u001b[0;34m=\u001b[0m \u001b[0mH\u001b[0m\u001b[0;34m.\u001b[0m\u001b[0meigsh\u001b[0m\u001b[0;34m(\u001b[0m\u001b[0mk\u001b[0m\u001b[0;34m=\u001b[0m\u001b[0;36m1\u001b[0m\u001b[0;34m,\u001b[0m\u001b[0msigma\u001b[0m\u001b[0;34m=\u001b[0m\u001b[0;36m4\u001b[0m\u001b[0;34m)\u001b[0m\u001b[0;34m\u001b[0m\u001b[0;34m\u001b[0m\u001b[0m\n\u001b[0m\u001b[1;32m      3\u001b[0m \u001b[0mpsi_0\u001b[0m \u001b[0;34m=\u001b[0m \u001b[0mpsi_0\u001b[0m\u001b[0;34m.\u001b[0m\u001b[0mreshape\u001b[0m\u001b[0;34m(\u001b[0m\u001b[0;34m(\u001b[0m\u001b[0;34m-\u001b[0m\u001b[0;36m1\u001b[0m\u001b[0;34m,\u001b[0m\u001b[0;34m)\u001b[0m\u001b[0;34m)\u001b[0m\u001b[0;34m\u001b[0m\u001b[0;34m\u001b[0m\u001b[0m\n\u001b[1;32m      4\u001b[0m \u001b[0;31m#print(psi_0)\u001b[0m\u001b[0;34m\u001b[0m\u001b[0;34m\u001b[0m\u001b[0m\n",
      "\u001b[0;31mNameError\u001b[0m: name 'H' is not defined"
     ]
    }
   ],
   "source": [
    "# one of the eigenvectors \n",
    "E,psi_0 = H.eigsh(k=1,sigma=4)\n",
    "psi_0 = psi_0.reshape((-1,))\n",
    "#print(psi_0)"
   ]
  },
  {
   "cell_type": "code",
   "execution_count": null,
   "id": "d5490ff8-4104-4884-a949-be88ae8c1d11",
   "metadata": {},
   "outputs": [],
   "source": [
    "N_lev*N_osc/1.5"
   ]
  },
  {
   "cell_type": "code",
   "execution_count": null,
   "id": "abcee098-27a3-48e5-9f8f-ca46c4377e59",
   "metadata": {},
   "outputs": [],
   "source": [
    "psi_0.shape"
   ]
  },
  {
   "cell_type": "markdown",
   "id": "1a4866d9-7308-4fb0-b88a-99174226755c",
   "metadata": {},
   "source": [
    "# Calculate time evolution"
   ]
  },
  {
   "cell_type": "markdown",
   "id": "b0dd9daf-053e-4922-8c6f-0f5486a353eb",
   "metadata": {},
   "source": [
    "The next step is to define a vector of stroboscopic times, using the class Floquet_t_vec."
   ]
  },
  {
   "cell_type": "code",
   "execution_count": null,
   "id": "c3df77ef-f969-4351-8cd7-d9fa314956ac",
   "metadata": {},
   "outputs": [],
   "source": [
    "# define time vector over 30 driving cycles with 100 points per period\n",
    "t=Floquet_t_vec(Omega,30) # t.i = initial time, t.T = driving period"
   ]
  },
  {
   "cell_type": "markdown",
   "id": "c76cd34c-d31b-4f01-bce7-c06beb1514ab",
   "metadata": {},
   "source": [
    "We now time evolve the initial state susing the hamiltonian class method evolve. We define the solution psi_t as a generator expression using the optional argument iterate=True."
   ]
  },
  {
   "cell_type": "code",
   "execution_count": null,
   "id": "3d7f4482-0828-4367-b4e7-176044090019",
   "metadata": {},
   "outputs": [],
   "source": [
    "# evolve atom-photon state with Hamiltonian H\n",
    "psi_t=H.evolve(psi_0,t.i,t.vals,iterate=True,rtol=1E-9,atol=1E-9) "
   ]
  },
  {
   "cell_type": "markdown",
   "id": "1cf1c9be-558c-4389-8b3f-6732cd51215b",
   "metadata": {
    "tags": []
   },
   "source": [
    "# Observables"
   ]
  },
  {
   "cell_type": "markdown",
   "id": "15f176cb-b44d-44c9-a92c-5a6b19ccadc1",
   "metadata": {},
   "source": [
    "Last, we define the observables of interest, using the hamiltonian class with unit coupling constants. \n",
    "Since each observable represents a single operator, we refrain from defining operator lists and set up the observables inline.  \n",
    "The Python dictionaries obs_args and obs_args_sc represent another way of passing optional keyword arguments to the hamiltonian function. Here we also disable the automatic symmetry and hermiticity checks."
   ]
  },
  {
   "cell_type": "code",
   "execution_count": null,
   "id": "f55122b4-4a4c-4b69-a228-cdb5e1f5f1a9",
   "metadata": {},
   "outputs": [],
   "source": [
    "# define observables parameters\n",
    "obs_args={\"basis\":basis,\"check_herm\":False,\"check_symm\":False, \"check_pcon\" : False}"
   ]
  },
  {
   "cell_type": "code",
   "execution_count": null,
   "id": "532ffbbe-3243-471a-851e-3c1144f7cc5a",
   "metadata": {},
   "outputs": [],
   "source": [
    "# in atom-photon Hilbert space\n",
    "n=hamiltonian([[\"|+-\", [[1.0,0,0]] ]],[],dtype=np.float64,**obs_args)\n",
    "sz=hamiltonian([[\"z|\",[[1.0,0]] ]],[],dtype=np.float64,**obs_args)\n",
    "sy=hamiltonian([[\"y|\",[[1.0,0]] ]],[],dtype=np.complex128,**obs_args)"
   ]
  },
  {
   "cell_type": "markdown",
   "id": "c0fef469-06c8-4e9c-9397-c1d0f4809372",
   "metadata": {},
   "source": [
    "We  calculate  the  time-dependent  expectation  values  using  the measurements tool function obs_vs_time. Its  arguments  are  the  time-dependent  state psi_t,  the  vector  of times t.vals, and a dictionary of all observables of interest. obs_vs_time returns a dictionary with all time-dependent expectations stored under the same keys they were passed. "
   ]
  },
  {
   "cell_type": "code",
   "execution_count": null,
   "id": "b414bfde-051f-42a5-a070-cff2410940cd",
   "metadata": {},
   "outputs": [],
   "source": [
    "Obs_t = obs_vs_time(psi_t,t.vals,{\"n\":n,\"sz\":sz,\"sy\":sy})\n",
    "#Obs_t = obs_vs_time((psi_0,eigenstates,eigenvalues),t.vals,{\"n\":n, \"sz\":sz,\"sy\":sy})\n",
    "O_n, O_sz, O_sy = Obs_t[\"n\"], Obs_t[\"sz\"], Obs_t[\"sy\"]"
   ]
  },
  {
   "cell_type": "markdown",
   "id": "bfb62d12-ebf7-4aa8-bc0e-e31bd35bc44a",
   "metadata": {},
   "source": [
    "# Plot time evolution"
   ]
  },
  {
   "cell_type": "code",
   "execution_count": null,
   "id": "bc400adc-3f3b-42bc-a909-7100d4b5f2b3",
   "metadata": {},
   "outputs": [],
   "source": [
    "# plot spin-photon data\n",
    "fig, ax = plt.subplots(nrows=1, ncols=1, constrained_layout=True,figsize=(6,3.5))\n",
    "ax.plot(t.vals/t.T,O_n/N_lev,\"k\",linewidth=1,label=\"$\\\\langle n\\\\rangle,$\")\n",
    "ax.plot(t.vals/t.T,O_sz,\"c\",linewidth=1,label=\"$\\\\langle\\\\sigma^z\\\\rangle,$\")\n",
    "ax.plot(t.vals/t.T,O_sy,\"tan\",linewidth=1,label=\"$\\\\langle\\\\sigma^x\\\\rangle,$\")\n",
    "ax.set(xlabel=\"$t/T$\", ylabel=r'$O(t)$', ylim=[-1.1,1.4]); ax.grid(True)\n",
    "ax.legend(bbox_to_anchor=(1.05, 1), loc='upper left', fontsize=14)\n",
    "plt.show()"
   ]
  },
  {
   "cell_type": "code",
   "execution_count": null,
   "id": "14bb4767-aab3-47b4-8c8e-48c37c00ae71",
   "metadata": {},
   "outputs": [],
   "source": []
  },
  {
   "cell_type": "code",
   "execution_count": null,
   "id": "019e6a50-79b3-48f0-8450-70465b3f95d8",
   "metadata": {},
   "outputs": [],
   "source": []
  }
 ],
 "metadata": {
  "kernelspec": {
   "display_name": "Python 3",
   "language": "python",
   "name": "python3"
  },
  "language_info": {
   "codemirror_mode": {
    "name": "ipython",
    "version": 3
   },
   "file_extension": ".py",
   "mimetype": "text/x-python",
   "name": "python",
   "nbconvert_exporter": "python",
   "pygments_lexer": "ipython3",
   "version": "3.9.7"
  }
 },
 "nbformat": 4,
 "nbformat_minor": 5
}
