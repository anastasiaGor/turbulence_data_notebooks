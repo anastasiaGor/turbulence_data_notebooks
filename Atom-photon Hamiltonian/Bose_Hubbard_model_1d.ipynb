{
 "cells": [
  {
   "cell_type": "markdown",
   "id": "221887e8-69bb-4653-8d4f-4aa5c948ea35",
   "metadata": {},
   "source": [
    "# Import"
   ]
  },
  {
   "cell_type": "code",
   "execution_count": 1,
   "id": "55e5accf-8d9f-435a-b320-30bd77a55e1f",
   "metadata": {},
   "outputs": [],
   "source": [
    "from __future__ import print_function, division"
   ]
  },
  {
   "cell_type": "code",
   "execution_count": 2,
   "id": "22c59ed1-d790-472f-a737-5fee73664524",
   "metadata": {},
   "outputs": [],
   "source": [
    "import sys,os\n",
    "#os.environ['KMP_DUPLICATE_LIB_OK']='True' # uncomment this line if omp error occurs on OSX for python 3\n",
    "os.environ['OMP_NUM_THREADS']='1' # set number of OpenMP threads to run in parallel\n",
    "os.environ['MKL_NUM_THREADS']='1' # set number of MKL threads to run in parallel"
   ]
  },
  {
   "cell_type": "code",
   "execution_count": 3,
   "id": "1fc71c4a-a4a2-45d0-a7db-fdfecf42f9e8",
   "metadata": {},
   "outputs": [],
   "source": [
    "quspin_path = os.path.join(os.getcwd(),\"../../\")\n",
    "sys.path.insert(0,quspin_path)"
   ]
  },
  {
   "cell_type": "code",
   "execution_count": 4,
   "id": "c6f5136e-403f-42ee-8a54-7d06c8574dcb",
   "metadata": {},
   "outputs": [],
   "source": [
    "from quspin.operators import hamiltonian # Hamiltonians and operators\n",
    "from quspin.basis import boson_basis_1d # Hilbert space spin basis_1d\n",
    "from quspin.basis.user import user_basis # Hilbert space user basis\n",
    "from quspin.basis.user import next_state_sig_32,op_sig_32,map_sig_32,count_particles_sig_32 # user basis data types signatures\n",
    "from numba import carray,cfunc # numba helper functions\n",
    "from numba import uint32,int32,float64 # numba data types\n",
    "import numpy as np\n",
    "from scipy.special import comb"
   ]
  },
  {
   "cell_type": "markdown",
   "id": "6d910fe6-bd0e-49bb-9c4b-8ac11e6c0f8a",
   "metadata": {},
   "source": [
    "# Parameters"
   ]
  },
  {
   "cell_type": "code",
   "execution_count": 5,
   "id": "7efcb6a4-9a45-40da-a077-ef62740ad227",
   "metadata": {},
   "outputs": [],
   "source": [
    "N=5 # lattice sites\n",
    "sps=3 # states per site\n",
    "Np=6 # total number of bosons"
   ]
  },
  {
   "cell_type": "markdown",
   "id": "e2b3396e-8165-46bd-8593-82db5586922f",
   "metadata": {},
   "source": [
    "# Create boson user basis object "
   ]
  },
  {
   "cell_type": "code",
   "execution_count": 6,
   "id": "f54a8318-85da-4d7b-b438-d4e39d0e3bba",
   "metadata": {},
   "outputs": [],
   "source": [
    "######  function to call when applying operators\n",
    "@cfunc(op_sig_32,\n",
    "    locals=dict(b=uint32,occ=int32,sps=uint32,me_offdiag=float64,me_diag=float64), )\n",
    "def op(op_struct_ptr,op_str,site_ind,N,args):\n",
    "    # using struct pointer to pass op_struct_ptr back to C++ see numba Records\n",
    "    op_struct = carray(op_struct_ptr,1)[0]\n",
    "    err = 0\n",
    "    sps=args[0]\n",
    "    me_offdiag=1.0;\n",
    "    me_diag=1.0;\n",
    "    #\n",
    "    site_ind = N - site_ind - 1 # convention for QuSpin for mapping from bits to sites.\n",
    "    b = sps**site_ind\n",
    "    occ = (op_struct.state//b)%sps # occupation\n",
    "    #\n",
    "    #opstr_left,opstr_right=op_str.split(\"|\",1)\n",
    "    # spin-part operators :\n",
    "    if site_ind==0 : # the zero-th site contains the spin of the atom\n",
    "#         if opstr_left==120: # \"x\" is integer value 120 = ord(\"x\")\n",
    "#             op_struct.state ^= b\n",
    "\n",
    "#         elif opstr_left==121: # \"y\" is integer value 120 = ord(\"y\")\n",
    "#             op_struct.state ^= b\n",
    "#             op_struct.matrix_ele *= 1.0j*s\n",
    "\n",
    "        if op_str==43: # \"+\" is integer value 43 = ord(\"+\")\n",
    "            if (occ > 0): op_struct.matrix_ele = 0\n",
    "            else: op_struct.state += (b if occ==0 else 0)  # create spin\n",
    "\n",
    "        elif op_str==45: # \"-\" is integer value 45 = ord(\"-\")\n",
    "            if (occ > 0): op_struct.state -= (b if occ>0 else 0) # destroy spin\n",
    "            else: op_struct.matrix_ele = 0\n",
    "\n",
    "        elif op_str==122: # \"z\" is integer value 120 = ord(\"z\")\n",
    "            op_struct.matrix_ele *= (-1 if occ==0 else 1)\n",
    "\n",
    "        # elif op_str==110: # \"n\" is integer value 110 = ord(\"n\")\n",
    "        #     op_struct.matrix_ele *= n\n",
    "\n",
    "        elif op_str==73: # \"I\" is integer value 73 = ord(\"I\")\n",
    "            pass\n",
    "\n",
    "        else:\n",
    "            op_struct.matrix_ele = 0\n",
    "            err = -1   \n",
    "    else :\n",
    "        # boson-part operators :\n",
    "        if op_str==43: # \"+\" is integer value 43 = ord(\"+\")\n",
    "            me_offdiag *= (occ+1)%sps\n",
    "            op_struct.state += (b if (occ+1)<sps else 0) \n",
    "\n",
    "        elif op_str==45: # \"-\" is integer value 45 = ord(\"-\")\n",
    "            me_offdiag *= occ;\n",
    "            op_struct.state -= (b if occ>0 else 0)\n",
    "\n",
    "        elif op_str==110: # \"n\" is integer value 110 = ord(\"n\")\n",
    "            me_diag *= occ\n",
    "\n",
    "        elif op_str==73: # \"I\" is integer value 73 = ord(\"I\")\n",
    "            pass\n",
    "\n",
    "        else:\n",
    "            me_diag = 0.0\n",
    "            err = -1\n",
    "        #\n",
    "        op_struct.matrix_ele *= me_diag*np.sqrt(me_offdiag)\n",
    "    #\n",
    "    return err\n",
    "#\n",
    "op_args=np.array([sps],dtype=np.uint32)"
   ]
  },
  {
   "cell_type": "code",
   "execution_count": 7,
   "id": "14d3dd55-1b98-440f-92f8-1acc3e0be03e",
   "metadata": {},
   "outputs": [],
   "source": [
    "######  function to implement magnetization/particle conservation\n",
    "#\n",
    "@cfunc(next_state_sig_32,\n",
    "\tlocals=dict(t=uint32,i=int32,j=int32,n=int32,sps=uint32,b1=int32,b2=int32,l=int32,n_left=int32), )\n",
    "def next_state(s,counter,N,args):\n",
    "    \"\"\" implements particle number conservation. Particle number set by initial state, cf `get_s0_pcon()` below. \"\"\"\n",
    "    t = s;\n",
    "    sps=args[1]\n",
    "    n=0\n",
    "    for i in range(N): # loop over lattices sites\n",
    "        b1 = (t//args[i])%sps # get occupation at site i\n",
    "        if b1>0: # if there is a boson\n",
    "            n += b1 \n",
    "            b2 = (t/args[i+1])%sps # get occupation st site ahead\n",
    "            if b2<(sps-1): # if I can move a boson to this site\n",
    "                n -= 1 # decrease one from the running total\n",
    "                t -= args[i] # remove one boson from site i \n",
    "                t += args[i+1] # add one boson to site i+1\n",
    "                if n>0: # if any bosons left\n",
    "                    # so far: moved one boson forward; \n",
    "                    # now: take rest of bosons and fill first l sites with maximum occupation \n",
    "                    # to keep lexigraphic order\n",
    "                    l = n//(sps-1) # how many sites can be fully occupied with n bosons\n",
    "                    n_left = n%(sps-1) # leftover of particles on not maximally occupied sites\n",
    "                    for j in range(i+1):\n",
    "                        t -= (t//args[j])%sps * args[j];\n",
    "                        if j<l: # fill in with maximal occupation\n",
    "                            t += (sps-1)*args[j]\n",
    "                        elif j==l: # fill with leftover\n",
    "                            t += n_left*args[j]\n",
    "                break # stop loop\n",
    "    return t\n",
    "next_state_args=np.array([sps**i for i in range(N)],dtype=np.uint32)"
   ]
  },
  {
   "cell_type": "code",
   "execution_count": 66,
   "id": "270ec587-826d-47d7-8034-8308d6094115",
   "metadata": {},
   "outputs": [],
   "source": [
    "# python function to calculate the starting state to generate the particle conserving basis\n",
    "def get_s0_pcon(N,Np):\n",
    "    #sps = 3 # use as global variable\n",
    "    l = (Np-1)//(sps-1)\n",
    "    s = 1*(sps)**(N-1)\n",
    "    s = s + sum((sps-1)*sps**(N-1-i) for i in range(1,l+1)) \n",
    "    s = s + ((Np-1)%(sps-1)) * sps**(N-2-l)\n",
    "    return s"
   ]
  },
  {
   "cell_type": "code",
   "execution_count": 67,
   "id": "65b2653a-c812-44a9-a41f-45ba255e7f76",
   "metadata": {},
   "outputs": [
    {
     "data": {
      "text/plain": [
       "156"
      ]
     },
     "execution_count": 67,
     "metadata": {},
     "output_type": "execute_result"
    }
   ],
   "source": [
    "get_s0_pcon(N,Np)"
   ]
  },
  {
   "cell_type": "code",
   "execution_count": 68,
   "id": "4d63493f-2df2-4ef3-8a1f-4e41b7552958",
   "metadata": {},
   "outputs": [
    {
     "data": {
      "text/plain": [
       "6"
      ]
     },
     "execution_count": 68,
     "metadata": {},
     "output_type": "execute_result"
    }
   ],
   "source": [
    "Np"
   ]
  },
  {
   "cell_type": "code",
   "execution_count": 69,
   "id": "8f9c9e4b-48a9-441d-b9ed-b8a1aecc9d2f",
   "metadata": {},
   "outputs": [
    {
     "data": {
      "text/plain": [
       "156"
      ]
     },
     "execution_count": 69,
     "metadata": {},
     "output_type": "execute_result"
    }
   ],
   "source": [
    "3**4+2*3**3+2*3**2+3"
   ]
  },
  {
   "cell_type": "code",
   "execution_count": 70,
   "id": "34d71edf-ba8e-4e3f-9143-d93f9d68f0cc",
   "metadata": {},
   "outputs": [],
   "source": [
    "# python function to calculate the size of the particle-conserved basis, i.e. \n",
    "# BEFORE applying pre_check_state and symmetry maps\n",
    "def get_Ns_pcon(N,Np):\n",
    "    Ns=0\n",
    "    #sps=3\n",
    "    for r in range((Np-1)//sps+1):\n",
    "        r_2 = Np - r*sps\n",
    "        if r % 2 == 0:\n",
    "            Ns +=  comb(N,r,exact=True) * comb(N + r_2 - 1,r_2,exact=True)\n",
    "        else:\n",
    "            Ns += -comb(N,r,exact=True) * comb(N + r_2 - 1,r_2,exact=True)\n",
    "    return Ns*2"
   ]
  },
  {
   "cell_type": "code",
   "execution_count": 71,
   "id": "08f9da33-13b7-4bf9-a062-49bb0c0ecca4",
   "metadata": {},
   "outputs": [],
   "source": [
    "# ######  define symmetry maps\n",
    "# #\n",
    "# @cfunc(map_sig_32,\n",
    "# \tlocals=dict(shift=uint32,out=uint32,sps=uint32,i=int32,j=int32,) )\n",
    "# def translation(x,N,sign_ptr,args):\n",
    "# \t\"\"\" works for all system sizes N. \"\"\"\n",
    "# \tout = 0\n",
    "# \tshift = args[0]\n",
    "# \tsps = args[1]\n",
    "# \tfor i in range(N):\n",
    "# \t\tj = (i+shift+N)%N\n",
    "# \t\tout += ( x%sps ) * sps**j\n",
    "# \t\tx //= sps\n",
    "# \t#\n",
    "# \treturn out\n",
    "# T_args=np.array([1,sps],dtype=np.uint32)\n",
    "# #\n",
    "# @cfunc(map_sig_32,\n",
    "# \tlocals=dict(out=uint32,sps=uint32,i=int32,j=int32) )\n",
    "# def parity(x,N,sign_ptr,args):\n",
    "# \t\"\"\" works for all system sizes N. \"\"\"\n",
    "# \tout = 0\n",
    "# \tsps = args[0]\n",
    "# \tfor i in range(N):\n",
    "# \t\tj = (N-1) - i\n",
    "# \t\tout += ( x%sps ) * (sps**j)\n",
    "# \t\tx //= sps\n",
    "# \t#\n",
    "# \treturn out\n",
    "# P_args=np.array([sps],dtype=np.uint32)"
   ]
  },
  {
   "cell_type": "code",
   "execution_count": 72,
   "id": "7227dfb3-2e7e-4627-bd50-44a265e79629",
   "metadata": {},
   "outputs": [],
   "source": [
    "######  define function to count particles in bit representation\n",
    "#\n",
    "@cfunc(count_particles_sig_32,\n",
    "\tlocals=dict(s=uint32,))\n",
    "def count_particles(x,p_number_ptr,args):\n",
    "\t\"\"\" Counts number of particles/spin-ups in a state stored in integer representation for up to N=32 sites \"\"\"\n",
    "\t#\n",
    "\ts = x # integer x cannot be changed\n",
    "\tfor i in range(args[0]):\n",
    "\t\tp_number_ptr[0] += s%args[1]\n",
    "\t\ts /= args[1]\n",
    "n_sectors=1 # number of particle sectors\n",
    "count_particles_args=np.array([N,sps],dtype=np.int32)"
   ]
  },
  {
   "cell_type": "markdown",
   "id": "df40c928-c9fd-4808-a1a8-7488614a6663",
   "metadata": {},
   "source": [
    "# Construct user_basis "
   ]
  },
  {
   "cell_type": "code",
   "execution_count": 73,
   "id": "f89422f3-6b14-48fb-802e-dcc1b51911ce",
   "metadata": {},
   "outputs": [],
   "source": [
    "# define maps dict\n",
    "#maps = dict(T_block=(translation,N,0,T_args),P_block=(parity,2,0,P_args), ) "
   ]
  },
  {
   "cell_type": "code",
   "execution_count": 74,
   "id": "45c6903f-1e4c-4d97-a8fe-bcba20c13be2",
   "metadata": {},
   "outputs": [],
   "source": [
    "# define particle conservation and op dicts\n",
    "pcon_dict = dict(Np=Np,next_state=next_state,next_state_args=next_state_args,\n",
    "\t\t\t\t get_Ns_pcon=get_Ns_pcon,get_s0_pcon=get_s0_pcon,\n",
    "\t\t\t\t count_particles=count_particles,count_particles_args=count_particles_args,n_sectors=n_sectors)\n",
    "op_dict = dict(op=op,op_args=op_args)"
   ]
  },
  {
   "cell_type": "code",
   "execution_count": 75,
   "id": "18508383-6ade-4f22-b49a-7a5df0fc163f",
   "metadata": {},
   "outputs": [
    {
     "name": "stderr",
     "output_type": "stream",
     "text": [
      "Exception ignored in: '<numba.core.cpu.CPUContext object at 0x7f0788ed2580>'\n",
      "Traceback (most recent call last):\n",
      "  File \"/home/gorbunov8a/usr/local/lib/python3.9/site-packages/quspin/basis/basis_general/base_general.py\", line 755, in make\n",
      "    Ns = self._core.make_basis(basis,n,Np=self._Np)\n",
      "ZeroDivisionError: division by zero\n"
     ]
    }
   ],
   "source": [
    "# create user basiss\n",
    "basis = user_basis(np.uint32,N,op_dict,allowed_ops=set(\"+-nI\"),sps=sps,pcon_dict=pcon_dict)"
   ]
  },
  {
   "cell_type": "markdown",
   "id": "c2f93f92-b4e4-4b32-a9b2-b15f1b758325",
   "metadata": {},
   "source": [
    "Create same boson basis_1d object "
   ]
  },
  {
   "cell_type": "code",
   "execution_count": 76,
   "id": "ad9fed79-6424-40ff-8c3f-4454e7f70e36",
   "metadata": {},
   "outputs": [
    {
     "name": "stdout",
     "output_type": "stream",
     "text": [
      "reference states: \n",
      "array index   /   Fock state   /   integer repr. \n",
      "      0.         |2 2 2 0 0>           234  \n",
      "      1.         |2 2 1 1 0>           228  \n",
      "      2.         |2 2 1 0 1>           226  \n",
      "      3.         |2 2 0 2 0>           222  \n",
      "      4.         |2 2 0 1 1>           220  \n",
      "      5.         |2 2 0 0 2>           218  \n",
      "      6.         |2 1 2 1 0>           210  \n",
      "      7.         |2 1 2 0 1>           208  \n",
      "      8.         |2 1 1 2 0>           204  \n",
      "      9.         |2 1 1 1 1>           202  \n",
      "     10.         |2 1 1 0 2>           200  \n",
      "     11.         |2 1 0 2 1>           196  \n",
      "     12.         |2 1 0 1 2>           194  \n",
      "     13.         |2 0 2 2 0>           186  \n",
      "     14.         |2 0 2 1 1>           184  \n",
      "     15.         |2 0 2 0 2>           182  \n",
      "     16.         |2 0 1 2 1>           178  \n",
      "     17.         |2 0 1 1 2>           176  \n",
      "     18.         |2 0 0 2 2>           170  \n",
      "     19.         |1 2 2 1 0>           156  \n",
      "     20.         |0 0 0 0 0>             0  \n",
      "     21.         |0 0 0 0 0>             0  \n",
      "     22.         |0 0 0 0 0>             0  \n",
      "     23.         |0 0 0 0 0>             0  \n",
      "     24.         |0 0 0 0 0>             0  \n",
      "                     :\n",
      "     45.         |0 0 0 0 0>             0  \n",
      "     46.         |0 0 0 0 0>             0  \n",
      "     47.         |0 0 0 0 0>             0  \n",
      "     48.         |0 0 0 0 0>             0  \n",
      "     49.         |0 0 0 0 0>             0  \n",
      "     50.         |0 0 0 0 0>             0  \n",
      "     51.         |0 0 0 0 0>             0  \n",
      "     52.         |0 0 0 0 0>             0  \n",
      "     53.         |0 0 0 0 0>             0  \n",
      "     54.         |0 0 0 0 0>             0  \n",
      "     55.         |0 0 0 0 0>             0  \n",
      "     56.         |0 0 0 0 0>             0  \n",
      "     57.         |0 0 0 0 0>             0  \n",
      "     58.         |0 0 0 0 0>             0  \n",
      "     59.         |0 0 0 0 0>             0  \n",
      "     60.         |0 0 0 0 0>             0  \n",
      "     61.         |0 0 0 0 0>             0  \n",
      "     62.         |0 0 0 0 0>             0  \n",
      "     63.         |0 0 0 0 0>             0  \n",
      "     64.         |0 0 0 0 0>             0  \n",
      "     65.         |0 0 0 0 0>             0  \n",
      "     66.         |0 0 0 0 0>             0  \n",
      "     67.         |0 0 0 0 0>             0  \n",
      "     68.         |0 0 0 0 0>             0  \n",
      "     69.         |0 0 0 0 0>             0  \n",
      "reference states: \n",
      "array index   /   Fock state   /   integer repr. \n",
      "     0.         |2 2 2 0 0>           234  \n",
      "     1.         |2 2 1 1 0>           228  \n",
      "     2.         |2 2 1 0 1>           226  \n",
      "     3.         |2 2 0 2 0>           222  \n",
      "     4.         |2 1 2 1 0>           210  \n",
      "     5.         |2 1 1 2 0>           204  \n",
      "     6.         |2 1 1 1 1>           202  \n",
      "The states printed do NOT correspond to the physical states: see review arXiv:1101.3281 for more details about reference states for symmetry-reduced blocks.\n",
      "\n"
     ]
    }
   ],
   "source": [
    "basis_1d=boson_basis_1d(N,Nb=Np,sps=sps,kblock=0,pblock=1) \n",
    "#\n",
    "#\n",
    "print(basis)\n",
    "print(basis_1d)"
   ]
  },
  {
   "cell_type": "markdown",
   "id": "4c5d99c9-0695-4146-a11d-409a7abc795a",
   "metadata": {},
   "source": [
    "# Create Hamiltonians "
   ]
  },
  {
   "cell_type": "code",
   "execution_count": 16,
   "id": "a021132e-fd6f-42cd-92f6-fdab17e37041",
   "metadata": {},
   "outputs": [],
   "source": [
    "J=-1.0\n",
    "U=+1.0"
   ]
  },
  {
   "cell_type": "code",
   "execution_count": 17,
   "id": "a34d67ef-decd-4dee-b005-b8c176701f2d",
   "metadata": {},
   "outputs": [],
   "source": [
    "hopping=[[+J,j,(j+1)%N] for j in range(N)]\n",
    "int_bb=[[0.5*U,j,j] for j in range(N)]\n",
    "int_b=[[-0.5*U,j] for j in range(N)]"
   ]
  },
  {
   "cell_type": "code",
   "execution_count": 18,
   "id": "7e9c6300-7ea5-439f-a86c-3a4d0ca87728",
   "metadata": {},
   "outputs": [],
   "source": [
    "static=[[\"+-\",hopping],[\"-+\",hopping],[\"nn\",int_bb],[\"n\",int_b]]\n",
    "dynamic=[]"
   ]
  },
  {
   "cell_type": "code",
   "execution_count": 19,
   "id": "07f29aba-e2e2-4b58-ab41-61cc66150d38",
   "metadata": {},
   "outputs": [
    {
     "ename": "ValueError",
     "evalue": "operator not recognized.",
     "output_type": "error",
     "traceback": [
      "\u001b[0;31m---------------------------------------------------------------------------\u001b[0m",
      "\u001b[0;31mValueError\u001b[0m                                Traceback (most recent call last)",
      "\u001b[0;32m/tmp/ipykernel_20101/2500854844.py\u001b[0m in \u001b[0;36m<module>\u001b[0;34m\u001b[0m\n\u001b[1;32m      1\u001b[0m \u001b[0mno_checks\u001b[0m\u001b[0;34m=\u001b[0m\u001b[0mdict\u001b[0m\u001b[0;34m(\u001b[0m\u001b[0mcheck_symm\u001b[0m\u001b[0;34m=\u001b[0m\u001b[0;32mFalse\u001b[0m\u001b[0;34m,\u001b[0m \u001b[0mcheck_pcon\u001b[0m\u001b[0;34m=\u001b[0m\u001b[0;32mFalse\u001b[0m\u001b[0;34m,\u001b[0m \u001b[0mcheck_herm\u001b[0m\u001b[0;34m=\u001b[0m\u001b[0;32mFalse\u001b[0m\u001b[0;34m)\u001b[0m\u001b[0;34m\u001b[0m\u001b[0;34m\u001b[0m\u001b[0m\n\u001b[0;32m----> 2\u001b[0;31m \u001b[0mH\u001b[0m\u001b[0;34m=\u001b[0m\u001b[0mhamiltonian\u001b[0m\u001b[0;34m(\u001b[0m\u001b[0mstatic\u001b[0m\u001b[0;34m,\u001b[0m\u001b[0;34m[\u001b[0m\u001b[0;34m]\u001b[0m\u001b[0;34m,\u001b[0m\u001b[0mbasis\u001b[0m\u001b[0;34m=\u001b[0m\u001b[0mbasis\u001b[0m\u001b[0;34m,\u001b[0m\u001b[0mdtype\u001b[0m\u001b[0;34m=\u001b[0m\u001b[0mnp\u001b[0m\u001b[0;34m.\u001b[0m\u001b[0mfloat64\u001b[0m\u001b[0;34m,\u001b[0m\u001b[0;34m**\u001b[0m\u001b[0mno_checks\u001b[0m\u001b[0;34m)\u001b[0m\u001b[0;34m\u001b[0m\u001b[0;34m\u001b[0m\u001b[0m\n\u001b[0m\u001b[1;32m      3\u001b[0m \u001b[0mH_1d\u001b[0m\u001b[0;34m=\u001b[0m\u001b[0mhamiltonian\u001b[0m\u001b[0;34m(\u001b[0m\u001b[0mstatic\u001b[0m\u001b[0;34m,\u001b[0m\u001b[0;34m[\u001b[0m\u001b[0;34m]\u001b[0m\u001b[0;34m,\u001b[0m\u001b[0mbasis\u001b[0m\u001b[0;34m=\u001b[0m\u001b[0mbasis_1d\u001b[0m\u001b[0;34m,\u001b[0m\u001b[0mdtype\u001b[0m\u001b[0;34m=\u001b[0m\u001b[0mnp\u001b[0m\u001b[0;34m.\u001b[0m\u001b[0mfloat64\u001b[0m\u001b[0;34m)\u001b[0m\u001b[0;34m\u001b[0m\u001b[0;34m\u001b[0m\u001b[0m\n",
      "\u001b[0;32m~/usr/local/lib/python3.9/site-packages/quspin/operators/hamiltonian_core.py\u001b[0m in \u001b[0;36m__init__\u001b[0;34m(self, static_list, dynamic_list, N, basis, shape, dtype, static_fmt, dynamic_fmt, copy, check_symm, check_herm, check_pcon, **basis_kwargs)\u001b[0m\n\u001b[1;32m    320\u001b[0m \u001b[0;34m\u001b[0m\u001b[0m\n\u001b[1;32m    321\u001b[0m \u001b[0;34m\u001b[0m\u001b[0m\n\u001b[0;32m--> 322\u001b[0;31m                         \u001b[0mself\u001b[0m\u001b[0;34m.\u001b[0m\u001b[0m_static\u001b[0m\u001b[0;34m=\u001b[0m\u001b[0mmake_static\u001b[0m\u001b[0;34m(\u001b[0m\u001b[0mself\u001b[0m\u001b[0;34m.\u001b[0m\u001b[0m_basis\u001b[0m\u001b[0;34m,\u001b[0m\u001b[0mstatic_opstr_list\u001b[0m\u001b[0;34m,\u001b[0m\u001b[0mdtype\u001b[0m\u001b[0;34m)\u001b[0m\u001b[0;34m\u001b[0m\u001b[0;34m\u001b[0m\u001b[0m\n\u001b[0m\u001b[1;32m    323\u001b[0m                         \u001b[0mself\u001b[0m\u001b[0;34m.\u001b[0m\u001b[0m_dynamic\u001b[0m\u001b[0;34m=\u001b[0m\u001b[0mmake_dynamic\u001b[0m\u001b[0;34m(\u001b[0m\u001b[0mself\u001b[0m\u001b[0;34m.\u001b[0m\u001b[0m_basis\u001b[0m\u001b[0;34m,\u001b[0m\u001b[0mdynamic_opstr_list\u001b[0m\u001b[0;34m,\u001b[0m\u001b[0mdtype\u001b[0m\u001b[0;34m)\u001b[0m\u001b[0;34m\u001b[0m\u001b[0;34m\u001b[0m\u001b[0m\n\u001b[1;32m    324\u001b[0m                         \u001b[0mself\u001b[0m\u001b[0;34m.\u001b[0m\u001b[0m_shape\u001b[0m \u001b[0;34m=\u001b[0m \u001b[0mself\u001b[0m\u001b[0;34m.\u001b[0m\u001b[0m_static\u001b[0m\u001b[0;34m.\u001b[0m\u001b[0mshape\u001b[0m\u001b[0;34m\u001b[0m\u001b[0;34m\u001b[0m\u001b[0m\n",
      "\u001b[0;32m~/usr/local/lib/python3.9/site-packages/quspin/operators/_make_hamiltonian.py\u001b[0m in \u001b[0;36mmake_static\u001b[0;34m(basis, static_list, dtype)\u001b[0m\n\u001b[1;32m    107\u001b[0m \t\"\"\"\n\u001b[1;32m    108\u001b[0m         \u001b[0mstatic_list\u001b[0m \u001b[0;34m=\u001b[0m \u001b[0m_consolidate_static\u001b[0m\u001b[0;34m(\u001b[0m\u001b[0mstatic_list\u001b[0m\u001b[0;34m)\u001b[0m\u001b[0;34m\u001b[0m\u001b[0;34m\u001b[0m\u001b[0m\n\u001b[0;32m--> 109\u001b[0;31m         \u001b[0;32mreturn\u001b[0m \u001b[0mbasis\u001b[0m\u001b[0;34m.\u001b[0m\u001b[0m_make_matrix\u001b[0m\u001b[0;34m(\u001b[0m\u001b[0mstatic_list\u001b[0m\u001b[0;34m,\u001b[0m\u001b[0mdtype\u001b[0m\u001b[0;34m)\u001b[0m\u001b[0;34m\u001b[0m\u001b[0;34m\u001b[0m\u001b[0m\n\u001b[0m\u001b[1;32m    110\u001b[0m \u001b[0;34m\u001b[0m\u001b[0m\n\u001b[1;32m    111\u001b[0m \u001b[0;34m\u001b[0m\u001b[0m\n",
      "\u001b[0;32m~/usr/local/lib/python3.9/site-packages/quspin/basis/base.py\u001b[0m in \u001b[0;36m_make_matrix\u001b[0;34m(self, op_list, dtype)\u001b[0m\n\u001b[1;32m    224\u001b[0m \u001b[0;34m\u001b[0m\u001b[0m\n\u001b[1;32m    225\u001b[0m                 \u001b[0;32mfor\u001b[0m \u001b[0mopstr\u001b[0m\u001b[0;34m,\u001b[0m\u001b[0mindx\u001b[0m\u001b[0;34m,\u001b[0m\u001b[0mJ\u001b[0m \u001b[0;32min\u001b[0m \u001b[0mop_list\u001b[0m\u001b[0;34m:\u001b[0m\u001b[0;34m\u001b[0m\u001b[0;34m\u001b[0m\u001b[0m\n\u001b[0;32m--> 226\u001b[0;31m                         \u001b[0mME\u001b[0m\u001b[0;34m,\u001b[0m\u001b[0mrow\u001b[0m\u001b[0;34m,\u001b[0m\u001b[0mcol\u001b[0m \u001b[0;34m=\u001b[0m \u001b[0mself\u001b[0m\u001b[0;34m.\u001b[0m\u001b[0mOp\u001b[0m\u001b[0;34m(\u001b[0m\u001b[0mopstr\u001b[0m\u001b[0;34m,\u001b[0m\u001b[0mindx\u001b[0m\u001b[0;34m,\u001b[0m\u001b[0mJ\u001b[0m\u001b[0;34m,\u001b[0m\u001b[0mdtype\u001b[0m\u001b[0;34m)\u001b[0m\u001b[0;34m\u001b[0m\u001b[0;34m\u001b[0m\u001b[0m\n\u001b[0m\u001b[1;32m    227\u001b[0m                         \u001b[0;32mif\u001b[0m\u001b[0;34m(\u001b[0m\u001b[0mlen\u001b[0m\u001b[0;34m(\u001b[0m\u001b[0mME\u001b[0m\u001b[0;34m)\u001b[0m\u001b[0;34m>\u001b[0m\u001b[0;36m0\u001b[0m\u001b[0;34m)\u001b[0m\u001b[0;34m:\u001b[0m\u001b[0;34m\u001b[0m\u001b[0;34m\u001b[0m\u001b[0m\n\u001b[1;32m    228\u001b[0m                                 \u001b[0mimax\u001b[0m \u001b[0;34m=\u001b[0m \u001b[0mmax\u001b[0m\u001b[0;34m(\u001b[0m\u001b[0mrow\u001b[0m\u001b[0;34m.\u001b[0m\u001b[0mmax\u001b[0m\u001b[0;34m(\u001b[0m\u001b[0;34m)\u001b[0m\u001b[0;34m,\u001b[0m\u001b[0mcol\u001b[0m\u001b[0;34m.\u001b[0m\u001b[0mmax\u001b[0m\u001b[0;34m(\u001b[0m\u001b[0;34m)\u001b[0m\u001b[0;34m)\u001b[0m\u001b[0;34m\u001b[0m\u001b[0;34m\u001b[0m\u001b[0m\n",
      "\u001b[0;32m~/usr/local/lib/python3.9/site-packages/quspin/basis/base.py\u001b[0m in \u001b[0;36mOp\u001b[0;34m(self, opstr, indx, J, dtype)\u001b[0m\n\u001b[1;32m    216\u001b[0m \u001b[0;34m\u001b[0m\u001b[0m\n\u001b[1;32m    217\u001b[0m \t\t\"\"\"\n\u001b[0;32m--> 218\u001b[0;31m                 \u001b[0;32mreturn\u001b[0m \u001b[0mself\u001b[0m\u001b[0;34m.\u001b[0m\u001b[0m_Op\u001b[0m\u001b[0;34m(\u001b[0m\u001b[0mopstr\u001b[0m\u001b[0;34m,\u001b[0m\u001b[0mindx\u001b[0m\u001b[0;34m,\u001b[0m\u001b[0mJ\u001b[0m\u001b[0;34m,\u001b[0m\u001b[0mdtype\u001b[0m\u001b[0;34m)\u001b[0m\u001b[0;34m\u001b[0m\u001b[0;34m\u001b[0m\u001b[0m\n\u001b[0m\u001b[1;32m    219\u001b[0m \u001b[0;34m\u001b[0m\u001b[0m\n\u001b[1;32m    220\u001b[0m         \u001b[0;32mdef\u001b[0m \u001b[0m_make_matrix\u001b[0m\u001b[0;34m(\u001b[0m\u001b[0mself\u001b[0m\u001b[0;34m,\u001b[0m\u001b[0mop_list\u001b[0m\u001b[0;34m,\u001b[0m\u001b[0mdtype\u001b[0m\u001b[0;34m)\u001b[0m\u001b[0;34m:\u001b[0m\u001b[0;34m\u001b[0m\u001b[0;34m\u001b[0m\u001b[0m\n",
      "\u001b[0;32m~/usr/local/lib/python3.9/site-packages/quspin/basis/basis_general/base_general.py\u001b[0m in \u001b[0;36m_Op\u001b[0;34m(self, opstr, indx, J, dtype)\u001b[0m\n\u001b[1;32m    272\u001b[0m                 \u001b[0mME\u001b[0m \u001b[0;34m=\u001b[0m \u001b[0m_np\u001b[0m\u001b[0;34m.\u001b[0m\u001b[0mempty\u001b[0m\u001b[0;34m(\u001b[0m\u001b[0mself\u001b[0m\u001b[0;34m.\u001b[0m\u001b[0m_Ns\u001b[0m\u001b[0;34m,\u001b[0m\u001b[0mdtype\u001b[0m\u001b[0;34m=\u001b[0m\u001b[0mdtype\u001b[0m\u001b[0;34m)\u001b[0m\u001b[0;34m\u001b[0m\u001b[0;34m\u001b[0m\u001b[0m\n\u001b[1;32m    273\u001b[0m                 \u001b[0;31m# print(self._Ns)\u001b[0m\u001b[0;34m\u001b[0m\u001b[0;34m\u001b[0m\u001b[0m\n\u001b[0;32m--> 274\u001b[0;31m                 \u001b[0mself\u001b[0m\u001b[0;34m.\u001b[0m\u001b[0m_core\u001b[0m\u001b[0;34m.\u001b[0m\u001b[0mop\u001b[0m\u001b[0;34m(\u001b[0m\u001b[0mrow\u001b[0m\u001b[0;34m,\u001b[0m\u001b[0mcol\u001b[0m\u001b[0;34m,\u001b[0m\u001b[0mME\u001b[0m\u001b[0;34m,\u001b[0m\u001b[0mopstr\u001b[0m\u001b[0;34m,\u001b[0m\u001b[0mindx\u001b[0m\u001b[0;34m,\u001b[0m\u001b[0mJ\u001b[0m\u001b[0;34m,\u001b[0m\u001b[0mself\u001b[0m\u001b[0;34m.\u001b[0m\u001b[0m_basis\u001b[0m\u001b[0;34m,\u001b[0m\u001b[0mself\u001b[0m\u001b[0;34m.\u001b[0m\u001b[0m_n\u001b[0m\u001b[0;34m,\u001b[0m\u001b[0mself\u001b[0m\u001b[0;34m.\u001b[0m\u001b[0m_basis_begin\u001b[0m\u001b[0;34m,\u001b[0m\u001b[0mself\u001b[0m\u001b[0;34m.\u001b[0m\u001b[0m_basis_end\u001b[0m\u001b[0;34m,\u001b[0m\u001b[0mself\u001b[0m\u001b[0;34m.\u001b[0m\u001b[0m_N_p\u001b[0m\u001b[0;34m)\u001b[0m\u001b[0;34m\u001b[0m\u001b[0;34m\u001b[0m\u001b[0m\n\u001b[0m\u001b[1;32m    275\u001b[0m \u001b[0;34m\u001b[0m\u001b[0m\n\u001b[1;32m    276\u001b[0m                 \u001b[0;32mif\u001b[0m \u001b[0m_np\u001b[0m\u001b[0;34m.\u001b[0m\u001b[0miscomplexobj\u001b[0m\u001b[0;34m(\u001b[0m\u001b[0mME\u001b[0m\u001b[0;34m)\u001b[0m\u001b[0;34m:\u001b[0m\u001b[0;34m\u001b[0m\u001b[0;34m\u001b[0m\u001b[0m\n",
      "\u001b[0;32mquspin/basis/basis_general/_basis_general_core/source/general_basis_core.pyx\u001b[0m in \u001b[0;36mquspin.basis.basis_general._basis_general_core.user_core.general_basis_core_wrap.op\u001b[0;34m()\u001b[0m\n",
      "\u001b[0;31mValueError\u001b[0m: operator not recognized."
     ]
    }
   ],
   "source": [
    "no_checks=dict(check_symm=False, check_pcon=False, check_herm=False)\n",
    "H=hamiltonian(static,[],basis=basis,dtype=np.float64,**no_checks)\n",
    "H_1d=hamiltonian(static,[],basis=basis_1d,dtype=np.float64)"
   ]
  },
  {
   "cell_type": "code",
   "execution_count": null,
   "id": "79ad5c2a-f29d-48a6-9f5a-5cfcfb204565",
   "metadata": {},
   "outputs": [],
   "source": [
    "print(H.toarray())\n",
    "print(H_1d.toarray())\n",
    "print(np.linalg.norm((H-H_1d).toarray()))"
   ]
  },
  {
   "cell_type": "code",
   "execution_count": null,
   "id": "1471dc0b-e57e-4b14-8891-9144396f123a",
   "metadata": {},
   "outputs": [],
   "source": []
  }
 ],
 "metadata": {
  "kernelspec": {
   "display_name": "Python 3",
   "language": "python",
   "name": "python3"
  },
  "language_info": {
   "codemirror_mode": {
    "name": "ipython",
    "version": 3
   },
   "file_extension": ".py",
   "mimetype": "text/x-python",
   "name": "python",
   "nbconvert_exporter": "python",
   "pygments_lexer": "ipython3",
   "version": "3.9.7"
  }
 },
 "nbformat": 4,
 "nbformat_minor": 5
}
