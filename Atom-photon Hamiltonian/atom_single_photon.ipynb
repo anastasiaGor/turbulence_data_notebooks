{
 "cells": [
  {
   "cell_type": "markdown",
   "id": "fdbe4909-e16e-4fa8-bf38-c58c44189ba4",
   "metadata": {},
   "source": [
    "# Import"
   ]
  },
  {
   "cell_type": "markdown",
   "id": "66522615-e245-432b-b2a6-514877414746",
   "metadata": {},
   "source": [
    "In this example we show how to use the photon_basis class to study spin chains coupled to a single photon mode. \n",
    "To demonstrate this we simulate a single spin and show how the semi-classical limit emerges in the limit that the number of photons goes to infinity. "
   ]
  },
  {
   "cell_type": "code",
   "execution_count": 1,
   "id": "57276971-bf04-43cf-a523-c761d7541f98",
   "metadata": {},
   "outputs": [],
   "source": [
    "from quspin.basis import spin_basis_1d,photon_basis # Hilbert space bases\n",
    "from quspin.operators import hamiltonian # Hamiltonian and observables\n",
    "from quspin.tools.measurements import obs_vs_time # t_dep measurements\n",
    "from quspin.tools.Floquet import Floquet,Floquet_t_vec # Floquet Hamiltonian\n",
    "from quspin.basis.photon import coherent_state # HO coherent state\n",
    "import numpy as np # generic math functions\n",
    "import matplotlib.pyplot as plt\n",
    "import pylab"
   ]
  },
  {
   "cell_type": "markdown",
   "id": "57f39fa2-436c-4dc3-9b9b-8471d57b408b",
   "metadata": {},
   "source": [
    "# Model parameters"
   ]
  },
  {
   "cell_type": "code",
   "execution_count": 21,
   "id": "585fc7dc-04de-4920-9c9e-54ad58edfd00",
   "metadata": {},
   "outputs": [],
   "source": [
    "Nph_tot=5 # maximum photon occupation \n",
    "Nph=Nph_tot/2 # mean number of photons in initial coherent state\n",
    "Omega=1.0 # drive frequency\n",
    "A=0.6 # spin-photon coupling strength (drive amplitude)\n",
    "Delta=1.0 # difference between atom energy levels"
   ]
  },
  {
   "cell_type": "markdown",
   "id": "bd41497c-ff6d-42b0-a3f9-c5e8fffd8f14",
   "metadata": {},
   "source": [
    "# Photon-atom Hamiltonian"
   ]
  },
  {
   "cell_type": "markdown",
   "id": "f40cb507-f981-4ee9-99aa-785715e34b96",
   "metadata": {},
   "source": [
    "For the purpose of our study, we take a two-level atom (i.e. asingle-site spin chain) and couple it to a single photon mode (i.e. a quantum harmonic oscil-lator). The Hamiltonian reads: \n",
    "$$ H = \\Omega a^\\dagger a + \\frac{A}{2} \\frac{1}{\\sqrt{N_{ph}}} (a^\\dagger + a) \\sigma^x + \\Delta \\sigma^z$$\n",
    "where the operator $a^\\dagger$ creates a photon in the mode, and the atom is modelled by a two-levelsystem described by the Pauli spin operators $\\sigma^{x,y,z}$. \n",
    "The photon frequency is $\\Omega$, $N_{ph}$ is the average number of photons in the mode, $A$ - the coupling between the EM field $E=\\sqrt{N_{ph}^{-1}}(a^\\dagger + a)$, and the dipole operator $\\sigma^x$, and $\\Delta$ measures the energy difference between the two atomic states."
   ]
  },
  {
   "cell_type": "markdown",
   "id": "94e7408a-9020-459b-817c-b81a9dcc11cb",
   "metadata": {},
   "source": [
    "To set up the spin-photon Hamiltonian, we first build the site-coupling lists. The ph_energy list does not require the specification of a lattice site index, since the latter is not defined forthe photon sector. The at_energy list, on the other hand, requires the input of the lattice sitefor the $\\sigma^z$-operator:  since we consider a single two-level system or, equivalently – a single-site chain, this index is 0. The spin-photon coupling lists absorb and emit also require the site index which refers to the corresponding Pauli matrices: in this model – 0 again due to dimensional constraints."
   ]
  },
  {
   "cell_type": "code",
   "execution_count": 22,
   "id": "a65c3948-30c7-4786-82bf-eb2b9638a0fb",
   "metadata": {},
   "outputs": [],
   "source": [
    "# define operator site-coupling lists\n",
    "ph_energy=[[Omega]] # photon energy\n",
    "at_energy=[[Delta,0]] # atom energy\n",
    "absorb=[[A/(2.0*np.sqrt(Nph)),0]] # absorption term\t\n",
    "emit=[[A/(2.0*np.sqrt(Nph)),0]] # emission term"
   ]
  },
  {
   "cell_type": "markdown",
   "id": "bb126ab1-f70d-4ef6-b6f0-c01aa4d3695d",
   "metadata": {},
   "source": [
    "To build the static operator list, we use the $|$ symbol in the operator string to distinguish the spin and photon operators: spin operators always come to the left of the $|$-symbol,  while photon operators - to the right. For convenience, the identity operator $I$ can be omitted, such that $I|n$ is the same as $|n$, and $z|I$ is equivalent to $z|$, respectively. The dynamic list is empty since the spin-photon Hamiltonian is time-independent."
   ]
  },
  {
   "cell_type": "code",
   "execution_count": 23,
   "id": "0fa87669-3a4b-4404-a223-c4577854990c",
   "metadata": {},
   "outputs": [],
   "source": [
    "# define static and dynamics lists\n",
    "static=[[\"|n\",ph_energy],[\"x|-\",absorb],[\"x|+\",emit],[\"z|\",at_energy]]\n",
    "dynamic=[]"
   ]
  },
  {
   "cell_type": "markdown",
   "id": "9b0038ea-d3ca-44dd-b41f-a7c64b9b8bfe",
   "metadata": {},
   "source": [
    "To build the spin-photon basis, we call the function photon_basis and use spin_basis_1d as the first argument. We need to specify the number of spin lattice sites, and the total numberof harmonic oscillator (a.k.a photon) states."
   ]
  },
  {
   "cell_type": "code",
   "execution_count": 25,
   "id": "7e9e3d12-161d-4e97-a5db-15d9c64fe350",
   "metadata": {},
   "outputs": [
    {
     "name": "stdout",
     "output_type": "stream",
     "text": [
      "reference states: \n",
      "array index   /   Fock state   /   integer repr. \n",
      "\t 0.         |1>           1  |0>\n",
      "\t 1.         |1>           1  |1>\n",
      "\t 2.         |1>           1  |2>\n",
      "\t 3.         |1>           1  |3>\n",
      "\t 4.         |1>           1  |4>\n",
      "\t 5.         |1>           1  |5>\n",
      "\t 6.         |0>           0  |0>\n",
      "\t 7.         |0>           0  |1>\n",
      "\t 8.         |0>           0  |2>\n",
      "\t 9.         |0>           0  |3>\n",
      "\t10.         |0>           0  |4>\n",
      "\t11.         |0>           0  |5>\n"
     ]
    }
   ],
   "source": [
    "# compute atom-photon basis\n",
    "basis=photon_basis(spin_basis_1d,L=1,Nph=Nph_tot)\n",
    "print(basis)"
   ]
  },
  {
   "cell_type": "code",
   "execution_count": 6,
   "id": "b3fb9609-3623-4c0b-afc6-20daeea63516",
   "metadata": {},
   "outputs": [
    {
     "name": "stdout",
     "output_type": "stream",
     "text": [
      "Hermiticity check passed!\n"
     ]
    }
   ],
   "source": [
    "# compute atom-photon Hamiltonian H\n",
    "H=hamiltonian(static,dynamic,dtype=np.float64, basis=basis, check_symm=False, check_pcon=False)"
   ]
  },
  {
   "cell_type": "markdown",
   "id": "35d69f87-de6c-40dc-826b-f1f8b71bfc6c",
   "metadata": {
    "tags": []
   },
   "source": [
    "# Spectrum "
   ]
  },
  {
   "cell_type": "code",
   "execution_count": 7,
   "id": "ff3b39af-adba-4cd0-b64b-a136f2a6e63d",
   "metadata": {},
   "outputs": [],
   "source": [
    "# calculate entire spectrum only\n",
    "E=H.eigvalsh()"
   ]
  },
  {
   "cell_type": "code",
   "execution_count": 8,
   "id": "1e1ae57c-4858-4804-b3bb-b7c5a6a4be73",
   "metadata": {},
   "outputs": [
    {
     "data": {
      "text/plain": [
       "array([-1.01209709, -0.05798875,  0.90001239,  1.03356704,  1.86120626,\n",
       "        2.0750656 ,  2.82671528,  3.11333859,  3.85364304,  4.15009467,\n",
       "        5.19623381,  6.06020915])"
      ]
     },
     "execution_count": 8,
     "metadata": {},
     "output_type": "execute_result"
    }
   ],
   "source": [
    "E"
   ]
  },
  {
   "cell_type": "code",
   "execution_count": 9,
   "id": "735f5dc7-2f43-42dc-be46-d30580aff845",
   "metadata": {},
   "outputs": [
    {
     "name": "stdout",
     "output_type": "stream",
     "text": [
      "-1.0120970858825624\n",
      "-0.05798874697348772\n",
      "0.9000123912708105\n",
      "1.033567037358135\n",
      "1.86120626061788\n",
      "2.075065596720713\n",
      "2.826715279040169\n",
      "3.1133385923987835\n",
      "3.8536430427841233\n",
      "4.150094673383094\n",
      "5.1962338138145645\n",
      "6.060209145467773\n"
     ]
    },
    {
     "data": {
      "image/png": "[encoded data removed]",
      "text/plain": [
       "<Figure size 288x360 with 1 Axes>"
      ]
     },
     "metadata": {
      "needs_background": "light"
     },
     "output_type": "display_data"
    }
   ],
   "source": [
    "##### plot spectra\n",
    "fig, ax = plt.subplots(nrows=1, ncols=1, constrained_layout=True,figsize=(4,5))\n",
    "x = np.arange(H.Ns)\n",
    "ax.plot(x,E, '.-', color='b', lw=1.)\n",
    "for level in x :\n",
    "    ax.plot(x,np.full(H.Ns,E[level]), '-', color='b', lw=0.5)\n",
    "    print(E[level])\n",
    "ax.set(xlabel='state number', ylabel='energy')\n",
    "ax.grid(True)\n",
    "plt.show()"
   ]
  },
  {
   "cell_type": "markdown",
   "id": "dd016c1d-3218-4cfc-9b10-33ad2575a433",
   "metadata": {
    "tags": []
   },
   "source": [
    "# Initial state"
   ]
  },
  {
   "cell_type": "markdown",
   "id": "72014ac8-70b5-4674-bb36-52b920726133",
   "metadata": {},
   "source": [
    "We prepare the system such that the atom is in its groundstate, while we put the photon mode in a coherent state with mean number of photonsNph,as required to by the semi-classical regime:\n",
    "$$ \\left|\\psi_i\\right> =  \\left|\\rm{coh}(N_{ph})\\right>  \\left|\\downarrow\\right> $$\n",
    "We define the initial state as a product state.  Notice that in the QuSpinspin_basis_1d basis convention the state $\\left|\\downarrow\\right>  = (1,0)^t$. This is because the spin basis statesare coded using their bit representations and the state of all spins pointing down is assignedthe integer 0.  To define the oscillator (a.k.a. photon) coherent state with mean photon number $N_{ph}$,  we use the function coherent_state: its first argument is the eigenvalue of the annihilation operator $a$, while the second argument is the total number of oscillator states"
   ]
  },
  {
   "cell_type": "code",
   "execution_count": 10,
   "id": "f6284628-58b2-4aa1-9d3f-1ac0c3059d3a",
   "metadata": {},
   "outputs": [],
   "source": [
    "# define atom ground state\n",
    "#psi_at_i=np.array([1.0,0.0]) # spin-down eigenstate of \\sigma^z in QuSpin 0.2.3 or older\n",
    "psi_at_i=np.array([0.0,1.0])  # spin-down eigenstate of \\sigma^z in QuSpin 0.2.6 or newer"
   ]
  },
  {
   "cell_type": "code",
   "execution_count": 11,
   "id": "e8e6f7fb-03f7-46fe-ae6b-453b52aab092",
   "metadata": {},
   "outputs": [],
   "source": [
    "# define photon coherent state with mean photon number Nph\n",
    "psi_ph_i=coherent_state(np.sqrt(Nph),Nph_tot+1)"
   ]
  },
  {
   "cell_type": "code",
   "execution_count": 12,
   "id": "ba131ebf-0dfd-4d75-9f00-7e215c530253",
   "metadata": {},
   "outputs": [],
   "source": [
    "# compute atom-photon initial state as a tensor product\n",
    "psi_i=np.kron(psi_at_i,psi_ph_i)"
   ]
  },
  {
   "cell_type": "markdown",
   "id": "1a4866d9-7308-4fb0-b88a-99174226755c",
   "metadata": {},
   "source": [
    "# Calculate time evolution"
   ]
  },
  {
   "cell_type": "markdown",
   "id": "b0dd9daf-053e-4922-8c6f-0f5486a353eb",
   "metadata": {},
   "source": [
    "The next step is to define a vector of stroboscopic times, using the class Floquet_t_vec."
   ]
  },
  {
   "cell_type": "code",
   "execution_count": 13,
   "id": "c3df77ef-f969-4351-8cd7-d9fa314956ac",
   "metadata": {},
   "outputs": [],
   "source": [
    "# define time vector over 30 driving cycles with 100 points per period\n",
    "t=Floquet_t_vec(Omega,30) # t.i = initial time, t.T = driving period"
   ]
  },
  {
   "cell_type": "markdown",
   "id": "c76cd34c-d31b-4f01-bce7-c06beb1514ab",
   "metadata": {},
   "source": [
    "We now time evolve the initial state susing the hamiltonian class method evolve. We define the solution psi_t as a generator expression using the optional argument iterate=True."
   ]
  },
  {
   "cell_type": "code",
   "execution_count": 14,
   "id": "3d7f4482-0828-4367-b4e7-176044090019",
   "metadata": {},
   "outputs": [],
   "source": [
    "# evolve atom-photon state with Hamiltonian H\n",
    "psi_t=H.evolve(psi_i,t.i,t.vals,iterate=True,rtol=1E-9,atol=1E-9) "
   ]
  },
  {
   "cell_type": "markdown",
   "id": "1cf1c9be-558c-4389-8b3f-6732cd51215b",
   "metadata": {
    "tags": []
   },
   "source": [
    "# Observables"
   ]
  },
  {
   "cell_type": "markdown",
   "id": "15f176cb-b44d-44c9-a92c-5a6b19ccadc1",
   "metadata": {},
   "source": [
    "Last, we define the observables of interest, using the hamiltonian class with unit coupling constants. \n",
    "Since each observable represents a single operator, we refrain from defining operator lists and set up the observables inline.  \n",
    "The Python dictionaries obs_args and obs_args_sc represent another way of passing optional keyword arguments to the hamiltonian function. Here we also disable the automatic symmetry and hermiticity checks."
   ]
  },
  {
   "cell_type": "code",
   "execution_count": 15,
   "id": "f55122b4-4a4c-4b69-a228-cdb5e1f5f1a9",
   "metadata": {},
   "outputs": [],
   "source": [
    "# define observables parameters\n",
    "obs_args={\"basis\":basis,\"check_herm\":False,\"check_symm\":False, \"check_pcon\" : False}"
   ]
  },
  {
   "cell_type": "code",
   "execution_count": 16,
   "id": "532ffbbe-3243-471a-851e-3c1144f7cc5a",
   "metadata": {},
   "outputs": [],
   "source": [
    "# in atom-photon Hilbert space\n",
    "n=hamiltonian([[\"|n\", [[1.0  ]] ]],[],dtype=np.float64,**obs_args)\n",
    "sz=hamiltonian([[\"z|\",[[1.0,0]] ]],[],dtype=np.float64,**obs_args)\n",
    "sy=hamiltonian([[\"y|\",[[1.0,0]] ]],[],dtype=np.complex128,**obs_args)"
   ]
  },
  {
   "cell_type": "markdown",
   "id": "c0fef469-06c8-4e9c-9397-c1d0f4809372",
   "metadata": {},
   "source": [
    "We  calculate  the  time-dependent  expectation  values  using  the measurements tool function obs_vs_time. Its  arguments  are  the  time-dependent  state psi_t,  the  vector  of times t.vals, and a dictionary of all observables of interest. obs_vs_time returns a dictionary with all time-dependent expectations stored under the same keys they were passed. "
   ]
  },
  {
   "cell_type": "code",
   "execution_count": 17,
   "id": "02e3abbf-9936-4e5e-8e71-78fb2a6d7ac9",
   "metadata": {},
   "outputs": [],
   "source": [
    "# in atom-photon Hilbert space\n",
    "Obs_t = obs_vs_time(psi_t,t.vals,{\"n\":n,\"sz\":sz,\"sy\":sy})\n",
    "O_n, O_sz, O_sy = Obs_t[\"n\"], Obs_t[\"sz\"], Obs_t[\"sy\"]"
   ]
  },
  {
   "cell_type": "markdown",
   "id": "bfb62d12-ebf7-4aa8-bc0e-e31bd35bc44a",
   "metadata": {},
   "source": [
    "# Plot time evolution"
   ]
  },
  {
   "cell_type": "code",
   "execution_count": 18,
   "id": "c8e97d6f-6acc-4923-b579-41a4e76afd8b",
   "metadata": {},
   "outputs": [],
   "source": [
    "# define legend labels\n",
    "str_n = \"$\\\\langle n\\\\rangle,$\"\n",
    "str_z = \"$\\\\langle\\\\sigma^z\\\\rangle,$\"\n",
    "str_x = \"$\\\\langle\\\\sigma^x\\\\rangle,$\"\n",
    "str_z_sc = \"$\\\\langle\\\\sigma^z\\\\rangle_\\\\mathrm{sc},$\"\n",
    "str_x_sc = \"$\\\\langle\\\\sigma^x\\\\rangle_\\\\mathrm{sc}$\""
   ]
  },
  {
   "cell_type": "code",
   "execution_count": 19,
   "id": "bc400adc-3f3b-42bc-a909-7100d4b5f2b3",
   "metadata": {},
   "outputs": [
    {
     "name": "stderr",
     "output_type": "stream",
     "text": [
      "/home/gorbunov8a/usr/local/lib/python3.9/site-packages/numpy/core/_asarray.py:102: ComplexWarning: Casting complex values to real discards the imaginary part\n",
      "  return array(a, dtype, copy=False, order=order)\n",
      "/home/gorbunov8a/usr/local/lib/python3.9/site-packages/numpy/core/_asarray.py:102: ComplexWarning: Casting complex values to real discards the imaginary part\n",
      "  return array(a, dtype, copy=False, order=order)\n",
      "/home/gorbunov8a/usr/local/lib/python3.9/site-packages/numpy/core/_asarray.py:102: ComplexWarning: Casting complex values to real discards the imaginary part\n",
      "  return array(a, dtype, copy=False, order=order)\n"
     ]
    },
    {
     "data": {
      "image/png": "[encoded data removed]",
      "text/plain": [
       "<Figure size 432x288 with 1 Axes>"
      ]
     },
     "metadata": {
      "needs_background": "light"
     },
     "output_type": "display_data"
    }
   ],
   "source": [
    "# plot spin-photon data\n",
    "fig = plt.figure()\n",
    "plt.plot(t.vals/t.T,O_n/Nph,\"k\",linewidth=1,label=str_n)\n",
    "plt.plot(t.vals/t.T,O_sz,\"c\",linewidth=1,label=str_z)\n",
    "plt.plot(t.vals/t.T,O_sy,\"tan\",linewidth=1,label=str_x)\n",
    "# label axes\n",
    "plt.xlabel(\"$t/T$\",fontsize=18)\n",
    "# set y axis limits\n",
    "plt.ylim([-1.1,1.4])\n",
    "# display legend horizontally\n",
    "plt.legend(loc=\"upper right\",ncol=5,columnspacing=0.6,numpoints=4)\n",
    "# update axis font size\n",
    "plt.tick_params(labelsize=16)\n",
    "# turn on grid\n",
    "plt.grid(True)"
   ]
  },
  {
   "cell_type": "code",
   "execution_count": null,
   "id": "ec553b73-eec8-477e-a612-17f4f308e3ed",
   "metadata": {},
   "outputs": [],
   "source": []
  }
 ],
 "metadata": {
  "kernelspec": {
   "display_name": "Python 3",
   "language": "python",
   "name": "python3"
  },
  "language_info": {
   "codemirror_mode": {
    "name": "ipython",
    "version": 3
   },
   "file_extension": ".py",
   "mimetype": "text/x-python",
   "name": "python",
   "nbconvert_exporter": "python",
   "pygments_lexer": "ipython3",
   "version": "3.9.7"
  }
 },
 "nbformat": 4,
 "nbformat_minor": 5
}
